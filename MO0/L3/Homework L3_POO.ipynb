{
 "cells": [
  {
   "cell_type": "markdown",
   "metadata": {},
   "source": [
    "# Homework POO"
   ]
  },
  {
   "cell_type": "markdown",
   "metadata": {},
   "source": [
    "Desarrolla un programa en Python que implemente varios de los principios SOLID. El ejercicio se centrará en la creación de un sistema de mensajería básico que permita enviar diferentes tipos de mensajes. Debes seguir las instrucciones detalladas a continuación y asegurarte de que tu código sea modular, fácil de mantener, y extensible."
   ]
  },
  {
   "cell_type": "markdown",
   "metadata": {},
   "source": [
    "1. Define las interfaces:\n",
    "\n",
    "* Crea una interfaz base para las notificaciones que defina el método enviar(mensaje).\n",
    "\n",
    "2. Crea las clases para los diferentes tipos de notificaciones:\n",
    "\n",
    "* SMS: Implementa la interfaz y envía un mensaje vía SMS.\n",
    "* Email: Implementa la interfaz y envía un mensaje vía correo electrónico.\n",
    "* AppNotification: Implementa la interfaz y envía un mensaje a través de la aplicación.\n",
    "\n",
    "3. Desarrolla la clase Usuario:\n",
    "\n",
    "* Esta clase debe recibir un medio de notificación (SMS, Email, AppNotification) y usarlo para enviar mensajes a los usuarios.\n",
    "\n",
    "4. Implementa y prueba tu código:\n",
    "\n",
    "* Crea instancias de Usuario con diferentes medios de notificación y prueba el envío de mensajes."
   ]
  },
  {
   "cell_type": "code",
   "execution_count": null,
   "metadata": {},
   "outputs": [],
   "source": [
    "# Paso 1: Define la interfaz de notificación\n",
    "class Mensaje:\n",
    "    def enviar(self, mensaje):\n",
    "        pass\n",
    "\n",
    "# Paso 2: Implementa las clases de notificación\n",
    "class SMS(Mensaje):\n",
    "    def enviar(self, mensaje):\n",
    "        print(\"Enviando SMS:\", mensaje)\n",
    "\n",
    "class Email(Mensaje):\n",
    "    def enviar(self, mensaje):\n",
    "        print(\"Enviando Email:\", mensaje)\n",
    "\n",
    "class AppNotification(Mensaje):\n",
    "    def enviar(self, mensaje):\n",
    "        print(\"Enviando Notificación en App:\", mensaje)\n",
    "\n",
    "# Paso 3: Crea la clase Usuario que utiliza un medio de notificación\n",
    "class Usuario:\n",
    "    def __init__(self, medio_mensaje):\n",
    "        self.medio_mensaje = medio_mensaje\n",
    "\n",
    "    def enviar_mensaje(self, mensaje):\n",
    "        self.medio_mensaje.enviar(mensaje)\n",
    "\n"
   ]
  },
  {
   "cell_type": "code",
   "execution_count": null,
   "metadata": {},
   "outputs": [],
   "source": [
    "# Paso 4: Prueba el sistema\n",
    "\n",
    "sms = SMS()\n",
    "email = Email()\n",
    "app_notification = AppNotification()\n",
    "\n",
    "usuario_sms = Usuario(sms)\n",
    "usuario_email = Usuario(email)\n",
    "usuario_app = Usuario(app_notification)\n",
    "\n",
    "usuario_sms.enviar_mensaje(\"Hola por SMS!!!\")\n",
    "usuario_email.enviar_mensaje(\"Hola por Email!\")\n",
    "usuario_app.enviar_mensaje(\"Hola por la App!\")"
   ]
  },
  {
   "cell_type": "code",
   "execution_count": 4,
   "metadata": {},
   "outputs": [
    {
     "name": "stdout",
     "output_type": "stream",
     "text": [
      "Enviando SMS: Hola Luciana por SMS!!!\n",
      "Enviando Email: Hola Luciana por Email!\n"
     ]
    }
   ],
   "source": [
    "texto=SMS()\n",
    "mail=Email()\n",
    "luciana_texto=Usuario(texto)\n",
    "luciana_mail=Usuario(mail)\n",
    "\n",
    "\n",
    "luciana_texto.enviar_mensaje(\"Hola Luciana por SMS!!!\")\n",
    "luciana_mail.enviar_mensaje(\"Hola Luciana por Email!\")"
   ]
  }
 ],
 "metadata": {
  "kernelspec": {
   "display_name": "Python 3",
   "language": "python",
   "name": "python3"
  },
  "language_info": {
   "codemirror_mode": {
    "name": "ipython",
    "version": 3
   },
   "file_extension": ".py",
   "mimetype": "text/x-python",
   "name": "python",
   "nbconvert_exporter": "python",
   "pygments_lexer": "ipython3",
   "version": "3.10.4"
  }
 },
 "nbformat": 4,
 "nbformat_minor": 2
}
