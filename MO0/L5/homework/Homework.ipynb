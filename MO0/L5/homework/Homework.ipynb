{
 "cells": [
  {
   "cell_type": "markdown",
   "metadata": {},
   "source": [
    "# **Homework**"
   ]
  },
  {
   "cell_type": "markdown",
   "metadata": {},
   "source": [
    "Trabajarás con la librería Numpy en Python para analizar las notas de un grupo de estudiantes. Asegúrate de tener Numpy instalado usando el comando pip install numpy."
   ]
  },
  {
   "cell_type": "markdown",
   "metadata": {},
   "source": [
    "1. Generar la Matriz de Notas:\n",
    "* Genera una matriz de Numpy notas con dimensiones 20x5, donde cada elemento es una nota aleatoria entre 1 y 5 (pueden ser random.randint). Las filas representan a los estudiantes y las columnas representan diferentes asignaturas.\n",
    "* Imprime la matriz generada."
   ]
  },
  {
   "cell_type": "code",
   "execution_count": 1,
   "metadata": {},
   "outputs": [
    {
     "ename": "ModuleNotFoundError",
     "evalue": "No module named 'numpy'",
     "output_type": "error",
     "traceback": [
      "\u001b[1;31m---------------------------------------------------------------------------\u001b[0m",
      "\u001b[1;31mModuleNotFoundError\u001b[0m                       Traceback (most recent call last)",
      "Input \u001b[1;32mIn [1]\u001b[0m, in \u001b[0;36m<cell line: 1>\u001b[1;34m()\u001b[0m\n\u001b[1;32m----> 1\u001b[0m \u001b[38;5;28;01mimport\u001b[39;00m \u001b[38;5;21;01mnumpy\u001b[39;00m \u001b[38;5;28;01mas\u001b[39;00m \u001b[38;5;21;01mnp\u001b[39;00m\n\u001b[0;32m      3\u001b[0m \u001b[38;5;66;03m# Actividad 1: Creación de una Matriz de Notas\u001b[39;00m\n\u001b[0;32m      4\u001b[0m \n\u001b[0;32m      5\u001b[0m \u001b[38;5;66;03m# Generar una matriz de notas de 20x5 con valores aleatorios entre 1 y 5\u001b[39;00m\n\u001b[0;32m      6\u001b[0m notas \u001b[38;5;241m=\u001b[39m np\u001b[38;5;241m.\u001b[39mrandom\u001b[38;5;241m.\u001b[39mrandint(\u001b[38;5;241m1\u001b[39m, \u001b[38;5;241m6\u001b[39m, size\u001b[38;5;241m=\u001b[39m(\u001b[38;5;241m20\u001b[39m, \u001b[38;5;241m5\u001b[39m))\n",
      "\u001b[1;31mModuleNotFoundError\u001b[0m: No module named 'numpy'"
     ]
    }
   ],
   "source": [
    "import numpy as np\n",
    "\n",
    "# Actividad 1: Creación de una Matriz de Notas\n",
    "\n",
    "# Generar una matriz de notas de 20x5 con valores aleatorios entre 1 y 5\n",
    "notas = np.random.randint(1, 6, size=(20, 5))\n",
    "print(\"Matriz de Notas:\")\n",
    "print(notas)"
   ]
  },
  {
   "cell_type": "markdown",
   "metadata": {},
   "source": [
    "2. Seleccionar los Primeros 5 Estudiantes:\n",
    "* Selecciona las notas de los primeros 5 estudiantes (filas) de la matriz y guárdalas en una nueva matriz notas_primeros_5.\n",
    "* Imprime esta nueva matriz."
   ]
  },
  {
   "cell_type": "code",
   "execution_count": null,
   "metadata": {},
   "outputs": [],
   "source": [
    "# Actividad 2: Selección de Estudiantes\n",
    "\n",
    "# Seleccionar las notas de los primeros 5 estudiantes\n",
    "notas_5 = notas[:5, :]\n",
    "print(\"Notas de los primeros 5 estudiantes:\")\n",
    "print(notas_5)"
   ]
  },
  {
   "cell_type": "markdown",
   "metadata": {},
   "source": [
    "3. Calcular Promedio y Mediana:\n",
    "* Calcula el promedio de notas para cada estudiante (fila) y guárdalo en un array promedios.\n",
    "* Calcula la mediana de notas para cada estudiante y guárdala en un array medianas.\n",
    "* Imprime los arrays promedios y medianas."
   ]
  },
  {
   "cell_type": "code",
   "execution_count": null,
   "metadata": {},
   "outputs": [],
   "source": [
    "# Actividad 3: Estadísticas Básicas\n",
    "\n",
    "# Calcular el promedio de notas por estudiante\n",
    "promedios = np.mean(notas, axis=1)\n",
    "print(\"Promedio de notas por estudiante:\")\n",
    "print(promedios)\n",
    "print()\n",
    "\n",
    "# Calcular la mediana de notas por estudiante\n",
    "medianas = np.median(notas, axis=1)\n",
    "print(\"Mediana de notas por estudiante:\")\n",
    "print(medianas)"
   ]
  },
  {
   "cell_type": "markdown",
   "metadata": {},
   "source": [
    "4. Crear una Máscara de Mejores Estudiantes:\n",
    "* Crea una máscara que identifique a los estudiantes con una nota mayor o igual a 4.\n",
    "* Imprime la matriz filtrada."
   ]
  },
  {
   "cell_type": "code",
   "execution_count": null,
   "metadata": {},
   "outputs": [],
   "source": [
    "# Actividad 4: Estudiantes con Mejores Notas\n",
    "\n",
    "# Crear una máscara para los estudiantes con nota mayor o igual a 4\n",
    "mejores_estudiantes = notas >= 4\n",
    "\n",
    "# Filtrar la matriz de notas usando la máscara\n",
    "notas_mejores = notas[mejores_estudiantes]\n",
    "print(\"Matriz de notas de los mejores estudiantes:\")\n",
    "print(notas_mejores)\n",
    "print()"
   ]
  },
  {
   "cell_type": "markdown",
   "metadata": {},
   "source": [
    "5. Análisis de la Asignatura 3:\n",
    "* Extrae las notas de la asignatura 3 (columna 2) para todos los estudiantes.\n",
    "* Calcula y muestra el promedio, la mediana, el valor máximo y mínimo de estas notas."
   ]
  },
  {
   "cell_type": "code",
   "execution_count": null,
   "metadata": {},
   "outputs": [],
   "source": [
    "# Actividad 5: Análisis de una Asignatura Específica\n",
    "\n",
    "# Extraer las notas de la asignatura 3 (columna 2)\n",
    "notas_asignatura_3 = notas[:, 2]\n",
    "print(\"Notas de la asignatura 3:\")\n",
    "print(notas_asignatura_3)\n",
    "print()\n",
    "\n",
    "# Calcular estadísticas de la asignatura 3\n",
    "promedio_asignatura_3 = np.mean(notas_asignatura_3)\n",
    "mediana_asignatura_3 = np.median(notas_asignatura_3)\n",
    "max_asignatura_3 = np.max(notas_asignatura_3)\n",
    "min_asignatura_3 = np.min(notas_asignatura_3)\n",
    "\n",
    "print(f\"Promedio de la asignatura 3: {promedio_asignatura_3}\")\n",
    "print(f\"Mediana de la asignatura 3: {mediana_asignatura_3}\")\n",
    "print(f\"Nota máxima en la asignatura 3: {max_asignatura_3}\")\n",
    "print(f\"Nota mínima en la asignatura 3: {min_asignatura_3}\")"
   ]
  }
 ],
 "metadata": {
  "kernelspec": {
   "display_name": "Python 3",
   "language": "python",
   "name": "python3"
  },
  "language_info": {
   "codemirror_mode": {
    "name": "ipython",
    "version": 3
   },
   "file_extension": ".py",
   "mimetype": "text/x-python",
   "name": "python",
   "nbconvert_exporter": "python",
   "pygments_lexer": "ipython3",
   "version": "3.10.4"
  }
 },
 "nbformat": 4,
 "nbformat_minor": 2
}
