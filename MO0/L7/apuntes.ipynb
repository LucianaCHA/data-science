{
 "cells": [
  {
   "cell_type": "code",
   "execution_count": 1,
   "id": "dead4a9e",
   "metadata": {
    "vscode": {
     "languageId": "ruby"
    }
   },
   "outputs": [
    {
     "name": "stdout",
     "output_type": "stream",
     "text": [
      "\n",
      "Las bases de datos relacionales son ideales para aplicaciones que requieren transacciones seguras y estructuradas, siguiendo las reglas ACID. \n",
      "Por otro lado, las bases de datos no relacionales (NoSQL) son más adecuadas para manejar grandes volúmenes de datos no estructurados o semiestructurados, \n",
      "ofreciendo flexibilidad y escalabilidad.\n",
      "\n"
     ]
    },
    {
     "data": {
      "text/html": [
       "<div>\n",
       "<style scoped>\n",
       "    .dataframe tbody tr th:only-of-type {\n",
       "        vertical-align: middle;\n",
       "    }\n",
       "\n",
       "    .dataframe tbody tr th {\n",
       "        vertical-align: top;\n",
       "    }\n",
       "\n",
       "    .dataframe thead th {\n",
       "        text-align: right;\n",
       "    }\n",
       "</style>\n",
       "<table border=\"1\" class=\"dataframe\">\n",
       "  <thead>\n",
       "    <tr style=\"text-align: right;\">\n",
       "      <th></th>\n",
       "      <th>Característica</th>\n",
       "      <th>Relacional</th>\n",
       "      <th>No Relacional</th>\n",
       "    </tr>\n",
       "  </thead>\n",
       "  <tbody>\n",
       "    <tr>\n",
       "      <th>0</th>\n",
       "      <td>Modelo de datos</td>\n",
       "      <td>Tablas (filas y columnas)</td>\n",
       "      <td>Documentos, clave-valor, grafos, columnas</td>\n",
       "    </tr>\n",
       "    <tr>\n",
       "      <th>1</th>\n",
       "      <td>Esquema</td>\n",
       "      <td>Fijo y estructurado</td>\n",
       "      <td>Flexible o inexistente</td>\n",
       "    </tr>\n",
       "    <tr>\n",
       "      <th>2</th>\n",
       "      <td>Transacciones ACID</td>\n",
       "      <td>Sí</td>\n",
       "      <td>Generalmente no</td>\n",
       "    </tr>\n",
       "    <tr>\n",
       "      <th>3</th>\n",
       "      <td>Escalabilidad</td>\n",
       "      <td>Vertical (hardware más potente)</td>\n",
       "      <td>Horizontal (más servidores)</td>\n",
       "    </tr>\n",
       "    <tr>\n",
       "      <th>4</th>\n",
       "      <td>Tipo de datos</td>\n",
       "      <td>Estructurados</td>\n",
       "      <td>No estructurados o semiestructurados</td>\n",
       "    </tr>\n",
       "    <tr>\n",
       "      <th>5</th>\n",
       "      <td>Ejemplo de uso</td>\n",
       "      <td>Sistemas bancarios</td>\n",
       "      <td>Redes sociales, big data</td>\n",
       "    </tr>\n",
       "  </tbody>\n",
       "</table>\n",
       "</div>"
      ],
      "text/plain": [
       "       Característica                       Relacional  \\\n",
       "0     Modelo de datos        Tablas (filas y columnas)   \n",
       "1             Esquema              Fijo y estructurado   \n",
       "2  Transacciones ACID                               Sí   \n",
       "3       Escalabilidad  Vertical (hardware más potente)   \n",
       "4       Tipo de datos                    Estructurados   \n",
       "5      Ejemplo de uso               Sistemas bancarios   \n",
       "\n",
       "                               No Relacional  \n",
       "0  Documentos, clave-valor, grafos, columnas  \n",
       "1                     Flexible o inexistente  \n",
       "2                            Generalmente no  \n",
       "3                Horizontal (más servidores)  \n",
       "4       No estructurados o semiestructurados  \n",
       "5                   Redes sociales, big data  "
      ]
     },
     "metadata": {},
     "output_type": "display_data"
    }
   ],
   "source": [
    "# Resumen\n",
    "resumen = \"\"\"\n",
    "Las bases de datos relacionales son ideales para aplicaciones que requieren transacciones seguras y estructuradas, siguiendo las reglas ACID. \n",
    "Por otro lado, las bases de datos no relacionales (NoSQL) son más adecuadas para manejar grandes volúmenes de datos no estructurados o semiestructurados, \n",
    "ofreciendo flexibilidad y escalabilidad.\n",
    "\"\"\"\n",
    "\n",
    "print(resumen)\n",
    "\n",
    "# Tabla de comparación\n",
    "import pandas as pd\n",
    "\n",
    "comparacion = pd.DataFrame({\n",
    "    \"Característica\": [\n",
    "        \"Modelo de datos\",\n",
    "        \"Esquema\",\n",
    "        \"Transacciones ACID\",\n",
    "        \"Escalabilidad\",\n",
    "        \"Tipo de datos\",\n",
    "        \"Ejemplo de uso\"\n",
    "    ],\n",
    "    \"Relacional\": [\n",
    "        \"Tablas (filas y columnas)\",\n",
    "        \"Fijo y estructurado\",\n",
    "        \"Sí\",\n",
    "        \"Vertical (hardware más potente)\",\n",
    "        \"Estructurados\",\n",
    "        \"Sistemas bancarios\"\n",
    "    ],\n",
    "    \"No Relacional\": [\n",
    "        \"Documentos, clave-valor, grafos, columnas\",\n",
    "        \"Flexible o inexistente\",\n",
    "        \"Generalmente no\",\n",
    "        \"Horizontal (más servidores)\",\n",
    "        \"No estructurados o semiestructurados\",\n",
    "        \"Redes sociales, big data\"\n",
    "    ]\n",
    "})\n",
    "\n",
    "display(comparacion)"
   ]
  },
  {
   "cell_type": "markdown",
   "id": "9b234d9a",
   "metadata": {},
   "source": [
    "## Comandos basicos\n",
    "\n",
    "1- Para popular la base de prueba"
   ]
  },
  {
   "cell_type": "code",
   "execution_count": null,
   "id": "1f7172db",
   "metadata": {},
   "outputs": [],
   "source": [
    "INSERT INTO users (nombre, apellido, edad) VALUES\n",
    "('Juan', 'Pérez', 30),\n",
    "('Ana', 'Gómez', 25),\n",
    "('Luis', 'Martínez', 40),\n",
    "('Lucía', 'Fernández', 35),\n",
    "('Carlos', 'Rodríguez', 28),\n",
    "('María', 'López', 32),\n",
    "('Sofía', 'Díaz', 22),\n",
    "('Javier', 'Sánchez', 45),\n",
    "('Laura', 'Moreno', 29),\n",
    "('Diego', 'Ruiz', 27);"
   ]
  },
  {
   "cell_type": "code",
   "execution_count": null,
   "id": "b4a8d31b",
   "metadata": {},
   "outputs": [],
   "source": [
    "SELECT * FROM users;"
   ]
  },
  {
   "attachments": {
    "image.png": {
     "image/png": "[encoded data removed]"
    }
   },
   "cell_type": "markdown",
   "id": "df91037a",
   "metadata": {},
   "source": [
    "![image.png](attachment:image.png)"
   ]
  },
  {
   "cell_type": "markdown",
   "id": "50c50af6",
   "metadata": {},
   "source": [
    "2 - WHERE clause"
   ]
  },
  {
   "cell_type": "code",
   "execution_count": null,
   "id": "8024e875-5b83-4e44-acd2-15136ac92c70",
   "metadata": {},
   "outputs": [],
   "source": [
    "SELECT nombre, edad FROM users WHERE edad >= 30;"
   ]
  },
  {
   "attachments": {
    "image.png": {
     "image/png": "[encoded data removed]"
    }
   },
   "cell_type": "markdown",
   "id": "5fc6baf0",
   "metadata": {},
   "source": [
    "![image.png](attachment:image.png)"
   ]
  },
  {
   "cell_type": "markdown",
   "id": "de03490b",
   "metadata": {},
   "source": [
    "3 - Operador LIKE \n",
    "El operador LIKE se usa para buscar patrones en texto. Los comodines % y _ permiten buscar coincidencias parciales.\n",
    "\n",
    "Ejemplo con %."
   ]
  },
  {
   "cell_type": "code",
   "execution_count": null,
   "id": "cd895f36",
   "metadata": {},
   "outputs": [],
   "source": [
    "SELECT Nombre\n",
    "FROM users\n",
    "WHERE Nombre LIKE 'A%';"
   ]
  },
  {
   "attachments": {
    "image.png": {
     "image/png": "[encoded data removed]"
    }
   },
   "cell_type": "markdown",
   "id": "d74d6ecd",
   "metadata": {},
   "source": [
    "![image.png](attachment:image.png)"
   ]
  },
  {
   "cell_type": "markdown",
   "id": "374135a9",
   "metadata": {},
   "source": [
    "4. Operador IN\n",
    "\n",
    "Este operador verifica si una columna tiene uno de los valores de una lista.."
   ]
  },
  {
   "cell_type": "code",
   "execution_count": null,
   "id": "2b48f4b4",
   "metadata": {},
   "outputs": [],
   "source": [
    "SELECT nombre, apellido\n",
    "FROM users\n",
    "WHERE apellido IN ('Ruiz', 'Moreno', 'Valencia');"
   ]
  },
  {
   "attachments": {
    "image.png": {
     "image/png": "[encoded data removed]"
    }
   },
   "cell_type": "markdown",
   "id": "2c480c32",
   "metadata": {},
   "source": [
    "![image.png](attachment:image.png)"
   ]
  },
  {
   "cell_type": "markdown",
   "id": "1d448873",
   "metadata": {},
   "source": [
    "5. Operador BETWEEN\n",
    "\n",
    "El operador BETWEEN selecciona valores que se encuentran dentro de un rango, incluyendo los extremos.\n",
    "\n",
    "Ejemplo :\n",
    "\n",
    "SELECT nombre, edad\n",
    "FROM users\n",
    "WHERE edad BETWEEN 20 AND 30;\n"
   ]
  },
  {
   "cell_type": "markdown",
   "id": "f7879061",
   "metadata": {},
   "source": [
    "# 📘 DDL – Data Definition Language\n",
    "\n",
    "DDL (Data Definition Language) es el subconjunto del lenguaje SQL utilizado para **definir, modificar y eliminar** estructuras de datos (esquemas) en una base de datos.\n",
    "\n",
    "## 🔹 Instrucciones principales\n",
    "\n",
    "### 1. `CREATE`\n",
    "Crea objetos en la base de datos (tablas, vistas, índices, esquemas, etc.).\n",
    "\n",
    "```sql\n",
    "CREATE TABLE usuarios (\n",
    "  id INT AUTO_INCREMENT PRIMARY KEY,\n",
    "  nombre VARCHAR(100),\n",
    "  email VARCHAR(100) UNIQUE\n",
    ");\n",
    "```\n",
    "\n",
    "### 2. ALTER\n",
    "Modifica la estructura de una tabla existente.\n",
    "\n",
    "```sql\n",
    "ALTER TABLE usuarios ADD edad INT;\n",
    "ALTER TABLE usuarios MODIFY nombre VARCHAR(150);\n",
    "ALTER TABLE usuarios DROP COLUMN edad;\n",
    "```\n",
    "\n",
    "\n",
    "### 3. DROP\n",
    "Elimina objetos (como tablas, vistas, etc.) de forma permanente.\n",
    "\n",
    "```sql\n",
    "DROP TABLE usuarios;\n",
    "```\n",
    "\n",
    "\n",
    "### 4. TRUNCATE\n",
    "Elimina todos los registros de una tabla rápidamente, sin borrar su estructura.\n",
    "\n",
    "```sql\n",
    "TRUNCATE TABLE usuarios;\n",
    "\n",
    "```"
   ]
  },
  {
   "cell_type": "markdown",
   "id": "eb7552a1",
   "metadata": {},
   "source": [
    "| Tipo | Propósito                | Comandos típicos                      |\n",
    "| ---- | ------------------------ | ------------------------------------- |\n",
    "| DDL  | Definición del esquema   | `CREATE`, `ALTER`, `DROP`, `TRUNCATE` |\n",
    "| DML  | Manipulación de datos    | `INSERT`, `UPDATE`, `DELETE`          |\n",
    "| DQL  | Consulta de datos        | `SELECT`                              |\n",
    "| DCL  | Control de permisos      | `GRANT`, `REVOKE`                     |\n",
    "| TCL  | Control de transacciones | `BEGIN`, `COMMIT`, `ROLLBACK`         |\n"
   ]
  },
  {
   "cell_type": "markdown",
   "id": "98f112a6",
   "metadata": {},
   "source": [
    "\n",
    "## 🔹 DML – Data Manipulation Language\n",
    "\n",
    "DML (Data Manipulation Language) se usa para gestionar los datos dentro de las estructuras definidas por DDL.\n",
    "\n",
    "### Comandos principales\n",
    "\n",
    "#### `INSERT`\n",
    "Crea objetos nuevos en la base de datos.\n",
    "\n",
    "```sql\n",
    "INSERT INTO usuarios (nombre, email) VALUES ('Ana', 'ana@mail.com');\n",
    "```\n",
    "\n",
    "#### `SELECT`\n",
    "Consulta datos de una tabla.\n",
    "\n",
    "```sql\n",
    "SELECT * FROM usuarios;\n",
    "SELECT nombre, email FROM usuarios WHERE id > 5;\n",
    "```\n",
    "\n",
    "#### `UPDATE`\n",
    "Modifica datos existentes.\n",
    "\n",
    "```sql\n",
    "UPDATE usuarios SET nombre = 'Ana María' WHERE id = 1;\n",
    "```\n",
    "\n",
    "#### `DELETE`\n",
    "El comando DELETE elimina registros específicos de una tabla.\n",
    "\n",
    "```sql\n",
    "DELETE FROM empleados WHERE id = 1;\n",
    "  ```\n"
   ]
  },
  {
   "cell_type": "markdown",
   "id": "ca308be6",
   "metadata": {},
   "source": [
    "### Operadores Aritméticos\n",
    "\n",
    "# 🔢 Operadores Relacionales en SQL\n",
    "\n",
    "| Operador | Descripción                          | Ejemplo                                 |\n",
    "|----------|--------------------------------------|-----------------------------------------|\n",
    "| =        | Igual a                              | `SELECT * FROM usuarios WHERE edad = 30;` |\n",
    "| <> o !=  | Distinto de                          | `SELECT * FROM usuarios WHERE nombre <> 'Ana';` |\n",
    "| >        | Mayor que                            | `SELECT * FROM productos WHERE precio > 100;` |\n",
    "| <        | Menor que                            | `SELECT * FROM empleados WHERE salario < 50000;` |\n",
    "| >=       | Mayor o igual que                    | `SELECT * FROM alumnos WHERE nota >= 7;` |\n",
    "| <=       | Menor o igual que                    | `SELECT * FROM cursos WHERE duracion <= 20;` |\n",
    "| BETWEEN  | Dentro de un rango (inclusive)       | `SELECT * FROM ventas WHERE total BETWEEN 100 AND 500;` |\n",
    "| IN       | Dentro de un conjunto de valores     | `SELECT * FROM clientes WHERE ciudad IN ('Córdoba', 'Rosario');` |\n",
    "| NOT IN   | No está en un conjunto de valores    | `SELECT * FROM pedidos WHERE estado NOT IN ('Cancelado', 'Devuelto');` |\n",
    "| LIKE     | Coincidencia con patrón (cadenas)    | `SELECT * FROM libros WHERE titulo LIKE 'Harry%';` |\n",
    "| NOT LIKE | No coincide con el patrón            | `SELECT * FROM usuarios WHERE email NOT LIKE '%@gmail.com';` |\n",
    "| IS NULL  | Valor nulo                           | `SELECT * FROM facturas WHERE fecha_pago IS NULL;` |\n",
    "| IS NOT NULL | No es nulo                        | `SELECT * FROM usuarios WHERE telefono IS NOT NULL;` |\n",
    "\n",
    "> ✅ Recordá: los operadores relacionales se usan principalmente en cláusulas `WHERE`, `HAVING` y condiciones de `JOIN`.\n",
    "\n",
    "\n"
   ]
  },
  {
   "cell_type": "markdown",
   "id": "2642c312",
   "metadata": {},
   "source": [
    "### Orden de ejecución de SQL\n",
    "\n",
    "FROM, WHERE, GROUP BY, HAVING, SELECT, ORDER BY "
   ]
  }
 ],
 "metadata": {
  "kernelspec": {
   "display_name": "Python 3 (ipykernel)",
   "language": "python",
   "name": "python3"
  },
  "language_info": {
   "codemirror_mode": {
    "name": "ipython",
    "version": 3
   },
   "file_extension": ".py",
   "mimetype": "text/x-python",
   "name": "python",
   "nbconvert_exporter": "python",
   "pygments_lexer": "ipython3",
   "version": "3.11.12"
  }
 },
 "nbformat": 4,
 "nbformat_minor": 5
}
