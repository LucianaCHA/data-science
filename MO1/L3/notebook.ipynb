{
 "cells": [
  {
   "cell_type": "code",
   "execution_count": null,
   "id": "09d1b7a0-6030-49a0-bb6b-6269dbd0ef46",
   "metadata": {},
   "outputs": [],
   "source": [
    "import sqlite3\n",
    "from db_methods import *\n",
    "import pandas as pd\n",
    "\n",
    "db_path = \"sales.db\"  # Cambia por el path correcto si hace falta\n",
    "\n",
    "# Conexión a la base SQLite\n",
    "conn = sqlite3.connect(db_path)\n",
    "cursor = conn.cursor()\n",
    "\n",
    "# Obtener todas las tablas\n",
    "cursor.execute(\"SELECT name FROM sqlite_master WHERE type='table';\")\n",
    "tablas = cursor.fetchall()\n",
    "\n",
    "print(\"Tablas disponibles:\")\n",
    "for tabla in tablas:\n",
    "    print(f\"- {tabla[0]}\")\n",
    "# Mostrar primeras 3 filas de cada tabla\n",
    "for tabla in tablas:\n",
    "    print(f\"\\nPrimeras 3 filas de la tabla '{tabla[0]}':\")\n",
    "    cursor.execute(f\"SELECT * FROM {tabla[0]} LIMIT 3\")\n",
    "    filas = cursor.fetchall()\n",
    "    for fila in filas:\n",
    "        print(fila)\n",
    "\n",
    "conn.close()"
   ]
  },
  {
   "cell_type": "code",
   "execution_count": null,
   "id": "7f9f9b3a-317f-4e89-b516-945be9dab6f9",
   "metadata": {},
   "outputs": [],
   "source": [
    "import db_methods\n",
    "with sqlite3.connect(\"sales.db\") as connection:\n",
    "        cursor = connection.cursor()\n",
    "\n",
    "        query = \"\"\"\n",
    "        SELECT * \n",
    "        FROM sales sale \n",
    "        WHERE sale.priceeach > (\n",
    "            SELECT AVG(priceeach) \n",
    "            FROM sales \n",
    "            WHERE productline = sale.productline\n",
    "        );\n",
    "        \"\"\"\n",
    "\n",
    "        cursor.execute(query)\n",
    "        result = cursor.fetchall()\n",
    "\n",
    "db_methods.print_rows(result)\n"
   ]
  },
  {
   "cell_type": "code",
   "execution_count": null,
   "id": "bc76ec14-7a83-47f7-bd69-d49ad5d7cce3",
   "metadata": {},
   "outputs": [],
   "source": [
    "# correr con CTE \n",
    "\n",
    "with sqlite3.connect(\"sales.db\") as connection:\n",
    "    cursor = connection.cursor()\n",
    "\n",
    "    query = \"\"\"\n",
    "    WITH avg_price AS (\n",
    "        SELECT productline, AVG(priceeach) AS avg_price\n",
    "        FROM sales\n",
    "        GROUP BY productline\n",
    "    )\n",
    "    SELECT *\n",
    "    FROM sales sale\n",
    "    WHERE sale.priceeach > (\n",
    "        SELECT avg_price\n",
    "        FROM avg_price\n",
    "        WHERE productline = sale.productline\n",
    "    );\n",
    "    \"\"\"\n",
    "\n",
    "    cursor.execute(query)\n",
    "    result = cursor.fetchall()\n",
    "db_methods.print_rows(result)"
   ]
  },
  {
   "cell_type": "markdown",
   "id": "3d74cc69",
   "metadata": {},
   "source": [
    "* Cuántos empleados reportan directa o indirectamente a David y Gabriel"
   ]
  },
  {
   "cell_type": "code",
   "execution_count": null,
   "id": "f0f6bfbc",
   "metadata": {},
   "outputs": [],
   "source": [
    "with sqlite3.connect(\"sales.db\") as connection:\n",
    "    cursor = connection.cursor()\n",
    "\n",
    "    query = \"\"\"\n",
    "    WITH RECURSIVE employee_hierarchy AS (\n",
    "        SELECT id, name, boss_id, id AS main_id\n",
    "    FROM employees\n",
    "    WHERE boss_id IN (4,7)\n",
    "\n",
    "    UNION ALL \n",
    "\n",
    "    SELECT employee.id, employee.name, employee.boss_id, employee_hierarchy.main_id\n",
    "    FROM employees employee\n",
    "    INNER JOIN employee_hierarchy ON employee.boss_id = employee_hierarchy.id\n",
    "    )\n",
    "\n",
    "    SELECT *\n",
    "    FROM employee_hierarchy\n",
    "    ORDER BY main_id, id;\n",
    "    \"\"\"\n",
    "\n",
    "    cursor.execute(query)\n",
    "    result = cursor.fetchall()\n",
    "db_methods.print_rows(result)\n"
   ]
  },
  {
   "cell_type": "markdown",
   "id": "610f0d7b",
   "metadata": {},
   "source": [
    "```sql\n",
    "    WITH RECURSIVE employee_hierarchy AS (\n",
    "        -- consulta base que devuelve a los que reportan dirtecto al o al 7 \n",
    "        SELECT id, name, boss_id, id AS main_id\n",
    "        FROM employees\n",
    "        WHERE boss_id IN (4,7)\n",
    "\n",
    "        UNION ALL \n",
    "        -- recursiva busca en cada empleado de los de la consulta previa , es decir los empleados que reportan al 4 y al 7\n",
    "        SELECT employee.id, employee.name, employee.boss_id, employee_hierarchy.main_id\n",
    "        FROM employees employee\n",
    "        INNER JOIN employee_hierarchy ON employee.boss_id = employee_hierarchy.id\n",
    "    )\n",
    "\n",
    "    SELECT *\n",
    "    FROM employee_hierarchy\n",
    "    ORDER BY main_id, id;\n",
    " ```"
   ]
  },
  {
   "cell_type": "markdown",
   "id": "63f33d53",
   "metadata": {},
   "source": [
    "# funciones ventana\n",
    "\n",
    "Una función de ventana permite realizar cálculos sobre un conjunto de filas relacionadas con la fila actual, sin tener que agrupar y eliminar filas, a diferencia de lo que ocurre con GROUP BY. La clave es el uso de la cláusula OVER (...), que define la “ventana” de filas sobre las cuales se aplica la función.\n",
    "\n",
    "<función_agregada>() OVER (\n",
    "    [PARTITION BY columna]\n",
    "    [ORDER BY columna]\n",
    "    [ROWS BETWEEN ...]\n",
    ")"
   ]
  },
  {
   "cell_type": "markdown",
   "id": "8f1bc1c6",
   "metadata": {},
   "source": [
    "*¿qué haríamos si Jorge necesita saber el promedio de ventas por mes y año sin perder el detalle por fila? "
   ]
  },
  {
   "cell_type": "markdown",
   "id": "960cf131",
   "metadata": {},
   "source": [
    "ejemplo, se busca promedio por mes año sin agrupar datos . En  este caso el resultado muestra tres columnas , mes , año y el promedio de ventas de dicho año"
   ]
  },
  {
   "cell_type": "code",
   "execution_count": null,
   "id": "48ed959d",
   "metadata": {},
   "outputs": [],
   "source": [
    "\n",
    "\n",
    "with sqlite3.connect(\"sales.db\") as connection:\n",
    "    cursor = connection.cursor()\n",
    "\n",
    "    query = \"\"\"\n",
    "    SELECT \n",
    "    YEAR_ID,\n",
    "    MONTH_ID,\n",
    "    avg(sales)\n",
    "    FROM sales s\n",
    "    GROUP BY 1,2\n",
    "    \"\"\"\n",
    "\n",
    "    data_frame = pd.read_sql_query(query, connection)\n",
    "\n",
    "print(data_frame)\n"
   ]
  },
  {
   "cell_type": "markdown",
   "id": "18b5fcfb",
   "metadata": {},
   "source": [
    "## Ahora ,  si se pide agregar a la info de la fila el correspondiente promedio "
   ]
  },
  {
   "cell_type": "code",
   "execution_count": null,
   "id": "774c62b0",
   "metadata": {},
   "outputs": [],
   "source": [
    "with sqlite3.connect(\"sales.db\") as connection:\n",
    "    cursor = connection.cursor()\n",
    "\n",
    "    query = \"\"\"\n",
    "    SELECT \n",
    "    year_id,\n",
    "    month_id,\n",
    "    sales,  \n",
    "    AVG(sales) OVER \n",
    "        (PARTITION BY year_id, month_id) -- Ventana de agregación, agrupa logicamente por año y mes<\n",
    "        AS avg_sales\n",
    "    FROM sales\n",
    "    \"\"\"\n",
    "\n",
    "    data_frame = pd.read_sql_query(query, connection)\n",
    "\n",
    "print(data_frame)\n"
   ]
  },
  {
   "cell_type": "markdown",
   "id": "37718189-1cb4-4a2d-99c9-6e1cf59eefc3",
   "metadata": {},
   "source": [
    "anhora Entonces, si Jorge necesita saber cómo puede encontrar filas duplicadas en una tabla, sin agruparlas ni perder el detalle de cada una, ¿cómo lo resolvemos?\n",
    "\n",
    "Para eso usamos funciones de ranking, como ROW_NUMBER(), que nos permiten numerar cada fila dentro de un grupo definido. Así, podemos detectar duplicados manteniendo el contexto completo de cada registro."
   ]
  },
  {
   "cell_type": "code",
   "execution_count": null,
   "id": "48285e11-648f-41b2-8618-019f45cb56c1",
   "metadata": {},
   "outputs": [],
   "source": [
    "with sqlite3.connect(\"sales.db\") as connection:\n",
    "    cursor = connection.cursor()\n",
    "\n",
    "    query = \"\"\"\n",
    "    WITH  sales_with_row_number AS(\n",
    "    SELECT *,\n",
    "    ROW_NUMBER() OVER (\n",
    "        PARTITION BY ordernumber,productcode,quantityordered\n",
    "        ORDER BY ordernumber\n",
    "        ) AS row_number\n",
    "    FROM sales\n",
    "    )\n",
    "\n",
    "    SELECT * \n",
    "    FROM sales_with_row_number\n",
    "    WHERE row_number > 1\n",
    "    \"\"\" \n",
    "\n",
    "    data_frame = pd.read_sql_query(query, connection)\n",
    "\n",
    "print(data_frame)"
   ]
  },
  {
   "cell_type": "markdown",
   "id": "c43f2a7b-b249-4a7a-b0c5-58506771cc0e",
   "metadata": {},
   "source": [
    "# HOMEWORK \n",
    "\n",
    "¿Puedes usar RANK() para obtener el ranking de ventas (SALES) por año (YEAR_ID), ordenando de mayor a menor?"
   ]
  },
  {
   "cell_type": "code",
   "execution_count": null,
   "id": "a0a00c2a",
   "metadata": {},
   "outputs": [],
   "source": [
    "import db_methods\n",
    "with sqlite3.connect('sales.db') as db_connection:\n",
    "\n",
    "    query = \"\"\"\n",
    "    WITH total_sales_year AS (\n",
    "    SELECT \n",
    "        YEAR_ID,\n",
    "        SUM(QUANTITYORDERED * PRICEEACH) AS total_sales\n",
    "    FROM \n",
    "        sales\n",
    "    GROUP BY \n",
    "        YEAR_ID\n",
    "    ),\n",
    "    ranked_sales AS (\n",
    "    SELECT \n",
    "        YEAR_ID,\n",
    "        total_sales,\n",
    "        RANK() OVER (ORDER BY total_sales DESC) AS rank_sales\n",
    "    FROM \n",
    "        total_sales_year\n",
    "    )\n",
    "    SELECT \n",
    "    YEAR_ID, \n",
    "    total_sales\n",
    "    FROM \n",
    "        ranked_sales;\n",
    "    \"\"\" \n",
    "\n",
    "db_methods.print_query_results(db_connection, query)"
   ]
  },
  {
   "cell_type": "code",
   "execution_count": null,
   "id": "0e531ca1-2343-4dd0-aa20-c7fd97822177",
   "metadata": {},
   "outputs": [],
   "source": []
  }
 ],
 "metadata": {
  "kernelspec": {
   "display_name": "Python 3",
   "language": "python",
   "name": "python3"
  },
  "language_info": {
   "codemirror_mode": {
    "name": "ipython",
    "version": 3
   },
   "file_extension": ".py",
   "mimetype": "text/x-python",
   "name": "python",
   "nbconvert_exporter": "python",
   "pygments_lexer": "ipython3",
   "version": "3.10.4"
  }
 },
 "nbformat": 4,
 "nbformat_minor": 5
}
