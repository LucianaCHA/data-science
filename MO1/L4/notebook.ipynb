{
 "cells": [
  {
   "cell_type": "markdown",
   "id": "e90ec664",
   "metadata": {
    "vscode": {
     "languageId": "plaintext"
    }
   },
   "source": [
    "# Homework\n",
    "\n",
    "## SQL Avanzado II: Procedimientos y estructuras avanzadas (V3)\n",
    "\n",
    "**Description:** Crear un trigger que registre en auditoria_eliminaciones los datos de un estudiante al ser eliminado.\n",
    "\n",
    "**Documentation:**  \n",
    "This SQL code creates a trigger named `delete_user_trigger` that is executed before a row is deleted from the `estudiantes` table.\n",
    "The trigger inserts a record into the `auditoria_eliminaciones` table, logging the user ID and the timestamp of the deletion.\n",
    "It then deletes the row from the `estudiantes` table.\n",
    "The trigger ensures that deletions are logged for auditing purposes.\n",
    " Note: The `auditoria_eliminaciones` table must exist with appropriate columns (`user_id`, `deleted_at`) for this trigger to work.\n"
   ]
  },
  {
   "cell_type": "code",
   "execution_count": 2,
   "id": "afe06940",
   "metadata": {
    "vscode": {
     "languageId": "sql"
    }
   },
   "outputs": [
    {
     "ename": "SyntaxError",
     "evalue": "invalid syntax (3971611215.py, line 1)",
     "output_type": "error",
     "traceback": [
      "  \u001b[36mCell\u001b[39m\u001b[36m \u001b[39m\u001b[32mIn[2]\u001b[39m\u001b[32m, line 1\u001b[39m\n\u001b[31m    \u001b[39m\u001b[31mDROP TRIGGER IF EXISTS delete_user_trigger;\u001b[39m\n         ^\n\u001b[31mSyntaxError\u001b[39m\u001b[31m:\u001b[39m invalid syntax\n"
     ]
    }
   ],
   "source": [
    "DROP TRIGGER IF EXISTS delete_user_trigger;\n",
    "\n",
    "CREATE TRIGGER delete_user_trigger\n",
    "BEFORE DELETE ON estudiantes\n",
    "FOR EACH ROW\n",
    "BEGIN\n",
    "    INSERT INTO auditoria_eliminaciones (estudiante_id, email, eliminado_en)\n",
    "    VALUES (OLD.id, OLD.email, NOW());\n",
    "END\n"
   ]
  },
  {
   "cell_type": "code",
   "execution_count": 3,
   "id": "bdf3c54d-beeb-4508-9853-4638fecd25b3",
   "metadata": {
    "vscode": {
     "languageId": "sql"
    }
   },
   "outputs": [
    {
     "name": "stdout",
     "output_type": "stream",
     "text": [
      "cerrando conexión, sin errores en la consulta\n"
     ]
    },
    {
     "ename": "MySQLInterfaceError",
     "evalue": "Commands out of sync; you can't run this command now",
     "output_type": "error",
     "traceback": [
      "\u001b[31m---------------------------------------------------------------------------\u001b[39m",
      "\u001b[31mMySQLInterfaceError\u001b[39m                       Traceback (most recent call last)",
      "\u001b[36mCell\u001b[39m\u001b[36m \u001b[39m\u001b[32mIn[3]\u001b[39m\u001b[32m, line 3\u001b[39m\n\u001b[32m      1\u001b[39m \u001b[38;5;28;01mimport\u001b[39;00m\u001b[38;5;250m \u001b[39m\u001b[34;01msql_utils\u001b[39;00m\n\u001b[32m----> \u001b[39m\u001b[32m3\u001b[39m \u001b[43msql_utils\u001b[49m\u001b[43m.\u001b[49m\u001b[43mrun_non_select_query\u001b[49m\u001b[43m(\u001b[49m\n\u001b[32m      4\u001b[39m \u001b[38;5;250;43m    \u001b[39;49m\u001b[33;43;03m\"\"\"\u001b[39;49;00m\n\u001b[32m      5\u001b[39m \u001b[33;43;03m    DROP TRIGGER IF EXISTS delete_user_trigger;\u001b[39;49;00m\n\u001b[32m      6\u001b[39m \n\u001b[32m      7\u001b[39m \u001b[33;43;03mCREATE TRIGGER delete_user_trigger\u001b[39;49;00m\n\u001b[32m      8\u001b[39m \u001b[33;43;03mBEFORE DELETE ON estudiantes\u001b[39;49;00m\n\u001b[32m      9\u001b[39m \u001b[33;43;03mFOR EACH ROW\u001b[39;49;00m\n\u001b[32m     10\u001b[39m \u001b[33;43;03mBEGIN\u001b[39;49;00m\n\u001b[32m     11\u001b[39m \u001b[33;43;03m    INSERT INTO auditoria_eliminaciones (estudiante_id, email, eliminado_en)\u001b[39;49;00m\n\u001b[32m     12\u001b[39m \u001b[33;43;03m    VALUES (OLD.id, OLD.email, NOW());\u001b[39;49;00m\n\u001b[32m     13\u001b[39m \u001b[33;43;03mEND;\u001b[39;49;00m\n\u001b[32m     14\u001b[39m \u001b[33;43;03m    \"\"\"\u001b[39;49;00m\n\u001b[32m     15\u001b[39m \u001b[43m)\u001b[49m\n",
      "\u001b[36mFile \u001b[39m\u001b[32m/app/sql_utils.py:40\u001b[39m, in \u001b[36mrun_non_select_query\u001b[39m\u001b[34m(query)\u001b[39m\n\u001b[32m     38\u001b[39m     cursor = connection.cursor()\n\u001b[32m     39\u001b[39m     cursor.execute(query)\n\u001b[32m---> \u001b[39m\u001b[32m40\u001b[39m     \u001b[43mconnection\u001b[49m\u001b[43m.\u001b[49m\u001b[43mcommit\u001b[49m\u001b[43m(\u001b[49m\u001b[43m)\u001b[49m\n\u001b[32m     41\u001b[39m \u001b[38;5;28;01mexcept\u001b[39;00m mysql.connector.Error \u001b[38;5;28;01mas\u001b[39;00m err:\n\u001b[32m     42\u001b[39m     \u001b[38;5;28mprint\u001b[39m(\u001b[33mf\u001b[39m\u001b[33m\"\u001b[39m\u001b[33mError: \u001b[39m\u001b[38;5;132;01m{\u001b[39;00merr\u001b[38;5;132;01m}\u001b[39;00m\u001b[33m\"\u001b[39m)\n",
      "\u001b[36mFile \u001b[39m\u001b[32m/usr/local/lib/python3.11/site-packages/mysql/connector/connection_cext.py:605\u001b[39m, in \u001b[36mCMySQLConnection.commit\u001b[39m\u001b[34m(self)\u001b[39m\n\u001b[32m    603\u001b[39m \u001b[38;5;28;01mif\u001b[39;00m \u001b[38;5;28mself\u001b[39m._cmysql:\n\u001b[32m    604\u001b[39m     \u001b[38;5;28mself\u001b[39m.handle_unread_result()\n\u001b[32m--> \u001b[39m\u001b[32m605\u001b[39m     \u001b[38;5;28;43mself\u001b[39;49m\u001b[43m.\u001b[49m\u001b[43m_cmysql\u001b[49m\u001b[43m.\u001b[49m\u001b[43mcommit\u001b[49m\u001b[43m(\u001b[49m\u001b[43m)\u001b[49m\n",
      "\u001b[31mMySQLInterfaceError\u001b[39m: Commands out of sync; you can't run this command now"
     ]
    }
   ],
   "source": [
    "import sql_utils\n",
    "\n",
    "sql_utils.run_non_select_query(\n",
    "    \"\"\"\n",
    "CREATE TRIGGER delete_user_trigger\n",
    "BEFORE DELETE ON estudiantes\n",
    "FOR EACH ROW\n",
    "BEGIN\n",
    "    INSERT INTO auditoria_eliminaciones (estudiante_id, email, eliminado_en)\n",
    "    VALUES (OLD.id, OLD.email, NOW());\n",
    "END;\n",
    "    \"\"\"\n",
    ")\n"
   ]
  },
  {
   "cell_type": "markdown",
   "id": "027304e7-6f54-4e12-9e5b-9e6396c3f1c2",
   "metadata": {
    "vscode": {
     "languageId": "markdown"
    }
   },
   "source": [
    "## Auditoría de Eliminaciones: Antes y Después\n",
    "\n",
    "A continuación se muestra una comparación visual del contenido de la tabla `estudiantes` antes y después de ejecutar una eliminación, junto con el registro correspondiente en la tabla de auditoría.\n"
   ]
  },
  {
   "cell_type": "code",
   "execution_count": 4,
   "id": "c824d8db-3ac5-4ffe-873a-f076b5c61357",
   "metadata": {},
   "outputs": [
    {
     "name": "stdout",
     "output_type": "stream",
     "text": [
      "Consulta antes de borrar:\n",
      "\n",
      "   id           nombre              email    estado\n",
      "0   1  SofÃ­a RamÃ­rez   sofia@correo.com    activo\n",
      "1   2   MartÃ­n GÃ³mez  martin@correo.com    activo\n",
      "2   3     Elena Torres   elena@correo.com  inactivo\n",
      "\n",
      "\n",
      " Borrando el registro con id 1... \n",
      "\n",
      "\n",
      "\n",
      "cerrando conexión, sin errores en la consulta\n",
      "\n",
      "\n",
      "Consulta después de borrar:  \n",
      "\n",
      "\n",
      "   id           nombre              email    estado\n",
      "0   1  SofÃ­a RamÃ­rez   sofia@correo.com    activo\n",
      "1   2   MartÃ­n GÃ³mez  martin@correo.com    activo\n",
      "2   3     Elena Torres   elena@correo.com  inactivo\n",
      " \n",
      "\n",
      "\n",
      "CRegistro de auditoria:  \n",
      "\n",
      "\n",
      "\n",
      "Empty DataFrame\n",
      "Columns: [id, estudiante_id, email, eliminado_en]\n",
      "Index: []\n"
     ]
    }
   ],
   "source": [
    "import sql_utils\n",
    "\n",
    "id_to_delete = 1\n",
    "\n",
    "query_select_all = \"\"\"SELECT * FROM estudiantes;\"\"\"\n",
    "query_to_delete=f\"\"\"DELETE FROM estudiantes WHERE id = {id_to_delete};\"\"\"\n",
    "query_auditoria =\"\"\"SELECT * FROM auditoria_eliminaciones;\"\"\"\n",
    "\n",
    "\n",
    "print(f'Consulta antes de borrar:\\n')\n",
    "\n",
    "print(sql_utils.run_query(query_select_all))\n",
    "\n",
    "print(f'\\n\\n Borrando el registro con id 1... \\n\\n\\n')\n",
    "sql_utils.run_non_select_query(query_to_delete)\n",
    "\n",
    "print(f'\\n\\nConsulta después de borrar:  \\n\\n')\n",
    "print(sql_utils.run_query(query_select_all))\n",
    "\n",
    "print(f' \\n\\n\\nCRegistro de auditoria:  \\n\\n\\n')\n",
    "print(sql_utils.run_query(query_auditoria))"
   ]
  },
  {
   "cell_type": "markdown",
   "id": "bbb431c4",
   "metadata": {},
   "source": [
    "# Homework 1\n",
    "\n",
    "## Triggers\n",
    "**Description:** Crear un trigger que actualice el estado académico del estudiante al insertar una calificación.\n",
    "\n",
    "**Documentation:**  \n",
    "El trigger cambia el estado a activo para cualquier estudiante al insertar calificaciones \n"
   ]
  },
  {
   "cell_type": "code",
   "execution_count": null,
   "id": "ec90644e",
   "metadata": {
    "vscode": {
     "languageId": "sql"
    }
   },
   "outputs": [],
   "source": [
    "import sql_utils\n",
    "\n",
    "sql_utils.run_non_select_query(\n",
    "    \"\"\"\n",
    "    CREATE TRIGGER update_status_estudiante\n",
    "    AFTER INSERT ON calificaciones\n",
    "    FOR EACH ROW\n",
    "    BEGIN\n",
    "        -- Actualizar el estado del estudiante a 'activo' si tiene calificaciones\n",
    "        UPDATE estudiantes\n",
    "        SET estado = 'activo'\n",
    "        WHERE id = NEW.estudiante_id;\n",
    "    END;\n",
    "    \"\"\"\n",
    ")"
   ]
  },
  {
   "cell_type": "markdown",
   "id": "77164e84",
   "metadata": {},
   "source": [
    "Prueba agregar un nuevo estufiante en estado inactivo, agregarle calificacions y hacer select a estudiantes para ver si el trrigger funca "
   ]
  },
  {
   "cell_type": "code",
   "execution_count": null,
   "id": "414e46c5",
   "metadata": {
    "vscode": {
     "languageId": "sql"
    }
   },
   "outputs": [],
   "source": [
    "import sql_utils\n",
    "\n",
    "sql_utils.run_query(\n",
    "    \"\"\"\n",
    "    SELECT *\n",
    "    FROM estudiantes\n",
    "    \"\"\"\n",
    ")"
   ]
  },
  {
   "cell_type": "code",
   "execution_count": null,
   "id": "b9548198",
   "metadata": {
    "vscode": {
     "languageId": "sql"
    }
   },
   "outputs": [],
   "source": [
    "sql_utils.run_non_select_query(\"\"\"\n",
    "INSERT INTO estudiantes (nombre, email, estado)\n",
    "VALUES ('Juan Perez','jp@mail.com', 'inactivo')\n",
    "\"\"\")"
   ]
  },
  {
   "cell_type": "code",
   "execution_count": null,
   "id": "c9e8a485",
   "metadata": {
    "vscode": {
     "languageId": "sql"
    }
   },
   "outputs": [],
   "source": [
    "import sql_utils\n",
    "\n",
    "sql_utils.run_non_select_query(\n",
    "    \"\"\"\n",
    "    INSERT INTO calificaciones (estudiante_id, materia_id, nota, fecha)\n",
    "    VALUES (4, 1, 8, '2023-10-01')\n",
    "    \"\"\"\n",
    ")"
   ]
  },
  {
   "cell_type": "code",
   "execution_count": null,
   "id": "55a66194",
   "metadata": {
    "vscode": {
     "languageId": "sql"
    }
   },
   "outputs": [],
   "source": [
    "import sql_utils\n",
    "\n",
    "sql_utils.run_query(\n",
    "    \"\"\"\n",
    "    SELECT\n",
    "        *\n",
    "    FROM\n",
    "        estudiantes\n",
    "    \"\"\"\n",
    ")"
   ]
  },
  {
   "cell_type": "markdown",
   "id": "4b5b766a",
   "metadata": {
    "jp-MarkdownHeadingCollapsed": true
   },
   "source": [
    "## Homework 2\n",
    "\n",
    "## Procedimientos Almacenados\n",
    "\n",
    "**Description:** Desarrollar un procedimiento para registrar calificaciones, validando que la nota esté entre 0 y 10.\n",
    "\n",
    "**Documentation:**  \n",
    "{sql_doc_1}\n"
   ]
  },
  {
   "cell_type": "code",
   "execution_count": null,
   "id": "390f195e",
   "metadata": {
    "vscode": {
     "languageId": "sql"
    }
   },
   "outputs": [],
   "source": [
    "import sql_utils\n",
    "sql_utils.run_non_select_query(\n",
    "    \"\"\"\n",
    "    CREATE PROCEDURE insertar_calificacion(\n",
    "        IN estudiante_id INT,\n",
    "        IN materia_id INT,\n",
    "        IN calificacion DECIMAL(4,2),\n",
    "        IN fecha DATE\n",
    "    )\n",
    "    BEGIN\n",
    "        IF calificacion < 0 OR calificacion > 10 THEN\n",
    "            INSERT INTO calificaciones (estudiante_id, materia_id, nota, fecha)\n",
    "            VALUES (estudiante_id, materia_id, calificacion, fecha);\n",
    "        ELSE\n",
    "            -- Lanzar un error si la calificación no es válida\n",
    "            SIGNAL SQLSTATE '45000'\n",
    "            SET MESSAGE_TEXT = 'La calificación debe estar entre 0 y 10';\n",
    "        END IF;\n",
    "    END;\n",
    "    \"\"\"\n",
    ")\n"
   ]
  },
  {
   "cell_type": "code",
   "execution_count": null,
   "id": "2d1192b9",
   "metadata": {
    "vscode": {
     "languageId": "sql"
    }
   },
   "outputs": [],
   "source": [
    "import sql_utils\n",
    "sql_utils.run_non_select_query(\n",
    "    \"\"\"\n",
    "    CALL insertar_calificacion(4, 1, 19.5, '2023-10-02');\n",
    "    \"\"\"\n",
    ")"
   ]
  },
  {
   "cell_type": "markdown",
   "id": "cb9f6c59",
   "metadata": {},
   "source": [
    "## Homework 2\n",
    "\n",
    "## Procedimientos almacenados\n",
    "**Description:** Crear un procedimiento para inscribir estudiantes en materias, verificando su estado activo.\n",
    "\n",
    "**Documentation:**  \n",
    "{sql_doc_1}\n"
   ]
  },
  {
   "cell_type": "code",
   "execution_count": null,
   "id": "1d31d7f1",
   "metadata": {
    "vscode": {
     "languageId": "sql"
    }
   },
   "outputs": [],
   "source": [
    "import sql_utils\n",
    "sql_utils.run_non_select_query(\n",
    "    \"\"\"\n",
    "    CREATE PROCEDURE inscribir_estudiante(\n",
    "        IN nombre VARCHAR(100),\n",
    "        IN email VARCHAR(100),\n",
    "        IN estado VARCHAR(20)\n",
    "    )\n",
    "    BEGIN\n",
    "        IF estado NOT IN ('activo') THEN\n",
    "            SIGNAL SQLSTATE '45000'\n",
    "            SET MESSAGE_TEXT = 'El estado del estudiante debe ser \"activo\"';\n",
    "        END IF;\n",
    "        INSERT INTO estudiantes (nombre, email, estado)\n",
    "        VALUES (nombre, email, estado);\n",
    "    END;\n",
    "    \"\"\"\n",
    ")"
   ]
  },
  {
   "cell_type": "code",
   "execution_count": null,
   "id": "682fbf86",
   "metadata": {
    "vscode": {
     "languageId": "sql"
    }
   },
   "outputs": [],
   "source": [
    "# Llamar al procedimiento para insertar una calificación\n",
    "import sql_utils\n",
    "sql_utils.run_non_select_query(\n",
    "    \"\"\"\n",
    "    CALL inscribir_estudiante('Ana Gomez', 'anita@mail.com', 'activo');\n",
    "    \"\"\"\n",
    ")"
   ]
  },
  {
   "cell_type": "code",
   "execution_count": null,
   "id": "1084cc85-6330-4697-984e-70b9e7f9cd92",
   "metadata": {
    "vscode": {
     "languageId": "sql"
    }
   },
   "outputs": [],
   "source": [
    "# Llamar al procedimiento para insertar una calificación\n",
    "import sql_utils\n",
    "sql_utils.run_query(\n",
    "    \"\"\"\n",
    "    SELECT * FROM estudiantes WHERE email = 'anita@mail.com'\n",
    "    \"\"\"\n",
    ")"
   ]
  },
  {
   "cell_type": "markdown",
   "id": "dca3da8b",
   "metadata": {},
   "source": [
    "### Homework 3\n",
    "\n",
    "## Funciones\n",
    "**Description:** Función para calcular el promedio de un estudiante.\n",
    "\n",
    "**Documentation:**  \n",
    "{sql_doc_1}\n"
   ]
  },
  {
   "cell_type": "code",
   "execution_count": 100,
   "id": "a34c54fa",
   "metadata": {
    "vscode": {
     "languageId": "sql"
    }
   },
   "outputs": [
    {
     "name": "stdout",
     "output_type": "stream",
     "text": [
      "cerrando conexión\n"
     ]
    }
   ],
   "source": [
    "import sql_utils\n",
    "\n",
    "sql_utils.run_non_select_query(\n",
    "    \"\"\"    \n",
    "    CREATE FUNCTION calcular_promedio_fn(id INT)\n",
    "    RETURNS DECIMAL(4,2)\n",
    "    DETERMINISTIC\n",
    "    BEGIN\n",
    "        DECLARE promedio DECIMAL(4,2);\n",
    "        SELECT AVG(nota) INTO promedio\n",
    "        FROM calificaciones\n",
    "        WHERE id = estudiante_id;\n",
    "        RETURN promedio;\n",
    "    END\n",
    "    \"\"\"\n",
    ")"
   ]
  },
  {
   "cell_type": "code",
   "execution_count": 101,
   "id": "b31c4d8d",
   "metadata": {
    "vscode": {
     "languageId": "sql"
    }
   },
   "outputs": [
    {
     "data": {
      "text/html": [
       "<div>\n",
       "<style scoped>\n",
       "    .dataframe tbody tr th:only-of-type {\n",
       "        vertical-align: middle;\n",
       "    }\n",
       "\n",
       "    .dataframe tbody tr th {\n",
       "        vertical-align: top;\n",
       "    }\n",
       "\n",
       "    .dataframe thead th {\n",
       "        text-align: right;\n",
       "    }\n",
       "</style>\n",
       "<table border=\"1\" class=\"dataframe\">\n",
       "  <thead>\n",
       "    <tr style=\"text-align: right;\">\n",
       "      <th></th>\n",
       "      <th>promedio</th>\n",
       "    </tr>\n",
       "  </thead>\n",
       "  <tbody>\n",
       "    <tr>\n",
       "      <th>0</th>\n",
       "      <td>7.63</td>\n",
       "    </tr>\n",
       "  </tbody>\n",
       "</table>\n",
       "</div>"
      ],
      "text/plain": [
       "   promedio\n",
       "0      7.63"
      ]
     },
     "execution_count": 101,
     "metadata": {},
     "output_type": "execute_result"
    }
   ],
   "source": [
    "# Llamar Función para calcular el promedio de un estudiante.\n",
    "import sql_utils\n",
    "sql_utils.run_query(\n",
    "    \"\"\"\n",
    "    SELECT calcular_promedio_fn(4) AS promedio\n",
    "    \"\"\"\n",
    ")"
   ]
  },
  {
   "cell_type": "markdown",
   "id": "c09c9f28-503e-4c76-a954-423f36f97620",
   "metadata": {},
   "source": [
    "### Homework 3\n",
    "\n",
    "## Funciones\n",
    "**Description:** Función para determinar el estado académico (ej: \"Aprobado\" si promedio ≥ 6).\n",
    "\n",
    "**Documentation:**  \n",
    "{sql_doc_1}\n"
   ]
  },
  {
   "cell_type": "code",
   "execution_count": null,
   "id": "d7ca8e00",
   "metadata": {
    "vscode": {
     "languageId": "sql"
    }
   },
   "outputs": [],
   "source": [
    "import sql_utils\n",
    "sql_utils.run_non_select_query(\n",
    "    \"\"\"\n",
    "    CREATE FUNCTION validar_estado_academico_fn(estudiante_id INT)\n",
    "    RETURNS VARCHAR(25)\n",
    "    DETERMINISTIC\n",
    "    BEGIN\n",
    "        DECLARE estado VARCHAR(25);\n",
    "        DECLARE promedio DECIMAL(4,2);\n",
    "        SET promedio = calcular_promedio_fn(estudiante_id);\n",
    "        IF promedio IS NULL THEN\n",
    "            SET estado = 'Sin calificaciones';\n",
    "        END IF;\n",
    "        IF promedio >= 6 THEN\n",
    "            SET estado = 'Aprobado';\n",
    "        ELSE\n",
    "            SET estado = 'Reprobado';\n",
    "        END IF;\n",
    "        RETURN estado;\n",
    "    END;\n",
    "    \"\"\"\n",
    ")"
   ]
  },
  {
   "cell_type": "code",
   "execution_count": null,
   "id": "5eaa1070",
   "metadata": {
    "vscode": {
     "languageId": "sql"
    }
   },
   "outputs": [],
   "source": [
    "import sql_utils\n",
    "sql_utils.run_query(\n",
    "    \"\"\"\n",
    "    SELECT validar_estado_academico_fn(3) AS estado_academico\n",
    "    \"\"\"\n",
    ")"
   ]
  },
  {
   "cell_type": "markdown",
   "id": "629ca486",
   "metadata": {},
   "source": [
    "# Homework4\n",
    "\n",
    "## Vistas\n",
    "**Description:** Vista que muestre el rendimiento de estudiantes con su promedio y estado.\n",
    "\n",
    "**Documentation:**  \n",
    "La vista 'student_performance' muestra el ID, nombre, promedio y estado académico de los estudiantes activos.\n",
    "\n"
   ]
  },
  {
   "cell_type": "code",
   "execution_count": null,
   "id": "45030415",
   "metadata": {},
   "outputs": [
    {
     "name": "stdout",
     "output_type": "stream",
     "text": [
      "cerrando conexión\n"
     ]
    }
   ],
   "source": [
    "import sql_utils\n",
    "\n",
    "sql_utils.run_non_select_query(\n",
    "    \"\"\"\n",
    "CREATE OR REPLACE VIEW student_performance AS\n",
    "SELECT\n",
    "    e.id AS id,\n",
    "    e.nombre AS nombre,\n",
    "    calcular_promedio_fn(e.id) AS promedio,\n",
    "    validar_estado_academico_fn(e.id) AS estado\n",
    "FROM\n",
    "    estudiantes e\n",
    "WHERE e.estado = 'activo'\n",
    "\"\"\"\n",
    ")"
   ]
  },
  {
   "cell_type": "code",
   "execution_count": null,
   "id": "70265dad",
   "metadata": {},
   "outputs": [
    {
     "data": {
      "text/html": [
       "<div>\n",
       "<style scoped>\n",
       "    .dataframe tbody tr th:only-of-type {\n",
       "        vertical-align: middle;\n",
       "    }\n",
       "\n",
       "    .dataframe tbody tr th {\n",
       "        vertical-align: top;\n",
       "    }\n",
       "\n",
       "    .dataframe thead th {\n",
       "        text-align: right;\n",
       "    }\n",
       "</style>\n",
       "<table border=\"1\" class=\"dataframe\">\n",
       "  <thead>\n",
       "    <tr style=\"text-align: right;\">\n",
       "      <th></th>\n",
       "      <th>id</th>\n",
       "      <th>nombre</th>\n",
       "      <th>promedio</th>\n",
       "      <th>estado</th>\n",
       "    </tr>\n",
       "  </thead>\n",
       "  <tbody>\n",
       "    <tr>\n",
       "      <th>0</th>\n",
       "      <td>3</td>\n",
       "      <td>Elena Torres</td>\n",
       "      <td>4.00</td>\n",
       "      <td>Reprobado</td>\n",
       "    </tr>\n",
       "    <tr>\n",
       "      <th>1</th>\n",
       "      <td>4</td>\n",
       "      <td>Juan Perez</td>\n",
       "      <td>7.63</td>\n",
       "      <td>Aprobado</td>\n",
       "    </tr>\n",
       "    <tr>\n",
       "      <th>2</th>\n",
       "      <td>5</td>\n",
       "      <td>Ana Gomez</td>\n",
       "      <td>NaN</td>\n",
       "      <td>Reprobado</td>\n",
       "    </tr>\n",
       "  </tbody>\n",
       "</table>\n",
       "</div>"
      ],
      "text/plain": [
       "   id        nombre  promedio     estado\n",
       "0   3  Elena Torres      4.00  Reprobado\n",
       "1   4    Juan Perez      7.63   Aprobado\n",
       "2   5     Ana Gomez       NaN  Reprobado"
      ]
     },
     "execution_count": 103,
     "metadata": {},
     "output_type": "execute_result"
    }
   ],
   "source": [
    "sql_utils.run_query(\n",
    "    \"\"\"\n",
    "    SELECT * FROM student_performance\n",
    "    \"\"\"\n",
    ")"
   ]
  }
 ],
 "metadata": {
  "kernelspec": {
   "display_name": "Python 3 (ipykernel)",
   "language": "python",
   "name": "python3"
  },
  "language_info": {
   "codemirror_mode": {
    "name": "ipython",
    "version": 3
   },
   "file_extension": ".py",
   "mimetype": "text/x-python",
   "name": "python",
   "nbconvert_exporter": "python",
   "pygments_lexer": "ipython3",
   "version": "3.11.13"
  }
 },
 "nbformat": 4,
 "nbformat_minor": 5
}
