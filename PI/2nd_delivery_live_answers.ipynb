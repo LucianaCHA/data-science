{
 "cells": [
  {
   "cell_type": "markdown",
   "id": "5dfd2288",
   "metadata": {},
   "source": [
    "# Preguntas y respuestas (Consultas en vivo)\n",
    "\n",
    "# ENTREGABLE 2\n",
    "\n",
    "## Trigger\n",
    "1. Crea un trigger que registre en una tabla de monitoreo cada vez que un producto supere las 200.000 unidades vendidas acumuladas.\n",
    "\n",
    "El trigger debe activarse después de insertar una nueva venta y registrar en la tabla el ID del producto, su nombre, la nueva cantidad total de unidades vendidas, y la fecha en que se superó el umbral.\n",
    "\n",
    "**Solución** \n",
    "\n",
    "__Se creó tabla de auditoria en la base de datos ya existente:__\n",
    "\n",
    "```sql\n",
    "USE sales_company;\n",
    "\n",
    "DROP TABLE IF EXISTS product_monitoring;\n",
    "CREATE TABLE product_monitoring (\n",
    "    ID INT AUTO_INCREMENT PRIMARY KEY,\n",
    "    ProductID INT,\n",
    "    ProductName VARCHAR(255),\n",
    "    TotalSold INT,\n",
    "    ThresholdDate DATETIME DEFAULT CURRENT_TIMESTAMP\n",
    ");\n",
    "```\n",
    "__Comando sql para crear trigger solicitado__\n",
    "\n",
    "\n",
    "```sql\n",
    "DELIMITER $$\n",
    "CREATE TRIGGER trigger_product_threshold_200k --nombre del trigger\n",
    "AFTER INSERT ON sales -- cuado se ejecuta? luego de cada insert en la tabla sales\n",
    "FOR EACH ROW\n",
    "BEGIN\n",
    "    DECLARE total_sales INT; \n",
    "    -- setea en la variable declarada a partir de la sumatoria de la columna quantity de la tabla sales para el producto que se acaba de insertar\n",
    "    SELECT SUM(Quantity)\n",
    "    INTO total_sales\n",
    "    FROM sales\n",
    "    WHERE ProductID = NEW.ProductID;\n",
    "\n",
    "    IF total_sales > 200000 THEN\n",
    "    -- si el total de ventas es mayor a doscientos mil, se verifica si ya existe un registro de sobrepaso para el producto recién ingresado y si no existe , se inserta registro de auditoria\n",
    "        IF NOT EXISTS (\n",
    "            SELECT 1 FROM product_monitoring\n",
    "            WHERE ProductID = NEW.ProductID\n",
    "        ) THEN\n",
    "            INSERT INTO product_monitoring (\n",
    "                ProductID,\n",
    "                productName,\n",
    "                TotalSold\n",
    "            )\n",
    "            -- el select recupera la info que se insertará en la tabla de auditoria (product_monitoring) a partir de la tabla prodctos y del total de venas guardado como variable\n",
    "            SELECT \n",
    "                ProductID,\n",
    "                ProductName,\n",
    "                total_sales\n",
    "            FROM products\n",
    "            WHERE p.ProductID = NEW.ProductID;\n",
    "        END IF;\n",
    "    END IF;\n",
    "\n",
    "END$$\n",
    "\n",
    "DELIMITER ;\n",
    "```\n",
    "\n",
    "**NOTA** El trigger se ejecuta con cada inserción en la tabla sales. Por eso se decidió ejecutar su creación a posteriori de la carga inicial de datos, para evitar ejecuciones innecesarias durante el poblamiento inicial de la base."
   ]
  },
  {
   "cell_type": "markdown",
   "id": "27d150bb",
   "metadata": {},
   "source": [
    "##  Registro\n",
    "Registra una venta correspondiente al vendedor con ID 9, al cliente con ID 84, del producto con ID 103, por una cantidad de 1.876 unidades y un valor de 1200 unidades.\n",
    "\n",
    "Consulta la tabla de monitoreo, toma captura de los resultados y realiza un análisis breve de lo ocurrido."
   ]
  },
  {
   "cell_type": "code",
   "execution_count": 1,
   "id": "c30ddde5",
   "metadata": {},
   "outputs": [
    {
     "data": {
      "text/html": [
       "<span style='color: orange; font-size: 14px;\n",
       "    font-weight: bold;'>INSERTING NEW SALE RECORD</span>"
      ],
      "text/plain": [
       "<IPython.core.display.HTML object>"
      ]
     },
     "metadata": {},
     "output_type": "display_data"
    },
    {
     "name": "stdout",
     "output_type": "stream",
     "text": [
      "closing connection, no errors in the query\n"
     ]
    },
    {
     "data": {
      "text/html": [
       "<span style='color: green; font-size: 14px;\n",
       "    font-weight: bold;'>Check new register on monitoring db</span>"
      ],
      "text/plain": [
       "<IPython.core.display.HTML object>"
      ]
     },
     "metadata": {},
     "output_type": "display_data"
    },
    {
     "data": {
      "text/html": [
       "<span style='color: orange; font-size: 14px;\n",
       "    font-weight: bold;'>Monitoring table data</span>"
      ],
      "text/plain": [
       "<IPython.core.display.HTML object>"
      ]
     },
     "metadata": {},
     "output_type": "display_data"
    },
    {
     "data": {
      "text/html": [
       "<div>\n",
       "<style scoped>\n",
       "    .dataframe tbody tr th:only-of-type {\n",
       "        vertical-align: middle;\n",
       "    }\n",
       "\n",
       "    .dataframe tbody tr th {\n",
       "        vertical-align: top;\n",
       "    }\n",
       "\n",
       "    .dataframe thead th {\n",
       "        text-align: right;\n",
       "    }\n",
       "</style>\n",
       "<table border=\"1\" class=\"dataframe\">\n",
       "  <thead>\n",
       "    <tr style=\"text-align: right;\">\n",
       "      <th></th>\n",
       "      <th>ID</th>\n",
       "      <th>ProductID</th>\n",
       "      <th>ProductName</th>\n",
       "      <th>TotalSold</th>\n",
       "      <th>ThresholdDate</th>\n",
       "    </tr>\n",
       "  </thead>\n",
       "  <tbody>\n",
       "    <tr>\n",
       "      <th>0</th>\n",
       "      <td>1</td>\n",
       "      <td>103</td>\n",
       "      <td>Cream Of Tartar</td>\n",
       "      <td>200002</td>\n",
       "      <td>2025-06-11 00:58:05</td>\n",
       "    </tr>\n",
       "  </tbody>\n",
       "</table>\n",
       "</div>"
      ],
      "text/plain": [
       "   ID  ProductID      ProductName  TotalSold       ThresholdDate\n",
       "0   1        103  Cream Of Tartar     200002 2025-06-11 00:58:05"
      ]
     },
     "execution_count": 1,
     "metadata": {},
     "output_type": "execute_result"
    }
   ],
   "source": [
    "import utils.sql_utils as sql_utils\n",
    "import utils.notebook_utils as notebook_utils\n",
    "\n",
    "notebook_utils.print_colored('INSERTING NEW SALE RECORD', 'orange')\n",
    "query = \"\"\"\n",
    "INSERT INTO sales (salesID, salesPersonID, customerID, productID, quantity, totalPrice, salesDate)\n",
    "SELECT \n",
    "    COALESCE(MAX(salesID), 0) + 1,\n",
    "    9,\n",
    "    84,\n",
    "    103,\n",
    "    1876,\n",
    "    1200,\n",
    "    '2025-06-10 10:00:00'\n",
    "FROM sales;\n",
    "\"\"\"\n",
    "\n",
    "sql_utils.run_non_select_query(query=query)\n",
    "\n",
    "notebook_utils.print_colored('Check new register on monitoring db', 'green')\n",
    "\n",
    "query = \"\"\"\n",
    "SELECT * FROM product_monitoring\n",
    "WHERE productID = 103;\n",
    "\"\"\"\n",
    "\n",
    "notebook_utils.print_colored('Monitoring table data', 'orange')\n",
    "sql_utils.run_query(query=query)\n"
   ]
  },
  {
   "cell_type": "markdown",
   "id": "52662429-8880-4378-81b2-7d8bfbec94e0",
   "metadata": {},
   "source": [
    "**Análisis** :\n",
    "El registro insertado provocó que el acumulado de unidades vendidas para el producto con ID 103 superara el umbral de 200.000 unidades. Dado que esta es la condición definida para la activación del trigger __trigger_product_threshold_200k__, el mismo trigger se ejecutó automáticamente. Como resultado, se insertó un registro en la tabla de auditoría __product_monitoring__ con los datos correspondientes al producto. Este comportamiento ocurrió de forma transparente para el usuario, evidenciando el funcionamiento correcto del trigger ante el cumplimiento de la condición."
   ]
  },
  {
   "cell_type": "markdown",
   "id": "9b092802",
   "metadata": {},
   "source": [
    "## Optimización\n",
    "1. Selecciona dos consultas del avance 1 y crea los índices que consideres más adecuados para optimizar su ejecución.\n",
    "\n",
    "2. Prueba con índices individuales y compuestos, según la lógica de cada consulta. Luego, vuelve a ejecutar ambas consultas y compara los tiempos de ejecución antes y después de aplicar los índices. Finalmente, describe brevemente el impacto que tuvieron los índices en el rendimiento y en qué tipo de columnas resultan más efectivos para este tipo de operaciones."
   ]
  },
  {
   "cell_type": "markdown",
   "id": "c3914ba8",
   "metadata": {},
   "source": [
    "**Query 1** (~12 segundos en entorno kernel).\n",
    "-- La siguiente consulta calcula:\n",
    "\n",
    "* los 5 productos más vendidos (top_products).\n",
    "\n",
    "* Para cada uno, se agrupan las ventas por vendedor y se calcula volumen individual de ventas (seller_sales).\n",
    "\n",
    "* Ranking de cada vendedor por producto en función del total vendido, para luego obtener el top 1 de cada producto (ranked_sellers)."
   ]
  },
  {
   "cell_type": "code",
   "execution_count": 12,
   "id": "638228c0",
   "metadata": {},
   "outputs": [
    {
     "data": {
      "text/html": [
       "<div>\n",
       "<style scoped>\n",
       "    .dataframe tbody tr th:only-of-type {\n",
       "        vertical-align: middle;\n",
       "    }\n",
       "\n",
       "    .dataframe tbody tr th {\n",
       "        vertical-align: top;\n",
       "    }\n",
       "\n",
       "    .dataframe thead th {\n",
       "        text-align: right;\n",
       "    }\n",
       "</style>\n",
       "<table border=\"1\" class=\"dataframe\">\n",
       "  <thead>\n",
       "    <tr style=\"text-align: right;\">\n",
       "      <th></th>\n",
       "      <th>product_id</th>\n",
       "      <th>product_name</th>\n",
       "      <th>seller_id</th>\n",
       "      <th>total_sold</th>\n",
       "      <th>seller_name</th>\n",
       "      <th>seller_quantity</th>\n",
       "    </tr>\n",
       "  </thead>\n",
       "  <tbody>\n",
       "    <tr>\n",
       "      <th>0</th>\n",
       "      <td>47</td>\n",
       "      <td>Thyme - Lemon; Fresh</td>\n",
       "      <td>21</td>\n",
       "      <td>198567.0</td>\n",
       "      <td>Devon Brewer</td>\n",
       "      <td>11050.0</td>\n",
       "    </tr>\n",
       "    <tr>\n",
       "      <th>1</th>\n",
       "      <td>161</td>\n",
       "      <td>Longos - Chicken Wings</td>\n",
       "      <td>10</td>\n",
       "      <td>199659.0</td>\n",
       "      <td>Jean Vang</td>\n",
       "      <td>10785.0</td>\n",
       "    </tr>\n",
       "    <tr>\n",
       "      <th>2</th>\n",
       "      <td>280</td>\n",
       "      <td>Onion Powder</td>\n",
       "      <td>21</td>\n",
       "      <td>198163.0</td>\n",
       "      <td>Devon Brewer</td>\n",
       "      <td>10570.0</td>\n",
       "    </tr>\n",
       "    <tr>\n",
       "      <th>3</th>\n",
       "      <td>103</td>\n",
       "      <td>Cream Of Tartar</td>\n",
       "      <td>9</td>\n",
       "      <td>200002.0</td>\n",
       "      <td>Daphne King</td>\n",
       "      <td>10551.0</td>\n",
       "    </tr>\n",
       "    <tr>\n",
       "      <th>4</th>\n",
       "      <td>179</td>\n",
       "      <td>Yoghurt Tubes</td>\n",
       "      <td>9</td>\n",
       "      <td>199724.0</td>\n",
       "      <td>Daphne King</td>\n",
       "      <td>10285.0</td>\n",
       "    </tr>\n",
       "  </tbody>\n",
       "</table>\n",
       "</div>"
      ],
      "text/plain": [
       "   product_id            product_name  seller_id  total_sold   seller_name  \\\n",
       "0          47    Thyme - Lemon; Fresh         21    198567.0  Devon Brewer   \n",
       "1         161  Longos - Chicken Wings         10    199659.0     Jean Vang   \n",
       "2         280            Onion Powder         21    198163.0  Devon Brewer   \n",
       "3         103         Cream Of Tartar          9    200002.0   Daphne King   \n",
       "4         179           Yoghurt Tubes          9    199724.0   Daphne King   \n",
       "\n",
       "   seller_quantity  \n",
       "0          11050.0  \n",
       "1          10785.0  \n",
       "2          10570.0  \n",
       "3          10551.0  \n",
       "4          10285.0  "
      ]
     },
     "execution_count": 12,
     "metadata": {},
     "output_type": "execute_result"
    }
   ],
   "source": [
    "import utils.sql_utils as sql_utils\n",
    "\n",
    "query= \"\"\"\n",
    "WITH top_products AS (\n",
    "    SELECT \n",
    "        p.productID AS product_id,\n",
    "        p.productName AS product_name,\n",
    "        SUM(s.quantity) AS total_quantity\n",
    "    FROM products p\n",
    "    JOIN sales s ON p.productID = s.productID\n",
    "    GROUP BY p.productID, p.productName\n",
    "    ORDER BY total_quantity DESC\n",
    "    LIMIT 5\n",
    "),\n",
    "seller_sales AS (\n",
    "    SELECT \n",
    "        tp.product_id,\n",
    "        tp.product_name,\n",
    "        tp.total_quantity AS total_sold,\n",
    "        s.salesPersonID AS seller_id,\n",
    "        SUM(s.quantity) AS seller_quantity\n",
    "    FROM top_products tp\n",
    "    JOIN sales s ON tp.product_id = s.productID\n",
    "    GROUP BY tp.product_id, tp.product_name, s.salesPersonID\n",
    "),\n",
    "ranked_sellers AS (\n",
    "    SELECT \n",
    "        *,\n",
    "        RANK() OVER (PARTITION BY product_id ORDER BY seller_quantity DESC) AS seller_rank\n",
    "    FROM seller_sales\n",
    ")\n",
    "SELECT \n",
    "    rs.product_id,\n",
    "    rs.product_name,\n",
    "    rs.seller_id,\n",
    "    rs.total_sold,\n",
    "    CONCAT( e.FirstName ,' ', e.LastName) AS seller_name,\n",
    "    rs.seller_quantity\n",
    "FROM ranked_sellers rs\n",
    "JOIN employees e ON rs.seller_id = e.employeeID\n",
    "WHERE seller_rank = 1\n",
    "ORDER BY seller_quantity DESC;\n",
    "\"\"\"\n",
    "\n",
    "sql_utils.run_query(query=query)\n",
    "# Descomentar para ejecutar EXPLAIN\n",
    "#explain_query = \"\"\" EXPLAIN \"\"\" + query\n",
    "#sql_utils.run_query(query=explain_query)"
   ]
  },
  {
   "cell_type": "markdown",
   "id": "33297865",
   "metadata": {},
   "source": [
    "* Índices aplicados\n",
    "\n",
    "Se crearon los siguientes índices para optimizar las cláusulas JOIN, GROUP BY y ORDER BY que son las más costosas:"
   ]
  },
  {
   "cell_type": "code",
   "execution_count": null,
   "id": "958b9204-820b-495c-a313-2622e63c9d9b",
   "metadata": {
    "vscode": {
     "languageId": "sql"
    }
   },
   "outputs": [],
   "source": [
    "-- products: la clave usada en JOIN y GROUP BY \n",
    "CREATE INDEX idx_products_productID_name ON products(productID, productName);\n",
    "\n",
    "-- sales: combinando JOIN + WHERE + agregación\n",
    "CREATE INDEX idx_sales_productID_salesPersonID_quantity ON sales(productID, salesPersonID, quantity);"
   ]
  },
  {
   "cell_type": "markdown",
   "id": "b1ad54ca",
   "metadata": {},
   "source": [
    "Query para creación de índices "
   ]
  },
  {
   "cell_type": "code",
   "execution_count": 3,
   "id": "78d21a3e",
   "metadata": {
    "vscode": {
     "languageId": "sql"
    }
   },
   "outputs": [
    {
     "name": "stdout",
     "output_type": "stream",
     "text": [
      "closing connection, no errors in the query\n"
     ]
    },
    {
     "ename": "MySQLInterfaceError",
     "evalue": "Commands out of sync; you can't run this command now",
     "output_type": "error",
     "traceback": [
      "\u001b[31m---------------------------------------------------------------------------\u001b[39m",
      "\u001b[31mMySQLInterfaceError\u001b[39m                       Traceback (most recent call last)",
      "\u001b[36mCell\u001b[39m\u001b[36m \u001b[39m\u001b[32mIn[3]\u001b[39m\u001b[32m, line 11\u001b[39m\n\u001b[32m      1\u001b[39m \u001b[38;5;28;01mimport\u001b[39;00m\u001b[38;5;250m \u001b[39m\u001b[34;01mutils\u001b[39;00m\u001b[34;01m.\u001b[39;00m\u001b[34;01msql_utils\u001b[39;00m\u001b[38;5;250m \u001b[39m\u001b[38;5;28;01mas\u001b[39;00m\u001b[38;5;250m \u001b[39m\u001b[34;01msql_utils\u001b[39;00m\n\u001b[32m      4\u001b[39m query= \u001b[33m\"\"\"\u001b[39m\n\u001b[32m      5\u001b[39m \u001b[33mCREATE INDEX idx_products_productID_name ON products(productID, productName);\u001b[39m\n\u001b[32m      6\u001b[39m \n\u001b[32m      7\u001b[39m \u001b[33m-- sales: combinando JOIN + WHERE + agregación\u001b[39m\n\u001b[32m      8\u001b[39m \u001b[33mCREATE INDEX idx_sales_productID_salesPersonID_quantity ON sales(productID, salesPersonID, quantity);\u001b[39m\n\u001b[32m      9\u001b[39m \u001b[33m\"\"\"\u001b[39m\n\u001b[32m---> \u001b[39m\u001b[32m11\u001b[39m \u001b[43msql_utils\u001b[49m\u001b[43m.\u001b[49m\u001b[43mrun_non_select_query\u001b[49m\u001b[43m(\u001b[49m\u001b[43mquery\u001b[49m\u001b[43m=\u001b[49m\u001b[43mquery\u001b[49m\u001b[43m)\u001b[49m\n",
      "\u001b[36mFile \u001b[39m\u001b[32m/app/utils/sql_utils.py:40\u001b[39m, in \u001b[36mrun_non_select_query\u001b[39m\u001b[34m(query)\u001b[39m\n\u001b[32m     38\u001b[39m     cursor = connection.cursor()\n\u001b[32m     39\u001b[39m     cursor.execute(query)\n\u001b[32m---> \u001b[39m\u001b[32m40\u001b[39m     \u001b[43mconnection\u001b[49m\u001b[43m.\u001b[49m\u001b[43mcommit\u001b[49m\u001b[43m(\u001b[49m\u001b[43m)\u001b[49m\n\u001b[32m     41\u001b[39m \u001b[38;5;28;01mexcept\u001b[39;00m mysql.connector.Error \u001b[38;5;28;01mas\u001b[39;00m err:\n\u001b[32m     42\u001b[39m     \u001b[38;5;28mprint\u001b[39m(\u001b[33mf\u001b[39m\u001b[33m\"\u001b[39m\u001b[33mError: \u001b[39m\u001b[38;5;132;01m{\u001b[39;00merr\u001b[38;5;132;01m}\u001b[39;00m\u001b[33m\"\u001b[39m)\n",
      "\u001b[36mFile \u001b[39m\u001b[32m/usr/local/lib/python3.11/site-packages/mysql/connector/connection_cext.py:605\u001b[39m, in \u001b[36mCMySQLConnection.commit\u001b[39m\u001b[34m(self)\u001b[39m\n\u001b[32m    603\u001b[39m \u001b[38;5;28;01mif\u001b[39;00m \u001b[38;5;28mself\u001b[39m._cmysql:\n\u001b[32m    604\u001b[39m     \u001b[38;5;28mself\u001b[39m.handle_unread_result()\n\u001b[32m--> \u001b[39m\u001b[32m605\u001b[39m     \u001b[38;5;28;43mself\u001b[39;49m\u001b[43m.\u001b[49m\u001b[43m_cmysql\u001b[49m\u001b[43m.\u001b[49m\u001b[43mcommit\u001b[49m\u001b[43m(\u001b[49m\u001b[43m)\u001b[49m\n",
      "\u001b[31mMySQLInterfaceError\u001b[39m: Commands out of sync; you can't run this command now"
     ]
    }
   ],
   "source": [
    "import utils.sql_utils as sql_utils\n",
    "\n",
    "\n",
    "query= \"\"\"\n",
    "CREATE INDEX idx_products_productID_name ON products(productID, productName);\n",
    "\n",
    "-- sales: combinando JOIN + WHERE + agregación\n",
    "CREATE INDEX idx_sales_productID_salesPersonID_quantity ON sales(productID, salesPersonID, quantity);\n",
    "\"\"\"\n",
    "\n",
    "sql_utils.run_non_select_query(query=query)"
   ]
  },
  {
   "cell_type": "markdown",
   "id": "750cf856",
   "metadata": {},
   "source": [
    "### Impacto observado\n",
    "\n",
    "Tras la aplicación de los índices:\n",
    "\n",
    "* El tiempo de ejecución se redujo en casi un 75%.\n",
    "\n",
    "* Se evitan full scan en las tablas sales y products, mediante el uso de índices.\n",
    "\n",
    "* Agregación y ordenamiento se benefician del uso de índices compuestos que combinan las columnas más utilizadas. "
   ]
  },
  {
   "cell_type": "markdown",
   "id": "ff72c2d4",
   "metadata": {},
   "source": [
    "**Optimización 2** (~15 segundos en entorno kernel)\n",
    "\n",
    "La siguinte consulta calcula:\n",
    "* los 5 productos más vendidos (top_products). \n",
    "* Para esos productos, se cuentan la cantidad de clientes únicos que compraron dichos productos (customer_counts).\n",
    "* Sumatoria de clientes (total_customers).\n",
    "* Porcentaje de clientes únicos que compraron cada producto top respecto al total."
   ]
  },
  {
   "cell_type": "code",
   "execution_count": 11,
   "id": "9ea1b89d",
   "metadata": {},
   "outputs": [
    {
     "data": {
      "text/html": [
       "<div>\n",
       "<style scoped>\n",
       "    .dataframe tbody tr th:only-of-type {\n",
       "        vertical-align: middle;\n",
       "    }\n",
       "\n",
       "    .dataframe tbody tr th {\n",
       "        vertical-align: top;\n",
       "    }\n",
       "\n",
       "    .dataframe thead th {\n",
       "        text-align: right;\n",
       "    }\n",
       "</style>\n",
       "<table border=\"1\" class=\"dataframe\">\n",
       "  <thead>\n",
       "    <tr style=\"text-align: right;\">\n",
       "      <th></th>\n",
       "      <th>product_id</th>\n",
       "      <th>product_name</th>\n",
       "      <th>unique_customers</th>\n",
       "      <th>total_customers</th>\n",
       "      <th>proportion_percentage</th>\n",
       "    </tr>\n",
       "  </thead>\n",
       "  <tbody>\n",
       "    <tr>\n",
       "      <th>0</th>\n",
       "      <td>161</td>\n",
       "      <td>Longos - Chicken Wings</td>\n",
       "      <td>14252</td>\n",
       "      <td>98759</td>\n",
       "      <td>14.43</td>\n",
       "    </tr>\n",
       "    <tr>\n",
       "      <th>1</th>\n",
       "      <td>103</td>\n",
       "      <td>Cream Of Tartar</td>\n",
       "      <td>14247</td>\n",
       "      <td>98759</td>\n",
       "      <td>14.43</td>\n",
       "    </tr>\n",
       "    <tr>\n",
       "      <th>2</th>\n",
       "      <td>47</td>\n",
       "      <td>Thyme - Lemon; Fresh</td>\n",
       "      <td>14101</td>\n",
       "      <td>98759</td>\n",
       "      <td>14.28</td>\n",
       "    </tr>\n",
       "    <tr>\n",
       "      <th>3</th>\n",
       "      <td>179</td>\n",
       "      <td>Yoghurt Tubes</td>\n",
       "      <td>14066</td>\n",
       "      <td>98759</td>\n",
       "      <td>14.24</td>\n",
       "    </tr>\n",
       "    <tr>\n",
       "      <th>4</th>\n",
       "      <td>280</td>\n",
       "      <td>Onion Powder</td>\n",
       "      <td>14058</td>\n",
       "      <td>98759</td>\n",
       "      <td>14.23</td>\n",
       "    </tr>\n",
       "  </tbody>\n",
       "</table>\n",
       "</div>"
      ],
      "text/plain": [
       "   product_id            product_name  unique_customers  total_customers  \\\n",
       "0         161  Longos - Chicken Wings             14252            98759   \n",
       "1         103         Cream Of Tartar             14247            98759   \n",
       "2          47    Thyme - Lemon; Fresh             14101            98759   \n",
       "3         179           Yoghurt Tubes             14066            98759   \n",
       "4         280            Onion Powder             14058            98759   \n",
       "\n",
       "   proportion_percentage  \n",
       "0                  14.43  \n",
       "1                  14.43  \n",
       "2                  14.28  \n",
       "3                  14.24  \n",
       "4                  14.23  "
      ]
     },
     "execution_count": 11,
     "metadata": {},
     "output_type": "execute_result"
    }
   ],
   "source": [
    "import utils.sql_utils as sql_utils\n",
    "\n",
    "query = \"\"\"\n",
    "WITH top_products AS (\n",
    "    SELECT \n",
    "        p.productID AS product_id,  \n",
    "        p.productName AS product_name,\n",
    "        SUM(s.quantity) AS total_quantity\n",
    "    FROM products p\n",
    "    JOIN sales s ON p.productID = s.productID\n",
    "    GROUP BY p.productID, p.productName\n",
    "    ORDER BY total_quantity DESC\n",
    "    LIMIT 5\n",
    "),\n",
    "customer_counts AS (\n",
    "    SELECT\n",
    "        tp.product_id,\n",
    "        COUNT(DISTINCT s.customerID) AS unique_customers\n",
    "    FROM top_products tp\n",
    "    JOIN sales s ON tp.product_id = s.productID\n",
    "    GROUP BY tp.product_id\n",
    "),\n",
    "total_customers AS (\n",
    "    SELECT COUNT(DISTINCT customerID) AS total_customers\n",
    "    FROM sales\n",
    ")\n",
    "SELECT\n",
    "    cc.product_id,\n",
    "    tp.product_name,\n",
    "    cc.unique_customers,\n",
    "    tc.total_customers,\n",
    "    ROUND((cc.unique_customers/ tc.total_customers) * 100, 2) AS proportion_percentage\n",
    "FROM customer_counts cc\n",
    "JOIN top_products tp ON cc.product_id = tp.product_id\n",
    "JOIN total_customers tc ON true\n",
    "ORDER BY cc.unique_customers DESC;\n",
    "\"\"\"\n",
    "sql_utils.run_query(query=query)\n",
    "\n",
    "# Descomentar para ejecutar EXPLAIN\n",
    "#explain_query = \"\"\" EXPLAIN \"\"\" + query\n",
    "#sql_utils.run_query(query=explain_query)"
   ]
  },
  {
   "cell_type": "markdown",
   "id": "a1309f45",
   "metadata": {},
   "source": [
    "* Índices aplicados\n",
    "Se crearon los siguientes índices para optimizar las cláusulas JOIN, GROUP BY y ORDER BY que generaban cuellos de botella:"
   ]
  },
  {
   "cell_type": "code",
   "execution_count": 9,
   "id": "8f2404ea",
   "metadata": {},
   "outputs": [
    {
     "name": "stdout",
     "output_type": "stream",
     "text": [
      "Error: 1061 (42000): Duplicate key name 'idx_sales_productID_quantity'\n",
      "closing connection, no errors in the query\n"
     ]
    }
   ],
   "source": [
    "import utils.sql_utils as sql_utils\n",
    "query = \"\"\"\n",
    "CREATE INDEX idx_sales_productID_quantity ON sales(productID, quantity);\n",
    "CREATE INDEX idx_sales_productID_customerID ON sales(productID, customerID);\n",
    "CREATE INDEX idx_sales_customerID ON sales(customerID);\n",
    "\"\"\"\n",
    "\n",
    "sql_utils.run_non_select_query(query=query)\n"
   ]
  },
  {
   "cell_type": "markdown",
   "id": "bb4d94f2",
   "metadata": {},
   "source": [
    "- Si se reejecuta query anterior se observa el cambio en el plan de ejecución y menor tiempo pararesolver consulta"
   ]
  },
  {
   "cell_type": "markdown",
   "id": "dd23cb5d",
   "metadata": {},
   "source": [
    "## Impacto observado\n",
    "Tras la creación de los índices,\n",
    "\n",
    "- El tiempo de ejecución se redujo casi 5 veces (~3 segundos en entorno kernel).\n",
    "\n",
    "- Explain muestra que se usarán los índices en casi todos los joins y filtros, esto redunda en su optmización.\n",
    "\n",
    "- La tabla sales ahora usa range y ref en lugar de ALL (full scan).\n",
    "\n",
    "- Los índices idx_sales_customerID e idx_sales_productID_customerID están tp.product_id reduce a 5 filas, lo cual permite joins rápidos y precisos (dado que son menos elementos)"
   ]
  },
  {
   "cell_type": "code",
   "execution_count": null,
   "id": "818bbab9",
   "metadata": {},
   "outputs": [],
   "source": []
  }
 ],
 "metadata": {
  "kernelspec": {
   "display_name": "Python 3 (ipykernel)",
   "language": "python",
   "name": "python3"
  },
  "language_info": {
   "codemirror_mode": {
    "name": "ipython",
    "version": 3
   },
   "file_extension": ".py",
   "mimetype": "text/x-python",
   "name": "python",
   "nbconvert_exporter": "python",
   "pygments_lexer": "ipython3",
   "version": "3.11.13"
  }
 },
 "nbformat": 4,
 "nbformat_minor": 5
}
