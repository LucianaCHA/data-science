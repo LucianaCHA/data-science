{
 "cells": [
  {
   "cell_type": "markdown",
   "id": "5dfd2288",
   "metadata": {},
   "source": [
    "# Preguntas y respuestas (Consultas ejecutables)\n",
    "\n",
    "# ENTREGABLE 3\n",
    "\n",
    "## Nota! Ejecutar primera celda para disponibilizar datos e los sv que se usan en las posteriores cnsultas ! \n"
   ]
  },
  {
   "cell_type": "code",
   "execution_count": 1,
   "id": "a4633604",
   "metadata": {},
   "outputs": [],
   "source": [
    "import pandas as pd\n",
    "sales_df = pd.read_csv(r'data/sales.csv')\n",
    "products_df = pd.read_csv(r'data/products.csv')"
   ]
  },
  {
   "cell_type": "markdown",
   "id": "f9e90fab",
   "metadata": {},
   "source": [
    "## Columna con datos inválidos\n",
    "__Issue__ - El campo TotalPrice en la tabla sales no tiene valores válidos. Utilizando la información de precios de la tabla products, calcula el valor real de la venta para cada registro y almacena en una nueva columna\n",
    "        - Utiliza la siguiente fórmula: TotalPriceCalculated=(Quantity×UnitPrice)×(1−Discount)\n",
    "\n",
    "__Análisis__\n",
    "\n",
    "Consulta cuántos registros n totalPrice son menor/ igual a cero. Y por las dudas si discount se escapa del rango (para validar la formula de correcio )"
   ]
  },
  {
   "cell_type": "code",
   "execution_count": null,
   "id": "f89c19f7",
   "metadata": {},
   "outputs": [],
   "source": [
    "import pandas as pd\n",
    "import utils.pandas_utils as p_utils\n",
    "\n",
    "import utils.notebook_utils as notebook_utils\n",
    "\n",
    "p_utils.get_dataframe_info(sales_df)\n",
    "\n",
    "notebook_utils.print_colored('Total rows on TotalPrice (zero or negative):', 'orange')\n",
    "print(p_utils.sum_zero_or_negative(sales_df, 'TotalPrice'))\n",
    "\n",
    "notebook_utils.print_colored('Total rows on Discount (not between 0 and 1):', 'orange')\n",
    "print(len(sales_df['Discount'].between(0, 1, inclusive='both')))"
   ]
  },
  {
   "cell_type": "markdown",
   "id": "ea168046",
   "metadata": {},
   "source": [
    "__Solución__\n",
    "\n",
    " Se procede a corregir"
   ]
  },
  {
   "cell_type": "code",
   "execution_count": 2,
   "id": "c30ddde5",
   "metadata": {},
   "outputs": [
    {
     "data": {
      "text/html": [
       "<span style='color: green; font-size: 14px;\n",
       "    font-weight: bold;'>Total rows on AggregatedTotalPrice (zero or negative):</span>"
      ],
      "text/plain": [
       "<IPython.core.display.HTML object>"
      ]
     },
     "metadata": {},
     "output_type": "display_data"
    },
    {
     "name": "stdout",
     "output_type": "stream",
     "text": [
      "45353\n"
     ]
    }
   ],
   "source": [
    "import utils.sql_utils as sql_utils\n",
    "import utils.notebook_utils as notebook_utils\n",
    "import utils.pandas_utils as p_utils\n",
    "\n",
    "sales_data= sales_df.copy()\n",
    "products_data = products_df.copy()\n",
    "\n",
    "sales_with_price = sales_data.merge(products_data[['ProductID', 'Price']], on='ProductID', how='left') # agrega el precio del producto\n",
    "\n",
    "sales_with_price['AggregatedTotalPrice'] = sales_with_price['Quantity'] * sales_with_price['Price'] * (1 - sales_with_price['Discount'])\n",
    "sales_with_price.head()\n",
    "\n",
    "notebook_utils.print_colored('Total rows on AggregatedTotalPrice (zero or negative):', 'green')\n",
    "print(p_utils.sum_zero_or_negative(sales_with_price, 'AggregatedTotalPrice'))\n"
   ]
  },
  {
   "cell_type": "markdown",
   "id": "31de2d90",
   "metadata": {},
   "source": [
    "__Comentario__\n",
    "\n",
    "aun quedan filas en cer, dado el calculo que hacemos tiene que ser quantity = 0  o Price = 0 y se comprueba que existen dos productos con precio = 0 (ID 19 y 155)"
   ]
  },
  {
   "cell_type": "code",
   "execution_count": null,
   "id": "80cec95e",
   "metadata": {},
   "outputs": [],
   "source": [
    "# buscar los productos con precio cero o negativo y obtener filas en la tabla de ventas\n",
    "zero_or_negative_products = products_data[products_data['Price'] <= 0]\n",
    "notebook_utils.print_colored('Total rows on products with zero or negative price:', 'red')\n",
    "print(zero_or_negative_products)\n"
   ]
  },
  {
   "cell_type": "markdown",
   "id": "ae5d9fe5",
   "metadata": {},
   "source": [
    "## Detecta los outliers en la columna de ventas totales (TotalPriceCalculated)\n",
    "\n",
    "__Issue__ - Utilizando el criterio del rango intercuartílico (IQR). Luego, crea una nueva columna llamada IsOutlier que tenga el valor 1 si el registro es un outlier y 0 en caso contrario. ¿Cuántos outliers se detectaron?\n",
    "\n",
    "__Análisis__\n",
    "\n",
    "Consulta cuántos registros n totalPrice son menor/ igual a cero. Y por las dudas si discount se escapa del rango (para validar la formula de correcio )"
   ]
  },
  {
   "cell_type": "code",
   "execution_count": null,
   "id": "6e71d05c",
   "metadata": {},
   "outputs": [],
   "source": [
    " # calclular q1,q2,q3 y el rango intercuartil\n",
    "q1 = sales_with_price['AggregatedTotalPrice'].quantile(0.25)\n",
    "q2 = sales_with_price['AggregatedTotalPrice'].quantile(0.5)\n",
    "q3 = sales_with_price['AggregatedTotalPrice'].quantile(0.75)\n",
    "\n",
    "iqr = q3 - q1\n",
    "lower_bound = q1 - 1.5 * iqr\n",
    "upper_bound = q3 + 1.5 * iqr\n",
    "\n",
    "notebook_utils.print_colored('Quartiles and IQR of AggregatedTotalPrice:', 'blue')\n",
    "notebook_utils.print_colored(f'IQR: ${iqr}', 'violet')\n",
    "notebook_utils.print_colored(f'Q2: ${q2}', 'violet')\n",
    "notebook_utils.print_colored(f'Q3: ${q3}', 'violet')\n",
    "notebook_utils.print_colored(f'Lower Bound: ${lower_bound}', 'violet')\n",
    "notebook_utils.print_colored(f'Upper Bound: ${upper_bound}', 'violet')\n",
    "\n",
    "sales_data = sales_with_price.copy()\n",
    "\n",
    "sales_data['isOutlier'] = sales_data['AggregatedTotalPrice'].apply(\n",
    "    lambda x: x < lower_bound or x > upper_bound\n",
    ").astype(int)\n",
    "\n",
    "notebook_utils.print_colored('Total rows on AggregatedTotalPrice outliers:', 'purple')\n",
    "print(sales_with_price['isOutlier'].sum())\n",
    "\n",
    "sales_with_price.head()\n"
   ]
  }
 ],
 "metadata": {
  "kernelspec": {
   "display_name": "Python 3 (ipykernel)",
   "language": "python",
   "name": "python3"
  },
  "language_info": {
   "codemirror_mode": {
    "name": "ipython",
    "version": 3
   },
   "file_extension": ".py",
   "mimetype": "text/x-python",
   "name": "python",
   "nbconvert_exporter": "python",
   "pygments_lexer": "ipython3",
   "version": "3.11.13"
  }
 },
 "nbformat": 4,
 "nbformat_minor": 5
}
