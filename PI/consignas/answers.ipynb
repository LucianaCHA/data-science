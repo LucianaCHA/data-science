{
 "cells": [
  {
   "cell_type": "markdown",
   "id": "53fb50cb",
   "metadata": {},
   "source": [
    "Explorar los datos mediante consultas SQL y responder las preguntas planteadas sobre calidad y transformación de los datos:\n",
    "\n",
    "¿Cuáles fueron los 5 productos más vendidos (por cantidad total), y cuál fue el vendedor que más unidades vendió de cada uno? Una vez obtenga los resultados, en el análisis responde: ¿Hay algún vendedor que aparece más de una vez como el que más vendió un producto? ¿Algunos de estos vendedores representan más del 10% de la ventas de este producto?\n",
    "\n",
    "Entre los 5 productos más vendidos, ¿cuántos clientes únicos compraron cada uno y qué proporción representa sobre el total de clientes? Analiza si ese porcentaje sugiere que el producto fue ampliamente adoptado entre los clientes o si, por el contrario, fue comprado por un grupo reducido que generó un volumen alto de ventas. Compara los porcentajes entre productos e identifica si alguno de ellos depende más de un segmento específico de clientes"
   ]
  },
  {
   "cell_type": "code",
   "execution_count": 6,
   "id": "aed9cef7",
   "metadata": {},
   "outputs": [
    {
     "ename": "ModuleNotFoundError",
     "evalue": "No module named 'utils'",
     "output_type": "error",
     "traceback": [
      "\u001b[31m---------------------------------------------------------------------------\u001b[39m",
      "\u001b[31mModuleNotFoundError\u001b[39m                       Traceback (most recent call last)",
      "\u001b[36mCell\u001b[39m\u001b[36m \u001b[39m\u001b[32mIn[6]\u001b[39m\u001b[32m, line 3\u001b[39m\n\u001b[32m      1\u001b[39m \u001b[38;5;66;03m# obtener 5 productos mas vendidos\u001b[39;00m\n\u001b[32m----> \u001b[39m\u001b[32m3\u001b[39m \u001b[38;5;28;01mimport\u001b[39;00m\u001b[38;5;250m \u001b[39m\u001b[34;01mutils\u001b[39;00m\u001b[34;01m.\u001b[39;00m\u001b[34;01msql_utils\u001b[39;00m\n\u001b[32m      6\u001b[39m query = \u001b[33m\"\"\"\u001b[39m\n\u001b[32m      7\u001b[39m \u001b[33mSELECT \u001b[39m\n\u001b[32m      8\u001b[39m \u001b[33m    p.name AS product_name,\u001b[39m\n\u001b[32m   (...)\u001b[39m\u001b[32m     18\u001b[39m \u001b[33mLIMIT 5;\u001b[39m\n\u001b[32m     19\u001b[39m \u001b[33m\"\"\"\u001b[39m\n\u001b[32m     21\u001b[39m utils.sql_utils.run_query(query, \u001b[33m\"\u001b[39m\u001b[33mTop 5 Most Sold Products\u001b[39m\u001b[33m\"\u001b[39m)\n",
      "\u001b[31mModuleNotFoundError\u001b[39m: No module named 'utils'"
     ]
    }
   ],
   "source": [
    "# obtener 5 productos mas vendidos\n",
    "\n",
    "import utils.sql_utils as sql_utils\n",
    "\n",
    "\n",
    "query = \"\"\"\n",
    "SELECT \n",
    "    p.name AS product_name,\n",
    "    SUM(s.quantity) AS total_units_sold\n",
    "FROM \n",
    "    sales s\n",
    "JOIN \n",
    "    products p ON s.product_id = p.id\n",
    "GROUP BY \n",
    "    s.product_id\n",
    "ORDER BY \n",
    "    total_units_sold DESC\n",
    "LIMIT 5;\n",
    "\"\"\"\n",
    "\n",
    "sql_utils.run_query(query, \"Top 5 Most Sold Products\")\n"
   ]
  },
  {
   "cell_type": "code",
   "execution_count": null,
   "id": "ccede4dd-d9bb-4b67-9b32-57fac3425e07",
   "metadata": {},
   "outputs": [],
   "source": []
  }
 ],
 "metadata": {
  "kernelspec": {
   "display_name": "Python 3 (ipykernel)",
   "language": "python",
   "name": "python3"
  },
  "language_info": {
   "codemirror_mode": {
    "name": "ipython",
    "version": 3
   },
   "file_extension": ".py",
   "mimetype": "text/x-python",
   "name": "python",
   "nbconvert_exporter": "python",
   "pygments_lexer": "ipython3",
   "version": "3.11.13"
  }
 },
 "nbformat": 4,
 "nbformat_minor": 5
}
