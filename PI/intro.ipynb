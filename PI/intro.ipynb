{
 "cells": [
  {
   "cell_type": "markdown",
   "id": "76253ec3",
   "metadata": {},
   "source": [
    "# Análisis de Ventas - Carga inicial completada\n",
    "\n",
    "Este notebook trabaja sobre una base de datos MySQL ppopulada con información contenida en archivos CSV.\n",
    "\n",
    "Los datos fueron cargados desde los archivos ubicados en el directorio `./data` y corresponden a distintas entidades del negocio: categorías, productos, clientes, empleados, países y ventas.\n",
    "\n",
    "⚠️ **Nota:** Este notebook **no vuelve a cargar** los datos. Solo se conecta a la base para analizarlos y resolver las consignas del proyecto.\n",
    "\n",
    "---\n",
    "\n",
    "## Archivos disponibles:\n",
    "\n",
    "- `categories.csv`\n",
    "- `products.csv`\n",
    "- `customers.csv`\n",
    "- `employees.csv`\n",
    "- `countries.csv`\n",
    "- `sales.csv`\n",
    "\n",
    "## Estructura esperada en la base de datos:\n",
    "\n",
    "- `categories`\n",
    "- `products`\n",
    "- `customers`\n",
    "- `employees`\n",
    "- `countries`\n",
    "- `sales`\n",
    "\n",
    "---\n"
   ]
  },
  {
   "cell_type": "code",
   "execution_count": null,
   "id": "d375d9b0-583e-4d27-af5e-352d5cfdcdc1",
   "metadata": {},
   "outputs": [],
   "source": [
    "import pandas as pd\n",
    "from pathlib import Path\n",
    "import utils.notebook_utils as notebook_utils\n",
    "\n",
    "data_path = Path(\"./data\")\n",
    "csv_files = data_path.glob(\"*.csv\")\n",
    "\n",
    "print(\"📂 Summary of CSV files found:\\n\")\n",
    "\n",
    "for file in csv_files:\n",
    "    colored = notebook_utils.print_colored(text='File:', color='blue')\n",
    "    print(f\" {file.name}\\n\")\n",
    "\n",
    "    try:\n",
    "        df = pd.read_csv(file, nrows=5)\n",
    "        with open(file, encoding=\"utf-8\") as f:\n",
    "            total_rows = sum(1 for _ in f) - 1  # excluye th\n",
    "\n",
    "        print(df.to_string(index=False))\n",
    "        print(f\"\\n Rows: {total_rows} | Columns: {len(df.columns)}\\n\")\n",
    "    except Exception as e:\n",
    "        print(f\" Error reading file {file.name}: {e}\")\n",
    "    \n",
    "    #print(\"=\" * 60)\n",
    "    separator = notebook_utils.print_colored_separator()\n"
   ]
  },
  {
   "cell_type": "markdown",
   "id": "f6ea048a",
   "metadata": {},
   "source": [
    "Comparamos los datos recibidos con los que efectivmente fueron a la db"
   ]
  },
  {
   "cell_type": "code",
   "execution_count": 1,
   "id": "105d5f42-5c2b-48b3-bb3f-7a6782b3e18b",
   "metadata": {},
   "outputs": [
    {
     "name": "stdout",
     "output_type": "stream",
     "text": [
      "📂 Summary of csv files found and database created:\n",
      "\n"
     ]
    },
    {
     "data": {
      "text/html": [
       "<span style='color: blue; font-size: 14px;\n",
       "    font-weight: bold;'>Table name:</span>"
      ],
      "text/plain": [
       "<IPython.core.display.HTML object>"
      ]
     },
     "metadata": {},
     "output_type": "display_data"
    },
    {
     "name": "stdout",
     "output_type": "stream",
     "text": [
      " categories\n",
      "\n",
      "First 5 records from tabe categories:\n",
      "\n"
     ]
    },
    {
     "data": {
      "text/html": [
       "<span style='color: blue; font-size: 14px;\n",
       "    font-weight: bold;'>File:</span>"
      ],
      "text/plain": [
       "<IPython.core.display.HTML object>"
      ]
     },
     "metadata": {},
     "output_type": "display_data"
    },
    {
     "name": "stdout",
     "output_type": "stream",
     "text": [
      " categories.csv\n",
      "\n",
      " CategoryID CategoryName\n",
      "          1  Confections\n",
      "          2   Shell fish\n",
      "          3      Cereals\n",
      "          4        Dairy\n",
      "          5    Beverages\n",
      "\n",
      " Rows: 11 || Columns : 2\n",
      "\n"
     ]
    },
    {
     "data": {
      "text/html": [
       "<span style='color: blue; font-size: 14px;\n",
       "    font-weight: bold;'>Table name:</span>"
      ],
      "text/plain": [
       "<IPython.core.display.HTML object>"
      ]
     },
     "metadata": {},
     "output_type": "display_data"
    },
    {
     "name": "stdout",
     "output_type": "stream",
     "text": [
      " cities\n",
      "\n",
      "First 5 records from tabe cities:\n",
      "\n"
     ]
    },
    {
     "data": {
      "text/html": [
       "<span style='color: blue; font-size: 14px;\n",
       "    font-weight: bold;'>File:</span>"
      ],
      "text/plain": [
       "<IPython.core.display.HTML object>"
      ]
     },
     "metadata": {},
     "output_type": "display_data"
    },
    {
     "name": "stdout",
     "output_type": "stream",
     "text": [
      " cities.csv\n",
      "\n",
      " CityID       CityName  Zipcode  CountryID\n",
      "      1         Dayton    80563         32\n",
      "      2        Buffalo    17420         32\n",
      "      3        Chicago    44751         32\n",
      "      4        Fremont    20641         32\n",
      "      5 Virginia Beach    62389         32\n",
      "\n",
      " Rows: 96 || Columns : 4\n",
      "\n"
     ]
    },
    {
     "data": {
      "text/html": [
       "<span style='color: blue; font-size: 14px;\n",
       "    font-weight: bold;'>Table name:</span>"
      ],
      "text/plain": [
       "<IPython.core.display.HTML object>"
      ]
     },
     "metadata": {},
     "output_type": "display_data"
    },
    {
     "name": "stdout",
     "output_type": "stream",
     "text": [
      " countries\n",
      "\n",
      "First 5 records from tabe countries:\n",
      "\n"
     ]
    },
    {
     "data": {
      "text/html": [
       "<span style='color: blue; font-size: 14px;\n",
       "    font-weight: bold;'>File:</span>"
      ],
      "text/plain": [
       "<IPython.core.display.HTML object>"
      ]
     },
     "metadata": {},
     "output_type": "display_data"
    },
    {
     "name": "stdout",
     "output_type": "stream",
     "text": [
      " countries.csv\n",
      "\n",
      " CountryID CountryName CountryCode\n",
      "         1     Armenia          AN\n",
      "         2      Canada          FO\n",
      "         3      Belize          MK\n",
      "         4      Uganda          LV\n",
      "         5    Thailand          VI\n",
      "\n",
      " Rows: 206 || Columns : 3\n",
      "\n"
     ]
    },
    {
     "data": {
      "text/html": [
       "<span style='color: blue; font-size: 14px;\n",
       "    font-weight: bold;'>Table name:</span>"
      ],
      "text/plain": [
       "<IPython.core.display.HTML object>"
      ]
     },
     "metadata": {},
     "output_type": "display_data"
    },
    {
     "name": "stdout",
     "output_type": "stream",
     "text": [
      " customers\n",
      "\n",
      "First 5 records from tabe customers:\n",
      "\n"
     ]
    },
    {
     "data": {
      "text/html": [
       "<span style='color: blue; font-size: 14px;\n",
       "    font-weight: bold;'>File:</span>"
      ],
      "text/plain": [
       "<IPython.core.display.HTML object>"
      ]
     },
     "metadata": {},
     "output_type": "display_data"
    },
    {
     "name": "stdout",
     "output_type": "stream",
     "text": [
      " customers.csv\n",
      "\n",
      " CustomerID FirstName MiddleInitial LastName  CityID                      Address\n",
      "          1  Stefanie             Y     Frye      79                97 Oak Avenue\n",
      "          2     Sandy             T    Kirby      96       52 White First Freeway\n",
      "          3       Lee             T    Zhang      55      921 White Fabien Avenue\n",
      "          4    Regina             S    Avery      40                75 Old Avenue\n",
      "          5    Daniel             S   Mccann       2 283 South Green Hague Avenue\n",
      "\n",
      " Rows: 98759 || Columns : 6\n",
      "\n"
     ]
    },
    {
     "data": {
      "text/html": [
       "<span style='color: blue; font-size: 14px;\n",
       "    font-weight: bold;'>Table name:</span>"
      ],
      "text/plain": [
       "<IPython.core.display.HTML object>"
      ]
     },
     "metadata": {},
     "output_type": "display_data"
    },
    {
     "name": "stdout",
     "output_type": "stream",
     "text": [
      " employees\n",
      "\n",
      "First 5 records from tabe employees:\n",
      "\n"
     ]
    },
    {
     "data": {
      "text/html": [
       "<span style='color: blue; font-size: 14px;\n",
       "    font-weight: bold;'>File:</span>"
      ],
      "text/plain": [
       "<IPython.core.display.HTML object>"
      ]
     },
     "metadata": {},
     "output_type": "display_data"
    },
    {
     "name": "stdout",
     "output_type": "stream",
     "text": [
      " employees.csv\n",
      "\n",
      " EmployeeID FirstName MiddleInitial LastName               BirthDate Gender  CityID                HireDate\n",
      "          1    Nicole             T   Fuller 1981-03-07 00:00:00.000      F      80 2011-06-20 07:15:36.920\n",
      "          2 Christine             W   Palmer 1968-01-25 00:00:00.000      F       4 2011-04-27 04:07:56.930\n",
      "          3     Pablo             Y    Cline 1963-02-09 00:00:00.000      M      70 2012-03-30 18:55:23.270\n",
      "          4   Darnell             O  Nielsen 1989-02-06 00:00:00.000      M      39 2014-03-06 06:55:02.780\n",
      "          5   Desiree             L   Stuart 1963-05-03 00:00:00.000      F      23 2014-11-16 22:59:54.720\n",
      "\n",
      " Rows: 23 || Columns : 8\n",
      "\n"
     ]
    },
    {
     "data": {
      "text/html": [
       "<span style='color: blue; font-size: 14px;\n",
       "    font-weight: bold;'>Table name:</span>"
      ],
      "text/plain": [
       "<IPython.core.display.HTML object>"
      ]
     },
     "metadata": {},
     "output_type": "display_data"
    },
    {
     "name": "stdout",
     "output_type": "stream",
     "text": [
      " products\n",
      "\n",
      "First 5 records from tabe products:\n",
      "\n"
     ]
    },
    {
     "data": {
      "text/html": [
       "<span style='color: blue; font-size: 14px;\n",
       "    font-weight: bold;'>File:</span>"
      ],
      "text/plain": [
       "<IPython.core.display.HTML object>"
      ]
     },
     "metadata": {},
     "output_type": "display_data"
    },
    {
     "name": "stdout",
     "output_type": "stream",
     "text": [
      " products.csv\n",
      "\n",
      " ProductID                ProductName   Price  CategoryID  Class ModifyDate Resistant IsAllergic  VitalityDays\n",
      "         1        Flour - Whole Wheat 74.2988           3 Medium    21:49.2   Durable    Unknown             0\n",
      "         2 Cookie Chocolate Chip With 91.2329           3 Medium    39:11.0   Unknown    Unknown             0\n",
      "         3         Onions - Cippolini  9.1379           9 Medium    11:51.6      Weak      FALSE           111\n",
      "         4 Sauce - Gravy; Au Jus; Mix 54.3055           9 Medium    46:28.9   Durable    Unknown             0\n",
      "         5     Artichokes - Jerusalem 65.4771           2    Low    13:35.4   Durable       TRUE            27\n",
      "\n",
      " Rows: 452 || Columns : 9\n",
      "\n"
     ]
    },
    {
     "data": {
      "text/html": [
       "<span style='color: blue; font-size: 14px;\n",
       "    font-weight: bold;'>Table name:</span>"
      ],
      "text/plain": [
       "<IPython.core.display.HTML object>"
      ]
     },
     "metadata": {},
     "output_type": "display_data"
    },
    {
     "name": "stdout",
     "output_type": "stream",
     "text": [
      " sales\n",
      "\n",
      "First 5 records from tabe sales:\n",
      "\n"
     ]
    },
    {
     "data": {
      "text/html": [
       "<span style='color: blue; font-size: 14px;\n",
       "    font-weight: bold;'>File:</span>"
      ],
      "text/plain": [
       "<IPython.core.display.HTML object>"
      ]
     },
     "metadata": {},
     "output_type": "display_data"
    },
    {
     "name": "stdout",
     "output_type": "stream",
     "text": [
      " sales.csv\n",
      "\n",
      " SalesID  SalesPersonID  CustomerID  ProductID  Quantity  Discount  TotalPrice               SalesDate    TransactionNumber\n",
      "       1              6       27039        381         7       0.0         0.0 2018-02-05 07:38:25.430 FQL4S94E4ME1EZFTG42G\n",
      "       2             16       25011         61         7       0.0         0.0 2018-02-02 16:03:31.150 12UGLX40DJ1A5DTFBHB8\n",
      "       3             13       94024         23        24       0.0         0.0 2018-05-03 19:31:56.880 5DT8RCPL87KI5EORO7B0\n",
      "       4              8       73966        176        19       0.2         0.0 2018-04-07 14:43:55.420 R3DR9MLD5NR76VO17ULE\n",
      "       5             10       32653        310         9       0.0         0.0 2018-02-12 15:37:03.940 4BGS0Z5OMAZ8NDAFHHP3\n",
      "\n",
      " Rows: 6758125 || Columns : 9\n",
      "\n"
     ]
    }
   ],
   "source": [
    "import pandas as pd\n",
    "from pathlib import Path\n",
    "import utils.sql_utils as sql_utils\n",
    "import utils.notebook_utils as notebook_utils\n",
    "\n",
    "data_path = Path(\"./data\")\n",
    "\n",
    "csv_files = sorted(data_path.glob(\"*.csv\"))\n",
    "\n",
    "print(\"📂 Summary of csv files found and database created:\\n\")\n",
    "\n",
    "\n",
    "for file in csv_files:\n",
    "    try:\n",
    "        df = pd.read_csv(file, nrows=5)  \n",
    "        total_rows = sum(1 for _ in open(file)) - 1  \n",
    "        total_columns = len(df.columns)\n",
    "\n",
    "        table_name = file.stem\n",
    "        colored = notebook_utils.print_colored(text='Table name:', color='blue')\n",
    "        print(f\" {table_name}\\n\")\n",
    "\n",
    "        print(f\"First 5 records from tabe {table_name}:\\n\")\n",
    "        sql_utils.run_query(\"\"\"SELECT * FROM sales LIMIT 5;\"\"\")\n",
    "\n",
    "        colored_title = notebook_utils.print_colored(text='File:', color='blue')\n",
    "        print(f\" {file.name}\\n\")\n",
    "        print(df.to_string(index=False))\n",
    "        print(f\"\\n Rows: {total_rows} || Columns : {total_columns}\\n\")\n",
    "        \n",
    "    except Exception as e:\n",
    "        print(f\" Error while readig file {file.name}: {e}\")\n",
    "\n",
    "# verificar que los registros (rows) totales coincidan entre csv y base de datos\n",
    "\n",
    "# mosytrar los primeros 5 registros de cada csv"
   ]
  },
  {
   "cell_type": "code",
   "execution_count": null,
   "id": "ea62f912-d728-4193-8fd1-bde55435882a",
   "metadata": {},
   "outputs": [],
   "source": [
    "import pandas as pd\n",
    "from pathlib import Path\n",
    "from utils.sql_utils import run_query\n",
    "import utils.notebook_utils as notebook_utils\n",
    "\n",
    "data_path = Path(\"./data\")\n",
    "csv_files = sorted(data_path.glob(\"*.csv\"))\n",
    "\n",
    "print(\"Checking data loaded from csv files and what finally was loaded on db. \\n\")\n",
    "\n",
    "for file in csv_files:\n",
    "    try:\n",
    "        table_name = file.stem\n",
    "\n",
    "        df_csv_sample = pd.read_csv(file, nrows=5)\n",
    "        total_csv_rows = sum(1 for _ in open(file)) - 1  # sin header\n",
    "        csv_columns = list(df_csv_sample.columns)\n",
    "\n",
    "        db_sample = run_query(f\"SELECT * FROM {table_name} LIMIT 5;\")\n",
    "        result = run_query(f\"SELECT COUNT(*) as total FROM {table_name};\")\n",
    "        \n",
    "        total_db_rows = result.iloc[0]['total']\n",
    "\n",
    "        colored_filename = notebook_utils.print_colored(text='Filename -> table_name', color='blue', tag='p')\n",
    "        print(f\" {file.name} -> {table_name}  \\n\")\n",
    "\n",
    "        print(f\" CSV: {total_csv_rows} rows | DB: {total_db_rows} rows \\n\")\n",
    "        \n",
    "        # Comparación de columnas\n",
    "        db_columns = list(db_sample.columns)\n",
    "        if csv_columns != db_columns:\n",
    "            notebook_utils.print_colored(text='Columnas no coinciden: ', color='red', tag='p')\n",
    "            print(f\"CSV: {csv_columns}\")\n",
    "            print(f\"DB : {db_columns}\")\n",
    "        else:\n",
    "            notebook_utils.print_colored(text='Columnas coinciden: ', color='green', tag='p')\n",
    "\n",
    "            notebook_utils.print_colored(text='first 5 rows (CSV) ', color='blue', tag='p', weight='normal')\n",
    "            print(df_csv_sample.to_string(index=False))\n",
    "\n",
    "            notebook_utils.print_colored(text='first 5 rows (DB) ', color='blue', weight='normal')\n",
    "\n",
    "            print(sql_utils.run_query(f\"SELECT * FROM {table_name} LIMIT 5;\"))\n",
    "\n",
    "    except Exception as e:\n",
    "        print(f\" Error al procesar {file.name}: {e}\")\n",
    "    \n",
    "    # print(\"─\" * 60)\n",
    "    notebook_utils.print_colored_separator()\n"
   ]
  },
  {
   "cell_type": "code",
   "execution_count": null,
   "id": "21a57669-7122-4dbf-bced-e9c3672dfb98",
   "metadata": {},
   "outputs": [],
   "source": []
  }
 ],
 "metadata": {
  "kernelspec": {
   "display_name": "Python 3 (ipykernel)",
   "language": "python",
   "name": "python3"
  },
  "language_info": {
   "codemirror_mode": {
    "name": "ipython",
    "version": 3
   },
   "file_extension": ".py",
   "mimetype": "text/x-python",
   "name": "python",
   "nbconvert_exporter": "python",
   "pygments_lexer": "ipython3",
   "version": "3.11.13"
  }
 },
 "nbformat": 4,
 "nbformat_minor": 5
}
