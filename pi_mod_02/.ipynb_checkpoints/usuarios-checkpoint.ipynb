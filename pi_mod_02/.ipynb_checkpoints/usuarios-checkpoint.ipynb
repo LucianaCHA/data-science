{
 "cells": [
  {
   "cell_type": "markdown",
   "id": "dc70fd81",
   "metadata": {},
   "source": [
    "## Tabla: Usuarios"
   ]
  },
  {
   "cell_type": "code",
   "execution_count": 1,
   "id": "388e95c9",
   "metadata": {},
   "outputs": [
    {
     "data": {
      "text/html": [
       "<span style='color: orange; font-size: 14px;\n",
       "    font-weight: bold;'>Tabla: Usuarios</span>"
      ],
      "text/plain": [
       "<IPython.core.display.HTML object>"
      ]
     },
     "metadata": {},
     "output_type": "display_data"
    },
    {
     "data": {
      "text/html": [
       "<span style='color: orange; font-size: 14px;\n",
       "    font-weight: bold;'>Datos de tabla</span>"
      ],
      "text/plain": [
       "<IPython.core.display.HTML object>"
      ]
     },
     "metadata": {},
     "output_type": "display_data"
    },
    {
     "name": "stdout",
     "output_type": "stream",
     "text": [
      "<class 'pandas.core.frame.DataFrame'>\n",
      "RangeIndex: 1000 entries, 0 to 999\n",
      "Data columns (total 7 columns):\n",
      " #   Column         Non-Null Count  Dtype         \n",
      "---  ------         --------------  -----         \n",
      " 0   UsuarioID      1000 non-null   int64         \n",
      " 1   Nombre         1000 non-null   object        \n",
      " 2   Apellido       1000 non-null   object        \n",
      " 3   DNI            1000 non-null   object        \n",
      " 4   Email          1000 non-null   object        \n",
      " 5   Contraseña     1000 non-null   object        \n",
      " 6   FechaRegistro  1000 non-null   datetime64[ns]\n",
      "dtypes: datetime64[ns](1), int64(1), object(5)\n",
      "memory usage: 54.8+ KB\n"
     ]
    },
    {
     "data": {
      "text/plain": [
       "None"
      ]
     },
     "metadata": {},
     "output_type": "display_data"
    },
    {
     "data": {
      "text/html": [
       "<span style='color: orange; font-size: 14px;\n",
       "    font-weight: bold;'>Primeros valores</span>"
      ],
      "text/plain": [
       "<IPython.core.display.HTML object>"
      ]
     },
     "metadata": {},
     "output_type": "display_data"
    },
    {
     "data": {
      "text/html": [
       "<div>\n",
       "<style scoped>\n",
       "    .dataframe tbody tr th:only-of-type {\n",
       "        vertical-align: middle;\n",
       "    }\n",
       "\n",
       "    .dataframe tbody tr th {\n",
       "        vertical-align: top;\n",
       "    }\n",
       "\n",
       "    .dataframe thead th {\n",
       "        text-align: right;\n",
       "    }\n",
       "</style>\n",
       "<table border=\"1\" class=\"dataframe\">\n",
       "  <thead>\n",
       "    <tr style=\"text-align: right;\">\n",
       "      <th></th>\n",
       "      <th>UsuarioID</th>\n",
       "      <th>Nombre</th>\n",
       "      <th>Apellido</th>\n",
       "      <th>DNI</th>\n",
       "      <th>Email</th>\n",
       "      <th>Contraseña</th>\n",
       "      <th>FechaRegistro</th>\n",
       "    </tr>\n",
       "  </thead>\n",
       "  <tbody>\n",
       "    <tr>\n",
       "      <th>0</th>\n",
       "      <td>1</td>\n",
       "      <td>Encarna</td>\n",
       "      <td>Donaire</td>\n",
       "      <td>49877134</td>\n",
       "      <td>encarna.donaire1@correo.com</td>\n",
       "      <td>Contraseña123</td>\n",
       "      <td>2025-07-22 21:44:41.060272</td>\n",
       "    </tr>\n",
       "    <tr>\n",
       "      <th>1</th>\n",
       "      <td>2</td>\n",
       "      <td>Jose Ignacio</td>\n",
       "      <td>Canales</td>\n",
       "      <td>98778810</td>\n",
       "      <td>jose ignacio.canales2@correo.com</td>\n",
       "      <td>Contraseña123</td>\n",
       "      <td>2025-07-22 21:44:41.060272</td>\n",
       "    </tr>\n",
       "    <tr>\n",
       "      <th>2</th>\n",
       "      <td>3</td>\n",
       "      <td>José</td>\n",
       "      <td>Sebastián</td>\n",
       "      <td>80095714</td>\n",
       "      <td>josé.sebastián3@correo.com</td>\n",
       "      <td>Contraseña123</td>\n",
       "      <td>2025-07-22 21:44:41.060272</td>\n",
       "    </tr>\n",
       "    <tr>\n",
       "      <th>3</th>\n",
       "      <td>4</td>\n",
       "      <td>Priscila</td>\n",
       "      <td>Vilar</td>\n",
       "      <td>94128750</td>\n",
       "      <td>priscila.vilar4@correo.com</td>\n",
       "      <td>Contraseña123</td>\n",
       "      <td>2025-07-22 21:44:41.060272</td>\n",
       "    </tr>\n",
       "    <tr>\n",
       "      <th>4</th>\n",
       "      <td>5</td>\n",
       "      <td>Epifanio</td>\n",
       "      <td>Ríos</td>\n",
       "      <td>62958342</td>\n",
       "      <td>epifanio.ríos5@correo.com</td>\n",
       "      <td>Contraseña123</td>\n",
       "      <td>2025-07-22 21:44:41.060272</td>\n",
       "    </tr>\n",
       "  </tbody>\n",
       "</table>\n",
       "</div>"
      ],
      "text/plain": [
       "   UsuarioID        Nombre   Apellido       DNI  \\\n",
       "0          1       Encarna    Donaire  49877134   \n",
       "1          2  Jose Ignacio    Canales  98778810   \n",
       "2          3          José  Sebastián  80095714   \n",
       "3          4      Priscila      Vilar  94128750   \n",
       "4          5      Epifanio       Ríos  62958342   \n",
       "\n",
       "                              Email     Contraseña              FechaRegistro  \n",
       "0       encarna.donaire1@correo.com  Contraseña123 2025-07-22 21:44:41.060272  \n",
       "1  jose ignacio.canales2@correo.com  Contraseña123 2025-07-22 21:44:41.060272  \n",
       "2        josé.sebastián3@correo.com  Contraseña123 2025-07-22 21:44:41.060272  \n",
       "3        priscila.vilar4@correo.com  Contraseña123 2025-07-22 21:44:41.060272  \n",
       "4         epifanio.ríos5@correo.com  Contraseña123 2025-07-22 21:44:41.060272  "
      ]
     },
     "metadata": {},
     "output_type": "display_data"
    }
   ],
   "source": [
    "from app.utils import notebook_utils\n",
    "\n",
    "notebook_utils.show_table_data(\"Usuarios\")"
   ]
  },
  {
   "cell_type": "markdown",
   "id": "edf6fa9c",
   "metadata": {},
   "source": [
    "#### 1. Información general\n",
    "\n",
    "* Número de registros: 1000\n",
    "* Número de columnas: 7\n",
    "\n",
    "#### 2. Esquema\n",
    "\n",
    "| Columna       | Tipo de dato | Valores no nulos | Observaciones                         |\n",
    "| -----------   | ------------ | ---------------- | --------------------------------------|\n",
    "| UsuarioID     | int64        | 1000             | Clave primaria.                       |\n",
    "| Nombre        | object       | 1000             | Texto. No hay valores faltantes.      |\n",
    "| Apellido      | object       | 1000             | Texto.                                |\n",
    "| email         | object       | 1000             | texto.                                |\n",
    "| Contraseña    | object       | 1000             | Unidades disponibles.                 |\n",
    "| FechaRegistro | datetime     | 1000             | Fecha registro de usuario, default now|\n",
    "\n",
    "Observaciones\n",
    "* No hay columnas con valores nulos.\n",
    "* Estructura: los tipos de datos parecen consistentes al atributo que describen\n",
    "* La columna `Contraseña` debería almacenar un hash, no texto plano."
   ]
  },
  {
   "cell_type": "code",
   "execution_count": 2,
   "id": "c6edacb1",
   "metadata": {},
   "outputs": [
    {
     "data": {
      "text/html": [
       "<span style='color: orange; font-size: 14px;\n",
       "    font-weight: bold;'>Columnas con nulos (%)</span>"
      ],
      "text/plain": [
       "<IPython.core.display.HTML object>"
      ]
     },
     "metadata": {},
     "output_type": "display_data"
    },
    {
     "data": {
      "text/plain": [
       "UsuarioID        0.0\n",
       "Nombre           0.0\n",
       "Apellido         0.0\n",
       "DNI              0.0\n",
       "Email            0.0\n",
       "Contraseña       0.0\n",
       "FechaRegistro    0.0\n",
       "dtype: float64"
      ]
     },
     "metadata": {},
     "output_type": "display_data"
    },
    {
     "data": {
      "text/html": [
       "<span style='color: orange; font-size: 14px;\n",
       "    font-weight: bold;'>Duplicados</span>"
      ],
      "text/plain": [
       "<IPython.core.display.HTML object>"
      ]
     },
     "metadata": {},
     "output_type": "display_data"
    },
    {
     "data": {
      "text/plain": [
       "np.int64(0)"
      ]
     },
     "metadata": {},
     "output_type": "display_data"
    }
   ],
   "source": [
    "notebook_utils.show_duplicates_and_null_info(\"Usuarios\")"
   ]
  },
  {
   "cell_type": "markdown",
   "id": "a4dce914",
   "metadata": {},
   "source": [
    "#### 3. Calidad de datos\n",
    "* **Valores nulos:** No se encontraron columnas con valores faltantes.\n",
    "\n",
    "* **Duplicados:** No se detectaron registros duplicados.\n",
    "\n",
    "* **Tipos de datos:** los tipos de datos parecen consistentes al atributo que describen\n",
    "\n",
    "* **Claves:** Las claves numéricas (UsuarioID) son consistentes. \n",
    "\n",
    "* * **Clave primaria(s):** UsuarioID, es unico y sin nulos\n",
    "\n",
    "* * **Claves foráneas:** -"
   ]
  },
  {
   "cell_type": "code",
   "execution_count": 3,
   "id": "37e38d6f",
   "metadata": {},
   "outputs": [
    {
     "data": {
      "text/html": [
       "<span style='color: orange; font-size: 14px;\n",
       "    font-weight: bold;'>Estadísticas de tabla</span>"
      ],
      "text/plain": [
       "<IPython.core.display.HTML object>"
      ]
     },
     "metadata": {},
     "output_type": "display_data"
    },
    {
     "data": {
      "text/html": [
       "<div>\n",
       "<style scoped>\n",
       "    .dataframe tbody tr th:only-of-type {\n",
       "        vertical-align: middle;\n",
       "    }\n",
       "\n",
       "    .dataframe tbody tr th {\n",
       "        vertical-align: top;\n",
       "    }\n",
       "\n",
       "    .dataframe thead th {\n",
       "        text-align: right;\n",
       "    }\n",
       "</style>\n",
       "<table border=\"1\" class=\"dataframe\">\n",
       "  <thead>\n",
       "    <tr style=\"text-align: right;\">\n",
       "      <th></th>\n",
       "      <th>UsuarioID</th>\n",
       "      <th>FechaRegistro</th>\n",
       "    </tr>\n",
       "  </thead>\n",
       "  <tbody>\n",
       "    <tr>\n",
       "      <th>count</th>\n",
       "      <td>1000.000000</td>\n",
       "      <td>1000</td>\n",
       "    </tr>\n",
       "    <tr>\n",
       "      <th>mean</th>\n",
       "      <td>500.500000</td>\n",
       "      <td>2025-07-22 21:44:41.060271616</td>\n",
       "    </tr>\n",
       "    <tr>\n",
       "      <th>min</th>\n",
       "      <td>1.000000</td>\n",
       "      <td>2025-07-22 21:44:41.060272</td>\n",
       "    </tr>\n",
       "    <tr>\n",
       "      <th>25%</th>\n",
       "      <td>250.750000</td>\n",
       "      <td>2025-07-22 21:44:41.060272128</td>\n",
       "    </tr>\n",
       "    <tr>\n",
       "      <th>50%</th>\n",
       "      <td>500.500000</td>\n",
       "      <td>2025-07-22 21:44:41.060272128</td>\n",
       "    </tr>\n",
       "    <tr>\n",
       "      <th>75%</th>\n",
       "      <td>750.250000</td>\n",
       "      <td>2025-07-22 21:44:41.060272128</td>\n",
       "    </tr>\n",
       "    <tr>\n",
       "      <th>max</th>\n",
       "      <td>1000.000000</td>\n",
       "      <td>2025-07-22 21:44:41.060272</td>\n",
       "    </tr>\n",
       "    <tr>\n",
       "      <th>std</th>\n",
       "      <td>288.819436</td>\n",
       "      <td>NaN</td>\n",
       "    </tr>\n",
       "  </tbody>\n",
       "</table>\n",
       "</div>"
      ],
      "text/plain": [
       "         UsuarioID                  FechaRegistro\n",
       "count  1000.000000                           1000\n",
       "mean    500.500000  2025-07-22 21:44:41.060271616\n",
       "min       1.000000     2025-07-22 21:44:41.060272\n",
       "25%     250.750000  2025-07-22 21:44:41.060272128\n",
       "50%     500.500000  2025-07-22 21:44:41.060272128\n",
       "75%     750.250000  2025-07-22 21:44:41.060272128\n",
       "max    1000.000000     2025-07-22 21:44:41.060272\n",
       "std     288.819436                            NaN"
      ]
     },
     "metadata": {},
     "output_type": "display_data"
    }
   ],
   "source": [
    "from app.utils import notebook_utils\n",
    "\n",
    "notebook_utils.show_table_stats(\"Usuarios\")"
   ]
  },
  {
   "cell_type": "markdown",
   "id": "d26e2519",
   "metadata": {},
   "source": [
    "#### 4. Anáslisis estadístico\n",
    "* No se incluyen estadísticos detallados ya que los valores numéricos (UsuarioID y FechaRegistro) no aportan información relevante al momento.\n",
    "\n",
    "#### 5. Preguntas de negocio\n",
    "\n",
    "* ¿Cuántos usuarios se registran por mes? \n",
    "\n",
    "* ¿Cuántos usuarios han realizado más de una orden?\n",
    "\n",
    "* ¿Cuántos usuarios registrados no han hecho ninguna compra?\n",
    "\n",
    "* ¿Qué usuarios han gastado más en total?\n",
    "\n",
    "* ¿Cuántos usuarios han dejado reseñas?"
   ]
  },
  {
   "cell_type": "code",
   "execution_count": 4,
   "id": "b4b58188",
   "metadata": {},
   "outputs": [
    {
     "data": {
      "text/html": [
       "<span style='color: green; font-size: 14px;\n",
       "    font-weight: bold;'>¿Cuántos usuarios se registran por mes?</span>"
      ],
      "text/plain": [
       "<IPython.core.display.HTML object>"
      ]
     },
     "metadata": {},
     "output_type": "display_data"
    },
    {
     "data": {
      "text/html": [
       "<div>\n",
       "<style scoped>\n",
       "    .dataframe tbody tr th:only-of-type {\n",
       "        vertical-align: middle;\n",
       "    }\n",
       "\n",
       "    .dataframe tbody tr th {\n",
       "        vertical-align: top;\n",
       "    }\n",
       "\n",
       "    .dataframe thead th {\n",
       "        text-align: right;\n",
       "    }\n",
       "</style>\n",
       "<table border=\"1\" class=\"dataframe\">\n",
       "  <thead>\n",
       "    <tr style=\"text-align: right;\">\n",
       "      <th></th>\n",
       "      <th>register_month</th>\n",
       "      <th>users</th>\n",
       "    </tr>\n",
       "  </thead>\n",
       "  <tbody>\n",
       "    <tr>\n",
       "      <th>0</th>\n",
       "      <td>2025-07-01</td>\n",
       "      <td>1000</td>\n",
       "    </tr>\n",
       "  </tbody>\n",
       "</table>\n",
       "</div>"
      ],
      "text/plain": [
       "  register_month  users\n",
       "0     2025-07-01   1000"
      ]
     },
     "execution_count": 4,
     "metadata": {},
     "output_type": "execute_result"
    }
   ],
   "source": [
    "from app.utils import postgres_utils, notebook_utils\n",
    "query = \"\"\"\n",
    "SELECT \n",
    "    DATE_TRUNC('month', \"FechaRegistro\") AS register_month, \n",
    "    COUNT(*) AS users \n",
    "FROM \"Usuarios\" \n",
    "GROUP BY register_month \n",
    "ORDER BY register_month\n",
    "\"\"\"\n",
    "\n",
    "notebook_utils.print_colored(\"¿Cuántos usuarios se registran por mes?\", \"green\")\n",
    "\n",
    "postgres_utils.run_query(query)\n"
   ]
  },
  {
   "cell_type": "markdown",
   "id": "4da8efb2-f4f8-4f2e-b19b-bc3fe6e163e2",
   "metadata": {},
   "source": [
    "__Observación__: Todos los registros comparten el mismo valor en FechaRegistro (probablemente default del sistema), lo que invalida el análisis por mes. Se descarta esta dimensión hasta contar con datos representativos."
   ]
  },
  {
   "cell_type": "code",
   "execution_count": 5,
   "id": "f46be9f9-3ccb-4162-a0a8-1147fa45f929",
   "metadata": {},
   "outputs": [
    {
     "data": {
      "text/html": [
       "<span style='color: green; font-size: 14px;\n",
       "    font-weight: bold;'>¿Cuántos usuarios han realizado más de una orden?</span>"
      ],
      "text/plain": [
       "<IPython.core.display.HTML object>"
      ]
     },
     "metadata": {},
     "output_type": "display_data"
    },
    {
     "data": {
      "text/html": [
       "<div>\n",
       "<style scoped>\n",
       "    .dataframe tbody tr th:only-of-type {\n",
       "        vertical-align: middle;\n",
       "    }\n",
       "\n",
       "    .dataframe tbody tr th {\n",
       "        vertical-align: top;\n",
       "    }\n",
       "\n",
       "    .dataframe thead th {\n",
       "        text-align: right;\n",
       "    }\n",
       "</style>\n",
       "<table border=\"1\" class=\"dataframe\">\n",
       "  <thead>\n",
       "    <tr style=\"text-align: right;\">\n",
       "      <th></th>\n",
       "      <th>users_with_multiple_orders</th>\n",
       "    </tr>\n",
       "  </thead>\n",
       "  <tbody>\n",
       "    <tr>\n",
       "      <th>0</th>\n",
       "      <td>1000</td>\n",
       "    </tr>\n",
       "  </tbody>\n",
       "</table>\n",
       "</div>"
      ],
      "text/plain": [
       "   users_with_multiple_orders\n",
       "0                        1000"
      ]
     },
     "execution_count": 5,
     "metadata": {},
     "output_type": "execute_result"
    }
   ],
   "source": [
    "from app.utils import postgres_utils, notebook_utils\n",
    "query = \"\"\"\n",
    "SELECT \n",
    "    COUNT(DISTINCT \"UsuarioID\") AS users_with_multiple_orders\n",
    "FROM \"Ordenes\"\n",
    "WHERE \"UsuarioID\" IN (\n",
    "    SELECT \"UsuarioID\"\n",
    "    FROM \"Ordenes\"\n",
    "    GROUP BY \"UsuarioID\"\n",
    "    HAVING COUNT(*) > 1\n",
    ");\n",
    "\"\"\"\n",
    "\n",
    "notebook_utils.print_colored(\"¿Cuántos usuarios han realizado más de una orden?\", \"green\")\n",
    "\n",
    "postgres_utils.run_query(query)"
   ]
  },
  {
   "cell_type": "markdown",
   "id": "c0b36980",
   "metadata": {},
   "source": [
    "de los mil usuarios registrados 999 han comprado mas de una vez.\n",
    "Seria interesante concer fecha de regitstro real para conocer tiempo qe demora en comprar "
   ]
  },
  {
   "cell_type": "code",
   "execution_count": 6,
   "id": "80c4dc68",
   "metadata": {},
   "outputs": [
    {
     "data": {
      "text/html": [
       "<span style='color: green; font-size: 14px;\n",
       "    font-weight: bold;'>¿Qué usuarios han gastado más en total?</span>"
      ],
      "text/plain": [
       "<IPython.core.display.HTML object>"
      ]
     },
     "metadata": {},
     "output_type": "display_data"
    },
    {
     "data": {
      "text/html": [
       "<div>\n",
       "<style scoped>\n",
       "    .dataframe tbody tr th:only-of-type {\n",
       "        vertical-align: middle;\n",
       "    }\n",
       "\n",
       "    .dataframe tbody tr th {\n",
       "        vertical-align: top;\n",
       "    }\n",
       "\n",
       "    .dataframe thead th {\n",
       "        text-align: right;\n",
       "    }\n",
       "</style>\n",
       "<table border=\"1\" class=\"dataframe\">\n",
       "  <thead>\n",
       "    <tr style=\"text-align: right;\">\n",
       "      <th></th>\n",
       "      <th>UsuarioID</th>\n",
       "      <th>total_spent</th>\n",
       "    </tr>\n",
       "  </thead>\n",
       "  <tbody>\n",
       "    <tr>\n",
       "      <th>0</th>\n",
       "      <td>411</td>\n",
       "      <td>32342.70</td>\n",
       "    </tr>\n",
       "    <tr>\n",
       "      <th>1</th>\n",
       "      <td>379</td>\n",
       "      <td>32341.14</td>\n",
       "    </tr>\n",
       "    <tr>\n",
       "      <th>2</th>\n",
       "      <td>951</td>\n",
       "      <td>32152.02</td>\n",
       "    </tr>\n",
       "    <tr>\n",
       "      <th>3</th>\n",
       "      <td>25</td>\n",
       "      <td>31643.07</td>\n",
       "    </tr>\n",
       "    <tr>\n",
       "      <th>4</th>\n",
       "      <td>382</td>\n",
       "      <td>31487.88</td>\n",
       "    </tr>\n",
       "    <tr>\n",
       "      <th>5</th>\n",
       "      <td>878</td>\n",
       "      <td>30877.86</td>\n",
       "    </tr>\n",
       "    <tr>\n",
       "      <th>6</th>\n",
       "      <td>15</td>\n",
       "      <td>30336.87</td>\n",
       "    </tr>\n",
       "    <tr>\n",
       "      <th>7</th>\n",
       "      <td>390</td>\n",
       "      <td>30298.62</td>\n",
       "    </tr>\n",
       "    <tr>\n",
       "      <th>8</th>\n",
       "      <td>913</td>\n",
       "      <td>29765.79</td>\n",
       "    </tr>\n",
       "    <tr>\n",
       "      <th>9</th>\n",
       "      <td>892</td>\n",
       "      <td>29654.55</td>\n",
       "    </tr>\n",
       "  </tbody>\n",
       "</table>\n",
       "</div>"
      ],
      "text/plain": [
       "   UsuarioID  total_spent\n",
       "0        411     32342.70\n",
       "1        379     32341.14\n",
       "2        951     32152.02\n",
       "3         25     31643.07\n",
       "4        382     31487.88\n",
       "5        878     30877.86\n",
       "6         15     30336.87\n",
       "7        390     30298.62\n",
       "8        913     29765.79\n",
       "9        892     29654.55"
      ]
     },
     "execution_count": 6,
     "metadata": {},
     "output_type": "execute_result"
    }
   ],
   "source": [
    "# ¿Qué usuarios han gastado más en total?\n",
    "\n",
    "from app.utils import postgres_utils, notebook_utils\n",
    "query = \"\"\"\n",
    "SELECT \n",
    "    \"UsuarioID\",\n",
    "    SUM(\"Total\") AS total_spent\n",
    "FROM \"Ordenes\"\n",
    "GROUP BY \"UsuarioID\"\n",
    "ORDER BY total_spent DESC\n",
    "LIMIT 10;\n",
    "\"\"\"\n",
    "notebook_utils.print_colored(\"¿Qué usuarios han gastado más en total?\", \"green\")\n",
    "postgres_utils.run_query(query)"
   ]
  },
  {
   "cell_type": "code",
   "execution_count": 7,
   "id": "f20c12c7",
   "metadata": {},
   "outputs": [
    {
     "data": {
      "text/html": [
       "<span style='color: green; font-size: 14px;\n",
       "    font-weight: bold;'>¿Cuántos usuarios han dejado reseñas?</span>"
      ],
      "text/plain": [
       "<IPython.core.display.HTML object>"
      ]
     },
     "metadata": {},
     "output_type": "display_data"
    },
    {
     "data": {
      "text/html": [
       "<div>\n",
       "<style scoped>\n",
       "    .dataframe tbody tr th:only-of-type {\n",
       "        vertical-align: middle;\n",
       "    }\n",
       "\n",
       "    .dataframe tbody tr th {\n",
       "        vertical-align: top;\n",
       "    }\n",
       "\n",
       "    .dataframe thead th {\n",
       "        text-align: right;\n",
       "    }\n",
       "</style>\n",
       "<table border=\"1\" class=\"dataframe\">\n",
       "  <thead>\n",
       "    <tr style=\"text-align: right;\">\n",
       "      <th></th>\n",
       "      <th>users_with_reviews</th>\n",
       "    </tr>\n",
       "  </thead>\n",
       "  <tbody>\n",
       "    <tr>\n",
       "      <th>0</th>\n",
       "      <td>1000</td>\n",
       "    </tr>\n",
       "  </tbody>\n",
       "</table>\n",
       "</div>"
      ],
      "text/plain": [
       "   users_with_reviews\n",
       "0                1000"
      ]
     },
     "execution_count": 7,
     "metadata": {},
     "output_type": "execute_result"
    }
   ],
   "source": [
    "# ¿Cuántos usuarios han dejado reseñas?\n",
    "\n",
    "from app.utils import postgres_utils, notebook_utils\n",
    "query = \"\"\"\n",
    "SELECT \n",
    "    COUNT(DISTINCT \"UsuarioID\") AS users_with_reviews\n",
    "FROM \"ReseñasProductos\";\n",
    "\"\"\"\n",
    "notebook_utils.print_colored(\"¿Cuántos usuarios han dejado reseñas?\", \"green\")\n",
    "postgres_utils.run_query(query)"
   ]
  },
  {
   "cell_type": "markdown",
   "id": "38a615de",
   "metadata": {},
   "source": [
    "### 5. Resumen de análisis y acciones propuestas de preprocesamiento y calidad de datos\n",
    "\n",
    "A partir del análisis exploratorio de la tabla `Usuarios`, se proponen las siguientes acciones de limpieza y mejora de calidad:\n",
    "\n",
    "#### 5.1 Valores nulos\n",
    "\n",
    "- **Diagnóstico:** No se encontraron columnas con valores nulos.\n",
    "- **Acción:** No se requiere imputación o eliminación. Se mantiene la estructura original.\n",
    "\n",
    "#### 5.2 Duplicados\n",
    "\n",
    "- **Diagnóstico:** No se detectaron registros duplicados.\n",
    "- **Acción:** No se requiere limpieza en este aspecto. Se debe garantizar unicidad de DNI e email al realizar nuevos registros\n",
    "\n",
    "#### 5.3 Valores atípicos\n",
    "\n",
    "- **Diagnóstico:** No hay valores numericos atípicos. FechaRegistro presenta un valor constante, probablemente por ser una carga masiva o un default.\n",
    "- **Acción propuesta:** \n",
    "  - Validar proceso de carga de fechaRegistro ya que no hay dispersion. Si se quisiera hacer análisi temporal deben proveerse fechas reales.\n",
    "\n",
    "#### 5.4 Consistencia de claves\n",
    "\n",
    "- **ProductoID:** clave primaria válida, sin duplicados ni nulos.\n",
    "\n",
    "- **Acción propuesta:**  Asegurar que al importar datos se mantenga integridad referencial. Puede implementarse con constraints.\n",
    "\n",
    "#### 5.5 Texto libre\n",
    "\n",
    "- **Diagnóstico:** `Nombre` y `Descripcion` son campos de texto libre.\n",
    "- **Acción propuesta:** \n",
    "  - Validar formato de email.\n",
    "  - Eliminar espacios dobles o caracteres especiales si existieran.\n",
    "  - Normalizar nombres (capitalización).\n",
    "\n",
    "\n",
    "#### 5.6 Tipos de datos\n",
    "\n",
    "- **Diagnóstico:** `Contraseña`contiene texto.\n",
    "- **Acción:** Reemplazar texto plano por hashes y nunca almacenar contraseñas en db \n",
    "\n",
    "---\n",
    "\n",
    "**Resumen general:**\n",
    "\n",
    "| Aspecto           | Acción requerida                      |\n",
    "| ----------------- | ------------------------------------- |\n",
    "| Valores nulos     | No                                    |\n",
    "| Duplicados        | No                                    |\n",
    "| Outliers          | No relevantes                         |\n",
    "| Claves            | Asegurar unicidad  en Email y DNI     |\n",
    "| Texto libre       | Validar y normalizar                  |\n",
    "| Seguridad         | Hash de contraseñas requerido         |\n",
    "| Tipos de datos    | Revisar `Email` y `Contraseña`        |\n",
    "| Fecha de registro | Revisar dispersión / carga automática |\n",
    "\n"
   ]
  }
 ],
 "metadata": {
  "kernelspec": {
   "display_name": "Python 3 (ipykernel)",
   "language": "python",
   "name": "python3"
  },
  "language_info": {
   "codemirror_mode": {
    "name": "ipython",
    "version": 3
   },
   "file_extension": ".py",
   "mimetype": "text/x-python",
   "name": "python",
   "nbconvert_exporter": "python",
   "pygments_lexer": "ipython3",
   "version": "3.11.13"
  }
 },
 "nbformat": 4,
 "nbformat_minor": 5
}
