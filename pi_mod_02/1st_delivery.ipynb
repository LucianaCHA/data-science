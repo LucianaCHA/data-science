{
 "cells": [
  {
   "cell_type": "markdown",
   "id": "3ded4141-84e7-4735-b9f0-94e31f3c85d4",
   "metadata": {},
   "source": [
    "# ENTREGABLE 1\n",
    "\n",
    "## 1. Configuración del entorno de trabajo\n",
    "\n",
    "### Consigna\n",
    "\n",
    "- Instalar y configurar un sistema de gestión de bases de datos relacional (PostgreSQL o SQL Server).\n",
    "- Crear una base de datos de trabajo y preparar el entorno para futuras transformaciones (conexión desde Python vía ORM recomendado).\n",
    "\n",
    "### Detalle de implementación\n",
    "\n",
    "Se configuró un entorno de base de datos con Docker utilizando **PostgreSQL**. Este servicio ejecuta PostgreSQL y monta los scripts SQL necesarios para crear las tablas al iniciar. Además, se incluye **Adminer** para gestionar la base de datos de forma gráfica.\n",
    "\n",
    "El entorno está listo para interactuar con la base de datos desde Python usando **SQLAlchemy** como ORM, lo que facilita la implementación de futuras transformaciones y expansiones del proyecto.\n",
    "\n",
    "---\n",
    "\n",
    "## 2. Carga inicial de datos\n",
    "\n",
    "### Consigna\n",
    "\n",
    "- Crear tablas e importar datos a partir de los archivos CSV proporcionados.\n",
    "- Ajustar los tipos de datos según corresponda para preservar la integridad semántica y evitar errores de procesamiento.\n",
    "\n",
    "### Detalle de implementación\n",
    "\n",
    "La implementación se realizó en **dos fases**:\n",
    "\n",
    "### Fase 1: Creación de modelos de tablas e importación de datos\n",
    "\n",
    "Se crearon modelos de tablas basados en las estructuras de los scripts SQL provistos. En esta fase inicial, no se aplicaron restricciones complejas, sino que se enfocó en asegurar la correcta relación entre tablas mediante claves foráneas y los tipos de datos básicos. El objetivo fue importar los datos desde los archivos CSV y asegurar que las claves foráneas (relación entre tablas) estuvieran correctamente configuradas.\n",
    "\n",
    "**Ejemplo de implementación:**\n",
    "\n",
    "```python\n",
    "class Product(BaseModel):\n",
    "\n",
    "    __tablename__ = TableNames.PRODUCTS\n",
    "\n",
    "    product_id: Mapped[int] = mapped_column(ProductColumns.PRODUCT_ID, primary_key=True)\n",
    "    name: Mapped[str] = mapped_column(ProductColumns.NAME, String)\n",
    "    description: Mapped[str] = mapped_column(ProductColumns.DESCRIPTION, String)\n",
    "    price: Mapped[Decimal] = mapped_column(ProductColumns.PRICE, Numeric)\n",
    "    stock: Mapped[int] = mapped_column(ProductColumns.STOCK, Integer)\n",
    "    category_id: Mapped[int] = mapped_column(\n",
    "        CategoryColumns.CATEGORY_ID, ForeignKey(\"Categorias.CategoriaID\"), nullable=False\n",
    "    )\n",
    "    category: Mapped[\"Category\"] = relationship(\"Category\", backref=\"products\")\n",
    "\n",
    "    @classmethod\n",
    "    def from_dict(cls, data: dict):\n",
    "        return cls(\n",
    "            product_id=data.get(\"product_id\"),\n",
    "            name=data.get(\"name\", \"\").strip(),\n",
    "            description=data.get(\"description\", \"\").strip(),\n",
    "            price=Decimal(data.get(\"price\", 0)),\n",
    "            stock=data.get(\"stock\", 0),\n",
    "            category_id=data.get(\"category_id\"),\n",
    "        )\n",
    "```\n",
    "### Fase  2: Ajustes de tipos de datos y restricciones de integridad\n",
    "\n",
    "Una vez que los datos fueron importados correctamente, se modificaron los modelos para asegurar la integridad semántica de los datos. Esto incluyó:\n",
    "\n",
    "- Ajuste de tipos de datos: Se cambiaron algunas columnas para asegurar que almacenaran los datos en el tipo adecuado (por ejemplo, fechas o cadenas con longitud fija).\n",
    "\n",
    "- Aplicación de restricciones de integridad: Se añadieron restricciones como CHECK y UNIQUE para evitar que los datos violaran las reglas de negocio. Esto garantiza que los datos sean válidos y coherentes con las expectativas del sistema.\n",
    "\n",
    "**Ejemplo de implementación final (con restricciones):**\n",
    "\n",
    "```python\n",
    "\n",
    "\n",
    "class Product(BaseModel):\n",
    "\n",
    "    __tablename__ = TableNames.PRODUCTS\n",
    "\n",
    "    __table_args__ = (\n",
    "        CheckConstraint(\n",
    "            f\"{ProductColumns.STOCK} >= 0\", name=\"stock_non_negative\"),\n",
    "        CheckConstraint(\n",
    "            f\"{ProductColumns.PRICE} >= 0\", name=\"price_non_negative\"),\n",
    "    )\n",
    "\n",
    "    product_id: Mapped[int] = mapped_column(\n",
    "        ProductColumns.PRODUCT_ID, primary_key=True)\n",
    "    name: Mapped[str] = mapped_column(ProductColumns.NAME, String(255))\n",
    "    description: Mapped[str] = mapped_column(\n",
    "        ProductColumns.DESCRIPTION, String)\n",
    "    price: Mapped[Decimal] = mapped_column(ProductColumns.PRICE, Numeric)\n",
    "    stock: Mapped[int] = mapped_column(ProductColumns.STOCK, Integer)\n",
    "    category_id: Mapped[int] = mapped_column(\n",
    "        CategoryColumns.CATEGORY_ID,\n",
    "        ForeignKey(\"Categorias.CategoriaID\"),\n",
    "        nullable=False,\n",
    "    )\n",
    "    category: Mapped[\"Category\"] = relationship(\"Category\", backref=\"products\")\n",
    "\n",
    "    @classmethod\n",
    "    def from_dict(cls, data: dict):\n",
    "        return cls(\n",
    "            product_id=data.get(\"product_id\"),\n",
    "            name=data.get(\"name\", \"\").strip(),\n",
    "            description=data.get(\"description\", \"\").strip(),\n",
    "            price=Decimal(data.get(\"price\", 0)),\n",
    "            stock=data.get(\"stock\", 0),\n",
    "            category_id=data.get(\"category_id\"),\n",
    "        )\n",
    "\n",
    "```\n",
    "\n",
    "---\n",
    "\n",
    "## 3. Tratamiento de campos semi-estructurados\n",
    "\n",
    "\n",
    "### Consigna\n",
    "\n",
    "- Identificar columnas que contengan datos en formatos como JSON, listas, o concatenaciones delimitadas.\n",
    "\n",
    "- Aplicar técnicas de limpieza y transformación para estructurar adecuadamente la información.\n",
    "\n",
    "\n",
    "### Identificación de columnas con datos semiestructurados\n",
    "\n",
    "| **Tabla.Columna**               | **Descripción y ejemplo**                                                       | **Decisión de transformación**                                                                                                                                                       |\n",
    "|----------------------------------|---------------------------------------------------------------------------------|-------------------------------------------------------------------------------------------------------------------------------------------------------------------------------------|\n",
    "| **Categorias.Descripción**       | Es una descripción con ejemplos de la misma separados por comas, ej: 'Teléfonos, computadoras, accesorios y dispositivos inteligentes' | No se normaliza, dado que parece una descripción y las preguntas de negocio no requieren ese nivel de detalle. Mantiene su formato como texto.                                        |\n",
    "| **MetodosPago.Descripcion**     | Caso similar al de `Categorias.Descripción`, ej: 'Pago con tarjeta de crédito VISA, MasterCard o American Express'                  | No se aplicó transformación, dado que no se requiere conocer marcas de tarjetas, solo la modalidad de pago (ej., 'Tarjeta de Crédito', 'Transferencia Bancaria').                   |\n",
    "\n",
    "---\n",
    "\n",
    "## 4.Análisis exploratorio y evaluación de calidad de datos\n",
    "\n",
    "### Consigna\n",
    "\n",
    "\n",
    "- Explorar la estructura y el contenido de los datos utilizando consultas SQL.\n",
    "\n",
    "- Implementar análisis exploratorio complementario en Python mediante un ORM (como SQLAlchemy o psycopg2).\n",
    "\n",
    "- Detectar valores nulos, duplicados, atípicos y otras inconsistencias.\n",
    "\n",
    "- Identificar claves primarias y foráneas implícitas, atributos principales y variables relevantes para el negocio.\n",
    "\n",
    "- Proponer y documentar acciones de preprocesamiento y corrección de calidad de datos.\n",
    "\n",
    "### Desarrollo de consignas \n",
    "\n",
    "#### 1. Explorar la estructura y el contenido de los datos utilizando consultas SQL\n",
    "En esta fase del análisis, el objetivo principal es obtener una comprensión detallada sobre la estructura y el contenido de las tablas dentro de la base de datos, así como la naturaleza de los datos. Este paso es fundamental porque nos permite identificar las relaciones entre las tablas, la calidad de los datos, y cualquier posible inconsistencia que pueda requerir correcciones antes de realizar análisis más avanzados.\n",
    "\n",
    "\n",
    "- Consultas de exploración\n",
    "\n",
    "Consulta para identificar tablas\n",
    "\n"
   ]
  },
  {
   "cell_type": "code",
   "execution_count": 17,
   "id": "374700d8",
   "metadata": {},
   "outputs": [
    {
     "data": {
      "text/html": [
       "<div>\n",
       "<style scoped>\n",
       "    .dataframe tbody tr th:only-of-type {\n",
       "        vertical-align: middle;\n",
       "    }\n",
       "\n",
       "    .dataframe tbody tr th {\n",
       "        vertical-align: top;\n",
       "    }\n",
       "\n",
       "    .dataframe thead th {\n",
       "        text-align: right;\n",
       "    }\n",
       "</style>\n",
       "<table border=\"1\" class=\"dataframe\">\n",
       "  <thead>\n",
       "    <tr style=\"text-align: right;\">\n",
       "      <th></th>\n",
       "      <th>table_name</th>\n",
       "    </tr>\n",
       "  </thead>\n",
       "  <tbody>\n",
       "    <tr>\n",
       "      <th>0</th>\n",
       "      <td>Categorias</td>\n",
       "    </tr>\n",
       "    <tr>\n",
       "      <th>1</th>\n",
       "      <td>Productos</td>\n",
       "    </tr>\n",
       "    <tr>\n",
       "      <th>2</th>\n",
       "      <td>Usuarios</td>\n",
       "    </tr>\n",
       "    <tr>\n",
       "      <th>3</th>\n",
       "      <td>Ordenes</td>\n",
       "    </tr>\n",
       "    <tr>\n",
       "      <th>4</th>\n",
       "      <td>DetalleOrdenes</td>\n",
       "    </tr>\n",
       "    <tr>\n",
       "      <th>5</th>\n",
       "      <td>DireccionesEnvio</td>\n",
       "    </tr>\n",
       "    <tr>\n",
       "      <th>6</th>\n",
       "      <td>Carrito</td>\n",
       "    </tr>\n",
       "    <tr>\n",
       "      <th>7</th>\n",
       "      <td>OrdenesMetodosPago</td>\n",
       "    </tr>\n",
       "    <tr>\n",
       "      <th>8</th>\n",
       "      <td>MetodosPago</td>\n",
       "    </tr>\n",
       "    <tr>\n",
       "      <th>9</th>\n",
       "      <td>ReseñasProductos</td>\n",
       "    </tr>\n",
       "    <tr>\n",
       "      <th>10</th>\n",
       "      <td>HistorialPagos</td>\n",
       "    </tr>\n",
       "  </tbody>\n",
       "</table>\n",
       "</div>"
      ],
      "text/plain": [
       "            table_name\n",
       "0           Categorias\n",
       "1            Productos\n",
       "2             Usuarios\n",
       "3              Ordenes\n",
       "4       DetalleOrdenes\n",
       "5     DireccionesEnvio\n",
       "6              Carrito\n",
       "7   OrdenesMetodosPago\n",
       "8          MetodosPago\n",
       "9     ReseñasProductos\n",
       "10      HistorialPagos"
      ]
     },
     "execution_count": 17,
     "metadata": {},
     "output_type": "execute_result"
    }
   ],
   "source": [
    "from app.utils import postgres_utils\n",
    "\n",
    "query = \"\"\"\n",
    "SELECT table_name\n",
    "FROM information_schema.tables\n",
    "WHERE table_schema = 'public';\n",
    "\"\"\"\n",
    "tables = postgres_utils.run_query(query)\n",
    "\n",
    "tables"
   ]
  },
  {
   "cell_type": "markdown",
   "id": "f3acd9fb",
   "metadata": {},
   "source": [
    "Consulta de la estructura de las tablas , pra conocer columnas y tipos de datos de las mismas."
   ]
  },
  {
   "cell_type": "code",
   "execution_count": 2,
   "id": "8b986f01",
   "metadata": {},
   "outputs": [
    {
     "data": {
      "text/html": [
       "<div>\n",
       "<style scoped>\n",
       "    .dataframe tbody tr th:only-of-type {\n",
       "        vertical-align: middle;\n",
       "    }\n",
       "\n",
       "    .dataframe tbody tr th {\n",
       "        vertical-align: top;\n",
       "    }\n",
       "\n",
       "    .dataframe thead th {\n",
       "        text-align: right;\n",
       "    }\n",
       "</style>\n",
       "<table border=\"1\" class=\"dataframe\">\n",
       "  <thead>\n",
       "    <tr style=\"text-align: right;\">\n",
       "      <th></th>\n",
       "      <th>table_name</th>\n",
       "      <th>column_name</th>\n",
       "      <th>data_type</th>\n",
       "    </tr>\n",
       "  </thead>\n",
       "  <tbody>\n",
       "    <tr>\n",
       "      <th>0</th>\n",
       "      <td>Carrito</td>\n",
       "      <td>CarritoID</td>\n",
       "      <td>integer</td>\n",
       "    </tr>\n",
       "    <tr>\n",
       "      <th>1</th>\n",
       "      <td>Carrito</td>\n",
       "      <td>UsuarioID</td>\n",
       "      <td>integer</td>\n",
       "    </tr>\n",
       "    <tr>\n",
       "      <th>2</th>\n",
       "      <td>Carrito</td>\n",
       "      <td>ProductoID</td>\n",
       "      <td>integer</td>\n",
       "    </tr>\n",
       "    <tr>\n",
       "      <th>3</th>\n",
       "      <td>Carrito</td>\n",
       "      <td>Cantidad</td>\n",
       "      <td>integer</td>\n",
       "    </tr>\n",
       "    <tr>\n",
       "      <th>4</th>\n",
       "      <td>Carrito</td>\n",
       "      <td>FechaAgregado</td>\n",
       "      <td>timestamp without time zone</td>\n",
       "    </tr>\n",
       "    <tr>\n",
       "      <th>5</th>\n",
       "      <td>Categorias</td>\n",
       "      <td>CategoriaID</td>\n",
       "      <td>integer</td>\n",
       "    </tr>\n",
       "    <tr>\n",
       "      <th>6</th>\n",
       "      <td>Categorias</td>\n",
       "      <td>Nombre</td>\n",
       "      <td>character varying</td>\n",
       "    </tr>\n",
       "    <tr>\n",
       "      <th>7</th>\n",
       "      <td>Categorias</td>\n",
       "      <td>Descripcion</td>\n",
       "      <td>character varying</td>\n",
       "    </tr>\n",
       "    <tr>\n",
       "      <th>8</th>\n",
       "      <td>DetalleOrdenes</td>\n",
       "      <td>DetalleID</td>\n",
       "      <td>integer</td>\n",
       "    </tr>\n",
       "    <tr>\n",
       "      <th>9</th>\n",
       "      <td>DetalleOrdenes</td>\n",
       "      <td>OrdenID</td>\n",
       "      <td>integer</td>\n",
       "    </tr>\n",
       "    <tr>\n",
       "      <th>10</th>\n",
       "      <td>DetalleOrdenes</td>\n",
       "      <td>ProductoID</td>\n",
       "      <td>integer</td>\n",
       "    </tr>\n",
       "    <tr>\n",
       "      <th>11</th>\n",
       "      <td>DetalleOrdenes</td>\n",
       "      <td>Cantidad</td>\n",
       "      <td>integer</td>\n",
       "    </tr>\n",
       "    <tr>\n",
       "      <th>12</th>\n",
       "      <td>DetalleOrdenes</td>\n",
       "      <td>PrecioUnitario</td>\n",
       "      <td>numeric</td>\n",
       "    </tr>\n",
       "    <tr>\n",
       "      <th>13</th>\n",
       "      <td>DireccionesEnvio</td>\n",
       "      <td>DireccionID</td>\n",
       "      <td>integer</td>\n",
       "    </tr>\n",
       "    <tr>\n",
       "      <th>14</th>\n",
       "      <td>DireccionesEnvio</td>\n",
       "      <td>UsuarioID</td>\n",
       "      <td>integer</td>\n",
       "    </tr>\n",
       "    <tr>\n",
       "      <th>15</th>\n",
       "      <td>DireccionesEnvio</td>\n",
       "      <td>Calle</td>\n",
       "      <td>character varying</td>\n",
       "    </tr>\n",
       "    <tr>\n",
       "      <th>16</th>\n",
       "      <td>DireccionesEnvio</td>\n",
       "      <td>Ciudad</td>\n",
       "      <td>character varying</td>\n",
       "    </tr>\n",
       "    <tr>\n",
       "      <th>17</th>\n",
       "      <td>DireccionesEnvio</td>\n",
       "      <td>Departamento</td>\n",
       "      <td>character varying</td>\n",
       "    </tr>\n",
       "    <tr>\n",
       "      <th>18</th>\n",
       "      <td>DireccionesEnvio</td>\n",
       "      <td>Provincia</td>\n",
       "      <td>character varying</td>\n",
       "    </tr>\n",
       "    <tr>\n",
       "      <th>19</th>\n",
       "      <td>DireccionesEnvio</td>\n",
       "      <td>Distrito</td>\n",
       "      <td>character varying</td>\n",
       "    </tr>\n",
       "    <tr>\n",
       "      <th>20</th>\n",
       "      <td>DireccionesEnvio</td>\n",
       "      <td>Estado</td>\n",
       "      <td>character varying</td>\n",
       "    </tr>\n",
       "    <tr>\n",
       "      <th>21</th>\n",
       "      <td>DireccionesEnvio</td>\n",
       "      <td>CodigoPostal</td>\n",
       "      <td>character varying</td>\n",
       "    </tr>\n",
       "    <tr>\n",
       "      <th>22</th>\n",
       "      <td>DireccionesEnvio</td>\n",
       "      <td>Pais</td>\n",
       "      <td>character varying</td>\n",
       "    </tr>\n",
       "    <tr>\n",
       "      <th>23</th>\n",
       "      <td>HistorialPagos</td>\n",
       "      <td>PagoID</td>\n",
       "      <td>integer</td>\n",
       "    </tr>\n",
       "    <tr>\n",
       "      <th>24</th>\n",
       "      <td>HistorialPagos</td>\n",
       "      <td>OrdenID</td>\n",
       "      <td>integer</td>\n",
       "    </tr>\n",
       "    <tr>\n",
       "      <th>25</th>\n",
       "      <td>HistorialPagos</td>\n",
       "      <td>MetodoPagoID</td>\n",
       "      <td>integer</td>\n",
       "    </tr>\n",
       "    <tr>\n",
       "      <th>26</th>\n",
       "      <td>HistorialPagos</td>\n",
       "      <td>Monto</td>\n",
       "      <td>numeric</td>\n",
       "    </tr>\n",
       "    <tr>\n",
       "      <th>27</th>\n",
       "      <td>HistorialPagos</td>\n",
       "      <td>FechaPago</td>\n",
       "      <td>timestamp without time zone</td>\n",
       "    </tr>\n",
       "    <tr>\n",
       "      <th>28</th>\n",
       "      <td>HistorialPagos</td>\n",
       "      <td>EstadoPago</td>\n",
       "      <td>character varying</td>\n",
       "    </tr>\n",
       "    <tr>\n",
       "      <th>29</th>\n",
       "      <td>MetodosPago</td>\n",
       "      <td>MetodoPagoID</td>\n",
       "      <td>integer</td>\n",
       "    </tr>\n",
       "    <tr>\n",
       "      <th>30</th>\n",
       "      <td>MetodosPago</td>\n",
       "      <td>Nombre</td>\n",
       "      <td>character varying</td>\n",
       "    </tr>\n",
       "    <tr>\n",
       "      <th>31</th>\n",
       "      <td>MetodosPago</td>\n",
       "      <td>Descripcion</td>\n",
       "      <td>character varying</td>\n",
       "    </tr>\n",
       "    <tr>\n",
       "      <th>32</th>\n",
       "      <td>Ordenes</td>\n",
       "      <td>OrdenID</td>\n",
       "      <td>integer</td>\n",
       "    </tr>\n",
       "    <tr>\n",
       "      <th>33</th>\n",
       "      <td>Ordenes</td>\n",
       "      <td>UsuarioID</td>\n",
       "      <td>integer</td>\n",
       "    </tr>\n",
       "    <tr>\n",
       "      <th>34</th>\n",
       "      <td>Ordenes</td>\n",
       "      <td>FechaOrden</td>\n",
       "      <td>timestamp without time zone</td>\n",
       "    </tr>\n",
       "    <tr>\n",
       "      <th>35</th>\n",
       "      <td>Ordenes</td>\n",
       "      <td>Total</td>\n",
       "      <td>numeric</td>\n",
       "    </tr>\n",
       "    <tr>\n",
       "      <th>36</th>\n",
       "      <td>Ordenes</td>\n",
       "      <td>Estado</td>\n",
       "      <td>character varying</td>\n",
       "    </tr>\n",
       "    <tr>\n",
       "      <th>37</th>\n",
       "      <td>OrdenesMetodosPago</td>\n",
       "      <td>OrdenMetodoID</td>\n",
       "      <td>integer</td>\n",
       "    </tr>\n",
       "    <tr>\n",
       "      <th>38</th>\n",
       "      <td>OrdenesMetodosPago</td>\n",
       "      <td>OrdenID</td>\n",
       "      <td>integer</td>\n",
       "    </tr>\n",
       "    <tr>\n",
       "      <th>39</th>\n",
       "      <td>OrdenesMetodosPago</td>\n",
       "      <td>MetodoPagoID</td>\n",
       "      <td>integer</td>\n",
       "    </tr>\n",
       "    <tr>\n",
       "      <th>40</th>\n",
       "      <td>OrdenesMetodosPago</td>\n",
       "      <td>MontoPagado</td>\n",
       "      <td>numeric</td>\n",
       "    </tr>\n",
       "    <tr>\n",
       "      <th>41</th>\n",
       "      <td>Productos</td>\n",
       "      <td>ProductoID</td>\n",
       "      <td>integer</td>\n",
       "    </tr>\n",
       "    <tr>\n",
       "      <th>42</th>\n",
       "      <td>Productos</td>\n",
       "      <td>Nombre</td>\n",
       "      <td>character varying</td>\n",
       "    </tr>\n",
       "    <tr>\n",
       "      <th>43</th>\n",
       "      <td>Productos</td>\n",
       "      <td>Descripcion</td>\n",
       "      <td>text</td>\n",
       "    </tr>\n",
       "    <tr>\n",
       "      <th>44</th>\n",
       "      <td>Productos</td>\n",
       "      <td>Precio</td>\n",
       "      <td>numeric</td>\n",
       "    </tr>\n",
       "    <tr>\n",
       "      <th>45</th>\n",
       "      <td>Productos</td>\n",
       "      <td>Stock</td>\n",
       "      <td>integer</td>\n",
       "    </tr>\n",
       "    <tr>\n",
       "      <th>46</th>\n",
       "      <td>Productos</td>\n",
       "      <td>CategoriaID</td>\n",
       "      <td>integer</td>\n",
       "    </tr>\n",
       "    <tr>\n",
       "      <th>47</th>\n",
       "      <td>ReseñasProductos</td>\n",
       "      <td>ReseñaID</td>\n",
       "      <td>integer</td>\n",
       "    </tr>\n",
       "    <tr>\n",
       "      <th>48</th>\n",
       "      <td>ReseñasProductos</td>\n",
       "      <td>UsuarioID</td>\n",
       "      <td>integer</td>\n",
       "    </tr>\n",
       "    <tr>\n",
       "      <th>49</th>\n",
       "      <td>ReseñasProductos</td>\n",
       "      <td>ProductoID</td>\n",
       "      <td>integer</td>\n",
       "    </tr>\n",
       "    <tr>\n",
       "      <th>50</th>\n",
       "      <td>ReseñasProductos</td>\n",
       "      <td>Calificacion</td>\n",
       "      <td>integer</td>\n",
       "    </tr>\n",
       "    <tr>\n",
       "      <th>51</th>\n",
       "      <td>ReseñasProductos</td>\n",
       "      <td>Comentario</td>\n",
       "      <td>text</td>\n",
       "    </tr>\n",
       "    <tr>\n",
       "      <th>52</th>\n",
       "      <td>ReseñasProductos</td>\n",
       "      <td>Fecha</td>\n",
       "      <td>timestamp without time zone</td>\n",
       "    </tr>\n",
       "    <tr>\n",
       "      <th>53</th>\n",
       "      <td>Usuarios</td>\n",
       "      <td>UsuarioID</td>\n",
       "      <td>integer</td>\n",
       "    </tr>\n",
       "    <tr>\n",
       "      <th>54</th>\n",
       "      <td>Usuarios</td>\n",
       "      <td>Nombre</td>\n",
       "      <td>character varying</td>\n",
       "    </tr>\n",
       "    <tr>\n",
       "      <th>55</th>\n",
       "      <td>Usuarios</td>\n",
       "      <td>Apellido</td>\n",
       "      <td>character varying</td>\n",
       "    </tr>\n",
       "    <tr>\n",
       "      <th>56</th>\n",
       "      <td>Usuarios</td>\n",
       "      <td>DNI</td>\n",
       "      <td>character varying</td>\n",
       "    </tr>\n",
       "    <tr>\n",
       "      <th>57</th>\n",
       "      <td>Usuarios</td>\n",
       "      <td>Email</td>\n",
       "      <td>character varying</td>\n",
       "    </tr>\n",
       "    <tr>\n",
       "      <th>58</th>\n",
       "      <td>Usuarios</td>\n",
       "      <td>Contraseña</td>\n",
       "      <td>character varying</td>\n",
       "    </tr>\n",
       "    <tr>\n",
       "      <th>59</th>\n",
       "      <td>Usuarios</td>\n",
       "      <td>FechaRegistro</td>\n",
       "      <td>timestamp without time zone</td>\n",
       "    </tr>\n",
       "  </tbody>\n",
       "</table>\n",
       "</div>"
      ],
      "text/plain": [
       "            table_name     column_name                    data_type\n",
       "0              Carrito       CarritoID                      integer\n",
       "1              Carrito       UsuarioID                      integer\n",
       "2              Carrito      ProductoID                      integer\n",
       "3              Carrito        Cantidad                      integer\n",
       "4              Carrito   FechaAgregado  timestamp without time zone\n",
       "5           Categorias     CategoriaID                      integer\n",
       "6           Categorias          Nombre            character varying\n",
       "7           Categorias     Descripcion            character varying\n",
       "8       DetalleOrdenes       DetalleID                      integer\n",
       "9       DetalleOrdenes         OrdenID                      integer\n",
       "10      DetalleOrdenes      ProductoID                      integer\n",
       "11      DetalleOrdenes        Cantidad                      integer\n",
       "12      DetalleOrdenes  PrecioUnitario                      numeric\n",
       "13    DireccionesEnvio     DireccionID                      integer\n",
       "14    DireccionesEnvio       UsuarioID                      integer\n",
       "15    DireccionesEnvio           Calle            character varying\n",
       "16    DireccionesEnvio          Ciudad            character varying\n",
       "17    DireccionesEnvio    Departamento            character varying\n",
       "18    DireccionesEnvio       Provincia            character varying\n",
       "19    DireccionesEnvio        Distrito            character varying\n",
       "20    DireccionesEnvio          Estado            character varying\n",
       "21    DireccionesEnvio    CodigoPostal            character varying\n",
       "22    DireccionesEnvio            Pais            character varying\n",
       "23      HistorialPagos          PagoID                      integer\n",
       "24      HistorialPagos         OrdenID                      integer\n",
       "25      HistorialPagos    MetodoPagoID                      integer\n",
       "26      HistorialPagos           Monto                      numeric\n",
       "27      HistorialPagos       FechaPago  timestamp without time zone\n",
       "28      HistorialPagos      EstadoPago            character varying\n",
       "29         MetodosPago    MetodoPagoID                      integer\n",
       "30         MetodosPago          Nombre            character varying\n",
       "31         MetodosPago     Descripcion            character varying\n",
       "32             Ordenes         OrdenID                      integer\n",
       "33             Ordenes       UsuarioID                      integer\n",
       "34             Ordenes      FechaOrden  timestamp without time zone\n",
       "35             Ordenes           Total                      numeric\n",
       "36             Ordenes          Estado            character varying\n",
       "37  OrdenesMetodosPago   OrdenMetodoID                      integer\n",
       "38  OrdenesMetodosPago         OrdenID                      integer\n",
       "39  OrdenesMetodosPago    MetodoPagoID                      integer\n",
       "40  OrdenesMetodosPago     MontoPagado                      numeric\n",
       "41           Productos      ProductoID                      integer\n",
       "42           Productos          Nombre            character varying\n",
       "43           Productos     Descripcion                         text\n",
       "44           Productos          Precio                      numeric\n",
       "45           Productos           Stock                      integer\n",
       "46           Productos     CategoriaID                      integer\n",
       "47    ReseñasProductos        ReseñaID                      integer\n",
       "48    ReseñasProductos       UsuarioID                      integer\n",
       "49    ReseñasProductos      ProductoID                      integer\n",
       "50    ReseñasProductos    Calificacion                      integer\n",
       "51    ReseñasProductos      Comentario                         text\n",
       "52    ReseñasProductos           Fecha  timestamp without time zone\n",
       "53            Usuarios       UsuarioID                      integer\n",
       "54            Usuarios          Nombre            character varying\n",
       "55            Usuarios        Apellido            character varying\n",
       "56            Usuarios             DNI            character varying\n",
       "57            Usuarios           Email            character varying\n",
       "58            Usuarios      Contraseña            character varying\n",
       "59            Usuarios   FechaRegistro  timestamp without time zone"
      ]
     },
     "execution_count": 2,
     "metadata": {},
     "output_type": "execute_result"
    }
   ],
   "source": [
    "\n",
    "from app.utils import postgres_utils\n",
    "\n",
    "query_tables_structure = \"\"\"\n",
    "        SELECT table_name, column_name, data_type\n",
    "        FROM information_schema.columns\n",
    "        WHERE table_schema = 'public'\n",
    "        ORDER BY table_name, ordinal_position;\n",
    "    \"\"\"\n",
    "\n",
    "df_tables = postgres_utils.run_query(query_tables_structure)\n",
    "\n",
    "df_tables"
   ]
  },
  {
   "cell_type": "markdown",
   "id": "a52087a5",
   "metadata": {},
   "source": [
    "Consulta para obtener primeros registros de cada tabla:"
   ]
  },
  {
   "cell_type": "code",
   "execution_count": 3,
   "id": "7a51cb1b",
   "metadata": {},
   "outputs": [
    {
     "data": {
      "text/html": [
       "<div>\n",
       "<style scoped>\n",
       "    .dataframe tbody tr th:only-of-type {\n",
       "        vertical-align: middle;\n",
       "    }\n",
       "\n",
       "    .dataframe tbody tr th {\n",
       "        vertical-align: top;\n",
       "    }\n",
       "\n",
       "    .dataframe thead th {\n",
       "        text-align: right;\n",
       "    }\n",
       "</style>\n",
       "<table border=\"1\" class=\"dataframe\">\n",
       "  <thead>\n",
       "    <tr style=\"text-align: right;\">\n",
       "      <th></th>\n",
       "      <th>CategoriaID</th>\n",
       "      <th>Nombre</th>\n",
       "      <th>Descripcion</th>\n",
       "    </tr>\n",
       "  </thead>\n",
       "  <tbody>\n",
       "    <tr>\n",
       "      <th>0</th>\n",
       "      <td>1</td>\n",
       "      <td>Electrónica</td>\n",
       "      <td>Teléfonos, computadoras, accesorios y disposit...</td>\n",
       "    </tr>\n",
       "    <tr>\n",
       "      <th>1</th>\n",
       "      <td>2</td>\n",
       "      <td>Moda</td>\n",
       "      <td>Ropa, calzado, bolsos y accesorios para hombre...</td>\n",
       "    </tr>\n",
       "    <tr>\n",
       "      <th>2</th>\n",
       "      <td>3</td>\n",
       "      <td>Hogar y Cocina</td>\n",
       "      <td>Muebles, electrodomésticos, utensilios y decor...</td>\n",
       "    </tr>\n",
       "    <tr>\n",
       "      <th>3</th>\n",
       "      <td>4</td>\n",
       "      <td>Deportes y Aire Libre</td>\n",
       "      <td>Equipamiento, ropa deportiva y artículos para ...</td>\n",
       "    </tr>\n",
       "    <tr>\n",
       "      <th>4</th>\n",
       "      <td>5</td>\n",
       "      <td>Belleza y Cuidado Personal</td>\n",
       "      <td>Cosméticos, productos para el cabello, piel y ...</td>\n",
       "    </tr>\n",
       "  </tbody>\n",
       "</table>\n",
       "</div>"
      ],
      "text/plain": [
       "   CategoriaID                      Nombre  \\\n",
       "0            1                 Electrónica   \n",
       "1            2                        Moda   \n",
       "2            3              Hogar y Cocina   \n",
       "3            4       Deportes y Aire Libre   \n",
       "4            5  Belleza y Cuidado Personal   \n",
       "\n",
       "                                         Descripcion  \n",
       "0  Teléfonos, computadoras, accesorios y disposit...  \n",
       "1  Ropa, calzado, bolsos y accesorios para hombre...  \n",
       "2  Muebles, electrodomésticos, utensilios y decor...  \n",
       "3  Equipamiento, ropa deportiva y artículos para ...  \n",
       "4  Cosméticos, productos para el cabello, piel y ...  "
      ]
     },
     "metadata": {},
     "output_type": "display_data"
    },
    {
     "data": {
      "text/html": [
       "<div>\n",
       "<style scoped>\n",
       "    .dataframe tbody tr th:only-of-type {\n",
       "        vertical-align: middle;\n",
       "    }\n",
       "\n",
       "    .dataframe tbody tr th {\n",
       "        vertical-align: top;\n",
       "    }\n",
       "\n",
       "    .dataframe thead th {\n",
       "        text-align: right;\n",
       "    }\n",
       "</style>\n",
       "<table border=\"1\" class=\"dataframe\">\n",
       "  <thead>\n",
       "    <tr style=\"text-align: right;\">\n",
       "      <th></th>\n",
       "      <th>ProductoID</th>\n",
       "      <th>Nombre</th>\n",
       "      <th>Descripcion</th>\n",
       "      <th>Precio</th>\n",
       "      <th>Stock</th>\n",
       "      <th>CategoriaID</th>\n",
       "    </tr>\n",
       "  </thead>\n",
       "  <tbody>\n",
       "    <tr>\n",
       "      <th>0</th>\n",
       "      <td>1</td>\n",
       "      <td>Smartphone Galaxy A54</td>\n",
       "      <td>Teléfono inteligente con pantalla AMOLED y cám...</td>\n",
       "      <td>349.99</td>\n",
       "      <td>50</td>\n",
       "      <td>1</td>\n",
       "    </tr>\n",
       "    <tr>\n",
       "      <th>1</th>\n",
       "      <td>2</td>\n",
       "      <td>Laptop Dell Inspiron 15</td>\n",
       "      <td>Laptop para trabajo y estudio con procesador I...</td>\n",
       "      <td>799.00</td>\n",
       "      <td>30</td>\n",
       "      <td>1</td>\n",
       "    </tr>\n",
       "    <tr>\n",
       "      <th>2</th>\n",
       "      <td>3</td>\n",
       "      <td>Auriculares Bluetooth Sony</td>\n",
       "      <td>Auriculares inalámbricos con cancelación de ru...</td>\n",
       "      <td>129.99</td>\n",
       "      <td>100</td>\n",
       "      <td>1</td>\n",
       "    </tr>\n",
       "    <tr>\n",
       "      <th>3</th>\n",
       "      <td>4</td>\n",
       "      <td>Camiseta Básica Hombre</td>\n",
       "      <td>Camiseta de algodón 100% disponible en varias ...</td>\n",
       "      <td>14.99</td>\n",
       "      <td>200</td>\n",
       "      <td>2</td>\n",
       "    </tr>\n",
       "    <tr>\n",
       "      <th>4</th>\n",
       "      <td>5</td>\n",
       "      <td>Jeans Skinny Mujer</td>\n",
       "      <td>Jeans corte skinny de mezclilla azul.</td>\n",
       "      <td>39.99</td>\n",
       "      <td>150</td>\n",
       "      <td>2</td>\n",
       "    </tr>\n",
       "  </tbody>\n",
       "</table>\n",
       "</div>"
      ],
      "text/plain": [
       "   ProductoID                      Nombre  \\\n",
       "0           1       Smartphone Galaxy A54   \n",
       "1           2     Laptop Dell Inspiron 15   \n",
       "2           3  Auriculares Bluetooth Sony   \n",
       "3           4      Camiseta Básica Hombre   \n",
       "4           5          Jeans Skinny Mujer   \n",
       "\n",
       "                                         Descripcion  Precio  Stock  \\\n",
       "0  Teléfono inteligente con pantalla AMOLED y cám...  349.99     50   \n",
       "1  Laptop para trabajo y estudio con procesador I...  799.00     30   \n",
       "2  Auriculares inalámbricos con cancelación de ru...  129.99    100   \n",
       "3  Camiseta de algodón 100% disponible en varias ...   14.99    200   \n",
       "4              Jeans corte skinny de mezclilla azul.   39.99    150   \n",
       "\n",
       "   CategoriaID  \n",
       "0            1  \n",
       "1            1  \n",
       "2            1  \n",
       "3            2  \n",
       "4            2  "
      ]
     },
     "metadata": {},
     "output_type": "display_data"
    },
    {
     "data": {
      "text/html": [
       "<div>\n",
       "<style scoped>\n",
       "    .dataframe tbody tr th:only-of-type {\n",
       "        vertical-align: middle;\n",
       "    }\n",
       "\n",
       "    .dataframe tbody tr th {\n",
       "        vertical-align: top;\n",
       "    }\n",
       "\n",
       "    .dataframe thead th {\n",
       "        text-align: right;\n",
       "    }\n",
       "</style>\n",
       "<table border=\"1\" class=\"dataframe\">\n",
       "  <thead>\n",
       "    <tr style=\"text-align: right;\">\n",
       "      <th></th>\n",
       "      <th>UsuarioID</th>\n",
       "      <th>Nombre</th>\n",
       "      <th>Apellido</th>\n",
       "      <th>DNI</th>\n",
       "      <th>Email</th>\n",
       "      <th>Contraseña</th>\n",
       "      <th>FechaRegistro</th>\n",
       "    </tr>\n",
       "  </thead>\n",
       "  <tbody>\n",
       "    <tr>\n",
       "      <th>0</th>\n",
       "      <td>1</td>\n",
       "      <td>Encarna</td>\n",
       "      <td>Donaire</td>\n",
       "      <td>49877134</td>\n",
       "      <td>encarna.donaire1@correo.com</td>\n",
       "      <td>Contraseña123</td>\n",
       "      <td>2025-07-21 03:28:30.430114</td>\n",
       "    </tr>\n",
       "    <tr>\n",
       "      <th>1</th>\n",
       "      <td>2</td>\n",
       "      <td>Jose Ignacio</td>\n",
       "      <td>Canales</td>\n",
       "      <td>98778810</td>\n",
       "      <td>jose ignacio.canales2@correo.com</td>\n",
       "      <td>Contraseña123</td>\n",
       "      <td>2025-07-21 03:28:30.430114</td>\n",
       "    </tr>\n",
       "    <tr>\n",
       "      <th>2</th>\n",
       "      <td>3</td>\n",
       "      <td>José</td>\n",
       "      <td>Sebastián</td>\n",
       "      <td>80095714</td>\n",
       "      <td>josé.sebastián3@correo.com</td>\n",
       "      <td>Contraseña123</td>\n",
       "      <td>2025-07-21 03:28:30.430114</td>\n",
       "    </tr>\n",
       "    <tr>\n",
       "      <th>3</th>\n",
       "      <td>4</td>\n",
       "      <td>Priscila</td>\n",
       "      <td>Vilar</td>\n",
       "      <td>94128750</td>\n",
       "      <td>priscila.vilar4@correo.com</td>\n",
       "      <td>Contraseña123</td>\n",
       "      <td>2025-07-21 03:28:30.430114</td>\n",
       "    </tr>\n",
       "    <tr>\n",
       "      <th>4</th>\n",
       "      <td>5</td>\n",
       "      <td>Epifanio</td>\n",
       "      <td>Ríos</td>\n",
       "      <td>62958342</td>\n",
       "      <td>epifanio.ríos5@correo.com</td>\n",
       "      <td>Contraseña123</td>\n",
       "      <td>2025-07-21 03:28:30.430114</td>\n",
       "    </tr>\n",
       "  </tbody>\n",
       "</table>\n",
       "</div>"
      ],
      "text/plain": [
       "   UsuarioID        Nombre   Apellido       DNI  \\\n",
       "0          1       Encarna    Donaire  49877134   \n",
       "1          2  Jose Ignacio    Canales  98778810   \n",
       "2          3          José  Sebastián  80095714   \n",
       "3          4      Priscila      Vilar  94128750   \n",
       "4          5      Epifanio       Ríos  62958342   \n",
       "\n",
       "                              Email     Contraseña              FechaRegistro  \n",
       "0       encarna.donaire1@correo.com  Contraseña123 2025-07-21 03:28:30.430114  \n",
       "1  jose ignacio.canales2@correo.com  Contraseña123 2025-07-21 03:28:30.430114  \n",
       "2        josé.sebastián3@correo.com  Contraseña123 2025-07-21 03:28:30.430114  \n",
       "3        priscila.vilar4@correo.com  Contraseña123 2025-07-21 03:28:30.430114  \n",
       "4         epifanio.ríos5@correo.com  Contraseña123 2025-07-21 03:28:30.430114  "
      ]
     },
     "metadata": {},
     "output_type": "display_data"
    },
    {
     "data": {
      "text/html": [
       "<div>\n",
       "<style scoped>\n",
       "    .dataframe tbody tr th:only-of-type {\n",
       "        vertical-align: middle;\n",
       "    }\n",
       "\n",
       "    .dataframe tbody tr th {\n",
       "        vertical-align: top;\n",
       "    }\n",
       "\n",
       "    .dataframe thead th {\n",
       "        text-align: right;\n",
       "    }\n",
       "</style>\n",
       "<table border=\"1\" class=\"dataframe\">\n",
       "  <thead>\n",
       "    <tr style=\"text-align: right;\">\n",
       "      <th></th>\n",
       "      <th>OrdenID</th>\n",
       "      <th>UsuarioID</th>\n",
       "      <th>FechaOrden</th>\n",
       "      <th>Total</th>\n",
       "      <th>Estado</th>\n",
       "    </tr>\n",
       "  </thead>\n",
       "  <tbody>\n",
       "    <tr>\n",
       "      <th>0</th>\n",
       "      <td>1</td>\n",
       "      <td>153</td>\n",
       "      <td>2024-09-09 09:10:27</td>\n",
       "      <td>393.81</td>\n",
       "      <td>Enviado</td>\n",
       "    </tr>\n",
       "    <tr>\n",
       "      <th>1</th>\n",
       "      <td>2</td>\n",
       "      <td>810</td>\n",
       "      <td>2024-09-29 09:10:27</td>\n",
       "      <td>918.85</td>\n",
       "      <td>Completado</td>\n",
       "    </tr>\n",
       "    <tr>\n",
       "      <th>2</th>\n",
       "      <td>3</td>\n",
       "      <td>404</td>\n",
       "      <td>2024-11-03 09:10:27</td>\n",
       "      <td>391.29</td>\n",
       "      <td>Pendiente</td>\n",
       "    </tr>\n",
       "    <tr>\n",
       "      <th>3</th>\n",
       "      <td>4</td>\n",
       "      <td>52</td>\n",
       "      <td>2024-09-14 09:10:27</td>\n",
       "      <td>250.03</td>\n",
       "      <td>Cancelado</td>\n",
       "    </tr>\n",
       "    <tr>\n",
       "      <th>4</th>\n",
       "      <td>5</td>\n",
       "      <td>811</td>\n",
       "      <td>2025-04-11 09:10:27</td>\n",
       "      <td>983.13</td>\n",
       "      <td>Completado</td>\n",
       "    </tr>\n",
       "  </tbody>\n",
       "</table>\n",
       "</div>"
      ],
      "text/plain": [
       "   OrdenID  UsuarioID          FechaOrden   Total      Estado\n",
       "0        1        153 2024-09-09 09:10:27  393.81     Enviado\n",
       "1        2        810 2024-09-29 09:10:27  918.85  Completado\n",
       "2        3        404 2024-11-03 09:10:27  391.29   Pendiente\n",
       "3        4         52 2024-09-14 09:10:27  250.03   Cancelado\n",
       "4        5        811 2025-04-11 09:10:27  983.13  Completado"
      ]
     },
     "metadata": {},
     "output_type": "display_data"
    },
    {
     "data": {
      "text/html": [
       "<div>\n",
       "<style scoped>\n",
       "    .dataframe tbody tr th:only-of-type {\n",
       "        vertical-align: middle;\n",
       "    }\n",
       "\n",
       "    .dataframe tbody tr th {\n",
       "        vertical-align: top;\n",
       "    }\n",
       "\n",
       "    .dataframe thead th {\n",
       "        text-align: right;\n",
       "    }\n",
       "</style>\n",
       "<table border=\"1\" class=\"dataframe\">\n",
       "  <thead>\n",
       "    <tr style=\"text-align: right;\">\n",
       "      <th></th>\n",
       "      <th>DetalleID</th>\n",
       "      <th>OrdenID</th>\n",
       "      <th>ProductoID</th>\n",
       "      <th>Cantidad</th>\n",
       "      <th>PrecioUnitario</th>\n",
       "    </tr>\n",
       "  </thead>\n",
       "  <tbody>\n",
       "    <tr>\n",
       "      <th>0</th>\n",
       "      <td>1</td>\n",
       "      <td>833</td>\n",
       "      <td>33</td>\n",
       "      <td>1</td>\n",
       "      <td>425.26</td>\n",
       "    </tr>\n",
       "    <tr>\n",
       "      <th>1</th>\n",
       "      <td>2</td>\n",
       "      <td>657</td>\n",
       "      <td>21</td>\n",
       "      <td>4</td>\n",
       "      <td>307.13</td>\n",
       "    </tr>\n",
       "    <tr>\n",
       "      <th>2</th>\n",
       "      <td>3</td>\n",
       "      <td>911</td>\n",
       "      <td>15</td>\n",
       "      <td>4</td>\n",
       "      <td>444.75</td>\n",
       "    </tr>\n",
       "    <tr>\n",
       "      <th>3</th>\n",
       "      <td>4</td>\n",
       "      <td>818</td>\n",
       "      <td>26</td>\n",
       "      <td>5</td>\n",
       "      <td>346.24</td>\n",
       "    </tr>\n",
       "    <tr>\n",
       "      <th>4</th>\n",
       "      <td>5</td>\n",
       "      <td>695</td>\n",
       "      <td>12</td>\n",
       "      <td>3</td>\n",
       "      <td>155.05</td>\n",
       "    </tr>\n",
       "  </tbody>\n",
       "</table>\n",
       "</div>"
      ],
      "text/plain": [
       "   DetalleID  OrdenID  ProductoID  Cantidad  PrecioUnitario\n",
       "0          1      833          33         1          425.26\n",
       "1          2      657          21         4          307.13\n",
       "2          3      911          15         4          444.75\n",
       "3          4      818          26         5          346.24\n",
       "4          5      695          12         3          155.05"
      ]
     },
     "metadata": {},
     "output_type": "display_data"
    },
    {
     "data": {
      "text/html": [
       "<div>\n",
       "<style scoped>\n",
       "    .dataframe tbody tr th:only-of-type {\n",
       "        vertical-align: middle;\n",
       "    }\n",
       "\n",
       "    .dataframe tbody tr th {\n",
       "        vertical-align: top;\n",
       "    }\n",
       "\n",
       "    .dataframe thead th {\n",
       "        text-align: right;\n",
       "    }\n",
       "</style>\n",
       "<table border=\"1\" class=\"dataframe\">\n",
       "  <thead>\n",
       "    <tr style=\"text-align: right;\">\n",
       "      <th></th>\n",
       "      <th>DireccionID</th>\n",
       "      <th>UsuarioID</th>\n",
       "      <th>Calle</th>\n",
       "      <th>Ciudad</th>\n",
       "      <th>Departamento</th>\n",
       "      <th>Provincia</th>\n",
       "      <th>Distrito</th>\n",
       "      <th>Estado</th>\n",
       "      <th>CodigoPostal</th>\n",
       "      <th>Pais</th>\n",
       "    </tr>\n",
       "  </thead>\n",
       "  <tbody>\n",
       "    <tr>\n",
       "      <th>0</th>\n",
       "      <td>1</td>\n",
       "      <td>1</td>\n",
       "      <td>Diagonal Chilecito N° 335</td>\n",
       "      <td>Comodoro Rivadavia</td>\n",
       "      <td>Mendoza</td>\n",
       "      <td>Mendoza</td>\n",
       "      <td>Recoleta</td>\n",
       "      <td>Mendoza</td>\n",
       "      <td>10044733</td>\n",
       "      <td>Argentina</td>\n",
       "    </tr>\n",
       "    <tr>\n",
       "      <th>1</th>\n",
       "      <td>2</td>\n",
       "      <td>2</td>\n",
       "      <td>Diagonal Río Negro N° 497</td>\n",
       "      <td>Rawson</td>\n",
       "      <td>Tierra del Fuego</td>\n",
       "      <td>Tierra del Fuego</td>\n",
       "      <td>Palermo</td>\n",
       "      <td>Tierra del Fuego</td>\n",
       "      <td>76007280</td>\n",
       "      <td>Argentina</td>\n",
       "    </tr>\n",
       "    <tr>\n",
       "      <th>2</th>\n",
       "      <td>3</td>\n",
       "      <td>3</td>\n",
       "      <td>Blv. Formosa N° 118</td>\n",
       "      <td>Mar del Plata</td>\n",
       "      <td>Salta</td>\n",
       "      <td>Salta</td>\n",
       "      <td>Barracas</td>\n",
       "      <td>Salta</td>\n",
       "      <td>53604249</td>\n",
       "      <td>Argentina</td>\n",
       "    </tr>\n",
       "    <tr>\n",
       "      <th>3</th>\n",
       "      <td>4</td>\n",
       "      <td>4</td>\n",
       "      <td>Avenida La Rioja N° 612</td>\n",
       "      <td>San Juan</td>\n",
       "      <td>Neuquén</td>\n",
       "      <td>Neuquén</td>\n",
       "      <td>Flores</td>\n",
       "      <td>Neuquén</td>\n",
       "      <td>91031542</td>\n",
       "      <td>Argentina</td>\n",
       "    </tr>\n",
       "    <tr>\n",
       "      <th>4</th>\n",
       "      <td>5</td>\n",
       "      <td>5</td>\n",
       "      <td>Calle Neuquén N° 535</td>\n",
       "      <td>San Juan</td>\n",
       "      <td>Catamarca</td>\n",
       "      <td>Catamarca</td>\n",
       "      <td>Barracas</td>\n",
       "      <td>Catamarca</td>\n",
       "      <td>33002152</td>\n",
       "      <td>Argentina</td>\n",
       "    </tr>\n",
       "  </tbody>\n",
       "</table>\n",
       "</div>"
      ],
      "text/plain": [
       "   DireccionID  UsuarioID                      Calle              Ciudad  \\\n",
       "0            1          1  Diagonal Chilecito N° 335  Comodoro Rivadavia   \n",
       "1            2          2  Diagonal Río Negro N° 497              Rawson   \n",
       "2            3          3        Blv. Formosa N° 118       Mar del Plata   \n",
       "3            4          4    Avenida La Rioja N° 612            San Juan   \n",
       "4            5          5       Calle Neuquén N° 535            San Juan   \n",
       "\n",
       "       Departamento         Provincia  Distrito            Estado  \\\n",
       "0           Mendoza           Mendoza  Recoleta           Mendoza   \n",
       "1  Tierra del Fuego  Tierra del Fuego   Palermo  Tierra del Fuego   \n",
       "2             Salta             Salta  Barracas             Salta   \n",
       "3           Neuquén           Neuquén    Flores           Neuquén   \n",
       "4         Catamarca         Catamarca  Barracas         Catamarca   \n",
       "\n",
       "  CodigoPostal       Pais  \n",
       "0     10044733  Argentina  \n",
       "1     76007280  Argentina  \n",
       "2     53604249  Argentina  \n",
       "3     91031542  Argentina  \n",
       "4     33002152  Argentina  "
      ]
     },
     "metadata": {},
     "output_type": "display_data"
    },
    {
     "data": {
      "text/html": [
       "<div>\n",
       "<style scoped>\n",
       "    .dataframe tbody tr th:only-of-type {\n",
       "        vertical-align: middle;\n",
       "    }\n",
       "\n",
       "    .dataframe tbody tr th {\n",
       "        vertical-align: top;\n",
       "    }\n",
       "\n",
       "    .dataframe thead th {\n",
       "        text-align: right;\n",
       "    }\n",
       "</style>\n",
       "<table border=\"1\" class=\"dataframe\">\n",
       "  <thead>\n",
       "    <tr style=\"text-align: right;\">\n",
       "      <th></th>\n",
       "      <th>CarritoID</th>\n",
       "      <th>UsuarioID</th>\n",
       "      <th>ProductoID</th>\n",
       "      <th>Cantidad</th>\n",
       "      <th>FechaAgregado</th>\n",
       "    </tr>\n",
       "  </thead>\n",
       "  <tbody>\n",
       "    <tr>\n",
       "      <th>0</th>\n",
       "      <td>1</td>\n",
       "      <td>844</td>\n",
       "      <td>22</td>\n",
       "      <td>3</td>\n",
       "      <td>2025-04-29 10:15:10</td>\n",
       "    </tr>\n",
       "    <tr>\n",
       "      <th>1</th>\n",
       "      <td>2</td>\n",
       "      <td>901</td>\n",
       "      <td>7</td>\n",
       "      <td>2</td>\n",
       "      <td>2025-05-14 10:15:10</td>\n",
       "    </tr>\n",
       "    <tr>\n",
       "      <th>2</th>\n",
       "      <td>3</td>\n",
       "      <td>824</td>\n",
       "      <td>28</td>\n",
       "      <td>1</td>\n",
       "      <td>2025-04-26 10:15:10</td>\n",
       "    </tr>\n",
       "    <tr>\n",
       "      <th>3</th>\n",
       "      <td>4</td>\n",
       "      <td>94</td>\n",
       "      <td>5</td>\n",
       "      <td>3</td>\n",
       "      <td>2025-04-20 10:15:10</td>\n",
       "    </tr>\n",
       "    <tr>\n",
       "      <th>4</th>\n",
       "      <td>5</td>\n",
       "      <td>228</td>\n",
       "      <td>15</td>\n",
       "      <td>3</td>\n",
       "      <td>2025-05-11 10:15:10</td>\n",
       "    </tr>\n",
       "  </tbody>\n",
       "</table>\n",
       "</div>"
      ],
      "text/plain": [
       "   CarritoID  UsuarioID  ProductoID  Cantidad       FechaAgregado\n",
       "0          1        844          22         3 2025-04-29 10:15:10\n",
       "1          2        901           7         2 2025-05-14 10:15:10\n",
       "2          3        824          28         1 2025-04-26 10:15:10\n",
       "3          4         94           5         3 2025-04-20 10:15:10\n",
       "4          5        228          15         3 2025-05-11 10:15:10"
      ]
     },
     "metadata": {},
     "output_type": "display_data"
    },
    {
     "data": {
      "text/html": [
       "<div>\n",
       "<style scoped>\n",
       "    .dataframe tbody tr th:only-of-type {\n",
       "        vertical-align: middle;\n",
       "    }\n",
       "\n",
       "    .dataframe tbody tr th {\n",
       "        vertical-align: top;\n",
       "    }\n",
       "\n",
       "    .dataframe thead th {\n",
       "        text-align: right;\n",
       "    }\n",
       "</style>\n",
       "<table border=\"1\" class=\"dataframe\">\n",
       "  <thead>\n",
       "    <tr style=\"text-align: right;\">\n",
       "      <th></th>\n",
       "      <th>OrdenMetodoID</th>\n",
       "      <th>OrdenID</th>\n",
       "      <th>MetodoPagoID</th>\n",
       "      <th>MontoPagado</th>\n",
       "    </tr>\n",
       "  </thead>\n",
       "  <tbody>\n",
       "    <tr>\n",
       "      <th>0</th>\n",
       "      <td>1</td>\n",
       "      <td>1</td>\n",
       "      <td>2</td>\n",
       "      <td>580.22</td>\n",
       "    </tr>\n",
       "    <tr>\n",
       "      <th>1</th>\n",
       "      <td>2</td>\n",
       "      <td>2</td>\n",
       "      <td>4</td>\n",
       "      <td>638.87</td>\n",
       "    </tr>\n",
       "    <tr>\n",
       "      <th>2</th>\n",
       "      <td>3</td>\n",
       "      <td>3</td>\n",
       "      <td>7</td>\n",
       "      <td>946.09</td>\n",
       "    </tr>\n",
       "    <tr>\n",
       "      <th>3</th>\n",
       "      <td>4</td>\n",
       "      <td>4</td>\n",
       "      <td>2</td>\n",
       "      <td>390.35</td>\n",
       "    </tr>\n",
       "    <tr>\n",
       "      <th>4</th>\n",
       "      <td>5</td>\n",
       "      <td>5</td>\n",
       "      <td>3</td>\n",
       "      <td>908.67</td>\n",
       "    </tr>\n",
       "  </tbody>\n",
       "</table>\n",
       "</div>"
      ],
      "text/plain": [
       "   OrdenMetodoID  OrdenID  MetodoPagoID  MontoPagado\n",
       "0              1        1             2       580.22\n",
       "1              2        2             4       638.87\n",
       "2              3        3             7       946.09\n",
       "3              4        4             2       390.35\n",
       "4              5        5             3       908.67"
      ]
     },
     "metadata": {},
     "output_type": "display_data"
    },
    {
     "data": {
      "text/html": [
       "<div>\n",
       "<style scoped>\n",
       "    .dataframe tbody tr th:only-of-type {\n",
       "        vertical-align: middle;\n",
       "    }\n",
       "\n",
       "    .dataframe tbody tr th {\n",
       "        vertical-align: top;\n",
       "    }\n",
       "\n",
       "    .dataframe thead th {\n",
       "        text-align: right;\n",
       "    }\n",
       "</style>\n",
       "<table border=\"1\" class=\"dataframe\">\n",
       "  <thead>\n",
       "    <tr style=\"text-align: right;\">\n",
       "      <th></th>\n",
       "      <th>MetodoPagoID</th>\n",
       "      <th>Nombre</th>\n",
       "      <th>Descripcion</th>\n",
       "    </tr>\n",
       "  </thead>\n",
       "  <tbody>\n",
       "    <tr>\n",
       "      <th>0</th>\n",
       "      <td>1</td>\n",
       "      <td></td>\n",
       "      <td></td>\n",
       "    </tr>\n",
       "    <tr>\n",
       "      <th>1</th>\n",
       "      <td>2</td>\n",
       "      <td></td>\n",
       "      <td></td>\n",
       "    </tr>\n",
       "    <tr>\n",
       "      <th>2</th>\n",
       "      <td>3</td>\n",
       "      <td></td>\n",
       "      <td></td>\n",
       "    </tr>\n",
       "    <tr>\n",
       "      <th>3</th>\n",
       "      <td>4</td>\n",
       "      <td></td>\n",
       "      <td></td>\n",
       "    </tr>\n",
       "    <tr>\n",
       "      <th>4</th>\n",
       "      <td>5</td>\n",
       "      <td></td>\n",
       "      <td></td>\n",
       "    </tr>\n",
       "  </tbody>\n",
       "</table>\n",
       "</div>"
      ],
      "text/plain": [
       "   MetodoPagoID Nombre Descripcion\n",
       "0             1                   \n",
       "1             2                   \n",
       "2             3                   \n",
       "3             4                   \n",
       "4             5                   "
      ]
     },
     "metadata": {},
     "output_type": "display_data"
    },
    {
     "data": {
      "text/html": [
       "<div>\n",
       "<style scoped>\n",
       "    .dataframe tbody tr th:only-of-type {\n",
       "        vertical-align: middle;\n",
       "    }\n",
       "\n",
       "    .dataframe tbody tr th {\n",
       "        vertical-align: top;\n",
       "    }\n",
       "\n",
       "    .dataframe thead th {\n",
       "        text-align: right;\n",
       "    }\n",
       "</style>\n",
       "<table border=\"1\" class=\"dataframe\">\n",
       "  <thead>\n",
       "    <tr style=\"text-align: right;\">\n",
       "      <th></th>\n",
       "      <th>ReseñaID</th>\n",
       "      <th>UsuarioID</th>\n",
       "      <th>ProductoID</th>\n",
       "      <th>Calificacion</th>\n",
       "      <th>Comentario</th>\n",
       "      <th>Fecha</th>\n",
       "    </tr>\n",
       "  </thead>\n",
       "  <tbody>\n",
       "    <tr>\n",
       "      <th>0</th>\n",
       "      <td>1</td>\n",
       "      <td>898</td>\n",
       "      <td>10</td>\n",
       "      <td>1</td>\n",
       "      <td>Mala calidad, no lo recomiendo. Ullam sint ali...</td>\n",
       "      <td>2025-07-21 03:28:57.930778</td>\n",
       "    </tr>\n",
       "    <tr>\n",
       "      <th>1</th>\n",
       "      <td>2</td>\n",
       "      <td>700</td>\n",
       "      <td>16</td>\n",
       "      <td>3</td>\n",
       "      <td>El producto es aceptable por el precio. Quisqu...</td>\n",
       "      <td>2025-07-21 03:28:57.931192</td>\n",
       "    </tr>\n",
       "    <tr>\n",
       "      <th>2</th>\n",
       "      <td>3</td>\n",
       "      <td>173</td>\n",
       "      <td>13</td>\n",
       "      <td>2</td>\n",
       "      <td>Mala calidad, no lo recomiendo. Illum corporis...</td>\n",
       "      <td>2025-07-21 03:28:57.931234</td>\n",
       "    </tr>\n",
       "    <tr>\n",
       "      <th>3</th>\n",
       "      <td>4</td>\n",
       "      <td>557</td>\n",
       "      <td>20</td>\n",
       "      <td>2</td>\n",
       "      <td>No cumplió con lo prometido. Tempore distincti...</td>\n",
       "      <td>2025-07-21 03:28:57.931256</td>\n",
       "    </tr>\n",
       "    <tr>\n",
       "      <th>4</th>\n",
       "      <td>5</td>\n",
       "      <td>448</td>\n",
       "      <td>33</td>\n",
       "      <td>2</td>\n",
       "      <td>No cumplió con lo prometido. Modi doloribus re...</td>\n",
       "      <td>2025-07-21 03:28:57.931276</td>\n",
       "    </tr>\n",
       "  </tbody>\n",
       "</table>\n",
       "</div>"
      ],
      "text/plain": [
       "   ReseñaID  UsuarioID  ProductoID  Calificacion  \\\n",
       "0         1        898          10             1   \n",
       "1         2        700          16             3   \n",
       "2         3        173          13             2   \n",
       "3         4        557          20             2   \n",
       "4         5        448          33             2   \n",
       "\n",
       "                                          Comentario  \\\n",
       "0  Mala calidad, no lo recomiendo. Ullam sint ali...   \n",
       "1  El producto es aceptable por el precio. Quisqu...   \n",
       "2  Mala calidad, no lo recomiendo. Illum corporis...   \n",
       "3  No cumplió con lo prometido. Tempore distincti...   \n",
       "4  No cumplió con lo prometido. Modi doloribus re...   \n",
       "\n",
       "                       Fecha  \n",
       "0 2025-07-21 03:28:57.930778  \n",
       "1 2025-07-21 03:28:57.931192  \n",
       "2 2025-07-21 03:28:57.931234  \n",
       "3 2025-07-21 03:28:57.931256  \n",
       "4 2025-07-21 03:28:57.931276  "
      ]
     },
     "metadata": {},
     "output_type": "display_data"
    },
    {
     "data": {
      "text/html": [
       "<div>\n",
       "<style scoped>\n",
       "    .dataframe tbody tr th:only-of-type {\n",
       "        vertical-align: middle;\n",
       "    }\n",
       "\n",
       "    .dataframe tbody tr th {\n",
       "        vertical-align: top;\n",
       "    }\n",
       "\n",
       "    .dataframe thead th {\n",
       "        text-align: right;\n",
       "    }\n",
       "</style>\n",
       "<table border=\"1\" class=\"dataframe\">\n",
       "  <thead>\n",
       "    <tr style=\"text-align: right;\">\n",
       "      <th></th>\n",
       "      <th>PagoID</th>\n",
       "      <th>OrdenID</th>\n",
       "      <th>MetodoPagoID</th>\n",
       "      <th>Monto</th>\n",
       "      <th>FechaPago</th>\n",
       "      <th>EstadoPago</th>\n",
       "    </tr>\n",
       "  </thead>\n",
       "  <tbody>\n",
       "    <tr>\n",
       "      <th>0</th>\n",
       "      <td>1</td>\n",
       "      <td>1</td>\n",
       "      <td>4</td>\n",
       "      <td>147.13</td>\n",
       "      <td>2025-07-21 03:29:06.396706</td>\n",
       "      <td>pending</td>\n",
       "    </tr>\n",
       "    <tr>\n",
       "      <th>1</th>\n",
       "      <td>2</td>\n",
       "      <td>2</td>\n",
       "      <td>1</td>\n",
       "      <td>647.98</td>\n",
       "      <td>2025-07-21 03:29:06.396859</td>\n",
       "      <td>pending</td>\n",
       "    </tr>\n",
       "    <tr>\n",
       "      <th>2</th>\n",
       "      <td>3</td>\n",
       "      <td>3</td>\n",
       "      <td>6</td>\n",
       "      <td>627.45</td>\n",
       "      <td>2025-07-21 03:29:06.396903</td>\n",
       "      <td>pending</td>\n",
       "    </tr>\n",
       "    <tr>\n",
       "      <th>3</th>\n",
       "      <td>4</td>\n",
       "      <td>4</td>\n",
       "      <td>5</td>\n",
       "      <td>848.07</td>\n",
       "      <td>2025-07-21 03:29:06.396935</td>\n",
       "      <td>pending</td>\n",
       "    </tr>\n",
       "    <tr>\n",
       "      <th>4</th>\n",
       "      <td>5</td>\n",
       "      <td>5</td>\n",
       "      <td>5</td>\n",
       "      <td>189.80</td>\n",
       "      <td>2025-07-21 03:29:06.396967</td>\n",
       "      <td>pending</td>\n",
       "    </tr>\n",
       "  </tbody>\n",
       "</table>\n",
       "</div>"
      ],
      "text/plain": [
       "   PagoID  OrdenID  MetodoPagoID   Monto                  FechaPago EstadoPago\n",
       "0       1        1             4  147.13 2025-07-21 03:29:06.396706    pending\n",
       "1       2        2             1  647.98 2025-07-21 03:29:06.396859    pending\n",
       "2       3        3             6  627.45 2025-07-21 03:29:06.396903    pending\n",
       "3       4        4             5  848.07 2025-07-21 03:29:06.396935    pending\n",
       "4       5        5             5  189.80 2025-07-21 03:29:06.396967    pending"
      ]
     },
     "metadata": {},
     "output_type": "display_data"
    }
   ],
   "source": [
    "from app.utils import postgres_utils\n",
    "import logging\n",
    "\n",
    "logging.getLogger(\"sqlalchemy.engine\").setLevel(logging.WARNING)\n",
    "\n",
    "def get_first_records(table_name):\n",
    "    query = f\"SELECT * FROM \\\"{table_name}\\\" LIMIT 10;\"\n",
    "    data = postgres_utils.run_query(query)\n",
    "    return data\n",
    "\n",
    "tables_list = tables['table_name'].unique()\n",
    "for table in tables_list:\n",
    "    data= postgres_utils.run_query(f\"SELECT * FROM \\\"{table}\\\" LIMIT 5;\")\n",
    "    display(data)\n"
   ]
  },
  {
   "cell_type": "markdown",
   "id": "d66198df",
   "metadata": {},
   "source": [
    "#### 2.Implementar análisis exploratorio complementario en Python mediante un ORM (como SQLAlchemy o psycopg2).\n",
    "\n",
    "- Se explora información de las tablas y tipos de datos con pandas \n",
    "\n",
    "#### Tabla: Productos"
   ]
  },
  {
   "cell_type": "code",
   "execution_count": null,
   "id": "b999602f-6d77-4f1b-8e6f-788b13e3d0c6",
   "metadata": {},
   "outputs": [],
   "source": [
    "from app.utils import notebook_utils\n",
    "\n",
    "notebook_utils.show_table_data(\"Productos\")"
   ]
  },
  {
   "cell_type": "markdown",
   "id": "6763c4f3",
   "metadata": {},
   "source": [
    "#### 1. Información general\n",
    "\n",
    "* Número de registros: 36\n",
    "* Número de columnas: 6\n",
    "\n",
    "#### 2. Esquema\n",
    "\n",
    "| Columna     | Tipo de dato | Valores no nulos | Observaciones                      |\n",
    "| ----------- | ------------ | ---------------- | ---------------------------------- |\n",
    "| ProductoID  | int64        | 36               | Clave primaria.         |\n",
    "| Nombre      | object       | 36               | Texto. No hay valores faltantes.   |\n",
    "| Descripcion | object       | 36               | Texto. Puede contener redundancia. |\n",
    "| Precio      | float64      | 36               | Valor numérico.                    |\n",
    "| Stock       | int64        | 36               | Unidades disponibles.              |\n",
    "| CategoriaID | int64        | 36               | Clave foránea a `Categorias`.      |\n",
    "\n",
    "Observaciones\n",
    "* No hay columnas con valores nulos.\n",
    "* Estructura: los tipos de datos parecen consistentes al atributo que describen\n",
    "* Las claves numéricas (ProductoID, CategoriaID) son consistentes."
   ]
  },
  {
   "cell_type": "code",
   "execution_count": 8,
   "id": "5e5b3939",
   "metadata": {},
   "outputs": [
    {
     "data": {
      "text/html": [
       "<span style='color: orange; font-size: 14px;\n",
       "    font-weight: bold;'>Columnas con nulos (%)</span>"
      ],
      "text/plain": [
       "<IPython.core.display.HTML object>"
      ]
     },
     "metadata": {},
     "output_type": "display_data"
    },
    {
     "data": {
      "text/plain": [
       "ProductoID     0.0\n",
       "Nombre         0.0\n",
       "Descripcion    0.0\n",
       "Precio         0.0\n",
       "Stock          0.0\n",
       "CategoriaID    0.0\n",
       "dtype: float64"
      ]
     },
     "metadata": {},
     "output_type": "display_data"
    },
    {
     "data": {
      "text/html": [
       "<span style='color: orange; font-size: 14px;\n",
       "    font-weight: bold;'>Duplicados</span>"
      ],
      "text/plain": [
       "<IPython.core.display.HTML object>"
      ]
     },
     "metadata": {},
     "output_type": "display_data"
    },
    {
     "data": {
      "text/plain": [
       "np.int64(0)"
      ]
     },
     "metadata": {},
     "output_type": "display_data"
    }
   ],
   "source": [
    "from app.utils import postgres_utils, notebook_utils\n",
    "\n",
    "notebook_utils.show_duplicates_and_null_info(\"Productos\")"
   ]
  },
  {
   "cell_type": "markdown",
   "id": "987056c6",
   "metadata": {},
   "source": [
    "#### 3. Calidad de datos\n",
    "* **Valores nulos:** No se encontraron columnas con valores faltantes.\n",
    "\n",
    "* **Duplicados:** No se detectaron registros duplicados.\n",
    "\n",
    "* **Tipos de datos:** los tipos de datos parecen consistentes al atributo que describen\n",
    "\n",
    "* **Claves:** Las claves numéricas (ProductoID, CategoriaID) son consistentes. \n",
    "\n",
    "* * **Clave primaria(s):** ProductoID, es unico y sin nulos\n",
    "\n",
    "* * **Claves foráneas:** CategoriaID"
   ]
  },
  {
   "cell_type": "code",
   "execution_count": 11,
   "id": "a3e7cbd2",
   "metadata": {},
   "outputs": [
    {
     "data": {
      "text/html": [
       "<span style='color: orange; font-size: 14px;\n",
       "    font-weight: bold;'>Estadísticas de tabla</span>"
      ],
      "text/plain": [
       "<IPython.core.display.HTML object>"
      ]
     },
     "metadata": {},
     "output_type": "display_data"
    },
    {
     "data": {
      "text/html": [
       "<div>\n",
       "<style scoped>\n",
       "    .dataframe tbody tr th:only-of-type {\n",
       "        vertical-align: middle;\n",
       "    }\n",
       "\n",
       "    .dataframe tbody tr th {\n",
       "        vertical-align: top;\n",
       "    }\n",
       "\n",
       "    .dataframe thead th {\n",
       "        text-align: right;\n",
       "    }\n",
       "</style>\n",
       "<table border=\"1\" class=\"dataframe\">\n",
       "  <thead>\n",
       "    <tr style=\"text-align: right;\">\n",
       "      <th></th>\n",
       "      <th>ProductoID</th>\n",
       "      <th>Precio</th>\n",
       "      <th>Stock</th>\n",
       "      <th>CategoriaID</th>\n",
       "    </tr>\n",
       "  </thead>\n",
       "  <tbody>\n",
       "    <tr>\n",
       "      <th>count</th>\n",
       "      <td>36.000000</td>\n",
       "      <td>36.000000</td>\n",
       "      <td>36.000000</td>\n",
       "      <td>36.00000</td>\n",
       "    </tr>\n",
       "    <tr>\n",
       "      <th>mean</th>\n",
       "      <td>18.500000</td>\n",
       "      <td>86.083611</td>\n",
       "      <td>87.777778</td>\n",
       "      <td>6.50000</td>\n",
       "    </tr>\n",
       "    <tr>\n",
       "      <th>std</th>\n",
       "      <td>10.535654</td>\n",
       "      <td>164.246313</td>\n",
       "      <td>58.449544</td>\n",
       "      <td>3.50102</td>\n",
       "    </tr>\n",
       "    <tr>\n",
       "      <th>min</th>\n",
       "      <td>1.000000</td>\n",
       "      <td>4.500000</td>\n",
       "      <td>20.000000</td>\n",
       "      <td>1.00000</td>\n",
       "    </tr>\n",
       "    <tr>\n",
       "      <th>25%</th>\n",
       "      <td>9.750000</td>\n",
       "      <td>19.467500</td>\n",
       "      <td>50.000000</td>\n",
       "      <td>3.75000</td>\n",
       "    </tr>\n",
       "    <tr>\n",
       "      <th>50%</th>\n",
       "      <td>18.500000</td>\n",
       "      <td>30.995000</td>\n",
       "      <td>77.500000</td>\n",
       "      <td>6.50000</td>\n",
       "    </tr>\n",
       "    <tr>\n",
       "      <th>75%</th>\n",
       "      <td>27.250000</td>\n",
       "      <td>56.247500</td>\n",
       "      <td>102.500000</td>\n",
       "      <td>9.25000</td>\n",
       "    </tr>\n",
       "    <tr>\n",
       "      <th>max</th>\n",
       "      <td>36.000000</td>\n",
       "      <td>799.000000</td>\n",
       "      <td>300.000000</td>\n",
       "      <td>12.00000</td>\n",
       "    </tr>\n",
       "  </tbody>\n",
       "</table>\n",
       "</div>"
      ],
      "text/plain": [
       "       ProductoID      Precio       Stock  CategoriaID\n",
       "count   36.000000   36.000000   36.000000     36.00000\n",
       "mean    18.500000   86.083611   87.777778      6.50000\n",
       "std     10.535654  164.246313   58.449544      3.50102\n",
       "min      1.000000    4.500000   20.000000      1.00000\n",
       "25%      9.750000   19.467500   50.000000      3.75000\n",
       "50%     18.500000   30.995000   77.500000      6.50000\n",
       "75%     27.250000   56.247500  102.500000      9.25000\n",
       "max     36.000000  799.000000  300.000000     12.00000"
      ]
     },
     "metadata": {},
     "output_type": "display_data"
    }
   ],
   "source": [
    "from app.utils import postgres_utils, notebook_utils\n",
    "\n",
    "notebook_utils.show_table_stats(\"Productos\")"
   ]
  },
  {
   "cell_type": "markdown",
   "id": "16fa59d7",
   "metadata": {},
   "source": [
    "#### 4. Anáslisis estadístico\n",
    "\n",
    "__Precio__: La desviación estándar es muy alta ($164.25), indicando gran dispersión.\n",
    "\n",
    "* * El máximo valor registrado ($799.00) sugiere posible presencia de outliers.\n",
    "\n",
    "* *  El 25% de los productos cuesta menos de $19.47.\n",
    "\n",
    "__Stock__: El promedio de unidades en stock es 87.78, con un mínimo de 20 y un máximo de 300.\n",
    "\n",
    "También se observa una alta dispersión (std = 58.45), lo que sugiere que hay productos con niveles de stock muy dispares."
   ]
  },
  {
   "cell_type": "code",
   "execution_count": 12,
   "id": "e202f3aa",
   "metadata": {},
   "outputs": [
    {
     "name": "stdout",
     "output_type": "stream",
     "text": [
      "Number of outliers in 'Precio': 5\n"
     ]
    },
    {
     "data": {
      "image/png": "[encoded data removed]",
      "text/plain": [
       "<Figure size 1000x200 with 1 Axes>"
      ]
     },
     "metadata": {},
     "output_type": "display_data"
    },
    {
     "name": "stdout",
     "output_type": "stream",
     "text": [
      "Number of outliers in 'Stock': 3\n"
     ]
    },
    {
     "data": {
      "image/png": "[encoded data removed]",
      "text/plain": [
       "<Figure size 1000x200 with 1 Axes>"
      ]
     },
     "metadata": {},
     "output_type": "display_data"
    }
   ],
   "source": [
    "from app.utils import plot_utils\n",
    "\n",
    "outliers_precio, lower_precio, upper_precio = plot_utils.plot_boxplot_with_outliers('Productos', 'Precio', step=50)\n",
    "\n",
    "outliers_stock, lower_stock, upper_stock = plot_utils.plot_boxplot_with_outliers('Productos', 'Stock', step=50)"
   ]
  },
  {
   "cell_type": "markdown",
   "id": "dd836856",
   "metadata": {},
   "source": [
    "### 4. Resumen de análisis y acciones propuestas de preprocesamiento y calidad de datos\n",
    "\n",
    "A partir del análisis exploratorio de la tabla `Productos`, se proponen las siguientes acciones de limpieza y mejora de calidad:\n",
    "\n",
    "#### 4.1 Valores nulos\n",
    "\n",
    "- **Diagnóstico:** No se encontraron columnas con valores nulos.\n",
    "- **Acción:** No se requiere imputación o eliminación. Se mantiene la estructura original.\n",
    "\n",
    "#### 4.2 Duplicados\n",
    "\n",
    "- **Diagnóstico:** No se detectaron registros duplicados.\n",
    "- **Acción:** No se requiere limpieza en este aspecto. Se recomienda mantener chequeos periódicos al integrar datos nuevos.\n",
    "\n",
    "#### 4.3 Valores atípicos\n",
    "\n",
    "- **Diagnóstico:** Se identificaron valores atípicos en la columna `Precio`, con un máximo de 799 (muy por encima del tercer cuartil).\n",
    "- **Acción propuesta:** \n",
    "  - Validar si esos valores son errores de carga o válidos.\n",
    "  - Si se confirma que son errores, se sugiere establecer un límite superior al menos a instancias de reporte.\n",
    "  - Si son válidos, mantenerlos pero tenerlos en cuenta para normalizaciones o transformaciones.\n",
    "\n",
    "#### 4.4 Consistencia de claves\n",
    "\n",
    "- **ProductoID:** clave primaria válida, sin duplicados ni nulos.\n",
    "- **CategoriaID:** clave foránea consistente con la tabla `Categorias`.\n",
    "\n",
    "- **Acción propuesta:**  Asegurar que al importar datos se mantenga integridad referencial. Puede implementarse con constraints.\n",
    "\n",
    "#### 4.5 Texto libre\n",
    "\n",
    "- **Diagnóstico:** Las columnas `Nombre` y `Descripcion` son campos de texto libre.\n",
    "- **Acción propuesta:** \n",
    "  - Normalizar capitalización.\n",
    "  - Eliminar espacios dobles o caracteres especiales si existieran.\n",
    "\n",
    "#### 4.6 Tipos de datos\n",
    "\n",
    "- Todos los tipos de datos son consistentes con el dominio del atributo.\n",
    "- **Acción:** Sin cambios requeridos.\n",
    "\n",
    "---\n",
    "\n",
    "**Resumen general:**\n",
    "\n",
    "| Aspecto             | Acción requerida          |\n",
    "|---------------------|-------------------------- |\n",
    "| Valores nulos       | No                        |\n",
    "| Duplicados          | No                        |\n",
    "| Outliers            | Validar precios extremos  |\n",
    "| Claves              | Confirmar constraints     |\n",
    "| Texto libre         | Normalización recomendada |\n",
    "| Tipos de datos      | Consistentes              |\n"
   ]
  },
  {
   "cell_type": "markdown",
   "id": "dc70fd81",
   "metadata": {},
   "source": [
    "#### Tabla: Usuarios"
   ]
  },
  {
   "cell_type": "code",
   "execution_count": 24,
   "id": "388e95c9",
   "metadata": {},
   "outputs": [
    {
     "data": {
      "text/html": [
       "<span style='color: orange; font-size: 14px;\n",
       "    font-weight: bold;'>Tabla: Usuarios</span>"
      ],
      "text/plain": [
       "<IPython.core.display.HTML object>"
      ]
     },
     "metadata": {},
     "output_type": "display_data"
    },
    {
     "data": {
      "text/html": [
       "<span style='color: orange; font-size: 14px;\n",
       "    font-weight: bold;'>Datos de tabla</span>"
      ],
      "text/plain": [
       "<IPython.core.display.HTML object>"
      ]
     },
     "metadata": {},
     "output_type": "display_data"
    },
    {
     "name": "stdout",
     "output_type": "stream",
     "text": [
      "<class 'pandas.core.frame.DataFrame'>\n",
      "RangeIndex: 1000 entries, 0 to 999\n",
      "Data columns (total 7 columns):\n",
      " #   Column         Non-Null Count  Dtype         \n",
      "---  ------         --------------  -----         \n",
      " 0   UsuarioID      1000 non-null   int64         \n",
      " 1   Nombre         1000 non-null   object        \n",
      " 2   Apellido       1000 non-null   object        \n",
      " 3   DNI            1000 non-null   object        \n",
      " 4   Email          1000 non-null   object        \n",
      " 5   Contraseña     1000 non-null   object        \n",
      " 6   FechaRegistro  1000 non-null   datetime64[ns]\n",
      "dtypes: datetime64[ns](1), int64(1), object(5)\n",
      "memory usage: 54.8+ KB\n"
     ]
    },
    {
     "data": {
      "text/plain": [
       "None"
      ]
     },
     "metadata": {},
     "output_type": "display_data"
    },
    {
     "data": {
      "text/html": [
       "<span style='color: orange; font-size: 14px;\n",
       "    font-weight: bold;'>Primeros valores</span>"
      ],
      "text/plain": [
       "<IPython.core.display.HTML object>"
      ]
     },
     "metadata": {},
     "output_type": "display_data"
    },
    {
     "data": {
      "text/html": [
       "<div>\n",
       "<style scoped>\n",
       "    .dataframe tbody tr th:only-of-type {\n",
       "        vertical-align: middle;\n",
       "    }\n",
       "\n",
       "    .dataframe tbody tr th {\n",
       "        vertical-align: top;\n",
       "    }\n",
       "\n",
       "    .dataframe thead th {\n",
       "        text-align: right;\n",
       "    }\n",
       "</style>\n",
       "<table border=\"1\" class=\"dataframe\">\n",
       "  <thead>\n",
       "    <tr style=\"text-align: right;\">\n",
       "      <th></th>\n",
       "      <th>UsuarioID</th>\n",
       "      <th>Nombre</th>\n",
       "      <th>Apellido</th>\n",
       "      <th>DNI</th>\n",
       "      <th>Email</th>\n",
       "      <th>Contraseña</th>\n",
       "      <th>FechaRegistro</th>\n",
       "    </tr>\n",
       "  </thead>\n",
       "  <tbody>\n",
       "    <tr>\n",
       "      <th>0</th>\n",
       "      <td>1</td>\n",
       "      <td>Encarna</td>\n",
       "      <td>Donaire</td>\n",
       "      <td>49877134</td>\n",
       "      <td>encarna.donaire1@correo.com</td>\n",
       "      <td>Contraseña123</td>\n",
       "      <td>2025-07-22 03:25:23.980637</td>\n",
       "    </tr>\n",
       "    <tr>\n",
       "      <th>1</th>\n",
       "      <td>2</td>\n",
       "      <td>Jose Ignacio</td>\n",
       "      <td>Canales</td>\n",
       "      <td>98778810</td>\n",
       "      <td>jose ignacio.canales2@correo.com</td>\n",
       "      <td>Contraseña123</td>\n",
       "      <td>2025-07-22 03:25:23.980637</td>\n",
       "    </tr>\n",
       "    <tr>\n",
       "      <th>2</th>\n",
       "      <td>3</td>\n",
       "      <td>José</td>\n",
       "      <td>Sebastián</td>\n",
       "      <td>80095714</td>\n",
       "      <td>josé.sebastián3@correo.com</td>\n",
       "      <td>Contraseña123</td>\n",
       "      <td>2025-07-22 03:25:23.980637</td>\n",
       "    </tr>\n",
       "    <tr>\n",
       "      <th>3</th>\n",
       "      <td>4</td>\n",
       "      <td>Priscila</td>\n",
       "      <td>Vilar</td>\n",
       "      <td>94128750</td>\n",
       "      <td>priscila.vilar4@correo.com</td>\n",
       "      <td>Contraseña123</td>\n",
       "      <td>2025-07-22 03:25:23.980637</td>\n",
       "    </tr>\n",
       "    <tr>\n",
       "      <th>4</th>\n",
       "      <td>5</td>\n",
       "      <td>Epifanio</td>\n",
       "      <td>Ríos</td>\n",
       "      <td>62958342</td>\n",
       "      <td>epifanio.ríos5@correo.com</td>\n",
       "      <td>Contraseña123</td>\n",
       "      <td>2025-07-22 03:25:23.980637</td>\n",
       "    </tr>\n",
       "  </tbody>\n",
       "</table>\n",
       "</div>"
      ],
      "text/plain": [
       "   UsuarioID        Nombre   Apellido       DNI  \\\n",
       "0          1       Encarna    Donaire  49877134   \n",
       "1          2  Jose Ignacio    Canales  98778810   \n",
       "2          3          José  Sebastián  80095714   \n",
       "3          4      Priscila      Vilar  94128750   \n",
       "4          5      Epifanio       Ríos  62958342   \n",
       "\n",
       "                              Email     Contraseña              FechaRegistro  \n",
       "0       encarna.donaire1@correo.com  Contraseña123 2025-07-22 03:25:23.980637  \n",
       "1  jose ignacio.canales2@correo.com  Contraseña123 2025-07-22 03:25:23.980637  \n",
       "2        josé.sebastián3@correo.com  Contraseña123 2025-07-22 03:25:23.980637  \n",
       "3        priscila.vilar4@correo.com  Contraseña123 2025-07-22 03:25:23.980637  \n",
       "4         epifanio.ríos5@correo.com  Contraseña123 2025-07-22 03:25:23.980637  "
      ]
     },
     "metadata": {},
     "output_type": "display_data"
    }
   ],
   "source": [
    "from app.utils import postgres_utils, notebook_utils\n",
    "\n",
    "notebook_utils.show_table_data(\"Usuarios\")"
   ]
  },
  {
   "cell_type": "markdown",
   "id": "edf6fa9c",
   "metadata": {},
   "source": [
    "#### 1. Información general\n",
    "\n",
    "* Número de registros: 1000\n",
    "* Número de columnas: 7\n",
    "\n",
    "#### 2. Esquema\n",
    "\n",
    "| Columna       | Tipo de dato | Valores no nulos | Observaciones                         |\n",
    "| -----------   | ------------ | ---------------- | --------------------------------------|\n",
    "| UsuarioID     | int64        | 1000             | Clave primaria.                       |\n",
    "| Nombre        | object       | 1000             | Texto. No hay valores faltantes.      |\n",
    "| Apellido      | object       | 1000             | Texto.                                |\n",
    "| email         | object       | 1000             | texto.                                |\n",
    "| Contraseña    | object       | 1000             | Unidades disponibles.                 |\n",
    "| FechaRegistro | datetime     | 1000             | Fecha registro de usuario, default now|\n",
    "\n",
    "Observaciones\n",
    "* No hay columnas con valores nulos.\n",
    "* Estructura: los tipos de datos parecen consistentes al atributo que describen\n",
    "* La columna `Contraseña` debería almacenar un hash, no texto plano."
   ]
  },
  {
   "cell_type": "code",
   "execution_count": 25,
   "id": "c6edacb1",
   "metadata": {},
   "outputs": [
    {
     "data": {
      "text/html": [
       "<span style='color: orange; font-size: 14px;\n",
       "    font-weight: bold;'>Columnas con nulos (%)</span>"
      ],
      "text/plain": [
       "<IPython.core.display.HTML object>"
      ]
     },
     "metadata": {},
     "output_type": "display_data"
    },
    {
     "data": {
      "text/plain": [
       "UsuarioID        0.0\n",
       "Nombre           0.0\n",
       "Apellido         0.0\n",
       "DNI              0.0\n",
       "Email            0.0\n",
       "Contraseña       0.0\n",
       "FechaRegistro    0.0\n",
       "dtype: float64"
      ]
     },
     "metadata": {},
     "output_type": "display_data"
    },
    {
     "data": {
      "text/html": [
       "<span style='color: orange; font-size: 14px;\n",
       "    font-weight: bold;'>Duplicados</span>"
      ],
      "text/plain": [
       "<IPython.core.display.HTML object>"
      ]
     },
     "metadata": {},
     "output_type": "display_data"
    },
    {
     "data": {
      "text/plain": [
       "np.int64(0)"
      ]
     },
     "metadata": {},
     "output_type": "display_data"
    }
   ],
   "source": [
    "notebook_utils.show_duplicates_and_null_info(\"Usuarios\")"
   ]
  },
  {
   "cell_type": "markdown",
   "id": "a4dce914",
   "metadata": {},
   "source": [
    "#### 3. Calidad de datos\n",
    "* **Valores nulos:** No se encontraron columnas con valores faltantes.\n",
    "\n",
    "* **Duplicados:** No se detectaron registros duplicados.\n",
    "\n",
    "* **Tipos de datos:** los tipos de datos parecen consistentes al atributo que describen\n",
    "\n",
    "* **Claves:** Las claves numéricas (UsuarioID) son consistentes. \n",
    "\n",
    "* * **Clave primaria(s):** UsuarioID, es unico y sin nulos\n",
    "\n",
    "* * **Claves foráneas:** -"
   ]
  },
  {
   "cell_type": "code",
   "execution_count": null,
   "id": "37e38d6f",
   "metadata": {},
   "outputs": [
    {
     "data": {
      "text/html": [
       "<span style='color: orange; font-size: 14px;\n",
       "    font-weight: bold;'>Estadistico</span>"
      ],
      "text/plain": [
       "<IPython.core.display.HTML object>"
      ]
     },
     "metadata": {},
     "output_type": "display_data"
    },
    {
     "data": {
      "text/html": [
       "<div>\n",
       "<style scoped>\n",
       "    .dataframe tbody tr th:only-of-type {\n",
       "        vertical-align: middle;\n",
       "    }\n",
       "\n",
       "    .dataframe tbody tr th {\n",
       "        vertical-align: top;\n",
       "    }\n",
       "\n",
       "    .dataframe thead th {\n",
       "        text-align: right;\n",
       "    }\n",
       "</style>\n",
       "<table border=\"1\" class=\"dataframe\">\n",
       "  <thead>\n",
       "    <tr style=\"text-align: right;\">\n",
       "      <th></th>\n",
       "      <th>UsuarioID</th>\n",
       "      <th>FechaRegistro</th>\n",
       "    </tr>\n",
       "  </thead>\n",
       "  <tbody>\n",
       "    <tr>\n",
       "      <th>count</th>\n",
       "      <td>1000.000000</td>\n",
       "      <td>1000</td>\n",
       "    </tr>\n",
       "    <tr>\n",
       "      <th>mean</th>\n",
       "      <td>500.500000</td>\n",
       "      <td>2025-07-21 03:28:30.430114048</td>\n",
       "    </tr>\n",
       "    <tr>\n",
       "      <th>min</th>\n",
       "      <td>1.000000</td>\n",
       "      <td>2025-07-21 03:28:30.430114</td>\n",
       "    </tr>\n",
       "    <tr>\n",
       "      <th>25%</th>\n",
       "      <td>250.750000</td>\n",
       "      <td>2025-07-21 03:28:30.430114048</td>\n",
       "    </tr>\n",
       "    <tr>\n",
       "      <th>50%</th>\n",
       "      <td>500.500000</td>\n",
       "      <td>2025-07-21 03:28:30.430114048</td>\n",
       "    </tr>\n",
       "    <tr>\n",
       "      <th>75%</th>\n",
       "      <td>750.250000</td>\n",
       "      <td>2025-07-21 03:28:30.430114048</td>\n",
       "    </tr>\n",
       "    <tr>\n",
       "      <th>max</th>\n",
       "      <td>1000.000000</td>\n",
       "      <td>2025-07-21 03:28:30.430114</td>\n",
       "    </tr>\n",
       "    <tr>\n",
       "      <th>std</th>\n",
       "      <td>288.819436</td>\n",
       "      <td>NaN</td>\n",
       "    </tr>\n",
       "  </tbody>\n",
       "</table>\n",
       "</div>"
      ],
      "text/plain": [
       "         UsuarioID                  FechaRegistro\n",
       "count  1000.000000                           1000\n",
       "mean    500.500000  2025-07-21 03:28:30.430114048\n",
       "min       1.000000     2025-07-21 03:28:30.430114\n",
       "25%     250.750000  2025-07-21 03:28:30.430114048\n",
       "50%     500.500000  2025-07-21 03:28:30.430114048\n",
       "75%     750.250000  2025-07-21 03:28:30.430114048\n",
       "max    1000.000000     2025-07-21 03:28:30.430114\n",
       "std     288.819436                            NaN"
      ]
     },
     "metadata": {},
     "output_type": "display_data"
    }
   ],
   "source": [
    "from app.utils import postgres_utils, notebook_utils\n",
    "\n",
    "notebook_utils.show_table_stats(\"Usuarios\")"
   ]
  },
  {
   "cell_type": "markdown",
   "id": "d26e2519",
   "metadata": {},
   "source": [
    "#### 4. Anáslisis estadístico\n",
    "* No se incluyen estadísticos detallados ya que los valores numéricos (UsuarioID y FechaRegistro) no aportan información relevante al momento\n"
   ]
  },
  {
   "cell_type": "markdown",
   "id": "38a615de",
   "metadata": {},
   "source": [
    "### 5. Resumen de análisis y acciones propuestas de preprocesamiento y calidad de datos\n",
    "\n",
    "A partir del análisis exploratorio de la tabla `Usuarios`, se proponen las siguientes acciones de limpieza y mejora de calidad:\n",
    "\n",
    "#### 5.1 Valores nulos\n",
    "\n",
    "- **Diagnóstico:** No se encontraron columnas con valores nulos.\n",
    "- **Acción:** No se requiere imputación o eliminación. Se mantiene la estructura original.\n",
    "\n",
    "#### 5.2 Duplicados\n",
    "\n",
    "- **Diagnóstico:** No se detectaron registros duplicados.\n",
    "- **Acción:** No se requiere limpieza en este aspecto. Se debe garantizar unicidad de DNI e email al realizar nuevos registros\n",
    "\n",
    "#### 5.3 Valores atípicos\n",
    "\n",
    "- **Diagnóstico:** No hay valores numericos atípicos. FechaRegistro presenta un valor constante, probablemente por ser una carga masiva o un default.\n",
    "- **Acción propuesta:** \n",
    "  - Validar proceso de carga de fechaRegistro ya que no hay dispersion. Si se quisiera hacer análisi temporal deben proveerse fechas reales.\n",
    "\n",
    "#### 5.4 Consistencia de claves\n",
    "\n",
    "- **ProductoID:** clave primaria válida, sin duplicados ni nulos.\n",
    "\n",
    "- **Acción propuesta:**  Asegurar que al importar datos se mantenga integridad referencial. Puede implementarse con constraints.\n",
    "\n",
    "#### 5.5 Texto libre\n",
    "\n",
    "- **Diagnóstico:** `Nombre` y `Descripcion` son campos de texto libre.\n",
    "- **Acción propuesta:** \n",
    "  - Validar formato de email.\n",
    "  - Eliminar espacios dobles o caracteres especiales si existieran.\n",
    "  - Normalizar nombres (capitalización).\n",
    "\n",
    "\n",
    "#### 5.6 Tipos de datos\n",
    "\n",
    "- **Diagnóstico:** `Contraseña`contiene texto.\n",
    "- **Acción:** Reemplazar texto plano por hashes y nunca almacenar contraseñas en db \n",
    "\n",
    "---\n",
    "\n",
    "**Resumen general:**\n",
    "\n",
    "| Aspecto           | Acción requerida                      |\n",
    "| ----------------- | ------------------------------------- |\n",
    "| Valores nulos     | No                                    |\n",
    "| Duplicados        | No                                    |\n",
    "| Outliers          | No relevantes                         |\n",
    "| Claves            | Asegurar unicidad  en Email y DNI     |\n",
    "| Texto libre       | Validar y normalizar                  |\n",
    "| Seguridad         | Hash de contraseñas requerido         |\n",
    "| Tipos de datos    | Revisar `Email` y `Contraseña`        |\n",
    "| Fecha de registro | Revisar dispersión / carga automática |\n",
    "\n"
   ]
  },
  {
   "cell_type": "markdown",
   "id": "b14ffa94-2ffd-4aa0-9154-c7ca0f8700e3",
   "metadata": {},
   "source": [
    "#### Tabla: Categorías"
   ]
  },
  {
   "cell_type": "code",
   "execution_count": null,
   "id": "85d59d73-5804-4a5e-bc6a-74810db64c59",
   "metadata": {},
   "outputs": [
    {
     "data": {
      "text/html": [
       "<span style='color: orange; font-size: 14px;\n",
       "    font-weight: bold;'>Tabla: Categorias</span>"
      ],
      "text/plain": [
       "<IPython.core.display.HTML object>"
      ]
     },
     "metadata": {},
     "output_type": "display_data"
    },
    {
     "data": {
      "text/html": [
       "<span style='color: orange; font-size: 14px;\n",
       "    font-weight: bold;'>Datos de tabla</span>"
      ],
      "text/plain": [
       "<IPython.core.display.HTML object>"
      ]
     },
     "metadata": {},
     "output_type": "display_data"
    },
    {
     "name": "stdout",
     "output_type": "stream",
     "text": [
      "<class 'pandas.core.frame.DataFrame'>\n",
      "RangeIndex: 12 entries, 0 to 11\n",
      "Data columns (total 3 columns):\n",
      " #   Column       Non-Null Count  Dtype \n",
      "---  ------       --------------  ----- \n",
      " 0   CategoriaID  12 non-null     int64 \n",
      " 1   Nombre       12 non-null     object\n",
      " 2   Descripcion  12 non-null     object\n",
      "dtypes: int64(1), object(2)\n",
      "memory usage: 420.0+ bytes\n"
     ]
    },
    {
     "data": {
      "text/plain": [
       "None"
      ]
     },
     "metadata": {},
     "output_type": "display_data"
    },
    {
     "data": {
      "text/html": [
       "<span style='color: orange; font-size: 14px;\n",
       "    font-weight: bold;'>Primeros valores</span>"
      ],
      "text/plain": [
       "<IPython.core.display.HTML object>"
      ]
     },
     "metadata": {},
     "output_type": "display_data"
    },
    {
     "data": {
      "text/html": [
       "<div>\n",
       "<style scoped>\n",
       "    .dataframe tbody tr th:only-of-type {\n",
       "        vertical-align: middle;\n",
       "    }\n",
       "\n",
       "    .dataframe tbody tr th {\n",
       "        vertical-align: top;\n",
       "    }\n",
       "\n",
       "    .dataframe thead th {\n",
       "        text-align: right;\n",
       "    }\n",
       "</style>\n",
       "<table border=\"1\" class=\"dataframe\">\n",
       "  <thead>\n",
       "    <tr style=\"text-align: right;\">\n",
       "      <th></th>\n",
       "      <th>CategoriaID</th>\n",
       "      <th>Nombre</th>\n",
       "      <th>Descripcion</th>\n",
       "    </tr>\n",
       "  </thead>\n",
       "  <tbody>\n",
       "    <tr>\n",
       "      <th>0</th>\n",
       "      <td>1</td>\n",
       "      <td>Electrónica</td>\n",
       "      <td>Teléfonos, computadoras, accesorios y disposit...</td>\n",
       "    </tr>\n",
       "    <tr>\n",
       "      <th>1</th>\n",
       "      <td>2</td>\n",
       "      <td>Moda</td>\n",
       "      <td>Ropa, calzado, bolsos y accesorios para hombre...</td>\n",
       "    </tr>\n",
       "    <tr>\n",
       "      <th>2</th>\n",
       "      <td>3</td>\n",
       "      <td>Hogar y Cocina</td>\n",
       "      <td>Muebles, electrodomésticos, utensilios y decor...</td>\n",
       "    </tr>\n",
       "    <tr>\n",
       "      <th>3</th>\n",
       "      <td>4</td>\n",
       "      <td>Deportes y Aire Libre</td>\n",
       "      <td>Equipamiento, ropa deportiva y artículos para ...</td>\n",
       "    </tr>\n",
       "    <tr>\n",
       "      <th>4</th>\n",
       "      <td>5</td>\n",
       "      <td>Belleza y Cuidado Personal</td>\n",
       "      <td>Cosméticos, productos para el cabello, piel y ...</td>\n",
       "    </tr>\n",
       "  </tbody>\n",
       "</table>\n",
       "</div>"
      ],
      "text/plain": [
       "   CategoriaID                      Nombre  \\\n",
       "0            1                 Electrónica   \n",
       "1            2                        Moda   \n",
       "2            3              Hogar y Cocina   \n",
       "3            4       Deportes y Aire Libre   \n",
       "4            5  Belleza y Cuidado Personal   \n",
       "\n",
       "                                         Descripcion  \n",
       "0  Teléfonos, computadoras, accesorios y disposit...  \n",
       "1  Ropa, calzado, bolsos y accesorios para hombre...  \n",
       "2  Muebles, electrodomésticos, utensilios y decor...  \n",
       "3  Equipamiento, ropa deportiva y artículos para ...  \n",
       "4  Cosméticos, productos para el cabello, piel y ...  "
      ]
     },
     "metadata": {},
     "output_type": "display_data"
    }
   ],
   "source": [
    "from app.utils import  notebook_utils\n",
    "\n",
    "notebook_utils.show_table_data(\"Categorias\")"
   ]
  },
  {
   "cell_type": "markdown",
   "id": "f3cecb31-98ad-424c-aa3b-6c7ba93930d2",
   "metadata": {},
   "source": [
    "#### 1. Información general\n",
    "\n",
    "* Número de registros: 12\n",
    "* Número de columnas: 3\n",
    "\n",
    "#### 2. Esquema\n",
    "\n",
    "| Columna     | Tipo de dato | Valores no nulos | Observaciones                      |\n",
    "| ----------- | ------------ | ---------------- | ---------------------------------- |\n",
    "| CategoriaID | int64        | 12               | Clave primaria.                    |\n",
    "| Nombre      | object       | 12               | Texto. No hay valores faltantes.   |\n",
    "| Descripcion | object       | 12               | Texto. Puede contener redundancia. |\n",
    "\n",
    "Observaciones\n",
    "* No hay columnas con valores nulos.\n",
    "* Estructura: los tipos de datos parecen consistentes al atributo que describen"
   ]
  },
  {
   "cell_type": "code",
   "execution_count": null,
   "id": "c81c330a-aee3-494c-9954-2a2ad43b76f2",
   "metadata": {},
   "outputs": [
    {
     "data": {
      "text/html": [
       "<span style='color: orange; font-size: 14px;\n",
       "    font-weight: bold;'>Columnas con nulos (%)</span>"
      ],
      "text/plain": [
       "<IPython.core.display.HTML object>"
      ]
     },
     "metadata": {},
     "output_type": "display_data"
    },
    {
     "data": {
      "text/plain": [
       "CategoriaID    0.0\n",
       "Nombre         0.0\n",
       "Descripcion    0.0\n",
       "dtype: float64"
      ]
     },
     "metadata": {},
     "output_type": "display_data"
    },
    {
     "data": {
      "text/html": [
       "<span style='color: orange; font-size: 14px;\n",
       "    font-weight: bold;'>Duplicados</span>"
      ],
      "text/plain": [
       "<IPython.core.display.HTML object>"
      ]
     },
     "metadata": {},
     "output_type": "display_data"
    },
    {
     "data": {
      "text/plain": [
       "np.int64(0)"
      ]
     },
     "metadata": {},
     "output_type": "display_data"
    }
   ],
   "source": [
    "from app.utils import notebook_utils\n",
    "\n",
    "notebook_utils.show_duplicates_and_null_info(\"Categorias\")"
   ]
  },
  {
   "cell_type": "markdown",
   "id": "8cf97f27-06eb-4a96-9b9c-223e4006f8af",
   "metadata": {},
   "source": [
    "#### 3. Calidad de datos\n",
    "* **Valores nulos:** No se encontraron columnas con valores faltantes.\n",
    "\n",
    "* **Duplicados:** No se detectaron registros duplicados.\n",
    "\n",
    "* **Tipos de datos:** los tipos de datos parecen consistentes al atributo que describen\n",
    "\n",
    "* **Claves:** \n",
    "\n",
    "* * **Clave primaria(s):** CategoriaID, es unico y sin nulos\n",
    "\n",
    "* * **Claves foráneas:** -"
   ]
  },
  {
   "cell_type": "code",
   "execution_count": 3,
   "id": "4b277eb1-1587-4518-8f93-4a8c2d0d257f",
   "metadata": {},
   "outputs": [
    {
     "data": {
      "text/html": [
       "<span style='color: orange; font-size: 14px;\n",
       "    font-weight: bold;'>Estadísticas de tabla</span>"
      ],
      "text/plain": [
       "<IPython.core.display.HTML object>"
      ]
     },
     "metadata": {},
     "output_type": "display_data"
    },
    {
     "data": {
      "text/html": [
       "<div>\n",
       "<style scoped>\n",
       "    .dataframe tbody tr th:only-of-type {\n",
       "        vertical-align: middle;\n",
       "    }\n",
       "\n",
       "    .dataframe tbody tr th {\n",
       "        vertical-align: top;\n",
       "    }\n",
       "\n",
       "    .dataframe thead th {\n",
       "        text-align: right;\n",
       "    }\n",
       "</style>\n",
       "<table border=\"1\" class=\"dataframe\">\n",
       "  <thead>\n",
       "    <tr style=\"text-align: right;\">\n",
       "      <th></th>\n",
       "      <th>CategoriaID</th>\n",
       "    </tr>\n",
       "  </thead>\n",
       "  <tbody>\n",
       "    <tr>\n",
       "      <th>count</th>\n",
       "      <td>12.000000</td>\n",
       "    </tr>\n",
       "    <tr>\n",
       "      <th>mean</th>\n",
       "      <td>6.500000</td>\n",
       "    </tr>\n",
       "    <tr>\n",
       "      <th>std</th>\n",
       "      <td>3.605551</td>\n",
       "    </tr>\n",
       "    <tr>\n",
       "      <th>min</th>\n",
       "      <td>1.000000</td>\n",
       "    </tr>\n",
       "    <tr>\n",
       "      <th>25%</th>\n",
       "      <td>3.750000</td>\n",
       "    </tr>\n",
       "    <tr>\n",
       "      <th>50%</th>\n",
       "      <td>6.500000</td>\n",
       "    </tr>\n",
       "    <tr>\n",
       "      <th>75%</th>\n",
       "      <td>9.250000</td>\n",
       "    </tr>\n",
       "    <tr>\n",
       "      <th>max</th>\n",
       "      <td>12.000000</td>\n",
       "    </tr>\n",
       "  </tbody>\n",
       "</table>\n",
       "</div>"
      ],
      "text/plain": [
       "       CategoriaID\n",
       "count    12.000000\n",
       "mean      6.500000\n",
       "std       3.605551\n",
       "min       1.000000\n",
       "25%       3.750000\n",
       "50%       6.500000\n",
       "75%       9.250000\n",
       "max      12.000000"
      ]
     },
     "metadata": {},
     "output_type": "display_data"
    }
   ],
   "source": [
    "from app.utils import notebook_utils\n",
    "\n",
    "notebook_utils.show_table_stats(\"Categorias\")"
   ]
  },
  {
   "cell_type": "markdown",
   "id": "029d2357-bd04-4ebc-8666-7446ea8c559e",
   "metadata": {},
   "source": [
    "#### 4. Anáslisis estadístico\n",
    "* No se incluyen estadísticos detallados ya que el único valor numérico es el Id\n",
    "\n",
    "### 5. Resumen de análisis y acciones propuestas de preprocesamiento y calidad de datos\n",
    "\n",
    "A partir del análisis exploratorio de la tabla `Categorias`, se proponen las siguientes acciones de limpieza y mejora de calidad:\n",
    "\n",
    "#### 5.1 Valores nulos\n",
    "\n",
    "- **Diagnóstico:** No se encontraron columnas con valores nulos.\n",
    "- **Acción:** No se requiere imputación o eliminación. Se mantiene la estructura original.\n",
    "\n",
    "#### 5.2 Duplicados\n",
    "\n",
    "- **Diagnóstico:** No se detectaron registros duplicados. Sin embargo, en el campo `Nombre` debería garantizarse unicidad. Si dos categorías tienen el mismo nombre (aunque con distinto CategoriaID), podría causar confusión.\n",
    "- **Acción propuesta:** \n",
    "    - Validar unicidad de nombre de categoria  \n",
    "\n",
    "#### 5.3 Valores atípicos\n",
    "\n",
    "- **Diagnóstico:** No hay valores numericos atípicos. \n",
    "\n",
    "#### 5.4 Consistencia de claves\n",
    "\n",
    "- **CategoriaID:** clave primaria válida, sin duplicados ni nulos.\n",
    "\n",
    "#### 5.5 Texto libre\n",
    "\n",
    "- **Diagnóstico:** `Nombre` y `Descripcion` son campos de texto libre.\n",
    "- **Acción propuesta:** \n",
    "    - Normalizar mayúsculas/minúsculas (ej. todo capitalizado o todo en minúsculas).\n",
    "    - Eliminar espacios extra antes o después del texto.\n",
    "    - Eliminar caracteres especiales innecesarios (signos, tabulaciones ocultas).\n",
    "\n",
    "---\n",
    "\n",
    "**Resumen general:**\n",
    "\n",
    "| Aspecto           | Acción requerida                       |\n",
    "| ----------------- | -------------------------------------  |\n",
    "| Valores nulos     | No                                     |\n",
    "| Duplicados        | Prevenir duplicados en columna `Nombre`|\n",
    "| Outliers          | No relevantes                          |\n",
    "| Claves            | Asegurar unicidad  en `Nombre`         |\n",
    "| Texto libre       | Validar y normalizar                   |\n",
    "\n"
   ]
  },
  {
   "cell_type": "markdown",
   "id": "edcaea32-c641-4389-9d1f-9bc5974c823e",
   "metadata": {},
   "source": [
    "#### Tabla: Ordenes"
   ]
  },
  {
   "cell_type": "code",
   "execution_count": 4,
   "id": "60ff8a0c-02a5-4502-8988-b774739dfa29",
   "metadata": {},
   "outputs": [
    {
     "data": {
      "text/html": [
       "<span style='color: orange; font-size: 14px;\n",
       "    font-weight: bold;'>Tabla: Ordenes</span>"
      ],
      "text/plain": [
       "<IPython.core.display.HTML object>"
      ]
     },
     "metadata": {},
     "output_type": "display_data"
    },
    {
     "data": {
      "text/html": [
       "<span style='color: orange; font-size: 14px;\n",
       "    font-weight: bold;'>Datos de tabla</span>"
      ],
      "text/plain": [
       "<IPython.core.display.HTML object>"
      ]
     },
     "metadata": {},
     "output_type": "display_data"
    },
    {
     "name": "stdout",
     "output_type": "stream",
     "text": [
      "<class 'pandas.core.frame.DataFrame'>\n",
      "RangeIndex: 10000 entries, 0 to 9999\n",
      "Data columns (total 5 columns):\n",
      " #   Column      Non-Null Count  Dtype         \n",
      "---  ------      --------------  -----         \n",
      " 0   OrdenID     10000 non-null  int64         \n",
      " 1   UsuarioID   10000 non-null  int64         \n",
      " 2   FechaOrden  10000 non-null  datetime64[ns]\n",
      " 3   Total       10000 non-null  float64       \n",
      " 4   Estado      10000 non-null  object        \n",
      "dtypes: datetime64[ns](1), float64(1), int64(2), object(1)\n",
      "memory usage: 390.8+ KB\n"
     ]
    },
    {
     "data": {
      "text/plain": [
       "None"
      ]
     },
     "metadata": {},
     "output_type": "display_data"
    },
    {
     "data": {
      "text/html": [
       "<span style='color: orange; font-size: 14px;\n",
       "    font-weight: bold;'>Primeros valores</span>"
      ],
      "text/plain": [
       "<IPython.core.display.HTML object>"
      ]
     },
     "metadata": {},
     "output_type": "display_data"
    },
    {
     "data": {
      "text/html": [
       "<div>\n",
       "<style scoped>\n",
       "    .dataframe tbody tr th:only-of-type {\n",
       "        vertical-align: middle;\n",
       "    }\n",
       "\n",
       "    .dataframe tbody tr th {\n",
       "        vertical-align: top;\n",
       "    }\n",
       "\n",
       "    .dataframe thead th {\n",
       "        text-align: right;\n",
       "    }\n",
       "</style>\n",
       "<table border=\"1\" class=\"dataframe\">\n",
       "  <thead>\n",
       "    <tr style=\"text-align: right;\">\n",
       "      <th></th>\n",
       "      <th>OrdenID</th>\n",
       "      <th>UsuarioID</th>\n",
       "      <th>FechaOrden</th>\n",
       "      <th>Total</th>\n",
       "      <th>Estado</th>\n",
       "    </tr>\n",
       "  </thead>\n",
       "  <tbody>\n",
       "    <tr>\n",
       "      <th>0</th>\n",
       "      <td>1</td>\n",
       "      <td>153</td>\n",
       "      <td>2024-09-09 09:10:27</td>\n",
       "      <td>393.81</td>\n",
       "      <td>Enviado</td>\n",
       "    </tr>\n",
       "    <tr>\n",
       "      <th>1</th>\n",
       "      <td>2</td>\n",
       "      <td>810</td>\n",
       "      <td>2024-09-29 09:10:27</td>\n",
       "      <td>918.85</td>\n",
       "      <td>Completado</td>\n",
       "    </tr>\n",
       "    <tr>\n",
       "      <th>2</th>\n",
       "      <td>3</td>\n",
       "      <td>404</td>\n",
       "      <td>2024-11-03 09:10:27</td>\n",
       "      <td>391.29</td>\n",
       "      <td>Pendiente</td>\n",
       "    </tr>\n",
       "    <tr>\n",
       "      <th>3</th>\n",
       "      <td>4</td>\n",
       "      <td>52</td>\n",
       "      <td>2024-09-14 09:10:27</td>\n",
       "      <td>250.03</td>\n",
       "      <td>Cancelado</td>\n",
       "    </tr>\n",
       "    <tr>\n",
       "      <th>4</th>\n",
       "      <td>5</td>\n",
       "      <td>811</td>\n",
       "      <td>2025-04-11 09:10:27</td>\n",
       "      <td>983.13</td>\n",
       "      <td>Completado</td>\n",
       "    </tr>\n",
       "  </tbody>\n",
       "</table>\n",
       "</div>"
      ],
      "text/plain": [
       "   OrdenID  UsuarioID          FechaOrden   Total      Estado\n",
       "0        1        153 2024-09-09 09:10:27  393.81     Enviado\n",
       "1        2        810 2024-09-29 09:10:27  918.85  Completado\n",
       "2        3        404 2024-11-03 09:10:27  391.29   Pendiente\n",
       "3        4         52 2024-09-14 09:10:27  250.03   Cancelado\n",
       "4        5        811 2025-04-11 09:10:27  983.13  Completado"
      ]
     },
     "metadata": {},
     "output_type": "display_data"
    }
   ],
   "source": [
    "from app.utils import  notebook_utils\n",
    "\n",
    "notebook_utils.show_table_data(\"Ordenes\")"
   ]
  },
  {
   "cell_type": "markdown",
   "id": "5b7f9039-8c06-4a11-8ba0-d06756a02314",
   "metadata": {},
   "source": [
    "#### 1. Información general\n",
    "\n",
    "* Número de registros: 10000\n",
    "* Número de columnas: 5\n",
    "\n",
    "#### 2. Esquema\n",
    "\n",
    "| Columna    | Tipo de dato     | Valores no nulos | Observaciones                                          |\n",
    "| ---------- | ---------------- | ---------------- | ------------------------------------------------------ |\n",
    "| OrdenID    | `int64`          | 10,000           | Clave primaria.                                        |\n",
    "| UsuarioID  | `int64`          | 10,000           | Clave foránea a `Usuarios`.                            |\n",
    "| FechaOrden | `datetime64[ns]` | 10,000           | Fecha en que se realizó la orden.                      |\n",
    "| Total      | `float64`        | 10,000           | Monto total en la orden.                               |\n",
    "| Estado     | `object`         | 10,000           | Estado de la orden (ej. 'Pendiente', 'Completada').    |\n",
    "\n",
    "\n",
    "Observaciones\n",
    "* No hay columnas con valores nulos.\n",
    "* Estructura: los tipos de datos parecen consistentes al atributo que describen\n",
    "* Las claves numéricas (OrdenID, UsuarioID) son consistentes."
   ]
  },
  {
   "cell_type": "code",
   "execution_count": null,
   "id": "cae49427-9c33-4cbe-9cc4-f508999b37b1",
   "metadata": {},
   "outputs": [
    {
     "data": {
      "text/html": [
       "<span style='color: orange; font-size: 14px;\n",
       "    font-weight: bold;'>Columnas con nulos (%)</span>"
      ],
      "text/plain": [
       "<IPython.core.display.HTML object>"
      ]
     },
     "metadata": {},
     "output_type": "display_data"
    },
    {
     "data": {
      "text/plain": [
       "OrdenID       0.0\n",
       "UsuarioID     0.0\n",
       "FechaOrden    0.0\n",
       "Total         0.0\n",
       "Estado        0.0\n",
       "dtype: float64"
      ]
     },
     "metadata": {},
     "output_type": "display_data"
    },
    {
     "data": {
      "text/html": [
       "<span style='color: orange; font-size: 14px;\n",
       "    font-weight: bold;'>Duplicados</span>"
      ],
      "text/plain": [
       "<IPython.core.display.HTML object>"
      ]
     },
     "metadata": {},
     "output_type": "display_data"
    },
    {
     "data": {
      "text/plain": [
       "np.int64(0)"
      ]
     },
     "metadata": {},
     "output_type": "display_data"
    }
   ],
   "source": [
    "from app.utils import notebook_utils\n",
    "\n",
    "notebook_utils.show_duplicates_and_null_info(\"Ordenes\")"
   ]
  },
  {
   "cell_type": "markdown",
   "id": "97b2592f-66b4-4c6b-8b21-a78afbd25f50",
   "metadata": {},
   "source": [
    "#### 3. Calidad de datos\n",
    "* **Valores nulos:** No se encontraron columnas con valores faltantes.\n",
    "\n",
    "* **Duplicados:** No se detectaron registros duplicados.\n",
    "\n",
    "* **Tipos de datos:** los tipos de datos parecen consistentes al atributo que describen\n",
    "\n",
    "* **Claves:** \n",
    "\n",
    "* * **Clave primaria(s):** OrdenID, es unico y sin nulos\n",
    "\n",
    "* * **Claves foráneas:** UsuarioID"
   ]
  },
  {
   "cell_type": "code",
   "execution_count": 9,
   "id": "72de9c74-da20-4bec-a784-88b3f9ec0ec0",
   "metadata": {},
   "outputs": [
    {
     "data": {
      "text/html": [
       "<span style='color: orange; font-size: 14px;\n",
       "    font-weight: bold;'>Estadísticas de tabla</span>"
      ],
      "text/plain": [
       "<IPython.core.display.HTML object>"
      ]
     },
     "metadata": {},
     "output_type": "display_data"
    },
    {
     "data": {
      "text/html": [
       "<div>\n",
       "<style scoped>\n",
       "    .dataframe tbody tr th:only-of-type {\n",
       "        vertical-align: middle;\n",
       "    }\n",
       "\n",
       "    .dataframe tbody tr th {\n",
       "        vertical-align: top;\n",
       "    }\n",
       "\n",
       "    .dataframe thead th {\n",
       "        text-align: right;\n",
       "    }\n",
       "</style>\n",
       "<table border=\"1\" class=\"dataframe\">\n",
       "  <thead>\n",
       "    <tr style=\"text-align: right;\">\n",
       "      <th></th>\n",
       "      <th>OrdenID</th>\n",
       "      <th>UsuarioID</th>\n",
       "      <th>FechaOrden</th>\n",
       "      <th>Total</th>\n",
       "    </tr>\n",
       "  </thead>\n",
       "  <tbody>\n",
       "    <tr>\n",
       "      <th>count</th>\n",
       "      <td>10000.00000</td>\n",
       "      <td>10000.000000</td>\n",
       "      <td>10000</td>\n",
       "      <td>10000.000000</td>\n",
       "    </tr>\n",
       "    <tr>\n",
       "      <th>mean</th>\n",
       "      <td>5000.50000</td>\n",
       "      <td>503.435500</td>\n",
       "      <td>2024-12-30 15:51:12.120000256</td>\n",
       "      <td>507.762898</td>\n",
       "    </tr>\n",
       "    <tr>\n",
       "      <th>min</th>\n",
       "      <td>1.00000</td>\n",
       "      <td>1.000000</td>\n",
       "      <td>2024-06-30 09:10:27</td>\n",
       "      <td>20.110000</td>\n",
       "    </tr>\n",
       "    <tr>\n",
       "      <th>25%</th>\n",
       "      <td>2500.75000</td>\n",
       "      <td>258.000000</td>\n",
       "      <td>2024-09-29 09:10:27</td>\n",
       "      <td>262.915000</td>\n",
       "    </tr>\n",
       "    <tr>\n",
       "      <th>50%</th>\n",
       "      <td>5000.50000</td>\n",
       "      <td>502.500000</td>\n",
       "      <td>2024-12-31 09:10:27</td>\n",
       "      <td>506.795000</td>\n",
       "    </tr>\n",
       "    <tr>\n",
       "      <th>75%</th>\n",
       "      <td>7500.25000</td>\n",
       "      <td>755.000000</td>\n",
       "      <td>2025-04-03 09:10:27</td>\n",
       "      <td>750.382500</td>\n",
       "    </tr>\n",
       "    <tr>\n",
       "      <th>max</th>\n",
       "      <td>10000.00000</td>\n",
       "      <td>1000.000000</td>\n",
       "      <td>2025-06-30 09:10:27</td>\n",
       "      <td>999.990000</td>\n",
       "    </tr>\n",
       "    <tr>\n",
       "      <th>std</th>\n",
       "      <td>2886.89568</td>\n",
       "      <td>288.442075</td>\n",
       "      <td>NaN</td>\n",
       "      <td>281.766761</td>\n",
       "    </tr>\n",
       "  </tbody>\n",
       "</table>\n",
       "</div>"
      ],
      "text/plain": [
       "           OrdenID     UsuarioID                     FechaOrden         Total\n",
       "count  10000.00000  10000.000000                          10000  10000.000000\n",
       "mean    5000.50000    503.435500  2024-12-30 15:51:12.120000256    507.762898\n",
       "min        1.00000      1.000000            2024-06-30 09:10:27     20.110000\n",
       "25%     2500.75000    258.000000            2024-09-29 09:10:27    262.915000\n",
       "50%     5000.50000    502.500000            2024-12-31 09:10:27    506.795000\n",
       "75%     7500.25000    755.000000            2025-04-03 09:10:27    750.382500\n",
       "max    10000.00000   1000.000000            2025-06-30 09:10:27    999.990000\n",
       "std     2886.89568    288.442075                            NaN    281.766761"
      ]
     },
     "metadata": {},
     "output_type": "display_data"
    }
   ],
   "source": [
    "from app.utils import  notebook_utils\n",
    "\n",
    "notebook_utils.show_table_stats(\"Ordenes\")"
   ]
  },
  {
   "cell_type": "markdown",
   "id": "773d81fe-d862-4c1a-b6f1-7c26def52321",
   "metadata": {},
   "source": [
    "#### 4. Anáslisis estadístico\n",
    "\n",
    "__Total__: La desviación estándar es alta ($281.77), indicando gran dispersión.\n",
    "\n",
    "* * La media y la mediana están muy próximas (~$507), lo que sugiere una distribución relativamente simétrica.\n",
    "\n",
    "* * El valor mínimo es de $20.11 y el máximo de $999.99, lo que indica una amplia gama de montos posibles.\n",
    "\n",
    "* * La desviación estándar es alta (~$281), lo que confirma la dispersión de valores.\n",
    "\n",
    "* * El 25% de las órdenes tienen un valor inferior a ~$262.91 y el 75% están por debajo de ~$750.38.\n"
   ]
  },
  {
   "cell_type": "code",
   "execution_count": 1,
   "id": "caec311a-2363-4ee1-b444-0292ca5fbf56",
   "metadata": {},
   "outputs": [
    {
     "name": "stdout",
     "output_type": "stream",
     "text": [
      "Number of outliers in 'Total': 0\n"
     ]
    },
    {
     "data": {
      "image/png": "[encoded data removed]",
      "text/plain": [
       "<Figure size 1000x200 with 1 Axes>"
      ]
     },
     "metadata": {},
     "output_type": "display_data"
    }
   ],
   "source": [
    "from app.utils import plot_utils\n",
    "\n",
    "outliers_total, lower_total, upper_total = plot_utils.plot_boxplot_with_outliers('Ordenes', 'Total', step=50)\n"
   ]
  },
  {
   "cell_type": "markdown",
   "id": "9f21f759-762e-486f-a40e-6709198899af",
   "metadata": {},
   "source": [
    "### 4. Resumen de análisis y acciones propuestas de preprocesamiento y calidad de datos\n",
    "\n",
    "A partir del análisis exploratorio de la tabla `Ordenes`, se proponen las siguientes acciones de limpieza y mejora de calidad:\n",
    "\n",
    "#### 4.1 Valores nulos\n",
    "\n",
    "- **Diagnóstico:** No se encontraron columnas con valores nulos.\n",
    "- **Acción:** No se requiere imputación o eliminación. Se mantiene la estructura original.\n",
    "\n",
    "#### 4.2 Duplicados\n",
    "\n",
    "- **Diagnóstico:** No se detectaron registros duplicados.\n",
    "- **Acción:** No se requiere limpieza en este aspecto. Se recomienda mantener chequeos periódicos al integrar datos nuevos.\n",
    "\n",
    "#### 4.3 Valores atípicos\n",
    "\n",
    "- **Diagnóstico:** En la columna `Total`, el valor máximo (999.99) es alto respecto al Q3 (750.38), aunque no necesariamente inválido.\n",
    "- **Acción propuesta:** \n",
    "  - Validar si esos valores son errores de carga o válidos.\n",
    "  - Si son válidos, incluirlos y documentar como \"transacciones altas\" y tomar en cuenta para calculos \n",
    "\n",
    "\n",
    "#### 4.4 Consistencia de claves\n",
    "\n",
    "- **ProductoID:** clave primaria válida, sin duplicados ni nulos.\n",
    "- **CategoriaID:** clave foránea consistente con la tabla `Usuarios`.\n",
    "\n",
    "- **Acción propuesta:**  Asegurar que al importar datos se mantenga integridad referencial. Puede implementarse con constraints.\n",
    "\n",
    "#### 4.5 Texto libre\n",
    "\n",
    "- **Diagnóstico:** La columna `Estado` es un campo de texto con posibles valores categóricos como 'Pendiente', 'Completado', 'Cancelado','Enviado'.\n",
    "- **Acción propuesta:** \n",
    "  - Propuesta de mejora estructural: extraer los estados a una tabla aparte y usar un FOREIGN KEY en lugar del texto.\n",
    "\n",
    "#### 4.6 Tipos de datos\n",
    "\n",
    "- Todos los tipos de datos son consistentes con el dominio del atributo.\n",
    "- **Acción:** No se requiere cambio, aunque la propuesta de usar EstadoID sería una mejora en integridad y eficiencia.\n",
    "\n",
    "---\n",
    "\n",
    "**Resumen general:**\n",
    "\n",
    "| Aspecto            | Acción requerida                        |\n",
    "| ------------------ | --------------------------------------- |\n",
    "| Valores nulos      | No                                      |\n",
    "| Duplicados         | No                                      |\n",
    "| Outliers           | No                                      |\n",
    "| Claves             | OK. ASegurar integridad con `Usuarios`  |\n",
    "| Texto libre        | Normalizar o reemplazar por ID          |\n",
    "| Tipos de datos     | Consistentes                            |\n",
    "| Mejora estructural | Sugerida tabla `EstadosOrden`           |\n"
   ]
  },
  {
   "cell_type": "markdown",
   "id": "70064346-8b7e-4e8d-8125-0a5d8b91cfe8",
   "metadata": {},
   "source": [
    "#### Tabla: DetalleOrdenes"
   ]
  },
  {
   "cell_type": "code",
   "execution_count": 6,
   "id": "fab32e77-4ea7-4f66-99f5-4a03cb1513b3",
   "metadata": {},
   "outputs": [
    {
     "data": {
      "text/html": [
       "<span style='color: orange; font-size: 14px;\n",
       "    font-weight: bold;'>Tabla: DetalleOrdenes</span>"
      ],
      "text/plain": [
       "<IPython.core.display.HTML object>"
      ]
     },
     "metadata": {},
     "output_type": "display_data"
    },
    {
     "data": {
      "text/html": [
       "<span style='color: orange; font-size: 14px;\n",
       "    font-weight: bold;'>Datos de tabla</span>"
      ],
      "text/plain": [
       "<IPython.core.display.HTML object>"
      ]
     },
     "metadata": {},
     "output_type": "display_data"
    },
    {
     "name": "stdout",
     "output_type": "stream",
     "text": [
      "<class 'pandas.core.frame.DataFrame'>\n",
      "RangeIndex: 10000 entries, 0 to 9999\n",
      "Data columns (total 5 columns):\n",
      " #   Column          Non-Null Count  Dtype  \n",
      "---  ------          --------------  -----  \n",
      " 0   DetalleID       10000 non-null  int64  \n",
      " 1   OrdenID         10000 non-null  int64  \n",
      " 2   ProductoID      10000 non-null  int64  \n",
      " 3   Cantidad        10000 non-null  int64  \n",
      " 4   PrecioUnitario  10000 non-null  float64\n",
      "dtypes: float64(1), int64(4)\n",
      "memory usage: 390.8 KB\n"
     ]
    },
    {
     "data": {
      "text/plain": [
       "None"
      ]
     },
     "metadata": {},
     "output_type": "display_data"
    },
    {
     "data": {
      "text/html": [
       "<span style='color: orange; font-size: 14px;\n",
       "    font-weight: bold;'>Primeros valores</span>"
      ],
      "text/plain": [
       "<IPython.core.display.HTML object>"
      ]
     },
     "metadata": {},
     "output_type": "display_data"
    },
    {
     "data": {
      "text/html": [
       "<div>\n",
       "<style scoped>\n",
       "    .dataframe tbody tr th:only-of-type {\n",
       "        vertical-align: middle;\n",
       "    }\n",
       "\n",
       "    .dataframe tbody tr th {\n",
       "        vertical-align: top;\n",
       "    }\n",
       "\n",
       "    .dataframe thead th {\n",
       "        text-align: right;\n",
       "    }\n",
       "</style>\n",
       "<table border=\"1\" class=\"dataframe\">\n",
       "  <thead>\n",
       "    <tr style=\"text-align: right;\">\n",
       "      <th></th>\n",
       "      <th>DetalleID</th>\n",
       "      <th>OrdenID</th>\n",
       "      <th>ProductoID</th>\n",
       "      <th>Cantidad</th>\n",
       "      <th>PrecioUnitario</th>\n",
       "    </tr>\n",
       "  </thead>\n",
       "  <tbody>\n",
       "    <tr>\n",
       "      <th>0</th>\n",
       "      <td>1</td>\n",
       "      <td>833</td>\n",
       "      <td>33</td>\n",
       "      <td>1</td>\n",
       "      <td>425.26</td>\n",
       "    </tr>\n",
       "    <tr>\n",
       "      <th>1</th>\n",
       "      <td>2</td>\n",
       "      <td>657</td>\n",
       "      <td>21</td>\n",
       "      <td>4</td>\n",
       "      <td>307.13</td>\n",
       "    </tr>\n",
       "    <tr>\n",
       "      <th>2</th>\n",
       "      <td>3</td>\n",
       "      <td>911</td>\n",
       "      <td>15</td>\n",
       "      <td>4</td>\n",
       "      <td>444.75</td>\n",
       "    </tr>\n",
       "    <tr>\n",
       "      <th>3</th>\n",
       "      <td>4</td>\n",
       "      <td>818</td>\n",
       "      <td>26</td>\n",
       "      <td>5</td>\n",
       "      <td>346.24</td>\n",
       "    </tr>\n",
       "    <tr>\n",
       "      <th>4</th>\n",
       "      <td>5</td>\n",
       "      <td>695</td>\n",
       "      <td>12</td>\n",
       "      <td>3</td>\n",
       "      <td>155.05</td>\n",
       "    </tr>\n",
       "  </tbody>\n",
       "</table>\n",
       "</div>"
      ],
      "text/plain": [
       "   DetalleID  OrdenID  ProductoID  Cantidad  PrecioUnitario\n",
       "0          1      833          33         1          425.26\n",
       "1          2      657          21         4          307.13\n",
       "2          3      911          15         4          444.75\n",
       "3          4      818          26         5          346.24\n",
       "4          5      695          12         3          155.05"
      ]
     },
     "metadata": {},
     "output_type": "display_data"
    }
   ],
   "source": [
    "from app.utils import  notebook_utils\n",
    "\n",
    "notebook_utils.show_table_data(\"DetalleOrdenes\")"
   ]
  },
  {
   "cell_type": "markdown",
   "id": "8102f56f-921a-408f-bcc3-b821143583fd",
   "metadata": {},
   "source": [
    "#### 1. Información general\n",
    "\n",
    "* Número de registros: 10000\n",
    "* Número de columnas: 5\n",
    "\n",
    "#### 2. Esquema\n",
    "\n",
    "| Columna            | Tipo de dato     | Valores no nulos | Observaciones                                          |\n",
    "| -----------------  | ---------------- | ---------------- | ------------------------------------------------------ |\n",
    "| DetalleID          | `int64`          | 10,000           | Clave primaria.                                        |\n",
    "| OrdenID            | `int64`          | 10,000           | Clave foránea a `Ordenes`.                             |\n",
    "| ProductoID         | `datetime64[ns]` | 10,000           | Clave foránea a `Productos`.                           |\n",
    "| Cantidad           | `int64`          | 10,000           | Numero de productos.                                   |\n",
    "| PrecioUnitario     | `float64`        | 10,000           | Precio de cada producto                                |\n",
    "\n",
    "\n",
    "Observaciones\n",
    "* No hay columnas con valores nulos.\n",
    "* Las claves numéricas (OrdenID, ProductoID) son consistentes."
   ]
  },
  {
   "cell_type": "code",
   "execution_count": 3,
   "id": "152ecbf6-38c0-4ecb-b27b-e6ca09cb78bc",
   "metadata": {},
   "outputs": [
    {
     "data": {
      "text/html": [
       "<span style='color: orange; font-size: 14px;\n",
       "    font-weight: bold;'>Columnas con nulos (%)</span>"
      ],
      "text/plain": [
       "<IPython.core.display.HTML object>"
      ]
     },
     "metadata": {},
     "output_type": "display_data"
    },
    {
     "data": {
      "text/plain": [
       "DetalleID         0.0\n",
       "OrdenID           0.0\n",
       "ProductoID        0.0\n",
       "Cantidad          0.0\n",
       "PrecioUnitario    0.0\n",
       "dtype: float64"
      ]
     },
     "metadata": {},
     "output_type": "display_data"
    },
    {
     "data": {
      "text/html": [
       "<span style='color: orange; font-size: 14px;\n",
       "    font-weight: bold;'>Duplicados</span>"
      ],
      "text/plain": [
       "<IPython.core.display.HTML object>"
      ]
     },
     "metadata": {},
     "output_type": "display_data"
    },
    {
     "data": {
      "text/plain": [
       "np.int64(0)"
      ]
     },
     "metadata": {},
     "output_type": "display_data"
    }
   ],
   "source": [
    "from app.utils import notebook_utils\n",
    "\n",
    "notebook_utils.show_duplicates_and_null_info(\"DetalleOrdenes\")"
   ]
  },
  {
   "cell_type": "markdown",
   "id": "f54bce68-5fde-414c-bd30-2ea2f42705ca",
   "metadata": {},
   "source": [
    "#### 3. Calidad de datos\n",
    "* **Valores nulos:** No se encontraron columnas con valores faltantes.\n",
    "\n",
    "* **Duplicados:** No se detectaron registros duplicados.\n",
    "\n",
    "* **Tipos de datos:** los tipos de datos parecen consistentes al atributo que describen\n",
    "\n",
    "* **Claves:** \n",
    "\n",
    "* * **Clave primaria(s):** DetalleID, es unico y sin nulos\n",
    "\n",
    "* * **Claves foráneas:** OrdenID, referencia a tabla Ordenes (orden a la que pertence el detalle) , ProductoID (Productos)"
   ]
  },
  {
   "cell_type": "code",
   "execution_count": 4,
   "id": "71bd0687-99fb-4209-bb30-bcea41a8495d",
   "metadata": {},
   "outputs": [
    {
     "data": {
      "text/html": [
       "<span style='color: orange; font-size: 14px;\n",
       "    font-weight: bold;'>Estadísticas de tabla</span>"
      ],
      "text/plain": [
       "<IPython.core.display.HTML object>"
      ]
     },
     "metadata": {},
     "output_type": "display_data"
    },
    {
     "data": {
      "text/html": [
       "<div>\n",
       "<style scoped>\n",
       "    .dataframe tbody tr th:only-of-type {\n",
       "        vertical-align: middle;\n",
       "    }\n",
       "\n",
       "    .dataframe tbody tr th {\n",
       "        vertical-align: top;\n",
       "    }\n",
       "\n",
       "    .dataframe thead th {\n",
       "        text-align: right;\n",
       "    }\n",
       "</style>\n",
       "<table border=\"1\" class=\"dataframe\">\n",
       "  <thead>\n",
       "    <tr style=\"text-align: right;\">\n",
       "      <th></th>\n",
       "      <th>DetalleID</th>\n",
       "      <th>OrdenID</th>\n",
       "      <th>ProductoID</th>\n",
       "      <th>Cantidad</th>\n",
       "      <th>PrecioUnitario</th>\n",
       "    </tr>\n",
       "  </thead>\n",
       "  <tbody>\n",
       "    <tr>\n",
       "      <th>count</th>\n",
       "      <td>10000.00000</td>\n",
       "      <td>10000.000000</td>\n",
       "      <td>10000.000000</td>\n",
       "      <td>10000.000000</td>\n",
       "      <td>10000.000000</td>\n",
       "    </tr>\n",
       "    <tr>\n",
       "      <th>mean</th>\n",
       "      <td>5000.50000</td>\n",
       "      <td>498.860600</td>\n",
       "      <td>18.549300</td>\n",
       "      <td>2.988900</td>\n",
       "      <td>254.936449</td>\n",
       "    </tr>\n",
       "    <tr>\n",
       "      <th>std</th>\n",
       "      <td>2886.89568</td>\n",
       "      <td>287.961306</td>\n",
       "      <td>10.446372</td>\n",
       "      <td>1.415407</td>\n",
       "      <td>141.994974</td>\n",
       "    </tr>\n",
       "    <tr>\n",
       "      <th>min</th>\n",
       "      <td>1.00000</td>\n",
       "      <td>1.000000</td>\n",
       "      <td>1.000000</td>\n",
       "      <td>1.000000</td>\n",
       "      <td>10.070000</td>\n",
       "    </tr>\n",
       "    <tr>\n",
       "      <th>25%</th>\n",
       "      <td>2500.75000</td>\n",
       "      <td>250.750000</td>\n",
       "      <td>9.000000</td>\n",
       "      <td>2.000000</td>\n",
       "      <td>130.800000</td>\n",
       "    </tr>\n",
       "    <tr>\n",
       "      <th>50%</th>\n",
       "      <td>5000.50000</td>\n",
       "      <td>498.000000</td>\n",
       "      <td>19.000000</td>\n",
       "      <td>3.000000</td>\n",
       "      <td>255.350000</td>\n",
       "    </tr>\n",
       "    <tr>\n",
       "      <th>75%</th>\n",
       "      <td>7500.25000</td>\n",
       "      <td>744.000000</td>\n",
       "      <td>28.000000</td>\n",
       "      <td>4.000000</td>\n",
       "      <td>377.710000</td>\n",
       "    </tr>\n",
       "    <tr>\n",
       "      <th>max</th>\n",
       "      <td>10000.00000</td>\n",
       "      <td>1000.000000</td>\n",
       "      <td>36.000000</td>\n",
       "      <td>5.000000</td>\n",
       "      <td>499.900000</td>\n",
       "    </tr>\n",
       "  </tbody>\n",
       "</table>\n",
       "</div>"
      ],
      "text/plain": [
       "         DetalleID       OrdenID    ProductoID      Cantidad  PrecioUnitario\n",
       "count  10000.00000  10000.000000  10000.000000  10000.000000    10000.000000\n",
       "mean    5000.50000    498.860600     18.549300      2.988900      254.936449\n",
       "std     2886.89568    287.961306     10.446372      1.415407      141.994974\n",
       "min        1.00000      1.000000      1.000000      1.000000       10.070000\n",
       "25%     2500.75000    250.750000      9.000000      2.000000      130.800000\n",
       "50%     5000.50000    498.000000     19.000000      3.000000      255.350000\n",
       "75%     7500.25000    744.000000     28.000000      4.000000      377.710000\n",
       "max    10000.00000   1000.000000     36.000000      5.000000      499.900000"
      ]
     },
     "metadata": {},
     "output_type": "display_data"
    }
   ],
   "source": [
    "from app.utils import notebook_utils\n",
    "\n",
    "notebook_utils.show_table_stats(\"DetalleOrdenes\")"
   ]
  },
  {
   "cell_type": "markdown",
   "id": "9cc08ae9-32a7-4608-a260-c040c2c5f7d5",
   "metadata": {},
   "source": [
    "#### 4. Anáslisis estadístico\n",
    "Se evalua columna Cantidad ya que es la que describe comportamiento del usuario , respecto a cuantas unidades compró de un producto\n",
    "\n",
    "__Cantidad__: La desviación estándar es alta (1.42), coincidiendo con lo sugerido por la mediana y el promedio.\n",
    "\n",
    "* * La media y la mediana están muy próximas (~3), lo que sugiere una distribución simétrica.\n",
    "\n",
    "* * El valor mínimo es 1 (lo esperado considerando numero de items)  y el máximo es 5.\n",
    "\n",
    "* * Aparenta una baja dispersión , que se confirmará en análisis gráfico"
   ]
  },
  {
   "cell_type": "code",
   "execution_count": 5,
   "id": "3c56ee37-fb37-461f-84ae-aca11987c8b0",
   "metadata": {},
   "outputs": [
    {
     "name": "stdout",
     "output_type": "stream",
     "text": [
      "Number of outliers in 'Cantidad': 0\n"
     ]
    },
    {
     "data": {
      "image/png": "[encoded data removed]",
      "text/plain": [
       "<Figure size 1000x200 with 1 Axes>"
      ]
     },
     "metadata": {},
     "output_type": "display_data"
    }
   ],
   "source": [
    "from app.utils import plot_utils\n",
    "\n",
    "outliers_total, lower_total, upper_total = plot_utils.plot_boxplot_with_outliers('DetalleOrdenes', 'Cantidad', step=1)"
   ]
  },
  {
   "cell_type": "markdown",
   "id": "ce271291-c57d-4673-8752-512330bb3bb5",
   "metadata": {},
   "source": [
    "### 5. Resumen de análisis y acciones propuestas de preprocesamiento y calidad de datos\n",
    "\n",
    "A partir del análisis exploratorio de la tabla `DetalleOrdenes`, se proponen las siguientes acciones de limpieza y mejora de calidad:\n",
    "\n",
    "#### 5.1 Valores nulos\n",
    "\n",
    "- **Diagnóstico:** No se encontraron columnas con valores nulos.\n",
    "- **Acción:** Se mantiene la estructura original.\n",
    "\n",
    "#### 5.2 Duplicados\n",
    "\n",
    "- **Diagnóstico:** No se detectaron registros duplicados.\n",
    "- **Acción:** No se requiere limpieza en este aspecto.\n",
    "\n",
    "#### 5.3 Valores atípicos\n",
    "\n",
    "- **Diagnóstico:** En la columna `Total`, el valor máximo (999.99) es alto respecto al Q3 (750.38), aunque no necesariamente inválido.\n",
    "- **Acción propuesta:** \n",
    "  - Validar si esos valores son errores de carga o válidos.\n",
    "  - Si son válidos, incluirlos y documentar como \"transacciones altas\" y tomar en cuenta para calculos \n",
    "\n",
    "\n",
    "#### 5.4 Consistencia de claves\n",
    "\n",
    "- **DetalleID:** clave primaria válida, sin duplicados ni nulos.\n",
    "- **OrdenID:** clave foránea consistente con la tabla `Ordenes`.\n",
    "- **ProductoID:** clave foránea consistente con la tabla `Productos`.\n",
    "\n",
    "- **Acción propuesta:**  Asegurar que las claves se mantengan válidas y con constraints activos en procesos de carga.\n",
    "\n",
    "#### 5.5 Tipos de datos\n",
    "\n",
    "- Todos los tipos de datos son consistentes con el dominio del atributo.\n",
    "\n",
    "---\n",
    "\n",
    "**Resumen general:**\n",
    "\n",
    "| Aspecto                    | Acción requerida                            |\n",
    "| -------------------------- | ------------------------------------------- |\n",
    "| Valores nulos              | No                                          |\n",
    "| Duplicados                 | No                                          |\n",
    "| Outliers                   | No aparentes                                |\n",
    "| Claves                     | Consistentes                                |\n",
    "| Tipos de datos             | OK                                          |\n"
   ]
  },
  {
   "cell_type": "markdown",
   "id": "11b4335c-35ef-4e9f-a3cd-947c97639a1c",
   "metadata": {},
   "source": [
    "#### Tabla: DireccionesEnvio"
   ]
  },
  {
   "cell_type": "code",
   "execution_count": 7,
   "id": "4bf1374d-6fd6-438b-b984-4b9927a954e5",
   "metadata": {},
   "outputs": [
    {
     "data": {
      "text/html": [
       "<span style='color: orange; font-size: 14px;\n",
       "    font-weight: bold;'>Tabla: DireccionesEnvio</span>"
      ],
      "text/plain": [
       "<IPython.core.display.HTML object>"
      ]
     },
     "metadata": {},
     "output_type": "display_data"
    },
    {
     "data": {
      "text/html": [
       "<span style='color: orange; font-size: 14px;\n",
       "    font-weight: bold;'>Datos de tabla</span>"
      ],
      "text/plain": [
       "<IPython.core.display.HTML object>"
      ]
     },
     "metadata": {},
     "output_type": "display_data"
    },
    {
     "name": "stdout",
     "output_type": "stream",
     "text": [
      "<class 'pandas.core.frame.DataFrame'>\n",
      "RangeIndex: 1000 entries, 0 to 999\n",
      "Data columns (total 10 columns):\n",
      " #   Column        Non-Null Count  Dtype \n",
      "---  ------        --------------  ----- \n",
      " 0   DireccionID   1000 non-null   int64 \n",
      " 1   UsuarioID     1000 non-null   int64 \n",
      " 2   Calle         1000 non-null   object\n",
      " 3   Ciudad        1000 non-null   object\n",
      " 4   Departamento  1000 non-null   object\n",
      " 5   Provincia     1000 non-null   object\n",
      " 6   Distrito      1000 non-null   object\n",
      " 7   Estado        1000 non-null   object\n",
      " 8   CodigoPostal  1000 non-null   object\n",
      " 9   Pais          1000 non-null   object\n",
      "dtypes: int64(2), object(8)\n",
      "memory usage: 78.3+ KB\n"
     ]
    },
    {
     "data": {
      "text/plain": [
       "None"
      ]
     },
     "metadata": {},
     "output_type": "display_data"
    },
    {
     "data": {
      "text/html": [
       "<span style='color: orange; font-size: 14px;\n",
       "    font-weight: bold;'>Primeros valores</span>"
      ],
      "text/plain": [
       "<IPython.core.display.HTML object>"
      ]
     },
     "metadata": {},
     "output_type": "display_data"
    },
    {
     "data": {
      "text/html": [
       "<div>\n",
       "<style scoped>\n",
       "    .dataframe tbody tr th:only-of-type {\n",
       "        vertical-align: middle;\n",
       "    }\n",
       "\n",
       "    .dataframe tbody tr th {\n",
       "        vertical-align: top;\n",
       "    }\n",
       "\n",
       "    .dataframe thead th {\n",
       "        text-align: right;\n",
       "    }\n",
       "</style>\n",
       "<table border=\"1\" class=\"dataframe\">\n",
       "  <thead>\n",
       "    <tr style=\"text-align: right;\">\n",
       "      <th></th>\n",
       "      <th>DireccionID</th>\n",
       "      <th>UsuarioID</th>\n",
       "      <th>Calle</th>\n",
       "      <th>Ciudad</th>\n",
       "      <th>Departamento</th>\n",
       "      <th>Provincia</th>\n",
       "      <th>Distrito</th>\n",
       "      <th>Estado</th>\n",
       "      <th>CodigoPostal</th>\n",
       "      <th>Pais</th>\n",
       "    </tr>\n",
       "  </thead>\n",
       "  <tbody>\n",
       "    <tr>\n",
       "      <th>0</th>\n",
       "      <td>1</td>\n",
       "      <td>1</td>\n",
       "      <td>Diagonal Chilecito N° 335</td>\n",
       "      <td>Comodoro Rivadavia</td>\n",
       "      <td>Mendoza</td>\n",
       "      <td>Mendoza</td>\n",
       "      <td>Recoleta</td>\n",
       "      <td>Mendoza</td>\n",
       "      <td>10044733</td>\n",
       "      <td>Argentina</td>\n",
       "    </tr>\n",
       "    <tr>\n",
       "      <th>1</th>\n",
       "      <td>2</td>\n",
       "      <td>2</td>\n",
       "      <td>Diagonal Río Negro N° 497</td>\n",
       "      <td>Rawson</td>\n",
       "      <td>Tierra del Fuego</td>\n",
       "      <td>Tierra del Fuego</td>\n",
       "      <td>Palermo</td>\n",
       "      <td>Tierra del Fuego</td>\n",
       "      <td>76007280</td>\n",
       "      <td>Argentina</td>\n",
       "    </tr>\n",
       "    <tr>\n",
       "      <th>2</th>\n",
       "      <td>3</td>\n",
       "      <td>3</td>\n",
       "      <td>Blv. Formosa N° 118</td>\n",
       "      <td>Mar del Plata</td>\n",
       "      <td>Salta</td>\n",
       "      <td>Salta</td>\n",
       "      <td>Barracas</td>\n",
       "      <td>Salta</td>\n",
       "      <td>53604249</td>\n",
       "      <td>Argentina</td>\n",
       "    </tr>\n",
       "    <tr>\n",
       "      <th>3</th>\n",
       "      <td>4</td>\n",
       "      <td>4</td>\n",
       "      <td>Avenida La Rioja N° 612</td>\n",
       "      <td>San Juan</td>\n",
       "      <td>Neuquén</td>\n",
       "      <td>Neuquén</td>\n",
       "      <td>Flores</td>\n",
       "      <td>Neuquén</td>\n",
       "      <td>91031542</td>\n",
       "      <td>Argentina</td>\n",
       "    </tr>\n",
       "    <tr>\n",
       "      <th>4</th>\n",
       "      <td>5</td>\n",
       "      <td>5</td>\n",
       "      <td>Calle Neuquén N° 535</td>\n",
       "      <td>San Juan</td>\n",
       "      <td>Catamarca</td>\n",
       "      <td>Catamarca</td>\n",
       "      <td>Barracas</td>\n",
       "      <td>Catamarca</td>\n",
       "      <td>33002152</td>\n",
       "      <td>Argentina</td>\n",
       "    </tr>\n",
       "  </tbody>\n",
       "</table>\n",
       "</div>"
      ],
      "text/plain": [
       "   DireccionID  UsuarioID                      Calle              Ciudad  \\\n",
       "0            1          1  Diagonal Chilecito N° 335  Comodoro Rivadavia   \n",
       "1            2          2  Diagonal Río Negro N° 497              Rawson   \n",
       "2            3          3        Blv. Formosa N° 118       Mar del Plata   \n",
       "3            4          4    Avenida La Rioja N° 612            San Juan   \n",
       "4            5          5       Calle Neuquén N° 535            San Juan   \n",
       "\n",
       "       Departamento         Provincia  Distrito            Estado  \\\n",
       "0           Mendoza           Mendoza  Recoleta           Mendoza   \n",
       "1  Tierra del Fuego  Tierra del Fuego   Palermo  Tierra del Fuego   \n",
       "2             Salta             Salta  Barracas             Salta   \n",
       "3           Neuquén           Neuquén    Flores           Neuquén   \n",
       "4         Catamarca         Catamarca  Barracas         Catamarca   \n",
       "\n",
       "  CodigoPostal       Pais  \n",
       "0     10044733  Argentina  \n",
       "1     76007280  Argentina  \n",
       "2     53604249  Argentina  \n",
       "3     91031542  Argentina  \n",
       "4     33002152  Argentina  "
      ]
     },
     "metadata": {},
     "output_type": "display_data"
    }
   ],
   "source": [
    "from app.utils import notebook_utils\n",
    "\n",
    "notebook_utils.show_table_data(\"DireccionesEnvio\")"
   ]
  },
  {
   "cell_type": "markdown",
   "id": "48678baf-a12d-456d-a7f8-afb0f7d42f1e",
   "metadata": {},
   "source": [
    "#### 1. Información general\n",
    "\n",
    "* Número de registros: 1000\n",
    "* Número de columnas: 10\n",
    "\n",
    "#### 2. Esquema\n",
    "\n",
    "| Columna      | Tipo de dato | Valores no nulos | Observaciones                                        |\n",
    "| ------------ | ------------ | ---------------- | ---------------------------------------------------- |\n",
    "| DireccionID  | int64        | 1000             | Clave primaria.                                      |\n",
    "| UsuarioID    | int64        | 1000             | Clave foránea a `Usuarios`.                          |\n",
    "| Calle        | object       | 1000             | Texto libre.                                         |\n",
    "| Ciudad       | object       | 1000             | Texto libre.                                         |\n",
    "| Departamento | object       | 1000             | Texto libre, posible redundancia con `Provincia`.    |\n",
    "| Provincia    | object       | 1000             | Texto libre.                                         |\n",
    "| Distrito     | object       | 1000             | Texto libre. Puede no ser aplicable en todos países. |\n",
    "| Estado       | object       | 1000             | Texto libre. Posible solapamiento con Provincia.     |\n",
    "| CodigoPostal | object       | 1000             | Alfanumérico, no numérico.                           |\n",
    "| Pais         | object       | 1000             | Texto libre. Requiere estandarización.               |\n",
    "\n",
    "Observaciones\n",
    "* No hay columnas con valores nulos.\n",
    "\n",
    "* Los tipos de datos son consistentes con los atributos que describen.\n",
    "\n",
    "* Las claves numéricas (DireccionID, UsuarioID) son consistentes y no tienen valores nulos.\n",
    "\n",
    "* Se recomienda limpieza y estandarización de los campos de texto (mayúsculas, espacios, abreviaciones).\n",
    "\n",
    "* Es conveniente evaluar la normalización de campos geográficos para evitar redundancia e inconsistencias."
   ]
  },
  {
   "cell_type": "code",
   "execution_count": 10,
   "id": "b8ca4323-6554-42dd-9ffc-9a24f2c2b40d",
   "metadata": {},
   "outputs": [
    {
     "data": {
      "text/html": [
       "<span style='color: orange; font-size: 14px;\n",
       "    font-weight: bold;'>Columnas con nulos (%)</span>"
      ],
      "text/plain": [
       "<IPython.core.display.HTML object>"
      ]
     },
     "metadata": {},
     "output_type": "display_data"
    },
    {
     "data": {
      "text/plain": [
       "DireccionID     0.0\n",
       "UsuarioID       0.0\n",
       "Calle           0.0\n",
       "Ciudad          0.0\n",
       "Departamento    0.0\n",
       "Provincia       0.0\n",
       "Distrito        0.0\n",
       "Estado          0.0\n",
       "CodigoPostal    0.0\n",
       "Pais            0.0\n",
       "dtype: float64"
      ]
     },
     "metadata": {},
     "output_type": "display_data"
    },
    {
     "data": {
      "text/html": [
       "<span style='color: orange; font-size: 14px;\n",
       "    font-weight: bold;'>Duplicados</span>"
      ],
      "text/plain": [
       "<IPython.core.display.HTML object>"
      ]
     },
     "metadata": {},
     "output_type": "display_data"
    },
    {
     "data": {
      "text/plain": [
       "np.int64(0)"
      ]
     },
     "metadata": {},
     "output_type": "display_data"
    }
   ],
   "source": [
    "from app.utils import notebook_utils\n",
    "\n",
    "notebook_utils.show_duplicates_and_null_info(\"DireccionesEnvio\")"
   ]
  },
  {
   "cell_type": "markdown",
   "id": "d363c871-761c-4dbd-a530-8ffdf2289eee",
   "metadata": {},
   "source": [
    "#### 3. Calidad de datos\n",
    "* **Valores nulos:** No se encontraron columnas con valores faltantes.\n",
    "\n",
    "* **Duplicados:** No se detectaron registros duplicados.\n",
    "\n",
    "* **Tipos de datos:** los tipos de datos parecen consistentes al atributo que describen\n",
    "\n",
    "* **Claves:** Las claves numéricas (DireccionID, UsuarioID) son consistentes. \n",
    "\n",
    "* * **Clave primaria(s):** DireccionID, es unico y sin nulos\n",
    "\n",
    "* * **Claves foráneas:** UsuarioID"
   ]
  },
  {
   "cell_type": "code",
   "execution_count": 23,
   "id": "602d706c-5399-4635-abf5-0b2f979a99fb",
   "metadata": {},
   "outputs": [
    {
     "data": {
      "text/html": [
       "<span style='color: blue; font-size: 14px;\n",
       "    font-weight: bold;'>Exploración frecuencia por campos geográficos</span>"
      ],
      "text/plain": [
       "<IPython.core.display.HTML object>"
      ]
     },
     "metadata": {},
     "output_type": "display_data"
    },
    {
     "data": {
      "text/html": [
       "<span style='color: orange; font-size: 14px;\n",
       "    font-weight: bold;'>Frecuencia datos únicos en País</span>"
      ],
      "text/plain": [
       "<IPython.core.display.HTML object>"
      ]
     },
     "metadata": {},
     "output_type": "display_data"
    },
    {
     "data": {
      "text/plain": [
       "Pais\n",
       "Argentina    1000\n",
       "Name: count, dtype: int64"
      ]
     },
     "metadata": {},
     "output_type": "display_data"
    },
    {
     "data": {
      "text/html": [
       "<span style='color: orange; font-size: 14px;\n",
       "    font-weight: bold;'>Frecuencia datos únicos en Provincia</span>"
      ],
      "text/plain": [
       "<IPython.core.display.HTML object>"
      ]
     },
     "metadata": {},
     "output_type": "display_data"
    },
    {
     "data": {
      "text/plain": [
       "Provincia\n",
       "Formosa                55\n",
       "Chubut                 53\n",
       "Tierra del Fuego       53\n",
       "Salta                  52\n",
       "La Pampa               47\n",
       "Mendoza                47\n",
       "Catamarca              46\n",
       "San Juan               45\n",
       "Neuquén                44\n",
       "Córdoba                44\n",
       "San Luis               44\n",
       "Entre Ríos             43\n",
       "Tucumán                43\n",
       "Río Negro              42\n",
       "Jujuy                  42\n",
       "Chaco                  42\n",
       "Misiones               40\n",
       "Santa Fe               39\n",
       "La Rioja               38\n",
       "Santiago del Estero    37\n",
       "Buenos Aires           36\n",
       "Corrientes             34\n",
       "Santa Cruz             34\n",
       "Name: count, dtype: int64"
      ]
     },
     "metadata": {},
     "output_type": "display_data"
    },
    {
     "data": {
      "text/html": [
       "<span style='color: orange; font-size: 14px;\n",
       "    font-weight: bold;'>Frecuencia datos únicos en Ciudad</span>"
      ],
      "text/plain": [
       "<IPython.core.display.HTML object>"
      ]
     },
     "metadata": {},
     "output_type": "display_data"
    },
    {
     "data": {
      "text/plain": [
       "Ciudad\n",
       "San Juan                              49\n",
       "Bahía Blanca                          43\n",
       "Córdoba                               42\n",
       "Resistencia                           41\n",
       "Ushuaia                               40\n",
       "Santa Fe                              39\n",
       "Posadas                               39\n",
       "Rawson                                38\n",
       "Río Gallegos                          38\n",
       "Santa Rosa                            37\n",
       "La Rioja                              36\n",
       "Merlo                                 35\n",
       "Neuquén                               35\n",
       "San Miguel de Tucumán                 34\n",
       "Santiago del Estero                   33\n",
       "Comodoro Rivadavia                    33\n",
       "San Ferando del Valle de Catamarca    33\n",
       "Rosario                               33\n",
       "San Luis                              32\n",
       "Formosa                               31\n",
       "Chilecito                             30\n",
       "La Plata                              29\n",
       "Corrientes                            29\n",
       "Mendoza                               28\n",
       "Viedma                                27\n",
       "Paraná                                27\n",
       "Mar del Plata                         26\n",
       "Salta                                 23\n",
       "San Salvador de Jujuy                 20\n",
       "Constitución                          20\n",
       "Name: count, dtype: int64"
      ]
     },
     "metadata": {},
     "output_type": "display_data"
    },
    {
     "data": {
      "text/html": [
       "<span style='color: blue; font-size: 14px;\n",
       "    font-weight: bold;'>Número de valores únicos para ver la granularidad</span>"
      ],
      "text/plain": [
       "<IPython.core.display.HTML object>"
      ]
     },
     "metadata": {},
     "output_type": "display_data"
    },
    {
     "data": {
      "text/html": [
       "<span style='color: orange; font-size: 14px;\n",
       "    font-weight: bold;'>Frecuencia datos únicos en País</span>"
      ],
      "text/plain": [
       "<IPython.core.display.HTML object>"
      ]
     },
     "metadata": {},
     "output_type": "display_data"
    },
    {
     "data": {
      "text/plain": [
       "Pais\n",
       "Argentina    1000\n",
       "Name: count, dtype: int64"
      ]
     },
     "metadata": {},
     "output_type": "display_data"
    },
    {
     "data": {
      "text/html": [
       "<span style='color: orange; font-size: 14px;\n",
       "    font-weight: bold;'>Frecuencia datos únicos en Provincia</span>"
      ],
      "text/plain": [
       "<IPython.core.display.HTML object>"
      ]
     },
     "metadata": {},
     "output_type": "display_data"
    },
    {
     "data": {
      "text/plain": [
       "Provincia\n",
       "Formosa                55\n",
       "Chubut                 53\n",
       "Tierra del Fuego       53\n",
       "Salta                  52\n",
       "La Pampa               47\n",
       "Mendoza                47\n",
       "Catamarca              46\n",
       "San Juan               45\n",
       "Neuquén                44\n",
       "Córdoba                44\n",
       "San Luis               44\n",
       "Entre Ríos             43\n",
       "Tucumán                43\n",
       "Río Negro              42\n",
       "Jujuy                  42\n",
       "Chaco                  42\n",
       "Misiones               40\n",
       "Santa Fe               39\n",
       "La Rioja               38\n",
       "Santiago del Estero    37\n",
       "Buenos Aires           36\n",
       "Corrientes             34\n",
       "Santa Cruz             34\n",
       "Name: count, dtype: int64"
      ]
     },
     "metadata": {},
     "output_type": "display_data"
    },
    {
     "data": {
      "text/html": [
       "<span style='color: orange; font-size: 14px;\n",
       "    font-weight: bold;'>Frecuencia datos únicos en Ciudad</span>"
      ],
      "text/plain": [
       "<IPython.core.display.HTML object>"
      ]
     },
     "metadata": {},
     "output_type": "display_data"
    },
    {
     "data": {
      "text/plain": [
       "Ciudad\n",
       "San Juan                              49\n",
       "Bahía Blanca                          43\n",
       "Córdoba                               42\n",
       "Resistencia                           41\n",
       "Ushuaia                               40\n",
       "Santa Fe                              39\n",
       "Posadas                               39\n",
       "Rawson                                38\n",
       "Río Gallegos                          38\n",
       "Santa Rosa                            37\n",
       "La Rioja                              36\n",
       "Merlo                                 35\n",
       "Neuquén                               35\n",
       "San Miguel de Tucumán                 34\n",
       "Santiago del Estero                   33\n",
       "Comodoro Rivadavia                    33\n",
       "San Ferando del Valle de Catamarca    33\n",
       "Rosario                               33\n",
       "San Luis                              32\n",
       "Formosa                               31\n",
       "Chilecito                             30\n",
       "La Plata                              29\n",
       "Corrientes                            29\n",
       "Mendoza                               28\n",
       "Viedma                                27\n",
       "Paraná                                27\n",
       "Mar del Plata                         26\n",
       "Salta                                 23\n",
       "San Salvador de Jujuy                 20\n",
       "Constitución                          20\n",
       "Name: count, dtype: int64"
      ]
     },
     "metadata": {},
     "output_type": "display_data"
    }
   ],
   "source": [
    "from app.utils import postgres_utils, notebook_utils\n",
    "\n",
    "data_frame = postgres_utils.run_query(\"SELECT * FROM \\\"DireccionesEnvio\\\";\")\n",
    "\n",
    "notebook_utils.print_colored(f\"Exploración frecuencia por campos geográficos\", \"blue\")\n",
    "\n",
    "notebook_utils.print_colored(f\"Frecuencia datos únicos en País\", \"orange\")\n",
    "country_data = data_frame['Pais'].value_counts(dropna=False)\n",
    "display(country_data)\n",
    "\n",
    "notebook_utils.print_colored(f\"Frecuencia datos únicos en Provincia\", \"orange\")\n",
    "province_data = data_frame['Provincia'].value_counts(dropna=False)\n",
    "display(province_data)\n",
    "\n",
    "notebook_utils.print_colored(f\"Frecuencia datos únicos en Ciudad\", \"orange\")\n",
    "city_data= data_frame['Ciudad'].value_counts(dropna=False)\n",
    "display(city_data)\n",
    "\n",
    "notebook_utils.print_colored(f\"Número de valores únicos para ver la granularidad\", \"blue\")\n",
    "\n",
    "notebook_utils.print_colored(f\"Frecuencia datos únicos en País\", \"orange\")\n",
    "country_data_unique = data_frame['Pais'].nunique()\n",
    "display(country_data)\n",
    "\n",
    "notebook_utils.print_colored(f\"Frecuencia datos únicos en Provincia\", \"orange\")\n",
    "province_data_unique = data_frame['Provincia'].nunique()\n",
    "display(province_data)\n",
    "\n",
    "notebook_utils.print_colored(f\"Frecuencia datos únicos en Ciudad\", \"orange\")\n",
    "city_data_unique= data_frame['Ciudad'].nunique()\n",
    "display(city_data)"
   ]
  },
  {
   "cell_type": "markdown",
   "id": "255f9981-2ee6-470f-be3f-bbf0c37de2fc",
   "metadata": {},
   "source": [
    "#### 4. Anáslisis estadístico\n",
    "Para este caso dado que no hay datos numéricos relevantes, se analizaron algunos campos relevantes a nivel geográfico\n",
    "__Pais__: \n",
    "- **Diagnóstico:** Solo se registran direcciones en un único país: Argentina.\n",
    "- **Acción:** No se requiere limpieza en este campo, apriori. Sin embargo, se recomienda tabla auxiliar (Paises) para asegurar normalización \n",
    "\n",
    "__Provincia__: \n",
    "- **Diagnóstico:** Se registran 23 provincias distintas. Leve dispersión, siendo las más frecuentes: Formosa (55), Chubut (53), Tierra del Fuego (53).\n",
    "- **Acción:** Considerar estandarización y uso de tabla auxiliar para normalizar provincias.\n",
    "\n",
    "__Ciudad__: \n",
    "- **Diagnóstico:** Se detectan 30 ciudades distintas. Algunas ciudades aparecen con nombres largos o compuestos (San Ferando del Valle de Catamarca, San Miguel de Tucumán).\n",
    "- **Acción:** Considerar estandarización y uso de tabla auxiliar para normalizar. Evaluar si conviene estructurar en una tabla geográfica con jerarquía Provincia -> Ciudad."
   ]
  },
  {
   "cell_type": "code",
   "execution_count": 24,
   "id": "f150fb3d-7187-40ed-86a6-80c36469d9bb",
   "metadata": {},
   "outputs": [
    {
     "data": {
      "image/png": "[encoded data removed]",
      "text/plain": [
       "<Figure size 800x600 with 1 Axes>"
      ]
     },
     "metadata": {},
     "output_type": "display_data"
    }
   ],
   "source": [
    "import matplotlib.pyplot as plt\n",
    "\n",
    "province_data.head(20).sort_values().plot(\n",
    "    kind='barh',\n",
    "    figsize=(8, 6),\n",
    "    color='skyblue'\n",
    ")\n",
    "\n",
    "plt.title('Distribución de direcciones por provincia')\n",
    "plt.xlabel('Cantidad de registros')\n",
    "plt.ylabel('Provincia')\n",
    "plt.tight_layout()\n",
    "plt.show()"
   ]
  },
  {
   "cell_type": "markdown",
   "id": "88249bdf-71f0-48a4-a94a-19e8bc8cfb9d",
   "metadata": {},
   "source": [
    "### 4. Resumen de análisis y acciones propuestas de preprocesamiento y calidad de datos\n",
    "\n",
    "A partir del análisis exploratorio de la tabla `DireccionesEnvio`, se proponen las siguientes acciones de limpieza y mejora de calidad:\n",
    "\n",
    "#### 4.1 Valores nulos\n",
    "\n",
    "- **Diagnóstico:** No se encontraron columnas con valores nulos.\n",
    "- **Acción:** No se requiere imputación o eliminación. Se mantiene la estructura original.\n",
    "\n",
    "#### 4.2 Duplicados\n",
    "\n",
    "- **Diagnóstico:** No se detectaron registros duplicados.\n",
    "- **Acción:** No se requiere limpieza en este aspecto. Se recomienda mantener chequeos periódicos al integrar datos nuevos.\n",
    "\n",
    "#### 4.3 Valores atípicos\n",
    "\n",
    "- **Diagnóstico:** Se identificaron valores atípicos en la columna `Precio`, con un máximo de 799 (muy por encima del tercer cuartil).\n",
    "- **Acción propuesta:** \n",
    "  - Validar si esos valores son errores de carga o válidos.\n",
    "  - Si se confirma que son errores, se sugiere establecer un límite superior al menos a instancias de reporte.\n",
    "  - Si son válidos, mantenerlos pero tenerlos en cuenta para normalizaciones o transformaciones.\n",
    "\n",
    "#### 4.4 Consistencia de claves\n",
    "\n",
    "- **DireccionID:** clave primaria válida, sin duplicados ni nulos.\n",
    "- **UsuarioID:** clave foránea consistente con la tabla `Usuarios`.\n",
    "\n",
    "- **Acción propuesta:**  Asegurar que al importar datos se mantenga integridad referencial. Puede implementarse con constraints.\n",
    "\n",
    "#### 4.5 Texto libre\n",
    "\n",
    "- **Diagnóstico:** Varias columnas contienen texto libre (`Provincia`, `Ciudad`, `Calle`, etc.).\n",
    "- **Acción propuesta:** \n",
    "  - Aplicar estandarización de capitalización y formato.\n",
    "  - Eliminar caracteres especiales o inconsistencias si las hubiera.\n",
    "  - Sugerencia: migrar a modelo relacional con tablas auxiliares (por ejemplo, Provincias, Paises) para normalizar estos campos y facilitar análisis geográficos.\n",
    "\n",
    "#### 4.6 Tipos de datos\n",
    "\n",
    "- Todos los tipos de datos son consistentes con el dominio del atributo.\n",
    "- **Acción:** Sin cambios requeridos.\n",
    "\n",
    "---\n",
    "\n",
    "**Resumen general:**\n",
    "\n",
    "| Aspecto            | Acción requerida                        |\n",
    "| ------------------ | --------------------------------------- |\n",
    "| Valores nulos      | No                                      |\n",
    "| Duplicados         | No                                      |\n",
    "| Texto libre        | Normalización y posible refactor        |\n",
    "| Claves             | OK. Asegurar integridad con `Usuarios`  |\n",
    "| Tipos de datos     | Consistentes                            |\n",
    "| Mejora estructural | Tablas auxiliares para geografía        |\n"
   ]
  },
  {
   "cell_type": "markdown",
   "id": "52b8b1da",
   "metadata": {},
   "source": [
    "#### Tabla: Carrito"
   ]
  },
  {
   "cell_type": "code",
   "execution_count": 25,
   "id": "61316130-8db0-4269-a866-f3cc82be490f",
   "metadata": {},
   "outputs": [
    {
     "data": {
      "text/html": [
       "<span style='color: orange; font-size: 14px;\n",
       "    font-weight: bold;'>Tabla: Carrito</span>"
      ],
      "text/plain": [
       "<IPython.core.display.HTML object>"
      ]
     },
     "metadata": {},
     "output_type": "display_data"
    },
    {
     "data": {
      "text/html": [
       "<span style='color: orange; font-size: 14px;\n",
       "    font-weight: bold;'>Datos de tabla</span>"
      ],
      "text/plain": [
       "<IPython.core.display.HTML object>"
      ]
     },
     "metadata": {},
     "output_type": "display_data"
    },
    {
     "name": "stdout",
     "output_type": "stream",
     "text": [
      "<class 'pandas.core.frame.DataFrame'>\n",
      "RangeIndex: 5000 entries, 0 to 4999\n",
      "Data columns (total 5 columns):\n",
      " #   Column         Non-Null Count  Dtype         \n",
      "---  ------         --------------  -----         \n",
      " 0   CarritoID      5000 non-null   int64         \n",
      " 1   UsuarioID      5000 non-null   int64         \n",
      " 2   ProductoID     5000 non-null   int64         \n",
      " 3   Cantidad       5000 non-null   int64         \n",
      " 4   FechaAgregado  5000 non-null   datetime64[ns]\n",
      "dtypes: datetime64[ns](1), int64(4)\n",
      "memory usage: 195.4 KB\n"
     ]
    },
    {
     "data": {
      "text/plain": [
       "None"
      ]
     },
     "metadata": {},
     "output_type": "display_data"
    },
    {
     "data": {
      "text/html": [
       "<span style='color: orange; font-size: 14px;\n",
       "    font-weight: bold;'>Primeros valores</span>"
      ],
      "text/plain": [
       "<IPython.core.display.HTML object>"
      ]
     },
     "metadata": {},
     "output_type": "display_data"
    },
    {
     "data": {
      "text/html": [
       "<div>\n",
       "<style scoped>\n",
       "    .dataframe tbody tr th:only-of-type {\n",
       "        vertical-align: middle;\n",
       "    }\n",
       "\n",
       "    .dataframe tbody tr th {\n",
       "        vertical-align: top;\n",
       "    }\n",
       "\n",
       "    .dataframe thead th {\n",
       "        text-align: right;\n",
       "    }\n",
       "</style>\n",
       "<table border=\"1\" class=\"dataframe\">\n",
       "  <thead>\n",
       "    <tr style=\"text-align: right;\">\n",
       "      <th></th>\n",
       "      <th>CarritoID</th>\n",
       "      <th>UsuarioID</th>\n",
       "      <th>ProductoID</th>\n",
       "      <th>Cantidad</th>\n",
       "      <th>FechaAgregado</th>\n",
       "    </tr>\n",
       "  </thead>\n",
       "  <tbody>\n",
       "    <tr>\n",
       "      <th>0</th>\n",
       "      <td>1</td>\n",
       "      <td>844</td>\n",
       "      <td>22</td>\n",
       "      <td>3</td>\n",
       "      <td>2025-04-29 10:15:10</td>\n",
       "    </tr>\n",
       "    <tr>\n",
       "      <th>1</th>\n",
       "      <td>2</td>\n",
       "      <td>901</td>\n",
       "      <td>7</td>\n",
       "      <td>2</td>\n",
       "      <td>2025-05-14 10:15:10</td>\n",
       "    </tr>\n",
       "    <tr>\n",
       "      <th>2</th>\n",
       "      <td>3</td>\n",
       "      <td>824</td>\n",
       "      <td>28</td>\n",
       "      <td>1</td>\n",
       "      <td>2025-04-26 10:15:10</td>\n",
       "    </tr>\n",
       "    <tr>\n",
       "      <th>3</th>\n",
       "      <td>4</td>\n",
       "      <td>94</td>\n",
       "      <td>5</td>\n",
       "      <td>3</td>\n",
       "      <td>2025-04-20 10:15:10</td>\n",
       "    </tr>\n",
       "    <tr>\n",
       "      <th>4</th>\n",
       "      <td>5</td>\n",
       "      <td>228</td>\n",
       "      <td>15</td>\n",
       "      <td>3</td>\n",
       "      <td>2025-05-11 10:15:10</td>\n",
       "    </tr>\n",
       "  </tbody>\n",
       "</table>\n",
       "</div>"
      ],
      "text/plain": [
       "   CarritoID  UsuarioID  ProductoID  Cantidad       FechaAgregado\n",
       "0          1        844          22         3 2025-04-29 10:15:10\n",
       "1          2        901           7         2 2025-05-14 10:15:10\n",
       "2          3        824          28         1 2025-04-26 10:15:10\n",
       "3          4         94           5         3 2025-04-20 10:15:10\n",
       "4          5        228          15         3 2025-05-11 10:15:10"
      ]
     },
     "metadata": {},
     "output_type": "display_data"
    }
   ],
   "source": [
    "from app.utils import notebook_utils\n",
    "\n",
    "notebook_utils.show_table_data(\"Carrito\")"
   ]
  },
  {
   "cell_type": "markdown",
   "id": "3b2895ae",
   "metadata": {},
   "source": [
    "#### 1. Información general\n",
    "\n",
    "* Número de registros: 5000\n",
    "* Número de columnas: 5\n",
    "\n",
    "#### 2. Esquema\n",
    "\n",
    "| Columna       | Tipo de dato    | Valores no nulos | Observaciones                                 |\n",
    "| ------------- | --------------- | ---------------- | --------------------------------------------- |\n",
    "| CarritoID     | int64           | 5000             | Clave primaria.                               |\n",
    "| UsuarioID     | int64           | 5000             | Clave foránea a `Usuarios`.                   |\n",
    "| ProductoID    | int64           | 5000             | Clave foránea a `Productos`.                  |\n",
    "| Cantidad      | int64           | 5000             | Valor numérico, cantidad agregada al carrito. |\n",
    "| FechaAgregado | datetime64\\[ns] | 5000             | Fecha y hora en que se agregó el producto.    |\n",
    "\n",
    "Observaciones\n",
    "* No hay columnas con valores nulos.\n",
    "* No hay columnas con valores nulos.\n",
    "* Los tipos de datos son consistentes con los atributos que describen. "
   ]
  },
  {
   "cell_type": "code",
   "execution_count": null,
   "id": "ca35f78e",
   "metadata": {},
   "outputs": [],
   "source": [
    "from app.utils import notebook_utils\n",
    "\n",
    "notebook_utils.show_duplicates_and_null_info(\"Carrito\")"
   ]
  },
  {
   "cell_type": "markdown",
   "id": "d57bdd10",
   "metadata": {},
   "source": [
    "#### 3. Calidad de datos\n",
    "* **Valores nulos:** No se encontraron columnas con valores faltantes.\n",
    "\n",
    "* **Duplicados:** No se detectaron registros duplicados.\n",
    "\n",
    "* **Tipos de datos:** los tipos de datos parecen consistentes al atributo que describen\n",
    "\n",
    "* **Claves:** Las claves numéricas (ProductoID, UsuarioID) son consistentes. \n",
    "\n",
    "* * **Clave primaria(s):** CarritoID, es unico y sin nulos\n",
    "\n",
    "* * **Claves foráneas:** ProductoID, UsuarioID"
   ]
  },
  {
   "cell_type": "code",
   "execution_count": 27,
   "id": "bbed75e1",
   "metadata": {},
   "outputs": [
    {
     "data": {
      "text/html": [
       "<span style='color: orange; font-size: 14px;\n",
       "    font-weight: bold;'>Estadísticas de tabla</span>"
      ],
      "text/plain": [
       "<IPython.core.display.HTML object>"
      ]
     },
     "metadata": {},
     "output_type": "display_data"
    },
    {
     "data": {
      "text/html": [
       "<div>\n",
       "<style scoped>\n",
       "    .dataframe tbody tr th:only-of-type {\n",
       "        vertical-align: middle;\n",
       "    }\n",
       "\n",
       "    .dataframe tbody tr th {\n",
       "        vertical-align: top;\n",
       "    }\n",
       "\n",
       "    .dataframe thead th {\n",
       "        text-align: right;\n",
       "    }\n",
       "</style>\n",
       "<table border=\"1\" class=\"dataframe\">\n",
       "  <thead>\n",
       "    <tr style=\"text-align: right;\">\n",
       "      <th></th>\n",
       "      <th>CarritoID</th>\n",
       "      <th>UsuarioID</th>\n",
       "      <th>ProductoID</th>\n",
       "      <th>Cantidad</th>\n",
       "      <th>FechaAgregado</th>\n",
       "    </tr>\n",
       "  </thead>\n",
       "  <tbody>\n",
       "    <tr>\n",
       "      <th>count</th>\n",
       "      <td>5000.000000</td>\n",
       "      <td>5000.000000</td>\n",
       "      <td>5000.000000</td>\n",
       "      <td>5000.000000</td>\n",
       "      <td>5000</td>\n",
       "    </tr>\n",
       "    <tr>\n",
       "      <th>mean</th>\n",
       "      <td>2500.500000</td>\n",
       "      <td>505.033000</td>\n",
       "      <td>18.414000</td>\n",
       "      <td>2.006200</td>\n",
       "      <td>2025-05-17 01:53:28.240000256</td>\n",
       "    </tr>\n",
       "    <tr>\n",
       "      <th>min</th>\n",
       "      <td>1.000000</td>\n",
       "      <td>1.000000</td>\n",
       "      <td>1.000000</td>\n",
       "      <td>1.000000</td>\n",
       "      <td>2025-04-01 10:15:10</td>\n",
       "    </tr>\n",
       "    <tr>\n",
       "      <th>25%</th>\n",
       "      <td>1250.750000</td>\n",
       "      <td>248.000000</td>\n",
       "      <td>10.000000</td>\n",
       "      <td>1.000000</td>\n",
       "      <td>2025-04-25 10:15:10</td>\n",
       "    </tr>\n",
       "    <tr>\n",
       "      <th>50%</th>\n",
       "      <td>2500.500000</td>\n",
       "      <td>506.000000</td>\n",
       "      <td>18.000000</td>\n",
       "      <td>2.000000</td>\n",
       "      <td>2025-05-17 10:15:10</td>\n",
       "    </tr>\n",
       "    <tr>\n",
       "      <th>75%</th>\n",
       "      <td>3750.250000</td>\n",
       "      <td>762.000000</td>\n",
       "      <td>27.000000</td>\n",
       "      <td>3.000000</td>\n",
       "      <td>2025-06-08 10:15:10</td>\n",
       "    </tr>\n",
       "    <tr>\n",
       "      <th>max</th>\n",
       "      <td>5000.000000</td>\n",
       "      <td>1000.000000</td>\n",
       "      <td>36.000000</td>\n",
       "      <td>3.000000</td>\n",
       "      <td>2025-06-30 10:15:10</td>\n",
       "    </tr>\n",
       "    <tr>\n",
       "      <th>std</th>\n",
       "      <td>1443.520003</td>\n",
       "      <td>293.110682</td>\n",
       "      <td>10.308009</td>\n",
       "      <td>0.813569</td>\n",
       "      <td>NaN</td>\n",
       "    </tr>\n",
       "  </tbody>\n",
       "</table>\n",
       "</div>"
      ],
      "text/plain": [
       "         CarritoID    UsuarioID   ProductoID     Cantidad  \\\n",
       "count  5000.000000  5000.000000  5000.000000  5000.000000   \n",
       "mean   2500.500000   505.033000    18.414000     2.006200   \n",
       "min       1.000000     1.000000     1.000000     1.000000   \n",
       "25%    1250.750000   248.000000    10.000000     1.000000   \n",
       "50%    2500.500000   506.000000    18.000000     2.000000   \n",
       "75%    3750.250000   762.000000    27.000000     3.000000   \n",
       "max    5000.000000  1000.000000    36.000000     3.000000   \n",
       "std    1443.520003   293.110682    10.308009     0.813569   \n",
       "\n",
       "                       FechaAgregado  \n",
       "count                           5000  \n",
       "mean   2025-05-17 01:53:28.240000256  \n",
       "min              2025-04-01 10:15:10  \n",
       "25%              2025-04-25 10:15:10  \n",
       "50%              2025-05-17 10:15:10  \n",
       "75%              2025-06-08 10:15:10  \n",
       "max              2025-06-30 10:15:10  \n",
       "std                              NaN  "
      ]
     },
     "metadata": {},
     "output_type": "display_data"
    }
   ],
   "source": [
    "from app.utils import notebook_utils\n",
    "\n",
    "notebook_utils.show_table_stats(\"Carrito\")"
   ]
  },
  {
   "cell_type": "markdown",
   "id": "3508dce4-7248-458b-bae4-5aa6f2d94cc5",
   "metadata": {},
   "source": [
    "#### 1. Información general\n",
    "\n",
    "* Número de registros: 1000\n",
    "* Número de columnas: 10\n",
    "\n",
    "#### 2. Esquema\n",
    "\n",
    "| Columna      | Tipo de dato | Valores no nulos | Observaciones                                        |\n",
    "| ------------ | ------------ | ---------------- | ---------------------------------------------------- |\n",
    "| DireccionID  | int64        | 1000             | Clave primaria.                                      |\n",
    "| UsuarioID    | int64        | 1000             | Clave foránea a `Usuarios`.                          |\n",
    "| Calle        | object       | 1000             | Texto libre.                                         |\n",
    "| Ciudad       | object       | 1000             | Texto libre.                                         |\n",
    "| Departamento | object       | 1000             | Texto libre, posible redundancia con `Provincia`.    |\n",
    "| Provincia    | object       | 1000             | Texto libre.                                         |\n",
    "| Distrito     | object       | 1000             | Texto libre. Puede no ser aplicable en todos países. |\n",
    "| Estado       | object       | 1000             | Texto libre. Posible solapamiento con Provincia.     |\n",
    "| CodigoPostal | object       | 1000             | Alfanumérico, no numérico.                           |\n",
    "| Pais         | object       | 1000             | Texto libre. Requiere estandarización.               |\n",
    "\n",
    "Observaciones\n",
    "* No hay columnas con valores nulos.\n",
    "\n",
    "* Los tipos de datos son consistentes con los atributos que describen.\n",
    "\n",
    "* Las claves numéricas (DireccionID, UsuarioID) son consistentes y no tienen valores nulos.\n",
    "\n",
    "* Se recomienda limpieza y estandarización de los campos de texto (mayúsculas, espacios, abreviaciones).\n",
    "\n",
    "* Es conveniente evaluar la normalización de campos geográficos para evitar redundancia e inconsistencias."
   ]
  },
  {
   "cell_type": "code",
   "execution_count": null,
   "id": "58e11478-2a06-4a9b-8450-74e7897be150",
   "metadata": {},
   "outputs": [],
   "source": [
    "from app.utils import notebook_utils\n",
    "\n",
    "notebook_utils.show_duplicates_and_null_info(\"Carrito\")"
   ]
  },
  {
   "cell_type": "markdown",
   "id": "445574d1-e395-4dde-a5ed-1f63c535fbdc",
   "metadata": {},
   "source": [
    "#### 3. Calidad de datos\n",
    "* **Valores nulos:** No se encontraron columnas con valores faltantes.\n",
    "\n",
    "* **Duplicados:** No se detectaron registros duplicados.\n",
    "\n",
    "* **Tipos de datos:** los tipos de datos parecen consistentes al atributo que describen\n",
    "\n",
    "* **Claves:** Las claves numéricas (DireccionID, UsuarioID) son consistentes. \n",
    "\n",
    "* * **Clave primaria(s):** DireccionID, es unico y sin nulos\n",
    "\n",
    "* * **Claves foráneas:** UsuarioID"
   ]
  },
  {
   "cell_type": "code",
   "execution_count": null,
   "id": "442c8c7c-a2c0-4460-8774-74049ab68e10",
   "metadata": {},
   "outputs": [],
   "source": [
    "from app.utils import notebook_utils\n",
    "\n",
    "notebook_utils.show_table_stats(\"Carrito\")"
   ]
  },
  {
   "cell_type": "markdown",
   "id": "04772f65-9cbc-4599-a2d0-680d09238d51",
   "metadata": {},
   "source": [
    "#### 4. Anáslisis estadístico\n",
    "Se evalúa la columna Cantidad, ya que representa el comportamiento del usuario respecto a cuántas unidades de un producto agregó al carrito.\n",
    "\n",
    "__Cantidad__: La desviación estándar es baja (0.81) lo que indica baja dispersion, que coincide con lo sugerido por la media y la mediana\n",
    "\n",
    "* * La media y la mediana están muy próximas (~2), lo que sugiere una distribución simétrica.\n",
    "\n",
    "* * El valor mínimo es 1 (lo esperado considerando numero de items)  y el máximo es 3.\n",
    "\n",
    "* * Aparenta una baja dispersión , que se confirmará en análisis gráfico\n",
    "\n",
    "\n",
    "Se evalúa la columna FechaAgregado, ya que pede aportar información de estacionalidad\n",
    "\n",
    "__FechaAgregado__: \n",
    "\n",
    "* * Los valores abarcan desde el 1 de abril de 2025 hasta el 30 de junio de 2025.\n",
    "\n",
    "* * Puede utilizarse para explorar tendencias temporales, como frecuencia de agregado por día o mes.\n",
    "\n"
   ]
  },
  {
   "cell_type": "markdown",
   "id": "211c1f54-5add-4e14-bb18-bbbe03dcd954",
   "metadata": {},
   "source": [
    "### 5. Resumen de análisis y acciones propuestas de preprocesamiento y calidad de datos\n",
    "\n",
    "A partir del análisis exploratorio de la tabla `Carrito`, se proponen las siguientes acciones de limpieza y mejora de calidad:\n",
    "\n",
    "#### 5.1 Valores nulos\n",
    "\n",
    "- **Diagnóstico:** No se encontraron columnas con valores nulos.\n",
    "- **Acción:** Se mantiene la estructura original.\n",
    "\n",
    "#### 5.2 Duplicados\n",
    "\n",
    "- **Diagnóstico:** No se detectaron registros duplicados.\n",
    "- **Acción:** No se requiere limpieza en este aspecto.\n",
    "\n",
    "#### 5.3 Valores atípicos\n",
    "\n",
    "- **Diagnóstico:** La columna Cantidad muestra valores entre 1 y 3. No se detectan valores fuera de rango ni anomalías evidentes.\n",
    "- **Acción propuesta:** :No se requieren transformaciones\n",
    "\n",
    "\n",
    "#### 5.4 Consistencia de claves\n",
    "\n",
    "- **CarritoID:** clave primaria válida, sin duplicados ni nulos.\n",
    "- **UsuarioID:** clave foránea consistente con la tabla `Usuarios`.\n",
    "- **ProductoID:** clave foránea consistente con la tabla `Productos`.\n",
    "\n",
    "- **Acción propuesta:**  Asegurar que las claves se mantengan válidas y con constraints activos en procesos de carga.\n",
    "\n",
    "#### 5.5 Tipos de datos\n",
    "\n",
    "- Todos los tipos de datos son consistentes con el dominio del atributo.\n",
    "\n",
    "---\n",
    "\n",
    "**Resumen general:**\n",
    "\n",
    "| Aspecto        | Acción requerida                         |\n",
    "| -------------- | ---------------------------------------- |\n",
    "| Valores nulos  | No                                       |\n",
    "| Duplicados     | No                                       |\n",
    "| Outliers       | No. Rango controlado en `Cantidad`       |\n",
    "| Claves         | OK. Validar integridad en futuras cargas |\n"
   ]
  },
  {
   "cell_type": "markdown",
   "id": "4e1f3c78",
   "metadata": {},
   "source": [
    "#### Tabla: MetodosPago"
   ]
  },
  {
   "cell_type": "code",
   "execution_count": 1,
   "id": "63211edb-29d5-40b9-8065-b3b83cce0cbf",
   "metadata": {},
   "outputs": [
    {
     "data": {
      "text/html": [
       "<span style='color: orange; font-size: 14px;\n",
       "    font-weight: bold;'>Tabla: MetodosPago</span>"
      ],
      "text/plain": [
       "<IPython.core.display.HTML object>"
      ]
     },
     "metadata": {},
     "output_type": "display_data"
    },
    {
     "data": {
      "text/html": [
       "<span style='color: orange; font-size: 14px;\n",
       "    font-weight: bold;'>Datos de tabla</span>"
      ],
      "text/plain": [
       "<IPython.core.display.HTML object>"
      ]
     },
     "metadata": {},
     "output_type": "display_data"
    },
    {
     "name": "stdout",
     "output_type": "stream",
     "text": [
      "<class 'pandas.core.frame.DataFrame'>\n",
      "RangeIndex: 7 entries, 0 to 6\n",
      "Data columns (total 3 columns):\n",
      " #   Column        Non-Null Count  Dtype \n",
      "---  ------        --------------  ----- \n",
      " 0   MetodoPagoID  7 non-null      int64 \n",
      " 1   Nombre        7 non-null      object\n",
      " 2   Descripcion   7 non-null      object\n",
      "dtypes: int64(1), object(2)\n",
      "memory usage: 300.0+ bytes\n"
     ]
    },
    {
     "data": {
      "text/plain": [
       "None"
      ]
     },
     "metadata": {},
     "output_type": "display_data"
    },
    {
     "data": {
      "text/html": [
       "<span style='color: orange; font-size: 14px;\n",
       "    font-weight: bold;'>Primeros valores</span>"
      ],
      "text/plain": [
       "<IPython.core.display.HTML object>"
      ]
     },
     "metadata": {},
     "output_type": "display_data"
    },
    {
     "data": {
      "text/html": [
       "<div>\n",
       "<style scoped>\n",
       "    .dataframe tbody tr th:only-of-type {\n",
       "        vertical-align: middle;\n",
       "    }\n",
       "\n",
       "    .dataframe tbody tr th {\n",
       "        vertical-align: top;\n",
       "    }\n",
       "\n",
       "    .dataframe thead th {\n",
       "        text-align: right;\n",
       "    }\n",
       "</style>\n",
       "<table border=\"1\" class=\"dataframe\">\n",
       "  <thead>\n",
       "    <tr style=\"text-align: right;\">\n",
       "      <th></th>\n",
       "      <th>MetodoPagoID</th>\n",
       "      <th>Nombre</th>\n",
       "      <th>Descripcion</th>\n",
       "    </tr>\n",
       "  </thead>\n",
       "  <tbody>\n",
       "    <tr>\n",
       "      <th>0</th>\n",
       "      <td>1</td>\n",
       "      <td>Tarjeta de Crédito</td>\n",
       "      <td>Pago con tarjeta de crédito VISA, MasterCard o...</td>\n",
       "    </tr>\n",
       "    <tr>\n",
       "      <th>1</th>\n",
       "      <td>2</td>\n",
       "      <td>Tarjeta de Débito</td>\n",
       "      <td>Pago con tarjeta de débito emitida por cualqui...</td>\n",
       "    </tr>\n",
       "    <tr>\n",
       "      <th>2</th>\n",
       "      <td>3</td>\n",
       "      <td>Transferencia Bancaria</td>\n",
       "      <td>Transferencia directa a nuestra cuenta bancaria</td>\n",
       "    </tr>\n",
       "    <tr>\n",
       "      <th>3</th>\n",
       "      <td>4</td>\n",
       "      <td>Pago Contra Entrega</td>\n",
       "      <td>Paga en efectivo cuando recibes tu pedido</td>\n",
       "    </tr>\n",
       "    <tr>\n",
       "      <th>4</th>\n",
       "      <td>5</td>\n",
       "      <td>Mercado Pago</td>\n",
       "      <td>Pago a través de la pasarela Mercado Pago</td>\n",
       "    </tr>\n",
       "  </tbody>\n",
       "</table>\n",
       "</div>"
      ],
      "text/plain": [
       "   MetodoPagoID                  Nombre  \\\n",
       "0             1      Tarjeta de Crédito   \n",
       "1             2       Tarjeta de Débito   \n",
       "2             3  Transferencia Bancaria   \n",
       "3             4     Pago Contra Entrega   \n",
       "4             5            Mercado Pago   \n",
       "\n",
       "                                         Descripcion  \n",
       "0  Pago con tarjeta de crédito VISA, MasterCard o...  \n",
       "1  Pago con tarjeta de débito emitida por cualqui...  \n",
       "2    Transferencia directa a nuestra cuenta bancaria  \n",
       "3          Paga en efectivo cuando recibes tu pedido  \n",
       "4          Pago a través de la pasarela Mercado Pago  "
      ]
     },
     "metadata": {},
     "output_type": "display_data"
    }
   ],
   "source": [
    "from app.utils import notebook_utils\n",
    "\n",
    "notebook_utils.show_table_data(\"MetodosPago\")"
   ]
  },
  {
   "cell_type": "markdown",
   "id": "7319df69",
   "metadata": {},
   "source": [
    "1. Información general\n",
    "Número de registros: 5\n",
    "\n",
    "Número de columnas: 3\n",
    "\n",
    "2. Esquema de columnas\n",
    " \n",
    "| Columna        | Tipo de dato | Valores no nulos | Observaciones                                                 |\n",
    "| -------------- | ------------ | ---------------- | ------------------------------------------------------------- |\n",
    "| `MetodoPagoID` | int64        | 5                | Clave primaria. Identificador único del método de pago.       |\n",
    "| `Nombre`       | object       | 5                | Nombre del método de pago. Texto breve, sin valores nulos.    |\n",
    "| `Descripcion`  | object       | 5                | Texto descriptivo. Puede tener redundancia o ser muy general. |\n"
   ]
  },
  {
   "cell_type": "code",
   "execution_count": 3,
   "id": "33aec7c0",
   "metadata": {},
   "outputs": [
    {
     "data": {
      "text/html": [
       "<span style='color: orange; font-size: 14px;\n",
       "    font-weight: bold;'>Columnas con nulos (%)</span>"
      ],
      "text/plain": [
       "<IPython.core.display.HTML object>"
      ]
     },
     "metadata": {},
     "output_type": "display_data"
    },
    {
     "data": {
      "text/plain": [
       "MetodoPagoID    0.0\n",
       "Nombre          0.0\n",
       "Descripcion     0.0\n",
       "dtype: float64"
      ]
     },
     "metadata": {},
     "output_type": "display_data"
    },
    {
     "data": {
      "text/html": [
       "<span style='color: orange; font-size: 14px;\n",
       "    font-weight: bold;'>Duplicados</span>"
      ],
      "text/plain": [
       "<IPython.core.display.HTML object>"
      ]
     },
     "metadata": {},
     "output_type": "display_data"
    },
    {
     "data": {
      "text/plain": [
       "np.int64(0)"
      ]
     },
     "metadata": {},
     "output_type": "display_data"
    }
   ],
   "source": [
    "from app.utils import notebook_utils\n",
    "\n",
    "notebook_utils.show_duplicates_and_null_info(\"MetodosPago\")"
   ]
  },
  {
   "cell_type": "markdown",
   "id": "e18490f3",
   "metadata": {},
   "source": [
    "3. Observaciones generales\n",
    "* **Valores nulos:** No se encontraron columnas con valores faltantes.\n",
    "\n",
    "* **Duplicados:** No se detectaron registros duplicados.\n",
    "\n",
    "* **Tipos de datos:** Los tipos de datos son adecuados.\n",
    "\n",
    "* Claves:\n",
    "\n",
    "**Clave primaria(s):** MetodoPagoID\n",
    "\n",
    "**Claves foráneas:** ... (si aplica)\n",
    "\n",
    "**Limpieza potencial:** columnas como `Nombre` podrían requerir normalización o validación de categorías.\n",
    "\n",
    "### 4. Resumen de análisis y acciones propuestas de preprocesamiento y calidad de datos\n",
    "\n",
    "A partir del análisis exploratorio de la tabla `Metodos de pago`, se proponen las siguientes acciones de limpieza y mejora de calidad:\n",
    "\n",
    "#### 4.1 Valores nulos o duplicado\n",
    "\n",
    "- **Diagnóstico:** No se encontraron columnas con valores nulos ni filas duplicadas\n",
    "- **Acción:** Se mantiene la estructura original.\n",
    "\n",
    "#### 4.2 Consistencia de claves\n",
    "\n",
    "- **MetodoPagoID:** clave primaria válida, sin duplicados ni nulos.\n",
    "\n",
    "- **Acción propuesta:**  Asegurar que las claves se mantengan válidas y con constraints activos en procesos de carga.\n",
    "\n",
    "#### 4.5 Tipos de datos\n",
    "- Todos los tipos de datos son consistentes con el dominio del atributo.\n",
    "\n",
    "#### 4.5 Texto libre\n",
    "- **Diagnóstico:** La columna `Nombre` contiene texto libre, lo cual podría generar inconsistencias si se repiten registros con variantes tipográficas (mayúsculas, espacios, etc.).\n",
    "- **Acción:**\n",
    "- - Validar que Nombre contenga valores únicos y estandarizados.\n",
    "- - Mantener esta tabla como auxiliar de medios de pago, usando la clave MetodoPagoID para referencias externas.Esta estructura podría facilitar futuras extensiones (como agregar marcas de tarjeta o condiciones específicas por método).\n",
    "\n",
    "\n",
    "\n",
    "---\n",
    "\n",
    "**Resumen general:**\n",
    "\n",
    "| Aspecto            | Acción requerida                                  |\n",
    "| ------------------ | ------------------------------------------------- |\n",
    "| Valores nulos      | No                                                |\n",
    "| Duplicados         | No                                                |\n",
    "| Claves             | OK. Validar integridad referencial si corresponde |\n",
    "| Tipos de datos     | OK                                                |\n",
    "| Estandarización    | Recomendada en `Nombre`                           |\n",
    "| Mejora estructural | Mantener como tabla auxiliar                      |\n"
   ]
  },
  {
   "cell_type": "markdown",
   "id": "2a8af087",
   "metadata": {},
   "source": [
    "#### Tabla: OrdenesMetodosPago"
   ]
  },
  {
   "cell_type": "code",
   "execution_count": 4,
   "id": "5dc33417",
   "metadata": {},
   "outputs": [
    {
     "data": {
      "text/html": [
       "<span style='color: orange; font-size: 14px;\n",
       "    font-weight: bold;'>Tabla: OrdenesMetodosPago</span>"
      ],
      "text/plain": [
       "<IPython.core.display.HTML object>"
      ]
     },
     "metadata": {},
     "output_type": "display_data"
    },
    {
     "data": {
      "text/html": [
       "<span style='color: orange; font-size: 14px;\n",
       "    font-weight: bold;'>Datos de tabla</span>"
      ],
      "text/plain": [
       "<IPython.core.display.HTML object>"
      ]
     },
     "metadata": {},
     "output_type": "display_data"
    },
    {
     "name": "stdout",
     "output_type": "stream",
     "text": [
      "<class 'pandas.core.frame.DataFrame'>\n",
      "RangeIndex: 10000 entries, 0 to 9999\n",
      "Data columns (total 4 columns):\n",
      " #   Column         Non-Null Count  Dtype  \n",
      "---  ------         --------------  -----  \n",
      " 0   OrdenMetodoID  10000 non-null  int64  \n",
      " 1   OrdenID        10000 non-null  int64  \n",
      " 2   MetodoPagoID   10000 non-null  int64  \n",
      " 3   MontoPagado    10000 non-null  float64\n",
      "dtypes: float64(1), int64(3)\n",
      "memory usage: 312.6 KB\n"
     ]
    },
    {
     "data": {
      "text/plain": [
       "None"
      ]
     },
     "metadata": {},
     "output_type": "display_data"
    },
    {
     "data": {
      "text/html": [
       "<span style='color: orange; font-size: 14px;\n",
       "    font-weight: bold;'>Primeros valores</span>"
      ],
      "text/plain": [
       "<IPython.core.display.HTML object>"
      ]
     },
     "metadata": {},
     "output_type": "display_data"
    },
    {
     "data": {
      "text/html": [
       "<div>\n",
       "<style scoped>\n",
       "    .dataframe tbody tr th:only-of-type {\n",
       "        vertical-align: middle;\n",
       "    }\n",
       "\n",
       "    .dataframe tbody tr th {\n",
       "        vertical-align: top;\n",
       "    }\n",
       "\n",
       "    .dataframe thead th {\n",
       "        text-align: right;\n",
       "    }\n",
       "</style>\n",
       "<table border=\"1\" class=\"dataframe\">\n",
       "  <thead>\n",
       "    <tr style=\"text-align: right;\">\n",
       "      <th></th>\n",
       "      <th>OrdenMetodoID</th>\n",
       "      <th>OrdenID</th>\n",
       "      <th>MetodoPagoID</th>\n",
       "      <th>MontoPagado</th>\n",
       "    </tr>\n",
       "  </thead>\n",
       "  <tbody>\n",
       "    <tr>\n",
       "      <th>0</th>\n",
       "      <td>1</td>\n",
       "      <td>1</td>\n",
       "      <td>2</td>\n",
       "      <td>580.22</td>\n",
       "    </tr>\n",
       "    <tr>\n",
       "      <th>1</th>\n",
       "      <td>2</td>\n",
       "      <td>2</td>\n",
       "      <td>4</td>\n",
       "      <td>638.87</td>\n",
       "    </tr>\n",
       "    <tr>\n",
       "      <th>2</th>\n",
       "      <td>3</td>\n",
       "      <td>3</td>\n",
       "      <td>7</td>\n",
       "      <td>946.09</td>\n",
       "    </tr>\n",
       "    <tr>\n",
       "      <th>3</th>\n",
       "      <td>4</td>\n",
       "      <td>4</td>\n",
       "      <td>2</td>\n",
       "      <td>390.35</td>\n",
       "    </tr>\n",
       "    <tr>\n",
       "      <th>4</th>\n",
       "      <td>5</td>\n",
       "      <td>5</td>\n",
       "      <td>3</td>\n",
       "      <td>908.67</td>\n",
       "    </tr>\n",
       "  </tbody>\n",
       "</table>\n",
       "</div>"
      ],
      "text/plain": [
       "   OrdenMetodoID  OrdenID  MetodoPagoID  MontoPagado\n",
       "0              1        1             2       580.22\n",
       "1              2        2             4       638.87\n",
       "2              3        3             7       946.09\n",
       "3              4        4             2       390.35\n",
       "4              5        5             3       908.67"
      ]
     },
     "metadata": {},
     "output_type": "display_data"
    }
   ],
   "source": [
    "from app.utils import notebook_utils\n",
    "\n",
    "notebook_utils.show_table_data(\"OrdenesMetodosPago\")"
   ]
  },
  {
   "cell_type": "markdown",
   "id": "84ec9a77",
   "metadata": {},
   "source": [
    "1. Información general\n",
    "- Número de registros: 10000\n",
    "\n",
    "- Número de columnas: 4\n",
    "\n",
    "2. Esquema de columnas\n",
    " \n",
    "| Columna         | Tipo de dato | Valores no nulos | Observaciones                                                       |\n",
    "| --------------- | ------------ | ---------------- | ------------------------------------------------------------------- |\n",
    "| `OrdenMetodoID` | int64        | 10,000           | Clave primaria. Identificador único del registro de pago por orden. |\n",
    "| `OrdenID`       | int64        | 10,000           | Clave foránea a `Ordenes`.                                          |\n",
    "| `MetodoPagoID`  | int64        | 10,000           | Clave foránea a `MetodosPago`.                                      |\n",
    "| `MontoPagado`   | float64      | 10,000           | Monto abonado por ese método en la orden.                           |\n",
    "\n"
   ]
  },
  {
   "cell_type": "code",
   "execution_count": null,
   "id": "8f3c1b25",
   "metadata": {},
   "outputs": [],
   "source": [
    "from app.utils import notebook_utils\n",
    "\n",
    "notebook_utils.show_duplicates_and_null_info(\"OrdenesMetodosPago\")\n"
   ]
  },
  {
   "cell_type": "markdown",
   "id": "beda137c",
   "metadata": {},
   "source": [
    "\n",
    "\n",
    "3. Observaciones generales\n",
    "* **Valores nulos:** No se encontraron columnas con valores faltantes.\n",
    "\n",
    "* **Duplicados:** No se detectaron registros duplicados (df.duplicated().sum()).\n",
    "\n",
    "* **Tipos de datos:** Los tipos de datos son adecuados.\n",
    "\n",
    "* Claves:\n",
    "\n",
    "**Clave primaria(s):** OrdenMetodoID\n",
    "\n",
    "**Claves foráneas:** OrdenID, MetodoPagoID, consistentes. \n"
   ]
  },
  {
   "cell_type": "code",
   "execution_count": 6,
   "id": "125c1f3d",
   "metadata": {},
   "outputs": [
    {
     "data": {
      "text/html": [
       "<span style='color: orange; font-size: 14px;\n",
       "    font-weight: bold;'>Estadísticas de tabla</span>"
      ],
      "text/plain": [
       "<IPython.core.display.HTML object>"
      ]
     },
     "metadata": {},
     "output_type": "display_data"
    },
    {
     "data": {
      "text/html": [
       "<div>\n",
       "<style scoped>\n",
       "    .dataframe tbody tr th:only-of-type {\n",
       "        vertical-align: middle;\n",
       "    }\n",
       "\n",
       "    .dataframe tbody tr th {\n",
       "        vertical-align: top;\n",
       "    }\n",
       "\n",
       "    .dataframe thead th {\n",
       "        text-align: right;\n",
       "    }\n",
       "</style>\n",
       "<table border=\"1\" class=\"dataframe\">\n",
       "  <thead>\n",
       "    <tr style=\"text-align: right;\">\n",
       "      <th></th>\n",
       "      <th>OrdenMetodoID</th>\n",
       "      <th>OrdenID</th>\n",
       "      <th>MetodoPagoID</th>\n",
       "      <th>MontoPagado</th>\n",
       "    </tr>\n",
       "  </thead>\n",
       "  <tbody>\n",
       "    <tr>\n",
       "      <th>count</th>\n",
       "      <td>10000.00000</td>\n",
       "      <td>10000.00000</td>\n",
       "      <td>10000.000000</td>\n",
       "      <td>10000.000000</td>\n",
       "    </tr>\n",
       "    <tr>\n",
       "      <th>mean</th>\n",
       "      <td>5000.50000</td>\n",
       "      <td>5000.50000</td>\n",
       "      <td>4.043400</td>\n",
       "      <td>551.040996</td>\n",
       "    </tr>\n",
       "    <tr>\n",
       "      <th>std</th>\n",
       "      <td>2886.89568</td>\n",
       "      <td>2886.89568</td>\n",
       "      <td>1.995925</td>\n",
       "      <td>262.069448</td>\n",
       "    </tr>\n",
       "    <tr>\n",
       "      <th>min</th>\n",
       "      <td>1.00000</td>\n",
       "      <td>1.00000</td>\n",
       "      <td>1.000000</td>\n",
       "      <td>100.050000</td>\n",
       "    </tr>\n",
       "    <tr>\n",
       "      <th>25%</th>\n",
       "      <td>2500.75000</td>\n",
       "      <td>2500.75000</td>\n",
       "      <td>2.000000</td>\n",
       "      <td>319.860000</td>\n",
       "    </tr>\n",
       "    <tr>\n",
       "      <th>50%</th>\n",
       "      <td>5000.50000</td>\n",
       "      <td>5000.50000</td>\n",
       "      <td>4.000000</td>\n",
       "      <td>554.265000</td>\n",
       "    </tr>\n",
       "    <tr>\n",
       "      <th>75%</th>\n",
       "      <td>7500.25000</td>\n",
       "      <td>7500.25000</td>\n",
       "      <td>6.000000</td>\n",
       "      <td>777.910000</td>\n",
       "    </tr>\n",
       "    <tr>\n",
       "      <th>max</th>\n",
       "      <td>10000.00000</td>\n",
       "      <td>10000.00000</td>\n",
       "      <td>7.000000</td>\n",
       "      <td>999.950000</td>\n",
       "    </tr>\n",
       "  </tbody>\n",
       "</table>\n",
       "</div>"
      ],
      "text/plain": [
       "       OrdenMetodoID      OrdenID  MetodoPagoID   MontoPagado\n",
       "count    10000.00000  10000.00000  10000.000000  10000.000000\n",
       "mean      5000.50000   5000.50000      4.043400    551.040996\n",
       "std       2886.89568   2886.89568      1.995925    262.069448\n",
       "min          1.00000      1.00000      1.000000    100.050000\n",
       "25%       2500.75000   2500.75000      2.000000    319.860000\n",
       "50%       5000.50000   5000.50000      4.000000    554.265000\n",
       "75%       7500.25000   7500.25000      6.000000    777.910000\n",
       "max      10000.00000  10000.00000      7.000000    999.950000"
      ]
     },
     "metadata": {},
     "output_type": "display_data"
    }
   ],
   "source": [
    "from app.utils import notebook_utils\n",
    "\n",
    "notebook_utils.show_table_stats(\"OrdenesMetodosPago\")\n"
   ]
  },
  {
   "cell_type": "markdown",
   "id": "01bf3169",
   "metadata": {},
   "source": [
    "\n",
    "#### 4. Anáslisis estadístico\n",
    "Se evalúa la columna `MontoPagado:`, que representa el importe abonado por cada método de pago vinculado a una orden. \n",
    "\n",
    "__MontoPagado__: La desviación estándar es baja (262) lo que indica bastante dispersion, lo cual es esperable considerando la dispersion de precios en los productos y la posibilidad de desglosar una misma orden en varios medios de pago\n",
    "\n",
    "* * La media y la mediana están muy próximas (~$551.04-$554.26), lo que sugiere una distribución simétrica.\n",
    "\n",
    "* * El valor mínimo registrado es $100.05 y el máximo $999.95, lo que abarca prácticamente el rango total de pagos posibles en la plataforma.\n",
    "\n",
    "* * Aparenta una considerable dispersión , que se confirmará en análisis gráfico\n"
   ]
  },
  {
   "cell_type": "code",
   "execution_count": 7,
   "id": "9c93b20b-71b9-4a62-8d26-d10c03603699",
   "metadata": {},
   "outputs": [
    {
     "name": "stdout",
     "output_type": "stream",
     "text": [
      "Number of outliers in 'MontoPagado': 0\n"
     ]
    },
    {
     "data": {
      "image/png": "[encoded data removed]",
      "text/plain": [
       "<Figure size 1000x200 with 1 Axes>"
      ]
     },
     "metadata": {},
     "output_type": "display_data"
    }
   ],
   "source": [
    "from app.utils import plot_utils\n",
    "\n",
    "outliers, lower, upper = plot_utils.plot_boxplot_with_outliers('OrdenesMetodosPago', 'MontoPagado', step=50)"
   ]
  },
  {
   "cell_type": "markdown",
   "id": "3bce3149-9c99-4ff0-8795-ec9e675c16ce",
   "metadata": {},
   "source": [
    "### 5. Resumen de análisis y acciones propuestas de preprocesamiento y calidad de datos\n",
    "\n",
    "A partir del análisis exploratorio de la tabla `'OrdenesMetodosPago'`, se proponen las siguientes acciones de limpieza y mejora de calidad:\n",
    "\n",
    "#### 5.1 Valores nulos\n",
    "\n",
    "- **Diagnóstico:** No se encontraron columnas con valores nulos.\n",
    "- **Acción:** Se mantiene la estructura original.\n",
    "\n",
    "#### 5.2 Duplicados\n",
    "\n",
    "- **Diagnóstico:** No se detectaron registros duplicados.\n",
    "- **Acción:** No se requiere limpieza en este aspecto.\n",
    "\n",
    "#### 5.3 Valores atípicos\n",
    "\n",
    "- **Diagnóstico:** Los valores de `MontoPagado` oscilan entre 100.05 y 999.95, sin valores fuera de un rango lógico.\n",
    "- **Acción propuesta:** :No se requieren transformaciones, la distribución es simetrica y no hay outliers :\n",
    "- - Dispersión: El rango intercuartílico (IQR) va de aproximadamente 319.86 a 777.91, y la mediana es cercana a la media (554.27), lo que sugiere una distribución simétrica y sin sesgo evidente.\n",
    "\n",
    "Visualización: Un boxplot muestra una distribución pareja, sin valores atípicos destacables.\n",
    "\n",
    "\n",
    "#### 5.4 Consistencia de claves\n",
    "\n",
    "- **OrdenMetodoID:** clave primaria válida, sin duplicados ni nulos.\n",
    "- **OrdenID:** clave foránea consistente con la tabla `Ordenes`.\n",
    "- **MetodoPagoID:** clave foránea consistente con la tabla `MetodosPago`.\n",
    "\n",
    "- **Acción propuesta:**  Asegurar que las claves se mantengan válidas y con constraints activos en procesos de carga.\n",
    "\n",
    "#### 5.5 Tipos de datos\n",
    "\n",
    "- Todos los tipos de datos son consistentes con el dominio del atributo.\n",
    "\n",
    "---\n",
    "\n",
    "**Resumen general:**\n",
    "\n",
    "| Aspecto        | Acción requerida                            |\n",
    "| -------------- | ------------------------------------------- |\n",
    "| Valores nulos  | No                                          |\n",
    "| Duplicados     | No                                          |\n",
    "| Outliers       | No evidentes, dispersión moderada en montos |\n",
    "| Claves         | OK. Validar integridad en futuras cargas    |\n",
    "| Tipos de datos | Consistentes                                |\n"
   ]
  },
  {
   "cell_type": "markdown",
   "id": "db2f7f5f",
   "metadata": {},
   "source": [
    "#### Tabla: ReseñasProductos\n"
   ]
  },
  {
   "cell_type": "code",
   "execution_count": 14,
   "id": "f97e47c2",
   "metadata": {},
   "outputs": [
    {
     "data": {
      "text/html": [
       "<span style='color: orange; font-size: 14px;\n",
       "    font-weight: bold;'>Tabla: ReseñasProductos</span>"
      ],
      "text/plain": [
       "<IPython.core.display.HTML object>"
      ]
     },
     "metadata": {},
     "output_type": "display_data"
    },
    {
     "data": {
      "text/html": [
       "<span style='color: orange; font-size: 14px;\n",
       "    font-weight: bold;'>Datos de tabla</span>"
      ],
      "text/plain": [
       "<IPython.core.display.HTML object>"
      ]
     },
     "metadata": {},
     "output_type": "display_data"
    },
    {
     "name": "stdout",
     "output_type": "stream",
     "text": [
      "<class 'pandas.core.frame.DataFrame'>\n",
      "RangeIndex: 10000 entries, 0 to 9999\n",
      "Data columns (total 6 columns):\n",
      " #   Column        Non-Null Count  Dtype         \n",
      "---  ------        --------------  -----         \n",
      " 0   ReseñaID      10000 non-null  int64         \n",
      " 1   UsuarioID     10000 non-null  int64         \n",
      " 2   ProductoID    10000 non-null  int64         \n",
      " 3   Calificacion  10000 non-null  int64         \n",
      " 4   Comentario    10000 non-null  object        \n",
      " 5   Fecha         10000 non-null  datetime64[ns]\n",
      "dtypes: datetime64[ns](1), int64(4), object(1)\n",
      "memory usage: 468.9+ KB\n"
     ]
    },
    {
     "data": {
      "text/plain": [
       "None"
      ]
     },
     "metadata": {},
     "output_type": "display_data"
    },
    {
     "data": {
      "text/html": [
       "<span style='color: orange; font-size: 14px;\n",
       "    font-weight: bold;'>Primeros valores</span>"
      ],
      "text/plain": [
       "<IPython.core.display.HTML object>"
      ]
     },
     "metadata": {},
     "output_type": "display_data"
    },
    {
     "data": {
      "text/html": [
       "<div>\n",
       "<style scoped>\n",
       "    .dataframe tbody tr th:only-of-type {\n",
       "        vertical-align: middle;\n",
       "    }\n",
       "\n",
       "    .dataframe tbody tr th {\n",
       "        vertical-align: top;\n",
       "    }\n",
       "\n",
       "    .dataframe thead th {\n",
       "        text-align: right;\n",
       "    }\n",
       "</style>\n",
       "<table border=\"1\" class=\"dataframe\">\n",
       "  <thead>\n",
       "    <tr style=\"text-align: right;\">\n",
       "      <th></th>\n",
       "      <th>ReseñaID</th>\n",
       "      <th>UsuarioID</th>\n",
       "      <th>ProductoID</th>\n",
       "      <th>Calificacion</th>\n",
       "      <th>Comentario</th>\n",
       "      <th>Fecha</th>\n",
       "    </tr>\n",
       "  </thead>\n",
       "  <tbody>\n",
       "    <tr>\n",
       "      <th>0</th>\n",
       "      <td>1</td>\n",
       "      <td>898</td>\n",
       "      <td>10</td>\n",
       "      <td>1</td>\n",
       "      <td>Mala calidad, no lo recomiendo. Ullam sint ali...</td>\n",
       "      <td>2025-07-22 03:25:35.284709</td>\n",
       "    </tr>\n",
       "    <tr>\n",
       "      <th>1</th>\n",
       "      <td>2</td>\n",
       "      <td>700</td>\n",
       "      <td>16</td>\n",
       "      <td>3</td>\n",
       "      <td>El producto es aceptable por el precio. Quisqu...</td>\n",
       "      <td>2025-07-22 03:25:35.284828</td>\n",
       "    </tr>\n",
       "    <tr>\n",
       "      <th>2</th>\n",
       "      <td>3</td>\n",
       "      <td>173</td>\n",
       "      <td>13</td>\n",
       "      <td>2</td>\n",
       "      <td>Mala calidad, no lo recomiendo. Illum corporis...</td>\n",
       "      <td>2025-07-22 03:25:35.284867</td>\n",
       "    </tr>\n",
       "    <tr>\n",
       "      <th>3</th>\n",
       "      <td>4</td>\n",
       "      <td>557</td>\n",
       "      <td>20</td>\n",
       "      <td>2</td>\n",
       "      <td>No cumplió con lo prometido. Tempore distincti...</td>\n",
       "      <td>2025-07-22 03:25:35.284895</td>\n",
       "    </tr>\n",
       "    <tr>\n",
       "      <th>4</th>\n",
       "      <td>5</td>\n",
       "      <td>448</td>\n",
       "      <td>33</td>\n",
       "      <td>2</td>\n",
       "      <td>No cumplió con lo prometido. Modi doloribus re...</td>\n",
       "      <td>2025-07-22 03:25:35.284918</td>\n",
       "    </tr>\n",
       "  </tbody>\n",
       "</table>\n",
       "</div>"
      ],
      "text/plain": [
       "   ReseñaID  UsuarioID  ProductoID  Calificacion  \\\n",
       "0         1        898          10             1   \n",
       "1         2        700          16             3   \n",
       "2         3        173          13             2   \n",
       "3         4        557          20             2   \n",
       "4         5        448          33             2   \n",
       "\n",
       "                                          Comentario  \\\n",
       "0  Mala calidad, no lo recomiendo. Ullam sint ali...   \n",
       "1  El producto es aceptable por el precio. Quisqu...   \n",
       "2  Mala calidad, no lo recomiendo. Illum corporis...   \n",
       "3  No cumplió con lo prometido. Tempore distincti...   \n",
       "4  No cumplió con lo prometido. Modi doloribus re...   \n",
       "\n",
       "                       Fecha  \n",
       "0 2025-07-22 03:25:35.284709  \n",
       "1 2025-07-22 03:25:35.284828  \n",
       "2 2025-07-22 03:25:35.284867  \n",
       "3 2025-07-22 03:25:35.284895  \n",
       "4 2025-07-22 03:25:35.284918  "
      ]
     },
     "metadata": {},
     "output_type": "display_data"
    }
   ],
   "source": [
    "from app.utils import notebook_utils\n",
    "\n",
    "notebook_utils.show_table_data(\"ReseñasProductos\")"
   ]
  },
  {
   "cell_type": "markdown",
   "id": "c94af147",
   "metadata": {},
   "source": [
    "\n",
    "1. Información general\n",
    "Número de registros: 10000\n",
    "Número de columnas: 6\n",
    "\n",
    "2. Esquema de columnas\n",
    " \n",
    "| Columna        | Tipo de dato    | Valores no nulos | Observaciones                                                     |\n",
    "| -------------- | --------------- | ---------------- | ----------------------------------------------------------------- |\n",
    "| `ReseñaID`     | int64           | 10,000           | Clave primaria. Identificador único de cada reseña.               |\n",
    "| `UsuarioID`    | int64           | 10,000           | Clave foránea a `Usuarios`.                                       |\n",
    "| `ProductoID`   | int64           | 10,000           | Clave foránea a `Productos`.                                      |\n",
    "| `Calificacion` | int64           | 10,000           | Escala discreta de 1 a 5. Restricción CHECK definida.             |\n",
    "| `Comentario`   | object (texto)  | 10,000           | Texto libre. Puede requerir limpieza (espacios, caracteres, etc). |\n",
    "| `Fecha`        | datetime64\\[ns] | 10,000           | Fecha y hora de la reseña.           |\n"
   ]
  },
  {
   "cell_type": "code",
   "execution_count": 15,
   "id": "2fb6cc86",
   "metadata": {},
   "outputs": [
    {
     "data": {
      "text/html": [
       "<span style='color: orange; font-size: 14px;\n",
       "    font-weight: bold;'>Columnas con nulos (%)</span>"
      ],
      "text/plain": [
       "<IPython.core.display.HTML object>"
      ]
     },
     "metadata": {},
     "output_type": "display_data"
    },
    {
     "data": {
      "text/plain": [
       "CarritoID        0.0\n",
       "UsuarioID        0.0\n",
       "ProductoID       0.0\n",
       "Cantidad         0.0\n",
       "FechaAgregado    0.0\n",
       "dtype: float64"
      ]
     },
     "metadata": {},
     "output_type": "display_data"
    },
    {
     "data": {
      "text/html": [
       "<span style='color: orange; font-size: 14px;\n",
       "    font-weight: bold;'>Duplicados</span>"
      ],
      "text/plain": [
       "<IPython.core.display.HTML object>"
      ]
     },
     "metadata": {},
     "output_type": "display_data"
    },
    {
     "data": {
      "text/plain": [
       "np.int64(0)"
      ]
     },
     "metadata": {},
     "output_type": "display_data"
    }
   ],
   "source": [
    "from app.utils import notebook_utils\n",
    "\n",
    "notebook_utils.show_duplicates_and_null_info(\"ReseñasProductos\")\n"
   ]
  },
  {
   "cell_type": "markdown",
   "id": "70f5ad11",
   "metadata": {},
   "source": [
    "3. Observaciones generales\n",
    "* **Valores nulos:** No se encontraron columnas con valores faltantes.\n",
    "\n",
    "* **Duplicados:** No se detectaron registros duplicados.\n",
    "\n",
    "* **Tipos de datos:** Los tipos de datos son adecuados\n",
    "\n",
    "* Claves:\n",
    "\n",
    "**Clave primaria(s):** ReseñaID, única y sin valores nulos.\n",
    "\n",
    "**Claves foráneas:** UsuarioID y ProductoID, ambas apuntan a las tablas Usuarios y Productos respectivamente.\n",
    "\n",
    "**Limpieza potencial:** columnas como ... podrían requerir normalización, limpieza de texto o validación de categorías.\n",
    "\n"
   ]
  },
  {
   "cell_type": "code",
   "execution_count": 17,
   "id": "098ac09d",
   "metadata": {},
   "outputs": [
    {
     "data": {
      "text/html": [
       "<span style='color: orange; font-size: 14px;\n",
       "    font-weight: bold;'>Estadísticas de tabla</span>"
      ],
      "text/plain": [
       "<IPython.core.display.HTML object>"
      ]
     },
     "metadata": {},
     "output_type": "display_data"
    },
    {
     "data": {
      "text/html": [
       "<div>\n",
       "<style scoped>\n",
       "    .dataframe tbody tr th:only-of-type {\n",
       "        vertical-align: middle;\n",
       "    }\n",
       "\n",
       "    .dataframe tbody tr th {\n",
       "        vertical-align: top;\n",
       "    }\n",
       "\n",
       "    .dataframe thead th {\n",
       "        text-align: right;\n",
       "    }\n",
       "</style>\n",
       "<table border=\"1\" class=\"dataframe\">\n",
       "  <thead>\n",
       "    <tr style=\"text-align: right;\">\n",
       "      <th></th>\n",
       "      <th>ReseñaID</th>\n",
       "      <th>UsuarioID</th>\n",
       "      <th>ProductoID</th>\n",
       "      <th>Calificacion</th>\n",
       "      <th>Fecha</th>\n",
       "    </tr>\n",
       "  </thead>\n",
       "  <tbody>\n",
       "    <tr>\n",
       "      <th>count</th>\n",
       "      <td>10000.00000</td>\n",
       "      <td>10000.000000</td>\n",
       "      <td>10000.000000</td>\n",
       "      <td>10000.000000</td>\n",
       "      <td>10000</td>\n",
       "    </tr>\n",
       "    <tr>\n",
       "      <th>mean</th>\n",
       "      <td>5000.50000</td>\n",
       "      <td>500.963600</td>\n",
       "      <td>18.563400</td>\n",
       "      <td>2.995500</td>\n",
       "      <td>2025-07-22 03:25:35.385861888</td>\n",
       "    </tr>\n",
       "    <tr>\n",
       "      <th>min</th>\n",
       "      <td>1.00000</td>\n",
       "      <td>1.000000</td>\n",
       "      <td>1.000000</td>\n",
       "      <td>1.000000</td>\n",
       "      <td>2025-07-22 03:25:35.284709</td>\n",
       "    </tr>\n",
       "    <tr>\n",
       "      <th>25%</th>\n",
       "      <td>2500.75000</td>\n",
       "      <td>252.000000</td>\n",
       "      <td>10.000000</td>\n",
       "      <td>2.000000</td>\n",
       "      <td>2025-07-22 03:25:35.326602752</td>\n",
       "    </tr>\n",
       "    <tr>\n",
       "      <th>50%</th>\n",
       "      <td>5000.50000</td>\n",
       "      <td>506.000000</td>\n",
       "      <td>19.000000</td>\n",
       "      <td>3.000000</td>\n",
       "      <td>2025-07-22 03:25:35.392456448</td>\n",
       "    </tr>\n",
       "    <tr>\n",
       "      <th>75%</th>\n",
       "      <td>7500.25000</td>\n",
       "      <td>754.000000</td>\n",
       "      <td>28.000000</td>\n",
       "      <td>4.000000</td>\n",
       "      <td>2025-07-22 03:25:35.437829888</td>\n",
       "    </tr>\n",
       "    <tr>\n",
       "      <th>max</th>\n",
       "      <td>10000.00000</td>\n",
       "      <td>1000.000000</td>\n",
       "      <td>36.000000</td>\n",
       "      <td>5.000000</td>\n",
       "      <td>2025-07-22 03:25:35.478361</td>\n",
       "    </tr>\n",
       "    <tr>\n",
       "      <th>std</th>\n",
       "      <td>2886.89568</td>\n",
       "      <td>287.968426</td>\n",
       "      <td>10.344065</td>\n",
       "      <td>1.400384</td>\n",
       "      <td>NaN</td>\n",
       "    </tr>\n",
       "  </tbody>\n",
       "</table>\n",
       "</div>"
      ],
      "text/plain": [
       "          ReseñaID     UsuarioID    ProductoID  Calificacion  \\\n",
       "count  10000.00000  10000.000000  10000.000000  10000.000000   \n",
       "mean    5000.50000    500.963600     18.563400      2.995500   \n",
       "min        1.00000      1.000000      1.000000      1.000000   \n",
       "25%     2500.75000    252.000000     10.000000      2.000000   \n",
       "50%     5000.50000    506.000000     19.000000      3.000000   \n",
       "75%     7500.25000    754.000000     28.000000      4.000000   \n",
       "max    10000.00000   1000.000000     36.000000      5.000000   \n",
       "std     2886.89568    287.968426     10.344065      1.400384   \n",
       "\n",
       "                               Fecha  \n",
       "count                          10000  \n",
       "mean   2025-07-22 03:25:35.385861888  \n",
       "min       2025-07-22 03:25:35.284709  \n",
       "25%    2025-07-22 03:25:35.326602752  \n",
       "50%    2025-07-22 03:25:35.392456448  \n",
       "75%    2025-07-22 03:25:35.437829888  \n",
       "max       2025-07-22 03:25:35.478361  \n",
       "std                              NaN  "
      ]
     },
     "metadata": {},
     "output_type": "display_data"
    }
   ],
   "source": [
    "from app.utils import notebook_utils\n",
    "\n",
    "notebook_utils.show_table_stats(\"ReseñasProductos\")"
   ]
  },
  {
   "cell_type": "markdown",
   "id": "4522a625",
   "metadata": {},
   "source": [
    "\n",
    "#### 4. Anáslisis estadístico\n",
    "Se evalúa la columna `Calificacion`, ya que representa la opinión del usuario sobre un producto.\n",
    "\n",
    "__Calificacion__: La desviación estándar (1.40) indica una dispersión moderada, lo cual es esperable dado el rango de 5 niveles posibles.\n",
    "\n",
    "* * La media (2.99) y la mediana (3) están prácticamente alineadas, lo que sugiere una distribución simétrica.\n",
    "\n",
    "* * El valor mínimo es 1 y el máximo es 5, dentro del rango permitido por la restricción CHECK.\n",
    "\n",
    "\n"
   ]
  },
  {
   "cell_type": "code",
   "execution_count": 20,
   "id": "a2131790",
   "metadata": {},
   "outputs": [
    {
     "data": {
      "image/png": "[encoded data removed]",
      "text/plain": [
       "<Figure size 800x600 with 1 Axes>"
      ]
     },
     "metadata": {},
     "output_type": "display_data"
    }
   ],
   "source": [
    "import matplotlib.pyplot as plt\n",
    "\n",
    "data_frame = postgres_utils.run_query(\"SELECT \\\"Calificacion\\\" FROM \\\"ReseñasProductos\\\";\")\n",
    "frequency = frecuencias = data_frame['Calificacion'].value_counts().sort_index()\n",
    "frequency.plot(\n",
    "    kind='bar',\n",
    "    figsize=(8, 6),\n",
    "    color='skyblue'\n",
    ")\n",
    "\n",
    "plt.title('Distribución de Calificaciones en ReseñasProductos')\n",
    "plt.xlabel('Calificación')\n",
    "plt.ylabel('Cantidad de reseñas')\n",
    "plt.xticks(rotation=0)  # para que los números estén horizontales\n",
    "plt.tight_layout()\n",
    "plt.show()"
   ]
  },
  {
   "cell_type": "markdown",
   "id": "cbcc18ed",
   "metadata": {},
   "source": [
    "### 5. Resumen de análisis y acciones propuestas de preprocesamiento y calidad de datos\n",
    "\n",
    "A partir del análisis exploratorio de la tabla `ReseñasProductos`, se proponen las siguientes acciones de limpieza y mejora de calidad:\n",
    "\n",
    "#### 5.1 Valores nulos\n",
    "\n",
    "- **Diagnóstico:** No se encontraron columnas con valores nulos.\n",
    "- **Acción:** Se mantiene la estructura original.\n",
    "\n",
    "#### 5.2 Duplicados\n",
    "\n",
    "- **Diagnóstico:** No se detectaron registros duplicados.\n",
    "- **Acción:** No se requiere limpieza en este aspecto.\n",
    "\n",
    "#### 5.3 Valores atípicos\n",
    "\n",
    "- **Diagnóstico:** La columna Cantidad muestra valores entre 1 y 5.  conforme al rango esperado y sin valores fuera de rango ni anomalías.\n",
    "- **Acción propuesta:** :No se requieren transformaciones\n",
    "\n",
    "\n",
    "#### 5.4 Consistencia de claves\n",
    "\n",
    "- **ReseñaID:** clave primaria válida, sin duplicados ni nulos.\n",
    "- **UsuarioID:** clave foránea consistente con la tabla `Usuarios`.\n",
    "- **ProductoID:** clave foránea consistente con la tabla `Productos`.\n",
    "\n",
    "- **Acción propuesta:**  Asegurar que las claves se mantengan válidas y con constraints activos en procesos de carga.\n",
    "\n",
    "#### 5.5 Tipos de datos\n",
    "\n",
    "- Todos los tipos de datos son consistentes con el dominio del atributo.\n",
    "\n",
    "---\n",
    "| Aspecto        | Acción requerida                                  |\n",
    "| -------------- | ------------------------------------------------- |\n",
    "| Valores nulos  | No                                                |\n",
    "| Duplicados     | No                                                |\n",
    "| Outliers       | No, rango esperado y controlado en `Calificacion` |\n",
    "| Claves         | OK. Validar integridad en futuras cargas          |\n",
    "| Tipos de datos | Adecuados, posible limpieza en texto `Comentario` |\n",
    "| Distribución   | Balanceada, no requiere ajustes                   |\n"
   ]
  },
  {
   "cell_type": "code",
   "execution_count": 21,
   "id": "8fb345bb",
   "metadata": {},
   "outputs": [
    {
     "data": {
      "text/html": [
       "<span style='color: orange; font-size: 14px;\n",
       "    font-weight: bold;'>Tabla: HistorialPagos</span>"
      ],
      "text/plain": [
       "<IPython.core.display.HTML object>"
      ]
     },
     "metadata": {},
     "output_type": "display_data"
    },
    {
     "data": {
      "text/html": [
       "<span style='color: orange; font-size: 14px;\n",
       "    font-weight: bold;'>Datos de tabla</span>"
      ],
      "text/plain": [
       "<IPython.core.display.HTML object>"
      ]
     },
     "metadata": {},
     "output_type": "display_data"
    },
    {
     "name": "stdout",
     "output_type": "stream",
     "text": [
      "<class 'pandas.core.frame.DataFrame'>\n",
      "RangeIndex: 10000 entries, 0 to 9999\n",
      "Data columns (total 6 columns):\n",
      " #   Column        Non-Null Count  Dtype         \n",
      "---  ------        --------------  -----         \n",
      " 0   PagoID        10000 non-null  int64         \n",
      " 1   OrdenID       10000 non-null  int64         \n",
      " 2   MetodoPagoID  10000 non-null  int64         \n",
      " 3   Monto         10000 non-null  float64       \n",
      " 4   FechaPago     10000 non-null  datetime64[ns]\n",
      " 5   EstadoPago    10000 non-null  object        \n",
      "dtypes: datetime64[ns](1), float64(1), int64(3), object(1)\n",
      "memory usage: 468.9+ KB\n"
     ]
    },
    {
     "data": {
      "text/plain": [
       "None"
      ]
     },
     "metadata": {},
     "output_type": "display_data"
    },
    {
     "data": {
      "text/html": [
       "<span style='color: orange; font-size: 14px;\n",
       "    font-weight: bold;'>Primeros valores</span>"
      ],
      "text/plain": [
       "<IPython.core.display.HTML object>"
      ]
     },
     "metadata": {},
     "output_type": "display_data"
    },
    {
     "data": {
      "text/html": [
       "<div>\n",
       "<style scoped>\n",
       "    .dataframe tbody tr th:only-of-type {\n",
       "        vertical-align: middle;\n",
       "    }\n",
       "\n",
       "    .dataframe tbody tr th {\n",
       "        vertical-align: top;\n",
       "    }\n",
       "\n",
       "    .dataframe thead th {\n",
       "        text-align: right;\n",
       "    }\n",
       "</style>\n",
       "<table border=\"1\" class=\"dataframe\">\n",
       "  <thead>\n",
       "    <tr style=\"text-align: right;\">\n",
       "      <th></th>\n",
       "      <th>PagoID</th>\n",
       "      <th>OrdenID</th>\n",
       "      <th>MetodoPagoID</th>\n",
       "      <th>Monto</th>\n",
       "      <th>FechaPago</th>\n",
       "      <th>EstadoPago</th>\n",
       "    </tr>\n",
       "  </thead>\n",
       "  <tbody>\n",
       "    <tr>\n",
       "      <th>0</th>\n",
       "      <td>1</td>\n",
       "      <td>1</td>\n",
       "      <td>4</td>\n",
       "      <td>147.13</td>\n",
       "      <td>2025-07-22 03:25:37.199927</td>\n",
       "      <td>pending</td>\n",
       "    </tr>\n",
       "    <tr>\n",
       "      <th>1</th>\n",
       "      <td>2</td>\n",
       "      <td>2</td>\n",
       "      <td>1</td>\n",
       "      <td>647.98</td>\n",
       "      <td>2025-07-22 03:25:37.200268</td>\n",
       "      <td>pending</td>\n",
       "    </tr>\n",
       "    <tr>\n",
       "      <th>2</th>\n",
       "      <td>3</td>\n",
       "      <td>3</td>\n",
       "      <td>6</td>\n",
       "      <td>627.45</td>\n",
       "      <td>2025-07-22 03:25:37.200343</td>\n",
       "      <td>pending</td>\n",
       "    </tr>\n",
       "    <tr>\n",
       "      <th>3</th>\n",
       "      <td>4</td>\n",
       "      <td>4</td>\n",
       "      <td>5</td>\n",
       "      <td>848.07</td>\n",
       "      <td>2025-07-22 03:25:37.200381</td>\n",
       "      <td>pending</td>\n",
       "    </tr>\n",
       "    <tr>\n",
       "      <th>4</th>\n",
       "      <td>5</td>\n",
       "      <td>5</td>\n",
       "      <td>5</td>\n",
       "      <td>189.80</td>\n",
       "      <td>2025-07-22 03:25:37.200421</td>\n",
       "      <td>pending</td>\n",
       "    </tr>\n",
       "  </tbody>\n",
       "</table>\n",
       "</div>"
      ],
      "text/plain": [
       "   PagoID  OrdenID  MetodoPagoID   Monto                  FechaPago EstadoPago\n",
       "0       1        1             4  147.13 2025-07-22 03:25:37.199927    pending\n",
       "1       2        2             1  647.98 2025-07-22 03:25:37.200268    pending\n",
       "2       3        3             6  627.45 2025-07-22 03:25:37.200343    pending\n",
       "3       4        4             5  848.07 2025-07-22 03:25:37.200381    pending\n",
       "4       5        5             5  189.80 2025-07-22 03:25:37.200421    pending"
      ]
     },
     "metadata": {},
     "output_type": "display_data"
    }
   ],
   "source": [
    "from app.utils import notebook_utils\n",
    "\n",
    "notebook_utils.show_table_data(\"HistorialPagos\")\n"
   ]
  },
  {
   "cell_type": "markdown",
   "id": "7080f4e3",
   "metadata": {},
   "source": [
    "#### Tabla: HistorialPagos"
   ]
  },
  {
   "cell_type": "markdown",
   "id": "993fb6cf",
   "metadata": {},
   "source": [
    "1. Información general\n",
    "Número de registros: 10000\n",
    "Número de columnas: 6\n",
    "\n",
    "2. Esquema de columnas\n",
    " \n",
    "| Columna        | Tipo de dato    | Valores no nulos | Observaciones                                       |\n",
    "| -------------- | --------------- | ---------------- | --------------------------------------------------- |\n",
    "| `PagoID`       | `SERIAL`        | 10000            | Clave primaria, identificador único de pago.        |\n",
    "| `OrdenID`      | `INT`           | 10000            | Clave foránea referenciando la tabla `Ordenes`.     |\n",
    "| `MetodoPagoID` | `INT`           | 10000            | Clave foránea referenciando la tabla `MetodosPago`. |\n",
    "| `Monto`        | `DECIMAL(10,2)` | 10000            | Monto total del pago realizado.                     |\n",
    "| `FechaPago`    | `TIMESTAMP`     | 10000            | Fecha y hora del pago.                              |\n",
    "| `EstadoPago`   | `VARCHAR(50)`   | 10000            | Estado del pago, por defecto 'Procesando'.          |\n",
    "\n"
   ]
  },
  {
   "cell_type": "code",
   "execution_count": 22,
   "id": "19c9a4e4-27de-4f18-8492-a18e87de47ee",
   "metadata": {},
   "outputs": [
    {
     "data": {
      "text/html": [
       "<span style='color: orange; font-size: 14px;\n",
       "    font-weight: bold;'>Columnas con nulos (%)</span>"
      ],
      "text/plain": [
       "<IPython.core.display.HTML object>"
      ]
     },
     "metadata": {},
     "output_type": "display_data"
    },
    {
     "data": {
      "text/plain": [
       "PagoID          0.0\n",
       "OrdenID         0.0\n",
       "MetodoPagoID    0.0\n",
       "Monto           0.0\n",
       "FechaPago       0.0\n",
       "EstadoPago      0.0\n",
       "dtype: float64"
      ]
     },
     "metadata": {},
     "output_type": "display_data"
    },
    {
     "data": {
      "text/html": [
       "<span style='color: orange; font-size: 14px;\n",
       "    font-weight: bold;'>Duplicados</span>"
      ],
      "text/plain": [
       "<IPython.core.display.HTML object>"
      ]
     },
     "metadata": {},
     "output_type": "display_data"
    },
    {
     "data": {
      "text/plain": [
       "np.int64(0)"
      ]
     },
     "metadata": {},
     "output_type": "display_data"
    }
   ],
   "source": [
    "\n",
    "from app.utils import notebook_utils\n",
    "\n",
    "notebook_utils.show_duplicates_and_null_info(\"HistorialPagos\")"
   ]
  },
  {
   "cell_type": "code",
   "execution_count": null,
   "id": "9a3f0ed8-6fbe-47bf-9748-f78b0edfb467",
   "metadata": {},
   "outputs": [],
   "source": [
    "\n",
    "3. Observaciones generales\n",
    "* **Valores nulos:** No se encontraron columnas con valores faltantes.\n",
    "\n",
    "* **Duplicados:** No se detectaron registros duplicados (df.duplicated().sum()).\n",
    "\n",
    "* **Tipos de datos:** Los tipos de datos son adecuados\n",
    "\n",
    "* Claves:\n",
    "\n",
    "**Clave primaria(s):** PagoID\n",
    "\n",
    "**Claves foráneas:** \n",
    " * * OrdenID es clave foránea consistente con la tabla Ordenes.\n",
    "    * * MetodoPagoID es clave foránea consistente con la tabla MetodosPago.\n",
    "\n",
    "**Limpieza potencial:** La columna EstadoPago es candidata a normalización o refactor\n",
    "        \n"
   ]
  },
  {
   "cell_type": "code",
   "execution_count": 23,
   "id": "ac0d8584-fab5-4e15-ab14-d51794b14f99",
   "metadata": {},
   "outputs": [
    {
     "data": {
      "text/html": [
       "<span style='color: orange; font-size: 14px;\n",
       "    font-weight: bold;'>Estadísticas de tabla</span>"
      ],
      "text/plain": [
       "<IPython.core.display.HTML object>"
      ]
     },
     "metadata": {},
     "output_type": "display_data"
    },
    {
     "data": {
      "text/html": [
       "<div>\n",
       "<style scoped>\n",
       "    .dataframe tbody tr th:only-of-type {\n",
       "        vertical-align: middle;\n",
       "    }\n",
       "\n",
       "    .dataframe tbody tr th {\n",
       "        vertical-align: top;\n",
       "    }\n",
       "\n",
       "    .dataframe thead th {\n",
       "        text-align: right;\n",
       "    }\n",
       "</style>\n",
       "<table border=\"1\" class=\"dataframe\">\n",
       "  <thead>\n",
       "    <tr style=\"text-align: right;\">\n",
       "      <th></th>\n",
       "      <th>PagoID</th>\n",
       "      <th>OrdenID</th>\n",
       "      <th>MetodoPagoID</th>\n",
       "      <th>Monto</th>\n",
       "      <th>FechaPago</th>\n",
       "    </tr>\n",
       "  </thead>\n",
       "  <tbody>\n",
       "    <tr>\n",
       "      <th>count</th>\n",
       "      <td>10000.00000</td>\n",
       "      <td>10000.00000</td>\n",
       "      <td>10000.000000</td>\n",
       "      <td>10000.000000</td>\n",
       "      <td>10000</td>\n",
       "    </tr>\n",
       "    <tr>\n",
       "      <th>mean</th>\n",
       "      <td>5000.50000</td>\n",
       "      <td>5000.50000</td>\n",
       "      <td>4.013800</td>\n",
       "      <td>551.020499</td>\n",
       "      <td>2025-07-22 03:25:37.338594304</td>\n",
       "    </tr>\n",
       "    <tr>\n",
       "      <th>min</th>\n",
       "      <td>1.00000</td>\n",
       "      <td>1.00000</td>\n",
       "      <td>1.000000</td>\n",
       "      <td>100.030000</td>\n",
       "      <td>2025-07-22 03:25:37.199927</td>\n",
       "    </tr>\n",
       "    <tr>\n",
       "      <th>25%</th>\n",
       "      <td>2500.75000</td>\n",
       "      <td>2500.75000</td>\n",
       "      <td>2.000000</td>\n",
       "      <td>328.212500</td>\n",
       "      <td>2025-07-22 03:25:37.270445056</td>\n",
       "    </tr>\n",
       "    <tr>\n",
       "      <th>50%</th>\n",
       "      <td>5000.50000</td>\n",
       "      <td>5000.50000</td>\n",
       "      <td>4.000000</td>\n",
       "      <td>549.000000</td>\n",
       "      <td>2025-07-22 03:25:37.336937472</td>\n",
       "    </tr>\n",
       "    <tr>\n",
       "      <th>75%</th>\n",
       "      <td>7500.25000</td>\n",
       "      <td>7500.25000</td>\n",
       "      <td>6.000000</td>\n",
       "      <td>779.440000</td>\n",
       "      <td>2025-07-22 03:25:37.407772928</td>\n",
       "    </tr>\n",
       "    <tr>\n",
       "      <th>max</th>\n",
       "      <td>10000.00000</td>\n",
       "      <td>10000.00000</td>\n",
       "      <td>7.000000</td>\n",
       "      <td>999.730000</td>\n",
       "      <td>2025-07-22 03:25:37.519935</td>\n",
       "    </tr>\n",
       "    <tr>\n",
       "      <th>std</th>\n",
       "      <td>2886.89568</td>\n",
       "      <td>2886.89568</td>\n",
       "      <td>1.990378</td>\n",
       "      <td>260.458342</td>\n",
       "      <td>NaN</td>\n",
       "    </tr>\n",
       "  </tbody>\n",
       "</table>\n",
       "</div>"
      ],
      "text/plain": [
       "            PagoID      OrdenID  MetodoPagoID         Monto  \\\n",
       "count  10000.00000  10000.00000  10000.000000  10000.000000   \n",
       "mean    5000.50000   5000.50000      4.013800    551.020499   \n",
       "min        1.00000      1.00000      1.000000    100.030000   \n",
       "25%     2500.75000   2500.75000      2.000000    328.212500   \n",
       "50%     5000.50000   5000.50000      4.000000    549.000000   \n",
       "75%     7500.25000   7500.25000      6.000000    779.440000   \n",
       "max    10000.00000  10000.00000      7.000000    999.730000   \n",
       "std     2886.89568   2886.89568      1.990378    260.458342   \n",
       "\n",
       "                           FechaPago  \n",
       "count                          10000  \n",
       "mean   2025-07-22 03:25:37.338594304  \n",
       "min       2025-07-22 03:25:37.199927  \n",
       "25%    2025-07-22 03:25:37.270445056  \n",
       "50%    2025-07-22 03:25:37.336937472  \n",
       "75%    2025-07-22 03:25:37.407772928  \n",
       "max       2025-07-22 03:25:37.519935  \n",
       "std                              NaN  "
      ]
     },
     "metadata": {},
     "output_type": "display_data"
    }
   ],
   "source": [
    "from app.utils import notebook_utils\n",
    "\n",
    "notebook_utils.show_table_stats(\"HistorialPagos\")\n"
   ]
  },
  {
   "cell_type": "markdown",
   "id": "6c9cba3f-5965-40cf-ae70-f6532287a110",
   "metadata": {},
   "source": [
    "\n",
    "\n",
    "#### 4. Anáslisis estadístico\n",
    "A partir de las estadísticas descriptivas de las columnas de la tabla HistorialPagos, tenemos los siguientes puntos relevantes:\n",
    "\n",
    "\n",
    "__Monto__: \n",
    "* * Desviación estándar: 260.46, lo que significa que hay una considerable variabilidad en los montos, lo que sugiere que la tabla incluye una gama amplia de pagos.\n",
    "\n",
    "* * La media es 551.02\n",
    "* * El valor mínimo es apx 100 y el máximo 999.73, lo cual conincide con análisis previos vinculados a pagos.\n",
    "\n",
    "Se evalúa la columna FechaAgregado, ya que pede aportar información de estacionalidad\n",
    "\n",
    "__MetodoPagoID__:\n",
    "* * Valor mínimo 1 y máximo 7, estos referen a los Ids y están dentro del rango de medios de pago disponibles.\n",
    "\n"
   ]
  },
  {
   "cell_type": "code",
   "execution_count": null,
   "id": "ea8ceab7-ed32-4a24-bd34-158d1e95559a",
   "metadata": {},
   "outputs": [],
   "source": []
  },
  {
   "cell_type": "markdown",
   "id": "7025dccf-d57e-44d6-b4ec-ff65656dcb6c",
   "metadata": {},
   "source": [
    "### 5. Resumen de análisis y acciones propuestas de preprocesamiento y calidad de datos\n",
    "\n",
    "A partir del análisis exploratorio de la tabla `HistorialPagos`, se proponen las siguientes acciones de limpieza y mejora de calidad:\n",
    "\n",
    "#### 5.1 Valores nulos\n",
    "\n",
    "- **Diagnóstico:** No se encontraron columnas con valores nulos.\n",
    "- **Acción:** Se mantiene la estructura original.\n",
    "\n",
    "#### 5.2 Duplicados\n",
    "\n",
    "- **Diagnóstico:** No se detectaron registros duplicados.\n",
    "- **Acción:** No se requiere limpieza en este aspecto.\n",
    "\n",
    "#### 5.3 Valores atípicos\n",
    "\n",
    "- **Diagnóstico:** El campo Monto tiene pagos con un rango entre 100.03 y 999.73. Sin embargo, dada la alta desviación estándar (260.46), es recomendable analizar los valores extremos más cercanos al máximo para verificar si corresponden a transacciones legítimas.\n",
    "- **Acción propuesta:** :No se requieren transformaciones\n",
    "\n",
    "\n",
    "#### 5.4 Consistencia de claves\n",
    "\n",
    "- **PagoID:** clave primaria válida, sin duplicados ni nulos.\n",
    "- **OrdenID:** clave foránea consistente con la tabla `Ordenes`.\n",
    "- **MetodoPagoID:** clave foránea consistente con la tabla `MetodosPago`.\n",
    "\n",
    "- **Acción propuesta:**  Asegurar que las claves se mantengan válidas y con constraints activos en procesos de carga.\n",
    "\n",
    "#### 5.5 Tipos de datos\n",
    "\n",
    "- Todos los tipos de datos son consistentes con el dominio del atributo.\n",
    "\n",
    "#### 5.6 Texto libre\n",
    "\n",
    "- **Diagnóstico:** La columna `EstadoPago` es un campo de texto con posibles valores categóricos como 'Pendiente', 'Pagado', 'Procesado','Fallido', 'Reembolsado'.\n",
    "- **Acción propuesta:** \n",
    "  - Propuesta de mejora estructural: extraer los estados a una tabla aparte y usar un FOREIGN KEY en lugar del texto.\n",
    "\n",
    "---\n",
    "\n",
    "**Resumen general:**\n",
    "\n",
    "| Aspecto        | Acción requerida                                                                         |\n",
    "| -------------- | ---------------------------------------------------------------------------------------- |\n",
    "| Valores nulos  | No                                                                                       |\n",
    "| Duplicados     | No                                                                                       |\n",
    "| Outliers       | Revisar pagos extremos en `Monto`                                                        |\n",
    "| Claves         | Validar integridad referencial en futuras cargas                                         |\n",
    "| Tipos de datos | Adecuados, sin necesidad de transformaciones                                             |\n",
    "| EstadoPago     | Asegurarse de que los pagos se actualicen a \"confirmado\" o \"cancelado\" según corresponda |\n"
   ]
  }
 ],
 "metadata": {
  "kernelspec": {
   "display_name": "Python 3 (ipykernel)",
   "language": "python",
   "name": "python3"
  },
  "language_info": {
   "codemirror_mode": {
    "name": "ipython",
    "version": 3
   },
   "file_extension": ".py",
   "mimetype": "text/x-python",
   "name": "python",
   "nbconvert_exporter": "python",
   "pygments_lexer": "ipython3",
   "version": "3.11.13"
  }
 },
 "nbformat": 4,
 "nbformat_minor": 5
}
