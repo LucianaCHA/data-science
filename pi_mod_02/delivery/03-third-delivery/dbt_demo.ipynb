{
 "cells": [
  {
   "cell_type": "markdown",
   "id": "30b504fd",
   "metadata": {},
   "source": [
    "| Método    | Comando DBT | ¿Qué hace?                                                                |\n",
    "| --------- | ----------- | ------------------------------------------------------------------------- |\n",
    "| `debug()` | `dbt debug` | Verifica que todo esté bien configurado (conexion con el profile, etc.)   |\n",
    "| `deps()`  | `dbt deps`  | Instala paquetes listados en `packages.yml`                               |\n",
    "| `run()`   | `dbt run`   | Ejecuta los modelos de DBT: transforma tus datos (ejecuta los `.sql`)     |\n",
    "| `test()`  | `dbt test`  | Corre tests definidos en archivos `.yml` y tests personalizados (SQL)     |\n",
    "| `build()` | `dbt build` | Ejecuta **`run + test + snapshot + seed`** (todo lo necesario en un paso) |\n"
   ]
  },
  {
   "cell_type": "code",
   "execution_count": 2,
   "id": "359ab880-f55e-467b-8329-046fedbcf7c0",
   "metadata": {},
   "outputs": [
    {
     "name": "stdout",
     "output_type": "stream",
     "text": [
      "\n",
      "📍 Working Directory actual: /app/delivery/03-third-delivery\n",
      "\n",
      "Proyecto DBT (project-dir): /app/dbt_project\n",
      "tiene:\n",
      "['packages.ym', 'dbt_project.yml', 'macros', 'logs', 'models', 'target', 'profiles']\n",
      "\n",
      " Profiles DBT (profiles-dir): /app/dbt_project/profiles\n",
      "tiene:\n",
      "['.user.yml', 'profiles.yml']\n"
     ]
    }
   ],
   "source": [
    "import os\n",
    "\n",
    "# Ver dónde estás parada\n",
    "cwd = os.getcwd()\n",
    "print(f\"\\n📍 Working Directory actual: {cwd}\")\n",
    "\n",
    "# Ruta esperada del proyecto DBT (donde está dbt_project.yml)\n",
    "project_dir = os.path.abspath(os.path.join(cwd, \"../../dbt_project\"))\n",
    "print(f\"\\nProyecto DBT (project-dir): {project_dir}\")\n",
    "print(\"tiene:\")\n",
    "print(os.listdir(project_dir) if os.path.exists(project_dir) else \"No existe\")\n",
    "\n",
    "# Ruta esperada del profiles (donde está profiles.yml)\n",
    "profiles_dir = os.path.abspath(os.path.join(cwd, \"../../dbt_project/profiles\"))\n",
    "print(f\"\\n Profiles DBT (profiles-dir): {profiles_dir}\")\n",
    "print(\"tiene:\")\n",
    "print(os.listdir(profiles_dir) if os.path.exists(profiles_dir) else \"No existe\")\n"
   ]
  },
  {
   "cell_type": "code",
   "execution_count": 1,
   "id": "c2cc3b2b",
   "metadata": {},
   "outputs": [
    {
     "name": "stdout",
     "output_type": "stream",
     "text": [
      "Error : dbt debug --project-dir ../../dbt_project/profiles --profiles-dir ../../dbt_project/profiles\n",
      "\n",
      "\n"
     ]
    }
   ],
   "source": [
    "from app.services.dbt_manager import DBTManager\n",
    "\n",
    "dbt = DBTManager()\n",
    "\n",
    "#  verificar cof\n",
    "dbt.debug()\n"
   ]
  },
  {
   "cell_type": "code",
   "execution_count": null,
   "id": "fd07b874",
   "metadata": {},
   "outputs": [],
   "source": [
    "# instalt dependecias , hay que ejcutarlo la primera vez y cada vez que se agregue un nuevo paquete\n",
    "dbt.deps()\n",
    "\n"
   ]
  },
  {
   "cell_type": "code",
   "execution_count": null,
   "id": "e818889b",
   "metadata": {},
   "outputs": [],
   "source": [
    "#ejecuta modelos .sql en orden según las dependencias (ref(...)). Esto genera tablas intermedias o finales.\n",
    "dbt.run()\n"
   ]
  },
  {
   "cell_type": "code",
   "execution_count": null,
   "id": "1cebcc92",
   "metadata": {},
   "outputs": [],
   "source": [
    "#  ejecutar tests\n",
    "dbt.test()\n"
   ]
  },
  {
   "cell_type": "code",
   "execution_count": null,
   "id": "2922be5f",
   "metadata": {},
   "outputs": [],
   "source": [
    "# Ejecutar todo el flujo completo: transformaciones, testea, ejecuta seeds y snapshots. Deberia ir  cuando ya todo está listo para producción o pruebas integrales.\n",
    "dbt.build()"
   ]
  },
  {
   "cell_type": "code",
   "execution_count": null,
   "id": "5eb8fa14",
   "metadata": {},
   "outputs": [],
   "source": [
    "import os\n",
    "os.getcwd()\n"
   ]
  },
  {
   "cell_type": "markdown",
   "id": "ef4e6825",
   "metadata": {},
   "source": [
    "### Verificar conexión con DBT"
   ]
  },
  {
   "cell_type": "code",
   "execution_count": null,
   "id": "9e3616f2",
   "metadata": {},
   "outputs": [],
   "source": [
    "!dbt debug --profiles-dir /app/.dbt --project-dir /app/dbt_project\n"
   ]
  },
  {
   "cell_type": "markdown",
   "id": "f5de3675",
   "metadata": {},
   "source": [
    "### Ejecutar modelos DBT"
   ]
  },
  {
   "cell_type": "code",
   "execution_count": null,
   "id": "6fbb9789",
   "metadata": {},
   "outputs": [],
   "source": [
    "!dbt run --profiles-dir /app/.dbt --project-dir /app/dbt_project\n"
   ]
  },
  {
   "cell_type": "markdown",
   "id": "fd29d98b",
   "metadata": {},
   "source": [
    "### Ver resultados desde PostgreSQL con Pandas"
   ]
  },
  {
   "cell_type": "code",
   "execution_count": null,
   "id": "3e6e58c6",
   "metadata": {},
   "outputs": [],
   "source": [
    "import psycopg2\n",
    "import pandas as pd\n",
    "import os\n",
    "\n",
    "conn = psycopg2.connect(\n",
    "    host='database',\n",
    "    port=5432,\n",
    "    user=os.environ['POSTGRES_USER'],\n",
    "    password=os.environ['POSTGRES_PASSWORD'],\n",
    "    dbname=os.environ['POSTGRES_DB']\n",
    ")\n",
    "\n",
    "df = pd.read_sql('SELECT * FROM \"usuarios_sample\"', conn)\n",
    "df.head()\n"
   ]
  }
 ],
 "metadata": {
  "kernelspec": {
   "display_name": "Python 3 (ipykernel)",
   "language": "python",
   "name": "python3"
  },
  "language_info": {
   "codemirror_mode": {
    "name": "ipython",
    "version": 3
   },
   "file_extension": ".py",
   "mimetype": "text/x-python",
   "name": "python",
   "nbconvert_exporter": "python",
   "pygments_lexer": "ipython3",
   "version": "3.11.13"
  }
 },
 "nbformat": 4,
 "nbformat_minor": 5
}
