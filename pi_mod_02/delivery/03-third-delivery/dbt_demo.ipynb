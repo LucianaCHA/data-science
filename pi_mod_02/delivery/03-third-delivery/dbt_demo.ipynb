{
 "cells": [
  {
   "cell_type": "code",
   "execution_count": null,
   "id": "5eb8fa14",
   "metadata": {},
   "outputs": [],
   "source": [
    "import os\n",
    "os.getcwd()\n"
   ]
  },
  {
   "cell_type": "markdown",
   "id": "ef4e6825",
   "metadata": {},
   "source": [
    "### Verificar conexión con DBT"
   ]
  },
  {
   "cell_type": "code",
   "execution_count": null,
   "id": "9e3616f2",
   "metadata": {},
   "outputs": [],
   "source": [
    "!dbt debug --profiles-dir /app/.dbt --project-dir /app/dbt_project\n"
   ]
  },
  {
   "cell_type": "markdown",
   "id": "f5de3675",
   "metadata": {},
   "source": [
    "### Ejecutar modelos DBT"
   ]
  },
  {
   "cell_type": "code",
   "execution_count": null,
   "id": "6fbb9789",
   "metadata": {},
   "outputs": [],
   "source": [
    "!dbt run --profiles-dir /app/.dbt --project-dir /app/dbt_project\n"
   ]
  },
  {
   "cell_type": "markdown",
   "id": "fd29d98b",
   "metadata": {},
   "source": [
    "### Ver resultados desde PostgreSQL con Pandas"
   ]
  },
  {
   "cell_type": "code",
   "execution_count": null,
   "id": "3e6e58c6",
   "metadata": {},
   "outputs": [],
   "source": [
    "import psycopg2\n",
    "import pandas as pd\n",
    "import os\n",
    "\n",
    "conn = psycopg2.connect(\n",
    "    host='database',\n",
    "    port=5432,\n",
    "    user=os.environ['POSTGRES_USER'],\n",
    "    password=os.environ['POSTGRES_PASSWORD'],\n",
    "    dbname=os.environ['POSTGRES_DB']\n",
    ")\n",
    "\n",
    "df = pd.read_sql('SELECT * FROM \"usuarios_sample\"', conn)\n",
    "df.head()\n"
   ]
  }
 ],
 "metadata": {
  "language_info": {
   "name": "python"
  }
 },
 "nbformat": 4,
 "nbformat_minor": 5
}
