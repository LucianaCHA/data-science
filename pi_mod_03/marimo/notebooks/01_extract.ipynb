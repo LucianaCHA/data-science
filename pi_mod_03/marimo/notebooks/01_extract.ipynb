{
 "cells": [
  {
   "cell_type": "markdown",
   "id": "c41e0671",
   "metadata": {},
   "source": [
    "### 1. Extracción de Datos\n",
    "\n",
    "En este paso, simulamos la **extracción de datos** de una base de datos. Ejecutamos una consulta simple para extraer las tablas disponibles en la base de datos.\n"
   ]
  },
  {
   "cell_type": "code",
   "execution_count": null,
   "id": "0d0ae302",
   "metadata": {
    "vscode": {
     "languageId": "plaintext"
    }
   },
   "outputs": [],
   "source": [
    "# Simulando una consulta de extracción de datos\n",
    "import pandas as pd\n",
    "\n",
    "data = {\n",
    "    \"table_name\": [\"table_1\", \"table_2\", \"table_3\"],\n",
    "    \"rows\": [100, 150, 200]\n",
    "}\n",
    "\n",
    "# Crear un DataFrame con los resultados simulados\n",
    "tables_df = pd.DataFrame(data)\n",
    "tables_df\n"
   ]
  }
 ],
 "metadata": {
  "language_info": {
   "name": "python"
  }
 },
 "nbformat": 4,
 "nbformat_minor": 5
}
