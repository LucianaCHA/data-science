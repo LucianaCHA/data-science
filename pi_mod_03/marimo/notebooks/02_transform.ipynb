{
 "cells": [
  {
   "cell_type": "markdown",
   "id": "c7c9a269",
   "metadata": {},
   "source": [
    "### 2. Transformación de Datos\n",
    "\n",
    "En esta fase, vamos a realizar una **transformación simple** sobre los datos extraídos. Por ejemplo, calculamos el total de filas para cada tabla.\n"
   ]
  },
  {
   "cell_type": "code",
   "execution_count": null,
   "id": "44558304",
   "metadata": {
    "vscode": {
     "languageId": "plaintext"
    }
   },
   "outputs": [],
   "source": [
    "# Simulando transformación de datos\n",
    "tables_df[\"rows_squared\"] = tables_df[\"rows\"] ** 2\n",
    "tables_df\n"
   ]
  }
 ],
 "metadata": {
  "language_info": {
   "name": "python"
  }
 },
 "nbformat": 4,
 "nbformat_minor": 5
}
