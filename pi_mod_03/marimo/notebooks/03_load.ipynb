{
 "cells": [
  {
   "cell_type": "markdown",
   "id": "59b83679",
   "metadata": {},
   "source": [
    "### 3. Carga de Datos\n",
    "\n",
    "En esta etapa, simulamos la **carga de datos** a un archivo CSV.\n"
   ]
  },
  {
   "cell_type": "code",
   "execution_count": null,
   "id": "bdc3bfc6",
   "metadata": {
    "vscode": {
     "languageId": "plaintext"
    }
   },
   "outputs": [],
   "source": [
    "# Simulando la carga de datos a un CSV\n",
    "tables_df.to_csv('/marimo/assets/tables_output.csv', index=False)\n"
   ]
  }
 ],
 "metadata": {
  "language_info": {
   "name": "python"
  }
 },
 "nbformat": 4,
 "nbformat_minor": 5
}
